{
 "cells": [
  {
   "cell_type": "markdown",
   "metadata": {},
   "source": [
    "# 心里咨询论坛 Tokens 数分析\n",
    "\n",
    "统计问题和回答的 tokens 数分布"
   ]
  },
  {
   "cell_type": "markdown",
   "metadata": {},
   "source": [
    "## Importings"
   ]
  },
  {
   "cell_type": "code",
   "execution_count": 1,
   "metadata": {},
   "outputs": [],
   "source": [
    "import os\n",
    "import json\n",
    "from copy import copy\n",
    "from functools import partial\n",
    "from itertools import chain\n",
    "from multiprocessing import Pool\n",
    "\n",
    "import pandas as pd\n",
    "import sentencepiece as spm\n",
    "from tqdm.auto import tqdm\n",
    "\n",
    "from IPython.display import display"
   ]
  },
  {
   "cell_type": "markdown",
   "metadata": {
    "toc-hr-collapsed": false
   },
   "source": [
    "## Corpus"
   ]
  },
  {
   "cell_type": "code",
   "execution_count": 2,
   "metadata": {},
   "outputs": [],
   "source": [
    "corpus_json_path = '/home/Public/yiren-scrapy-crawlers/data/[xinli001+jiandanxinli]-qa[191010].jsonl'"
   ]
  },
  {
   "cell_type": "code",
   "execution_count": 3,
   "metadata": {},
   "outputs": [
    {
     "data": {
      "application/vnd.jupyter.widget-view+json": {
       "model_id": "12fd522180a047b2b039ecd45bdb962a",
       "version_major": 2,
       "version_minor": 0
      },
      "text/plain": [
       "HBox(children=(IntProgress(value=1, bar_style='info', max=1), HTML(value='')))"
      ]
     },
     "metadata": {},
     "output_type": "display_data"
    },
    {
     "name": "stdout",
     "output_type": "stream",
     "text": [
      "\n",
      "总样本数: 200,526\n"
     ]
    }
   ],
   "source": [
    "total = sum(1 for _ in tqdm(open(corpus_json_path), unit='line'))\n",
    "print(f'总样本数: {total:,d}')"
   ]
  },
  {
   "cell_type": "markdown",
   "metadata": {},
   "source": [
    "### 预览语料数据格式"
   ]
  },
  {
   "cell_type": "code",
   "execution_count": 4,
   "metadata": {},
   "outputs": [
    {
     "data": {
      "text/plain": [
       "{'id': 355355,\n",
       " 'url': 'http://www.jiandanxinli.com/questions/355355',\n",
       " 'crawl_time': '2019-03-20 09:56:01',\n",
       " 'title': '想做真正的自己',\n",
       " 'text': '感觉自己一直像个演员，演绎一个大家都喜欢至少不能讨厌的人，很痛苦，不能放开做自己。',\n",
       " 'time': '2019年3月19日 19:41',\n",
       " 'read_num': None,\n",
       " 'tags': [],\n",
       " 'answers': [{'text': '恭喜你，想做真正的自己，这是好事啊！完全赞同，每天像个演员，演一个不是你自己的自己该是多么辛苦啊！可能你本身就是个很好很善良的人，但是你感觉从来没有被接纳，欣赏过你的本我，所以觉得自己没有价值，不被人喜欢，就连你自己也不喜欢自己。从和自己做朋友开始，慢慢接纳，喜欢，爱护自己，那么你在人前就可以慢慢地做回自己。不容易，但可以尝试。真正的自己是独一无二的，演绎的自己是赝品，是吗？',\n",
       "   'user_name': '蒋世平',\n",
       "   'user_title': '心理咨询师',\n",
       "   'like_num': 0,\n",
       "   'reward': None,\n",
       "   'time': '2019-03-19 23:58:11',\n",
       "   'comments': [],\n",
       "   'comment_num': 0}],\n",
       " 'answer_num': 1}"
      ]
     },
     "metadata": {},
     "output_type": "display_data"
    }
   ],
   "source": [
    "with open(corpus_json_path) as fp:\n",
    "    for line in fp:\n",
    "        data = json.loads(line)\n",
    "        display(data)\n",
    "        break"
   ]
  },
  {
   "cell_type": "markdown",
   "metadata": {},
   "source": [
    "## Tokenizer"
   ]
  },
  {
   "cell_type": "code",
   "execution_count": 5,
   "metadata": {},
   "outputs": [
    {
     "data": {
      "text/plain": [
       "True"
      ]
     },
     "execution_count": 5,
     "metadata": {},
     "output_type": "execute_result"
    }
   ],
   "source": [
    "spm_model_path = '../data/spm/gpt2_huamei_corpus_bpe_32k_v2.model'\n",
    "\n",
    "tokenizer = spm.SentencePieceProcessor()\n",
    "tokenizer.load(spm_model_path)"
   ]
  },
  {
   "cell_type": "markdown",
   "metadata": {},
   "source": [
    "## 计算 Tokens 数量"
   ]
  },
  {
   "cell_type": "code",
   "execution_count": 6,
   "metadata": {},
   "outputs": [
    {
     "data": {
      "application/vnd.jupyter.widget-view+json": {
       "model_id": "a2b3c483798d44db9f5f222620f9504c",
       "version_major": 2,
       "version_minor": 0
      },
      "text/plain": [
       "HBox(children=(IntProgress(value=0, description='map', max=200526, style=ProgressStyle(description_width='init…"
      ]
     },
     "metadata": {},
     "output_type": "display_data"
    },
    {
     "data": {
      "application/vnd.jupyter.widget-view+json": {
       "model_id": "eaec079b2fcb473bb8b39f067e0bd218",
       "version_major": 2,
       "version_minor": 0
      },
      "text/plain": [
       "HBox(children=(IntProgress(value=0, description='reduce', max=200526, style=ProgressStyle(description_width='i…"
      ]
     },
     "metadata": {},
     "output_type": "display_data"
    },
    {
     "name": "stdout",
     "output_type": "stream",
     "text": [
      "\n",
      "\n"
     ]
    }
   ],
   "source": [
    "def get_tokens(line):\n",
    "    line = line.strip()\n",
    "    if not line:\n",
    "        return []\n",
    "    data = json.loads(line)\n",
    "    answers = data.get('answers', [])\n",
    "    d = {\n",
    "        'question_title_length': len(tokenizer.encode_as_ids(data.get('title', '').strip())),\n",
    "        'question_text_length': len(tokenizer.encode_as_ids(data.get('text', '').strip()))\n",
    "    }\n",
    "    if answers:\n",
    "        result = []\n",
    "        for answer_dict in answers:\n",
    "            da = copy(d)\n",
    "            da['answer_text_length'] = len(tokenizer.encode_as_ids(answer_dict.get('text', '').strip()))\n",
    "            result.append(da)\n",
    "        return result\n",
    "    else:\n",
    "        d['answer_text_length'] = 0\n",
    "        return [d]\n",
    "\n",
    "\n",
    "\n",
    "def iget_tokens():\n",
    "    with open(corpus_json_path) as fp, Pool() as pool:\n",
    "        iterable = tqdm(fp, desc='map', total=total)\n",
    "        it_map = pool.imap_unordered(get_tokens, iterable)\n",
    "\n",
    "        it_map = tqdm(it_map, desc='reduce', total=total)\n",
    "        yield from chain.from_iterable(it_map)\n",
    "\n",
    "\n",
    "\n",
    "df_tokens = pd.DataFrame(iget_tokens())"
   ]
  },
  {
   "cell_type": "code",
   "execution_count": 7,
   "metadata": {},
   "outputs": [
    {
     "data": {
      "text/html": [
       "<div>\n",
       "<style scoped>\n",
       "    .dataframe tbody tr th:only-of-type {\n",
       "        vertical-align: middle;\n",
       "    }\n",
       "\n",
       "    .dataframe tbody tr th {\n",
       "        vertical-align: top;\n",
       "    }\n",
       "\n",
       "    .dataframe thead th {\n",
       "        text-align: right;\n",
       "    }\n",
       "</style>\n",
       "<table border=\"1\" class=\"dataframe\">\n",
       "  <thead>\n",
       "    <tr style=\"text-align: right;\">\n",
       "      <th></th>\n",
       "      <th>answer_text_length</th>\n",
       "      <th>question_text_length</th>\n",
       "      <th>question_title_length</th>\n",
       "    </tr>\n",
       "  </thead>\n",
       "  <tbody>\n",
       "    <tr>\n",
       "      <th>count</th>\n",
       "      <td>586431.000000</td>\n",
       "      <td>586431.000000</td>\n",
       "      <td>586431.000000</td>\n",
       "    </tr>\n",
       "    <tr>\n",
       "      <th>mean</th>\n",
       "      <td>69.384792</td>\n",
       "      <td>112.099161</td>\n",
       "      <td>10.751984</td>\n",
       "    </tr>\n",
       "    <tr>\n",
       "      <th>std</th>\n",
       "      <td>125.887844</td>\n",
       "      <td>121.378417</td>\n",
       "      <td>4.304485</td>\n",
       "    </tr>\n",
       "    <tr>\n",
       "      <th>min</th>\n",
       "      <td>0.000000</td>\n",
       "      <td>0.000000</td>\n",
       "      <td>0.000000</td>\n",
       "    </tr>\n",
       "    <tr>\n",
       "      <th>25%</th>\n",
       "      <td>14.000000</td>\n",
       "      <td>44.000000</td>\n",
       "      <td>7.000000</td>\n",
       "    </tr>\n",
       "    <tr>\n",
       "      <th>50%</th>\n",
       "      <td>35.000000</td>\n",
       "      <td>76.000000</td>\n",
       "      <td>12.000000</td>\n",
       "    </tr>\n",
       "    <tr>\n",
       "      <th>75%</th>\n",
       "      <td>81.000000</td>\n",
       "      <td>145.000000</td>\n",
       "      <td>14.000000</td>\n",
       "    </tr>\n",
       "    <tr>\n",
       "      <th>max</th>\n",
       "      <td>40833.000000</td>\n",
       "      <td>5043.000000</td>\n",
       "      <td>42.000000</td>\n",
       "    </tr>\n",
       "  </tbody>\n",
       "</table>\n",
       "</div>"
      ],
      "text/plain": [
       "       answer_text_length  question_text_length  question_title_length\n",
       "count       586431.000000         586431.000000          586431.000000\n",
       "mean            69.384792            112.099161              10.751984\n",
       "std            125.887844            121.378417               4.304485\n",
       "min              0.000000              0.000000               0.000000\n",
       "25%             14.000000             44.000000               7.000000\n",
       "50%             35.000000             76.000000              12.000000\n",
       "75%             81.000000            145.000000              14.000000\n",
       "max          40833.000000           5043.000000              42.000000"
      ]
     },
     "execution_count": 7,
     "metadata": {},
     "output_type": "execute_result"
    }
   ],
   "source": [
    "df_tokens.describe()"
   ]
  },
  {
   "cell_type": "markdown",
   "metadata": {},
   "source": [
    "## 绘图"
   ]
  },
  {
   "cell_type": "code",
   "execution_count": null,
   "metadata": {},
   "outputs": [],
   "source": [
    "import holoviews as hv\n",
    "import hvplot.pandas  # noqa\n",
    "\n",
    "import datashader as ds\n",
    "import datashader.transfer_functions as tf\n",
    "\n",
    "from holoviews.operation.datashader import datashade, shade, spread, dynspread, rasterize\n"
   ]
  },
  {
   "cell_type": "code",
   "execution_count": null,
   "metadata": {},
   "outputs": [],
   "source": [
    "points = hv.Points(df_tokens, ['index', 'question_title_length'])\n",
    "dynspread(datashade(points))"
   ]
  },
  {
   "cell_type": "code",
   "execution_count": null,
   "metadata": {},
   "outputs": [],
   "source": [
    "points = hv.Points(df_tokens, ['index', 'question_text_length'])\n",
    "dynspread(datashade(points))"
   ]
  },
  {
   "cell_type": "code",
   "execution_count": null,
   "metadata": {},
   "outputs": [],
   "source": [
    "points = hv.Points(df_tokens, ['index', 'answer_text_length'])\n",
    "dynspread(datashade(points))"
   ]
  },
  {
   "cell_type": "code",
   "execution_count": null,
   "metadata": {},
   "outputs": [],
   "source": []
  }
 ],
 "metadata": {
  "kernelspec": {
   "display_name": "Python [conda env:Megatron_LM-ipy]",
   "language": "python",
   "name": "conda-env-Megatron_LM-ipy-py"
  },
  "language_info": {
   "codemirror_mode": {
    "name": "ipython",
    "version": 3
   },
   "file_extension": ".py",
   "mimetype": "text/x-python",
   "name": "python",
   "nbconvert_exporter": "python",
   "pygments_lexer": "ipython3",
   "version": "3.7.4"
  }
 },
 "nbformat": 4,
 "nbformat_minor": 4
}
