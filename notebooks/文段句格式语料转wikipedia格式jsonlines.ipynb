{
 "cells": [
  {
   "cell_type": "markdown",
   "metadata": {},
   "source": [
    "# 文段句格式语料转wikipedia格式jsonlines"
   ]
  },
  {
   "cell_type": "markdown",
   "metadata": {},
   "source": [
    "原始预料的格式是 JSON Lines，每一行是一篇文章，其内容是二维数组，第一个维度是段落，第二个维度是句子"
   ]
  },
  {
   "cell_type": "markdown",
   "metadata": {
    "toc-hr-collapsed": false
   },
   "source": [
    "## 代码准备"
   ]
  },
  {
   "cell_type": "markdown",
   "metadata": {},
   "source": [
    "### Imporings"
   ]
  },
  {
   "cell_type": "code",
   "execution_count": null,
   "metadata": {},
   "outputs": [],
   "source": [
    "import json\n",
    "import math\n",
    "import os\n",
    "import sys\n",
    "from contextlib import ExitStack\n",
    "from datetime import timedelta\n",
    "from functools import partial\n",
    "from glob import glob, iglob\n",
    "from itertools import chain, cycle, islice, count\n",
    "from multiprocessing import Pool\n",
    "from time import time\n",
    "\n",
    "import numpy as np\n",
    "import sentencepiece as spm\n",
    "from tqdm.auto import tqdm\n"
   ]
  },
  {
   "cell_type": "markdown",
   "metadata": {},
   "source": [
    "### Constants"
   ]
  },
  {
   "cell_type": "code",
   "execution_count": null,
   "metadata": {},
   "outputs": [],
   "source": [
    "SEQ_LENGTH = 1024\n",
    "MIN_CTX_LEN = 128\n",
    "\n",
    "SPM_MODEL = '../data/spm/gpt2_huamei_corpus_bpe_32k_v2.model'\n",
    "\n",
    "\n",
    "SP = spm.SentencePieceProcessor()\n",
    "SP.load(SPM_MODEL)"
   ]
  },
  {
   "cell_type": "markdown",
   "metadata": {},
   "source": [
    "### Functions"
   ]
  },
  {
   "cell_type": "code",
   "execution_count": null,
   "metadata": {},
   "outputs": [],
   "source": [
    "def text_files_line_iterator(paths):\n",
    "    return chain.from_iterable(\n",
    "        open(path)\n",
    "        for path\n",
    "        in tqdm(paths, '[iter files]', unit='file')\n",
    "    )\n",
    "\n",
    "\n",
    "def single_text_file_line_count(path, show_progress_bar=False):\n",
    "    with open(path) as fd:\n",
    "        iterable = tqdm(fd) if show_progress_bar else fd\n",
    "        return sum(1 for _ in iterable)\n",
    "        \n",
    "\n",
    "def text_files_line_count(paths):\n",
    "    try:\n",
    "        total = len(paths)\n",
    "    except (AttributeError, TypeError):\n",
    "        total = None\n",
    "    with Pool() as pool:\n",
    "        it = pool.imap_unordered(\n",
    "            single_text_file_line_count,\n",
    "            tqdm(paths, '[map files ]', unit='file')\n",
    "        )\n",
    "        return sum(c for c in tqdm(it, '[sum files ]', unit='file', total=total))\n",
    "\n",
    "\n",
    "def proc_line(line):\n",
    "    result = []\n",
    "    line = line.strip()\n",
    "    if not line:\n",
    "        return result\n",
    "    paragraphs = json.loads(line)\n",
    "    text = ''\n",
    "    n_text = 0\n",
    "    for sentence in chain.from_iterable(paragraphs):\n",
    "        sentence = sentence.strip()\n",
    "        if not sentence:\n",
    "            continue\n",
    "        n_sentence = len(SP.encode_as_ids(sentence))\n",
    "        if n_text + n_sentence < SEQ_LENGTH + MIN_CTX_LEN // 2:\n",
    "            text += sentence\n",
    "            n_text += n_sentence\n",
    "        else:\n",
    "            result.append({'text': text, 'length': n_text})\n",
    "            text = sentence\n",
    "            n_text = n_sentence\n",
    "    if n_text:\n",
    "        result.append({'text': text, 'length': n_text})\n",
    "    return result\n",
    "    "
   ]
  },
  {
   "cell_type": "markdown",
   "metadata": {},
   "source": [
    "## 语料文件"
   ]
  },
  {
   "cell_type": "markdown",
   "metadata": {},
   "source": [
    "### 输入文件"
   ]
  },
  {
   "cell_type": "markdown",
   "metadata": {},
   "source": [
    "### 列出输入文件"
   ]
  },
  {
   "cell_type": "code",
   "execution_count": null,
   "metadata": {},
   "outputs": [],
   "source": [
    "INPUT_FILES = [\n",
    "    path\n",
    "    for path in tqdm(iglob(\n",
    "        \"/nfs/server01_public/data/gpt2/output/gpt2_huamei_corpus.json.8g/**/*.*\",\n",
    "        recursive=True\n",
    "    ))\n",
    "    if os.path.isfile(path) and os.path.splitext(path)[1].lower() in ('.jsonl', '.jsonlines', 'json', 'jsonline')\n",
    "]\n",
    "print(f'源语料文件数：{len(INPUT_FILES):,d}')"
   ]
  },
  {
   "cell_type": "markdown",
   "metadata": {},
   "source": [
    "### 统计输入文件总行数"
   ]
  },
  {
   "cell_type": "code",
   "execution_count": null,
   "metadata": {},
   "outputs": [],
   "source": [
    "%%time\n",
    "\n",
    "total_lines = text_files_line_count(INPUT_FILES)\n",
    "print(f'源语料行数：{total_lines:,d}')"
   ]
  },
  {
   "cell_type": "markdown",
   "metadata": {},
   "source": [
    "### 输出文件"
   ]
  },
  {
   "cell_type": "code",
   "execution_count": null,
   "metadata": {},
   "outputs": [],
   "source": [
    "OUTPUT_FILE = '../data/gpt2_huamei_corpus_10g-1k.jsonl'"
   ]
  },
  {
   "cell_type": "markdown",
   "metadata": {},
   "source": [
    "## 执行"
   ]
  },
  {
   "cell_type": "code",
   "execution_count": null,
   "metadata": {},
   "outputs": [],
   "source": [
    "lines_iterator = text_files_line_iterator(INPUT_FILES)\n",
    "n_samples = 0\n",
    "n_discard = 0\n",
    "\n",
    "with Pool() as pool, \\\n",
    "     open(OUTPUT_FILE, 'w') as fp:\n",
    "    it = pool.imap_unordered(\n",
    "        proc_line,\n",
    "        tqdm(lines_iterator, 'process', total=total_lines),\n",
    "        chunksize=512\n",
    "    )\n",
    "    for result in tqdm(it, 'save', total=total_lines):\n",
    "        for d in result:\n",
    "            if d['length'] < MIN_CTX_LEN:\n",
    "                n_discard += 1\n",
    "                continue\n",
    "            s = json.dumps(d, ensure_ascii=False)\n",
    "            n_samples += 1\n",
    "            print(s, file=fp)\n",
    "\n",
    "print(f'得到语料样本数：{n_samples:,d}')\n",
    "print(f'抛弃语料样本数：{n_discard:,d}')"
   ]
  },
  {
   "cell_type": "markdown",
   "metadata": {},
   "source": [
    "### 查看输出文件"
   ]
  },
  {
   "cell_type": "code",
   "execution_count": null,
   "metadata": {},
   "outputs": [],
   "source": [
    "x = !wc -l {OUTPUT_FILE}\n",
    "n_samples = int(x[0].split()[0])\n",
    "\n",
    "print(x[0])\n",
    "\n",
    "!du -h {OUTPUT_FILE}"
   ]
  },
  {
   "cell_type": "markdown",
   "metadata": {},
   "source": [
    "## 长度统计\n",
    "\n",
    "见：  <http://holoviews.org/user_guide/Large_Data.html>"
   ]
  },
  {
   "cell_type": "code",
   "execution_count": null,
   "metadata": {},
   "outputs": [],
   "source": [
    "import json\n",
    "\n",
    "import pandas as pd\n",
    "import holoviews as hv\n",
    "import hvplot.pandas  # noqa\n",
    "\n",
    "import datashader as ds\n",
    "import datashader.transfer_functions as tf\n",
    "\n",
    "from holoviews.operation.datashader import datashade, shade, spread, dynspread, rasterize, spread\n",
    "from tqdm.auto import tqdm\n",
    "\n",
    "# hv.extension('bokeh')\n",
    "\n",
    "def iter_corpus_length():\n",
    "    with open(OUTPUT_FILE) as fp:\n",
    "        for line in tqdm(fp, total=n_samples):\n",
    "            data = json.loads(line)\n",
    "            yield {'length': data['length']}\n"
   ]
  },
  {
   "cell_type": "code",
   "execution_count": null,
   "metadata": {},
   "outputs": [],
   "source": [
    "df = pd.DataFrame(iter_corpus_length())"
   ]
  },
  {
   "cell_type": "code",
   "execution_count": null,
   "metadata": {},
   "outputs": [],
   "source": [
    "df.describe()"
   ]
  },
  {
   "cell_type": "code",
   "execution_count": null,
   "metadata": {},
   "outputs": [],
   "source": [
    "points = hv.Points(df, ['index', 'length'])\n",
    "spread(datashade(points))"
   ]
  },
  {
   "cell_type": "code",
   "execution_count": null,
   "metadata": {},
   "outputs": [],
   "source": []
  }
 ],
 "metadata": {
  "kernelspec": {
   "display_name": "Python [conda env:Megatron-LM]",
   "language": "python",
   "name": "conda-env-Megatron-LM-py"
  },
  "language_info": {
   "codemirror_mode": {
    "name": "ipython",
    "version": 3
   },
   "file_extension": ".py",
   "mimetype": "text/x-python",
   "name": "python",
   "nbconvert_exporter": "python",
   "pygments_lexer": "ipython3",
   "version": "3.7.4"
  },
  "widgets": {
   "application/vnd.jupyter.widget-state+json": {
    "state": {
     "00310749d5e74b0d86f45bb0b3943bf0": {
      "model_module": "@jupyter-widgets/controls",
      "model_module_version": "1.5.0",
      "model_name": "HBoxModel",
      "state": {
       "children": [
        "IPY_MODEL_28733be496674e83941314b8e2da735c",
        "IPY_MODEL_adc4cfa8bb9a406292c837d48cfaccbc"
       ],
       "layout": "IPY_MODEL_2d6c231f5d804b12bfe8793103c83131"
      }
     },
     "071176effc0848ae94cd174f26242646": {
      "model_module": "@jupyter-widgets/controls",
      "model_module_version": "1.5.0",
      "model_name": "ProgressStyleModel",
      "state": {
       "description_width": "initial"
      }
     },
     "07c1aa19c11a48b1a6b49b61f7375cb7": {
      "model_module": "@jupyter-widgets/controls",
      "model_module_version": "1.5.0",
      "model_name": "HBoxModel",
      "state": {
       "children": [
        "IPY_MODEL_e15569a8e9924386960ba3ebc15ebb54",
        "IPY_MODEL_f64626c590f94755a0efb6c754a17e83"
       ],
       "layout": "IPY_MODEL_d01d8edd1b8d403abf5ffe45dabb148b"
      }
     },
     "08033042446c4e3bbbf96e575870adb6": {
      "model_module": "@jupyter-widgets/controls",
      "model_module_version": "1.5.0",
      "model_name": "HBoxModel",
      "state": {
       "children": [
        "IPY_MODEL_824862eb4d374f88a5e0158633d9d6fb",
        "IPY_MODEL_3fa75b34c44847a6b595a02ffc8b792b"
       ],
       "layout": "IPY_MODEL_2a6948ee0a99441ea5c8190e0762f355"
      }
     },
     "08f9c95c982047979af76a96f796ef1e": {
      "model_module": "@jupyter-widgets/base",
      "model_module_version": "1.2.0",
      "model_name": "LayoutModel",
      "state": {}
     },
     "0a151be5f29c4003a4783203ee3ecf6d": {
      "model_module": "@jupyter-widgets/base",
      "model_module_version": "1.2.0",
      "model_name": "LayoutModel",
      "state": {}
     },
     "0e6600e1a8f141419ffed07b46cc0125": {
      "model_module": "@jupyter-widgets/controls",
      "model_module_version": "1.5.0",
      "model_name": "DescriptionStyleModel",
      "state": {
       "description_width": ""
      }
     },
     "11286baae33146be8ae5c6d3c82c4814": {
      "model_module": "@jupyter-widgets/base",
      "model_module_version": "1.2.0",
      "model_name": "LayoutModel",
      "state": {}
     },
     "128e4bd86894484cb40b6bfa311e559a": {
      "model_module": "@jupyter-widgets/base",
      "model_module_version": "1.2.0",
      "model_name": "LayoutModel",
      "state": {}
     },
     "13403e92818e47f4b472fe37684656e1": {
      "model_module": "@jupyter-widgets/controls",
      "model_module_version": "1.5.0",
      "model_name": "IntProgressModel",
      "state": {
       "bar_style": "success",
       "description": "[map]: 100%",
       "layout": "IPY_MODEL_13d88435326b4e57b31e3c3515c2fe27",
       "max": 2168,
       "style": "IPY_MODEL_9dcba62001234861b760cb2647ea19ac",
       "value": 2168
      }
     },
     "13d88435326b4e57b31e3c3515c2fe27": {
      "model_module": "@jupyter-widgets/base",
      "model_module_version": "1.2.0",
      "model_name": "LayoutModel",
      "state": {}
     },
     "1b70d7c57fc24f58a12ce4745891807e": {
      "model_module": "@jupyter-widgets/base",
      "model_module_version": "1.2.0",
      "model_name": "LayoutModel",
      "state": {}
     },
     "1e2309d4bd4d4a1ba6a9b156a586ed24": {
      "model_module": "@jupyter-widgets/base",
      "model_module_version": "1.2.0",
      "model_name": "LayoutModel",
      "state": {}
     },
     "28733be496674e83941314b8e2da735c": {
      "model_module": "@jupyter-widgets/controls",
      "model_module_version": "1.5.0",
      "model_name": "IntProgressModel",
      "state": {
       "bar_style": "success",
       "description": "[files     ]: 100%",
       "layout": "IPY_MODEL_0a151be5f29c4003a4783203ee3ecf6d",
       "max": 2168,
       "style": "IPY_MODEL_c2ff66afc08646c49e00c5ffc2ff5adf",
       "value": 2168
      }
     },
     "2a6948ee0a99441ea5c8190e0762f355": {
      "model_module": "@jupyter-widgets/base",
      "model_module_version": "1.2.0",
      "model_name": "LayoutModel",
      "state": {}
     },
     "2d6c231f5d804b12bfe8793103c83131": {
      "model_module": "@jupyter-widgets/base",
      "model_module_version": "1.2.0",
      "model_name": "LayoutModel",
      "state": {}
     },
     "2d9d4106de02425ab909adb5f4637ead": {
      "model_module": "@jupyter-widgets/controls",
      "model_module_version": "1.5.0",
      "model_name": "HBoxModel",
      "state": {
       "children": [
        "IPY_MODEL_13403e92818e47f4b472fe37684656e1",
        "IPY_MODEL_8fb14e45dbc646b4922db02b3cdfba97"
       ],
       "layout": "IPY_MODEL_477569bddab54ec9a6d3d450a322b27f"
      }
     },
     "2fb7ae69e08b4e82ab3aa3e9531d9335": {
      "model_module": "@jupyter-widgets/base",
      "model_module_version": "1.2.0",
      "model_name": "LayoutModel",
      "state": {}
     },
     "2fd12809d28a4fc0919d61f58ecc217a": {
      "model_module": "@jupyter-widgets/controls",
      "model_module_version": "1.5.0",
      "model_name": "HBoxModel",
      "state": {
       "children": [
        "IPY_MODEL_aac4a103cb5c4294a3e942c96e5a7290",
        "IPY_MODEL_6e487efb7f7e4125b358d32f91b12a5c"
       ],
       "layout": "IPY_MODEL_e0ee58b3d3ec4302927db610fc1dc080"
      }
     },
     "3c4aa6c00a39492ca9304f8c765c9b53": {
      "model_module": "@jupyter-widgets/controls",
      "model_module_version": "1.5.0",
      "model_name": "DescriptionStyleModel",
      "state": {
       "description_width": ""
      }
     },
     "3fa75b34c44847a6b595a02ffc8b792b": {
      "model_module": "@jupyter-widgets/controls",
      "model_module_version": "1.5.0",
      "model_name": "HTMLModel",
      "state": {
       "layout": "IPY_MODEL_694d06fa2aa84c6591afb84377913538",
       "style": "IPY_MODEL_a5e390606c794ff0a58beaf0b78a3501",
       "value": " 2171/? [01:36&lt;00:00, 22.60it/s]"
      }
     },
     "4623bbcb616b48a7b819968da75ca343": {
      "model_module": "@jupyter-widgets/base",
      "model_module_version": "1.2.0",
      "model_name": "LayoutModel",
      "state": {}
     },
     "470924bebabe4a59bce5f28e6d083d85": {
      "model_module": "@jupyter-widgets/base",
      "model_module_version": "1.2.0",
      "model_name": "LayoutModel",
      "state": {}
     },
     "477569bddab54ec9a6d3d450a322b27f": {
      "model_module": "@jupyter-widgets/base",
      "model_module_version": "1.2.0",
      "model_name": "LayoutModel",
      "state": {}
     },
     "4bc6a67518ff4ed783b7055b03ca15d3": {
      "model_module": "@jupyter-widgets/controls",
      "model_module_version": "1.5.0",
      "model_name": "DescriptionStyleModel",
      "state": {
       "description_width": ""
      }
     },
     "53565b4362c64f70884671d9cedfac90": {
      "model_module": "@jupyter-widgets/controls",
      "model_module_version": "1.5.0",
      "model_name": "DescriptionStyleModel",
      "state": {
       "description_width": ""
      }
     },
     "546cc9e7ddca46fb94fdce06608edec4": {
      "model_module": "@jupyter-widgets/base",
      "model_module_version": "1.2.0",
      "model_name": "LayoutModel",
      "state": {}
     },
     "5764f754d6b046f4a7e0d1a16e2c3ada": {
      "model_module": "@jupyter-widgets/base",
      "model_module_version": "1.2.0",
      "model_name": "LayoutModel",
      "state": {}
     },
     "5b5ae056663b4c719a48d6440c288995": {
      "model_module": "@jupyter-widgets/controls",
      "model_module_version": "1.5.0",
      "model_name": "ProgressStyleModel",
      "state": {
       "description_width": "initial"
      }
     },
     "5c8e9fdf7e774833badacdf78187e586": {
      "model_module": "@jupyter-widgets/controls",
      "model_module_version": "1.5.0",
      "model_name": "HTMLModel",
      "state": {
       "layout": "IPY_MODEL_e16395e2093a4f618810b6059d76788d",
       "style": "IPY_MODEL_b7e1f967e587490c80826d54386429f7",
       "value": " 2168/2168 [01:34&lt;00:00, 23.03file/s]"
      }
     },
     "5f64522777814c2a85248104414efe04": {
      "model_module": "@jupyter-widgets/controls",
      "model_module_version": "1.5.0",
      "model_name": "HBoxModel",
      "state": {
       "children": [
        "IPY_MODEL_bb3b1c47084244c1bc040065975f1323",
        "IPY_MODEL_c3b4b024cf0847ac8bc6697c8f5ed240"
       ],
       "layout": "IPY_MODEL_5764f754d6b046f4a7e0d1a16e2c3ada"
      }
     },
     "694d06fa2aa84c6591afb84377913538": {
      "model_module": "@jupyter-widgets/base",
      "model_module_version": "1.2.0",
      "model_name": "LayoutModel",
      "state": {}
     },
     "6e487efb7f7e4125b358d32f91b12a5c": {
      "model_module": "@jupyter-widgets/controls",
      "model_module_version": "1.5.0",
      "model_name": "HTMLModel",
      "state": {
       "layout": "IPY_MODEL_8db8b91b78774b30bd0cb1eab2e50403",
       "style": "IPY_MODEL_4bc6a67518ff4ed783b7055b03ca15d3",
       "value": " 2168/2168 [01:09&lt;00:00, 31.26file/s]"
      }
     },
     "7691aece626c49f48bc74e0893b62154": {
      "model_module": "@jupyter-widgets/controls",
      "model_module_version": "1.5.0",
      "model_name": "ProgressStyleModel",
      "state": {
       "description_width": "initial"
      }
     },
     "79a85d956d4e44debd1fb3dbaba82280": {
      "model_module": "@jupyter-widgets/controls",
      "model_module_version": "1.5.0",
      "model_name": "DescriptionStyleModel",
      "state": {
       "description_width": ""
      }
     },
     "7f09875dba014fc89a478a07c39a42d8": {
      "model_module": "@jupyter-widgets/controls",
      "model_module_version": "1.5.0",
      "model_name": "HBoxModel",
      "state": {
       "children": [
        "IPY_MODEL_9f174c3f174e40e4945582e81281fdc8",
        "IPY_MODEL_5c8e9fdf7e774833badacdf78187e586"
       ],
       "layout": "IPY_MODEL_da6717f205f049a0994aed163b653ad1"
      }
     },
     "7f566f483a94454abf082202b641d847": {
      "model_module": "@jupyter-widgets/controls",
      "model_module_version": "1.5.0",
      "model_name": "HTMLModel",
      "state": {
       "layout": "IPY_MODEL_128e4bd86894484cb40b6bfa311e559a",
       "style": "IPY_MODEL_3c4aa6c00a39492ca9304f8c765c9b53",
       "value": " 2168/2168 [00:02&lt;00:00, 762.45file/s]"
      }
     },
     "824862eb4d374f88a5e0158633d9d6fb": {
      "model_module": "@jupyter-widgets/controls",
      "model_module_version": "1.5.0",
      "model_name": "IntProgressModel",
      "state": {
       "bar_style": "success",
       "layout": "IPY_MODEL_f3de09a404fc4c5fbc344f3150bcda3f",
       "max": 1,
       "style": "IPY_MODEL_c999d0fef8a648f0be8eeed783a425a6",
       "value": 1
      }
     },
     "88ca0daa5ddb4cc2b3f4647f01623e33": {
      "model_module": "@jupyter-widgets/controls",
      "model_module_version": "1.5.0",
      "model_name": "ProgressStyleModel",
      "state": {
       "description_width": "initial"
      }
     },
     "8db8b91b78774b30bd0cb1eab2e50403": {
      "model_module": "@jupyter-widgets/base",
      "model_module_version": "1.2.0",
      "model_name": "LayoutModel",
      "state": {}
     },
     "8fb14e45dbc646b4922db02b3cdfba97": {
      "model_module": "@jupyter-widgets/controls",
      "model_module_version": "1.5.0",
      "model_name": "HTMLModel",
      "state": {
       "layout": "IPY_MODEL_470924bebabe4a59bce5f28e6d083d85",
       "style": "IPY_MODEL_53565b4362c64f70884671d9cedfac90",
       "value": " 2168/2168 [01:09&lt;00:00, 31.25file/s]"
      }
     },
     "98054fa84004416e916fc1979fa720b3": {
      "model_module": "@jupyter-widgets/controls",
      "model_module_version": "1.5.0",
      "model_name": "IntProgressModel",
      "state": {
       "bar_style": "success",
       "layout": "IPY_MODEL_1b70d7c57fc24f58a12ce4745891807e",
       "max": 1,
       "style": "IPY_MODEL_f3c733ba268f415184f1dbb5198a3d01",
       "value": 1
      }
     },
     "9dcba62001234861b760cb2647ea19ac": {
      "model_module": "@jupyter-widgets/controls",
      "model_module_version": "1.5.0",
      "model_name": "ProgressStyleModel",
      "state": {
       "description_width": "initial"
      }
     },
     "9f174c3f174e40e4945582e81281fdc8": {
      "model_module": "@jupyter-widgets/controls",
      "model_module_version": "1.5.0",
      "model_name": "IntProgressModel",
      "state": {
       "bar_style": "success",
       "description": "[files     ]: 100%",
       "layout": "IPY_MODEL_a1e0ee5ccae14144ad77d4afaedec5f0",
       "max": 2168,
       "style": "IPY_MODEL_071176effc0848ae94cd174f26242646",
       "value": 2168
      }
     },
     "a1e0ee5ccae14144ad77d4afaedec5f0": {
      "model_module": "@jupyter-widgets/base",
      "model_module_version": "1.2.0",
      "model_name": "LayoutModel",
      "state": {}
     },
     "a5e390606c794ff0a58beaf0b78a3501": {
      "model_module": "@jupyter-widgets/controls",
      "model_module_version": "1.5.0",
      "model_name": "DescriptionStyleModel",
      "state": {
       "description_width": ""
      }
     },
     "aac4a103cb5c4294a3e942c96e5a7290": {
      "model_module": "@jupyter-widgets/controls",
      "model_module_version": "1.5.0",
      "model_name": "IntProgressModel",
      "state": {
       "bar_style": "success",
       "description": "[sum]: 100%",
       "layout": "IPY_MODEL_4623bbcb616b48a7b819968da75ca343",
       "max": 2168,
       "style": "IPY_MODEL_7691aece626c49f48bc74e0893b62154",
       "value": 2168
      }
     },
     "ab637522fec04bba98c30c20bbef50fd": {
      "model_module": "@jupyter-widgets/base",
      "model_module_version": "1.2.0",
      "model_name": "LayoutModel",
      "state": {}
     },
     "adc4cfa8bb9a406292c837d48cfaccbc": {
      "model_module": "@jupyter-widgets/controls",
      "model_module_version": "1.5.0",
      "model_name": "HTMLModel",
      "state": {
       "layout": "IPY_MODEL_2fb7ae69e08b4e82ab3aa3e9531d9335",
       "style": "IPY_MODEL_caa4f61edd5b47f3bf30b92e9d7ad170",
       "value": " 2168/2168 [01:34&lt;00:00, 23.02file/s]"
      }
     },
     "b54c9d358bf64ded9d8b51e0b0ad2246": {
      "model_module": "@jupyter-widgets/controls",
      "model_module_version": "1.5.0",
      "model_name": "DescriptionStyleModel",
      "state": {
       "description_width": ""
      }
     },
     "b5ddb3cea7c947db81bce5b2d9258735": {
      "model_module": "@jupyter-widgets/base",
      "model_module_version": "1.2.0",
      "model_name": "LayoutModel",
      "state": {}
     },
     "b7e1f967e587490c80826d54386429f7": {
      "model_module": "@jupyter-widgets/controls",
      "model_module_version": "1.5.0",
      "model_name": "DescriptionStyleModel",
      "state": {
       "description_width": ""
      }
     },
     "bb3b1c47084244c1bc040065975f1323": {
      "model_module": "@jupyter-widgets/controls",
      "model_module_version": "1.5.0",
      "model_name": "IntProgressModel",
      "state": {
       "bar_style": "success",
       "description": "[sum files ]: 100%",
       "layout": "IPY_MODEL_546cc9e7ddca46fb94fdce06608edec4",
       "max": 2168,
       "style": "IPY_MODEL_f18882191aca49628343c95672674eb4",
       "value": 2168
      }
     },
     "c2ff66afc08646c49e00c5ffc2ff5adf": {
      "model_module": "@jupyter-widgets/controls",
      "model_module_version": "1.5.0",
      "model_name": "ProgressStyleModel",
      "state": {
       "description_width": "initial"
      }
     },
     "c3b4b024cf0847ac8bc6697c8f5ed240": {
      "model_module": "@jupyter-widgets/controls",
      "model_module_version": "1.5.0",
      "model_name": "HTMLModel",
      "state": {
       "layout": "IPY_MODEL_ab637522fec04bba98c30c20bbef50fd",
       "style": "IPY_MODEL_79a85d956d4e44debd1fb3dbaba82280",
       "value": " 2168/2168 [00:03&lt;00:00, 716.34file/s]"
      }
     },
     "c3e5ee2cd9904f1aa4eb21fcd0af4c8b": {
      "model_module": "@jupyter-widgets/base",
      "model_module_version": "1.2.0",
      "model_name": "LayoutModel",
      "state": {}
     },
     "c882672a40064a7ea327354f5e46d223": {
      "model_module": "@jupyter-widgets/controls",
      "model_module_version": "1.5.0",
      "model_name": "IntProgressModel",
      "state": {
       "bar_style": "success",
       "description": "[map files ]: 100%",
       "layout": "IPY_MODEL_c3e5ee2cd9904f1aa4eb21fcd0af4c8b",
       "max": 2168,
       "style": "IPY_MODEL_5b5ae056663b4c719a48d6440c288995",
       "value": 2168
      }
     },
     "c999d0fef8a648f0be8eeed783a425a6": {
      "model_module": "@jupyter-widgets/controls",
      "model_module_version": "1.5.0",
      "model_name": "ProgressStyleModel",
      "state": {
       "description_width": "initial"
      }
     },
     "caa4f61edd5b47f3bf30b92e9d7ad170": {
      "model_module": "@jupyter-widgets/controls",
      "model_module_version": "1.5.0",
      "model_name": "DescriptionStyleModel",
      "state": {
       "description_width": ""
      }
     },
     "d01d8edd1b8d403abf5ffe45dabb148b": {
      "model_module": "@jupyter-widgets/base",
      "model_module_version": "1.2.0",
      "model_name": "LayoutModel",
      "state": {}
     },
     "da6717f205f049a0994aed163b653ad1": {
      "model_module": "@jupyter-widgets/base",
      "model_module_version": "1.2.0",
      "model_name": "LayoutModel",
      "state": {}
     },
     "db3a0125f2cb4892a476cb729a900659": {
      "model_module": "@jupyter-widgets/base",
      "model_module_version": "1.2.0",
      "model_name": "LayoutModel",
      "state": {}
     },
     "e0ee58b3d3ec4302927db610fc1dc080": {
      "model_module": "@jupyter-widgets/base",
      "model_module_version": "1.2.0",
      "model_name": "LayoutModel",
      "state": {}
     },
     "e15569a8e9924386960ba3ebc15ebb54": {
      "model_module": "@jupyter-widgets/controls",
      "model_module_version": "1.5.0",
      "model_name": "IntProgressModel",
      "state": {
       "bar_style": "success",
       "layout": "IPY_MODEL_11286baae33146be8ae5c6d3c82c4814",
       "max": 1,
       "style": "IPY_MODEL_88ca0daa5ddb4cc2b3f4647f01623e33",
       "value": 1
      }
     },
     "e16395e2093a4f618810b6059d76788d": {
      "model_module": "@jupyter-widgets/base",
      "model_module_version": "1.2.0",
      "model_name": "LayoutModel",
      "state": {}
     },
     "f18882191aca49628343c95672674eb4": {
      "model_module": "@jupyter-widgets/controls",
      "model_module_version": "1.5.0",
      "model_name": "ProgressStyleModel",
      "state": {
       "description_width": "initial"
      }
     },
     "f3c733ba268f415184f1dbb5198a3d01": {
      "model_module": "@jupyter-widgets/controls",
      "model_module_version": "1.5.0",
      "model_name": "ProgressStyleModel",
      "state": {
       "description_width": "initial"
      }
     },
     "f3de09a404fc4c5fbc344f3150bcda3f": {
      "model_module": "@jupyter-widgets/base",
      "model_module_version": "1.2.0",
      "model_name": "LayoutModel",
      "state": {}
     },
     "f64626c590f94755a0efb6c754a17e83": {
      "model_module": "@jupyter-widgets/controls",
      "model_module_version": "1.5.0",
      "model_name": "HTMLModel",
      "state": {
       "layout": "IPY_MODEL_08f9c95c982047979af76a96f796ef1e",
       "style": "IPY_MODEL_0e6600e1a8f141419ffed07b46cc0125",
       "value": " 2171/? [00:02&lt;00:00, 765.55it/s]"
      }
     },
     "f6b254cc5d03404ea2eab5f2f4c5e150": {
      "model_module": "@jupyter-widgets/controls",
      "model_module_version": "1.5.0",
      "model_name": "HBoxModel",
      "state": {
       "children": [
        "IPY_MODEL_98054fa84004416e916fc1979fa720b3",
        "IPY_MODEL_f890e2f8df8b481babd12b2a066dcc38"
       ],
       "layout": "IPY_MODEL_b5ddb3cea7c947db81bce5b2d9258735"
      }
     },
     "f890e2f8df8b481babd12b2a066dcc38": {
      "model_module": "@jupyter-widgets/controls",
      "model_module_version": "1.5.0",
      "model_name": "HTMLModel",
      "state": {
       "layout": "IPY_MODEL_db3a0125f2cb4892a476cb729a900659",
       "style": "IPY_MODEL_b54c9d358bf64ded9d8b51e0b0ad2246",
       "value": " 2171/? [00:01&lt;00:00, 1550.44it/s]"
      }
     },
     "fb82554e50a449d79d22d0f91c690e40": {
      "model_module": "@jupyter-widgets/controls",
      "model_module_version": "1.5.0",
      "model_name": "HBoxModel",
      "state": {
       "children": [
        "IPY_MODEL_c882672a40064a7ea327354f5e46d223",
        "IPY_MODEL_7f566f483a94454abf082202b641d847"
       ],
       "layout": "IPY_MODEL_1e2309d4bd4d4a1ba6a9b156a586ed24"
      }
     }
    },
    "version_major": 2,
    "version_minor": 0
   }
  }
 },
 "nbformat": 4,
 "nbformat_minor": 4
}
