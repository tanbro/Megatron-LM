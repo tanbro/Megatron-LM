{
 "cells": [
  {
   "cell_type": "markdown",
   "metadata": {},
   "source": [
    "# 文段句格式语料转wikipedia格式jsonlines"
   ]
  },
  {
   "cell_type": "markdown",
   "metadata": {},
   "source": [
    "原始预料的格式是 JSON Lines，每一行是一篇文章，其内容是二维数组，第一个维度是段落，第二个维度是句子"
   ]
  },
  {
   "cell_type": "markdown",
   "metadata": {
    "toc-hr-collapsed": false
   },
   "source": [
    "## 代码准备"
   ]
  },
  {
   "cell_type": "markdown",
   "metadata": {},
   "source": [
    "### Imporings"
   ]
  },
  {
   "cell_type": "code",
   "execution_count": 1,
   "metadata": {},
   "outputs": [],
   "source": [
    "import json\n",
    "import math\n",
    "import os\n",
    "import sys\n",
    "from contextlib import ExitStack\n",
    "from datetime import timedelta\n",
    "from functools import partial\n",
    "from glob import glob, iglob\n",
    "from itertools import chain, cycle, islice\n",
    "from multiprocessing import Pool\n",
    "from time import time\n",
    "\n",
    "import numpy as np\n",
    "import sentencepiece as spm\n",
    "import tensorflow as tf\n",
    "from tqdm.auto import tqdm\n"
   ]
  },
  {
   "cell_type": "markdown",
   "metadata": {},
   "source": [
    "### Constants"
   ]
  },
  {
   "cell_type": "code",
   "execution_count": 2,
   "metadata": {},
   "outputs": [
    {
     "data": {
      "text/plain": [
       "True"
      ]
     },
     "execution_count": 2,
     "metadata": {},
     "output_type": "execute_result"
    }
   ],
   "source": [
    "\n",
    "SEQ_LENGTH = 768\n",
    "MIN_CTX_LEN = 32\n",
    "\n",
    "SP = spm.SentencePieceProcessor()\n",
    "SP.load('../data/spm/gpt2_huamei_corpus_bpe_32k_v2.model')"
   ]
  },
  {
   "cell_type": "markdown",
   "metadata": {},
   "source": [
    "### Functions"
   ]
  },
  {
   "cell_type": "code",
   "execution_count": 3,
   "metadata": {},
   "outputs": [],
   "source": [
    "def text_files_line_iterator(paths):\n",
    "    return chain.from_iterable(\n",
    "        open(path, encoding='utf8')\n",
    "        for path in tqdm(paths, '[files     ]', unit='file')\n",
    "    )\n",
    "\n",
    "\n",
    "def single_text_file_line_count(path, pbar=False):\n",
    "    with open(path, encoding='utf8') as fd:\n",
    "        if pbar:\n",
    "            return sum(1 for _ in tqdm(fd))\n",
    "        else:\n",
    "            return sum(1 for _ in fd)\n",
    "\n",
    "\n",
    "def text_files_line_count(paths):\n",
    "    with Pool() as pool:\n",
    "        it = pool.imap_unordered(\n",
    "            single_text_file_line_count,\n",
    "            tqdm(paths, '[files     ]', unit='file')\n",
    "        )\n",
    "        if hasattr(paths, '__len__'):\n",
    "            total = len(paths)\n",
    "        else:\n",
    "            total = None\n",
    "        return sum(c for c in tqdm(it, '[files     ]', unit='file', total=total))"
   ]
  },
  {
   "cell_type": "code",
   "execution_count": 4,
   "metadata": {},
   "outputs": [],
   "source": [
    "def proc_line(line):\n",
    "    line = line.strip()\n",
    "    if not line:\n",
    "        return\n",
    "    result = []\n",
    "    text = ''\n",
    "    n_text = 0\n",
    "    paragraphs = json.loads(line)\n",
    "    for sentence in chain.from_iterable(paragraphs):\n",
    "        sentence = sentence.strip()\n",
    "        if not sentence:\n",
    "            continue\n",
    "        n_sentence = len(SP.encode_as_ids(sentence))\n",
    "        if n_text + n_sentence > SEQ_LENGTH + SEQ_LENGTH // 64:\n",
    "            result.append({'text': text, 'length': n_text})\n",
    "            text = sentence\n",
    "            n_text = n_sentence\n",
    "        else:\n",
    "            text += sentence\n",
    "            n_text += n_sentence\n",
    "    if n_text:\n",
    "        result.append({'text': text, 'length': n_text})\n",
    "    return result\n",
    "    "
   ]
  },
  {
   "cell_type": "markdown",
   "metadata": {},
   "source": [
    "## 语料文件"
   ]
  },
  {
   "cell_type": "code",
   "execution_count": 5,
   "metadata": {},
   "outputs": [
    {
     "data": {
      "application/vnd.jupyter.widget-view+json": {
       "model_id": "1aefbd7150764c85be8e516ed8ea563f",
       "version_major": 2,
       "version_minor": 0
      },
      "text/plain": [
       "HBox(children=(IntProgress(value=1, bar_style='info', max=1), HTML(value='')))"
      ]
     },
     "metadata": {},
     "output_type": "display_data"
    },
    {
     "name": "stdout",
     "output_type": "stream",
     "text": [
      "\n",
      "源语料文件数：1,734\n"
     ]
    },
    {
     "data": {
      "application/vnd.jupyter.widget-view+json": {
       "model_id": "508fd6a1d70b485da4d6aab55c26748c",
       "version_major": 2,
       "version_minor": 0
      },
      "text/plain": [
       "HBox(children=(IntProgress(value=0, description='[files     ]', max=1734, style=ProgressStyle(description_widt…"
      ]
     },
     "metadata": {},
     "output_type": "display_data"
    },
    {
     "data": {
      "application/vnd.jupyter.widget-view+json": {
       "model_id": "5d343ba7e20e42c4abfa486118e391e5",
       "version_major": 2,
       "version_minor": 0
      },
      "text/plain": [
       "HBox(children=(IntProgress(value=0, description='[files     ]', max=1734, style=ProgressStyle(description_widt…"
      ]
     },
     "metadata": {},
     "output_type": "display_data"
    },
    {
     "name": "stdout",
     "output_type": "stream",
     "text": [
      "\n",
      "\n",
      "源语料行数：1,791,185\n"
     ]
    }
   ],
   "source": [
    "INPUT_FILES = [\n",
    "    path\n",
    "    for path in tqdm(iglob(\n",
    "        \"/nfs/server01_public/data/gpt2/output/gpt2_huamei_corpus.json.8g/**/*.*\",\n",
    "        recursive=True\n",
    "    ))\n",
    "    if os.path.isfile(path) and os.path.splitext(path)[1].lower() in ('.jsonl', '.jsonlines', 'json', 'jsonline')\n",
    "]\n",
    "print(f'源语料文件数：{len(INPUT_FILES):,d}')\n",
    "\n",
    "total_lines = text_files_line_count(INPUT_FILES)\n",
    "print(f'源语料行数：{total_lines:,d}')"
   ]
  },
  {
   "cell_type": "code",
   "execution_count": 6,
   "metadata": {},
   "outputs": [],
   "source": [
    "OUTPUT_FILE = '../data/gpt2_huamei_corpus_8g.jsonl'"
   ]
  },
  {
   "cell_type": "markdown",
   "metadata": {},
   "source": [
    "## 执行"
   ]
  },
  {
   "cell_type": "code",
   "execution_count": 7,
   "metadata": {},
   "outputs": [
    {
     "data": {
      "application/vnd.jupyter.widget-view+json": {
       "model_id": "85f0ce76ca73484b9fb29584b53d7f37",
       "version_major": 2,
       "version_minor": 0
      },
      "text/plain": [
       "HBox(children=(IntProgress(value=0, description='[files     ]', max=1734, style=ProgressStyle(description_widt…"
      ]
     },
     "metadata": {},
     "output_type": "display_data"
    },
    {
     "data": {
      "application/vnd.jupyter.widget-view+json": {
       "model_id": "81c79316c70649cb9adbf9294a14b3d0",
       "version_major": 2,
       "version_minor": 0
      },
      "text/plain": [
       "HBox(children=(IntProgress(value=0, description='mapping', max=1791185, style=ProgressStyle(description_width=…"
      ]
     },
     "metadata": {},
     "output_type": "display_data"
    },
    {
     "data": {
      "application/vnd.jupyter.widget-view+json": {
       "model_id": "e3bcb4b860914a069d5ecd09670d330e",
       "version_major": 2,
       "version_minor": 0
      },
      "text/plain": [
       "HBox(children=(IntProgress(value=0, description='reducing', max=1791185, style=ProgressStyle(description_width…"
      ]
     },
     "metadata": {},
     "output_type": "display_data"
    },
    {
     "name": "stdout",
     "output_type": "stream",
     "text": [
      "\n",
      "\n",
      "\n",
      "输出语料样本数：3,503,621\n"
     ]
    }
   ],
   "source": [
    "lines_iterator = text_files_line_iterator(INPUT_FILES)\n",
    "n_samples = 0\n",
    "\n",
    "with Pool() as pool, \\\n",
    "     open(OUTPUT_FILE, 'w') as fp:\n",
    "    it = pool.imap_unordered(\n",
    "        proc_line,\n",
    "        tqdm(lines_iterator, 'mapping', total=total_lines),\n",
    "        chunksize=512\n",
    "    )\n",
    "    for result in tqdm(it, 'reducing', total=total_lines):\n",
    "        if result:\n",
    "            for d in result:\n",
    "                if d['length'] < MIN_CTX_LEN:\n",
    "                    continue\n",
    "                s = json.dumps(d, ensure_ascii=False)\n",
    "                n_samples += 1\n",
    "                print(s, file=fp)\n",
    "\n",
    "print(f'输出语料样本数：{n_samples:,d}')"
   ]
  },
  {
   "cell_type": "code",
   "execution_count": 8,
   "metadata": {},
   "outputs": [
    {
     "name": "stdout",
     "output_type": "stream",
     "text": [
      "3503621 ../data/gpt2_huamei_corpus_8g.jsonl\n"
     ]
    }
   ],
   "source": [
    "!wc -l {OUTPUT_FILE}"
   ]
  },
  {
   "cell_type": "markdown",
   "metadata": {},
   "source": [
    "## 长度统计"
   ]
  },
  {
   "cell_type": "code",
   "execution_count": 10,
   "metadata": {},
   "outputs": [],
   "source": [
    "import pandas as pd\n",
    "\n",
    "def iter_corpus_length():\n",
    "    with open(OUTPUT_FILE) as fp:\n",
    "        for line in tqdm(fp, total=n_samples):\n",
    "            data = json.loads(line)\n",
    "            length = data.get('length')\n",
    "            yield {'length': data['length']}\n"
   ]
  },
  {
   "cell_type": "code",
   "execution_count": 11,
   "metadata": {},
   "outputs": [
    {
     "data": {
      "application/vnd.jupyter.widget-view+json": {
       "model_id": "da742ad1b16740ff94c4b22152fdc4a8",
       "version_major": 2,
       "version_minor": 0
      },
      "text/plain": [
       "HBox(children=(IntProgress(value=0, max=3503621), HTML(value='')))"
      ]
     },
     "metadata": {},
     "output_type": "display_data"
    },
    {
     "name": "stdout",
     "output_type": "stream",
     "text": [
      "\n"
     ]
    }
   ],
   "source": [
    "df = pd.DataFrame(iter_corpus_length())"
   ]
  },
  {
   "cell_type": "code",
   "execution_count": 12,
   "metadata": {},
   "outputs": [
    {
     "data": {
      "text/html": [
       "<div>\n",
       "<style scoped>\n",
       "    .dataframe tbody tr th:only-of-type {\n",
       "        vertical-align: middle;\n",
       "    }\n",
       "\n",
       "    .dataframe tbody tr th {\n",
       "        vertical-align: top;\n",
       "    }\n",
       "\n",
       "    .dataframe thead th {\n",
       "        text-align: right;\n",
       "    }\n",
       "</style>\n",
       "<table border=\"1\" class=\"dataframe\">\n",
       "  <thead>\n",
       "    <tr style=\"text-align: right;\">\n",
       "      <th></th>\n",
       "      <th>length</th>\n",
       "    </tr>\n",
       "  </thead>\n",
       "  <tbody>\n",
       "    <tr>\n",
       "      <td>count</td>\n",
       "      <td>3.503621e+06</td>\n",
       "    </tr>\n",
       "    <tr>\n",
       "      <td>mean</td>\n",
       "      <td>5.645919e+02</td>\n",
       "    </tr>\n",
       "    <tr>\n",
       "      <td>std</td>\n",
       "      <td>2.503501e+02</td>\n",
       "    </tr>\n",
       "    <tr>\n",
       "      <td>min</td>\n",
       "      <td>3.200000e+01</td>\n",
       "    </tr>\n",
       "    <tr>\n",
       "      <td>25%</td>\n",
       "      <td>3.460000e+02</td>\n",
       "    </tr>\n",
       "    <tr>\n",
       "      <td>50%</td>\n",
       "      <td>7.230000e+02</td>\n",
       "    </tr>\n",
       "    <tr>\n",
       "      <td>75%</td>\n",
       "      <td>7.660000e+02</td>\n",
       "    </tr>\n",
       "    <tr>\n",
       "      <td>max</td>\n",
       "      <td>1.450100e+04</td>\n",
       "    </tr>\n",
       "  </tbody>\n",
       "</table>\n",
       "</div>"
      ],
      "text/plain": [
       "             length\n",
       "count  3.503621e+06\n",
       "mean   5.645919e+02\n",
       "std    2.503501e+02\n",
       "min    3.200000e+01\n",
       "25%    3.460000e+02\n",
       "50%    7.230000e+02\n",
       "75%    7.660000e+02\n",
       "max    1.450100e+04"
      ]
     },
     "execution_count": 12,
     "metadata": {},
     "output_type": "execute_result"
    }
   ],
   "source": [
    "df.describe()"
   ]
  },
  {
   "cell_type": "code",
   "execution_count": null,
   "metadata": {},
   "outputs": [],
   "source": []
  }
 ],
 "metadata": {
  "kernelspec": {
   "display_name": "Python [conda env:hmgpt2-dev]",
   "language": "python",
   "name": "conda-env-hmgpt2-dev-py"
  },
  "language_info": {
   "codemirror_mode": {
    "name": "ipython",
    "version": 3
   },
   "file_extension": ".py",
   "mimetype": "text/x-python",
   "name": "python",
   "nbconvert_exporter": "python",
   "pygments_lexer": "ipython3",
   "version": "3.7.4"
  },
  "widgets": {
   "application/vnd.jupyter.widget-state+json": {
    "state": {
     "06649ad043d3447c9939858725c9b7e6": {
      "model_module": "@jupyter-widgets/base",
      "model_module_version": "1.2.0",
      "model_name": "LayoutModel",
      "state": {}
     },
     "066d2993d81d48238ca324b4ca6b9ac3": {
      "model_module": "@jupyter-widgets/controls",
      "model_module_version": "1.5.0",
      "model_name": "ProgressStyleModel",
      "state": {
       "description_width": "initial"
      }
     },
     "1289dc23a2af4978881b41592d98fb73": {
      "model_module": "@jupyter-widgets/base",
      "model_module_version": "1.2.0",
      "model_name": "LayoutModel",
      "state": {}
     },
     "141a9f5176e8466bbf3a78378a6afb49": {
      "model_module": "@jupyter-widgets/controls",
      "model_module_version": "1.5.0",
      "model_name": "ProgressStyleModel",
      "state": {
       "description_width": "initial"
      }
     },
     "16fd6c3ddd6a4a4dac31d7237999751d": {
      "model_module": "@jupyter-widgets/base",
      "model_module_version": "1.2.0",
      "model_name": "LayoutModel",
      "state": {}
     },
     "1aefbd7150764c85be8e516ed8ea563f": {
      "model_module": "@jupyter-widgets/controls",
      "model_module_version": "1.5.0",
      "model_name": "HBoxModel",
      "state": {
       "children": [
        "IPY_MODEL_bc859eddaf904f87ba8e9d11b0b03edf",
        "IPY_MODEL_d8106e582c0c4475a41bc18b9ea10a46"
       ],
       "layout": "IPY_MODEL_e24d743b376b4ad8a2799d483f32f660"
      }
     },
     "215fce2409e24e898afd43449e4357a4": {
      "model_module": "@jupyter-widgets/base",
      "model_module_version": "1.2.0",
      "model_name": "LayoutModel",
      "state": {}
     },
     "2216c6c99cb54ea19a0b0fe5f8cc0c45": {
      "model_module": "@jupyter-widgets/controls",
      "model_module_version": "1.5.0",
      "model_name": "ProgressStyleModel",
      "state": {
       "description_width": "initial"
      }
     },
     "2acf315a500a4254ae1098064d93992a": {
      "model_module": "@jupyter-widgets/controls",
      "model_module_version": "1.5.0",
      "model_name": "HTMLModel",
      "state": {
       "layout": "IPY_MODEL_d2e7bef71b90464b853a61c557a02ca5",
       "style": "IPY_MODEL_ab898c5db5694b4f865241fe719ef88b",
       "value": " 1791185/1791185 [03:38&lt;00:00, 8206.34it/s]"
      }
     },
     "2bc18d7fcdd8451cb3a306a113dda292": {
      "model_module": "@jupyter-widgets/base",
      "model_module_version": "1.2.0",
      "model_name": "LayoutModel",
      "state": {}
     },
     "368eb24185554e3f8abb0b835d938335": {
      "model_module": "@jupyter-widgets/base",
      "model_module_version": "1.2.0",
      "model_name": "LayoutModel",
      "state": {}
     },
     "388a8edbbb794efd85a53b2e13d882a7": {
      "model_module": "@jupyter-widgets/controls",
      "model_module_version": "1.5.0",
      "model_name": "IntProgressModel",
      "state": {
       "bar_style": "success",
       "description": "reducing: 100%",
       "layout": "IPY_MODEL_1289dc23a2af4978881b41592d98fb73",
       "max": 1791185,
       "style": "IPY_MODEL_7415c21e76c244c4ae0d9a9dec3d4815",
       "value": 1791185
      }
     },
     "3a549652745a4f88bdb1b2570f06079d": {
      "model_module": "@jupyter-widgets/controls",
      "model_module_version": "1.5.0",
      "model_name": "ProgressStyleModel",
      "state": {
       "description_width": "initial"
      }
     },
     "3f5ffe07b4aa4b749c1d56ecbbe463bb": {
      "model_module": "@jupyter-widgets/controls",
      "model_module_version": "1.5.0",
      "model_name": "IntProgressModel",
      "state": {
       "bar_style": "success",
       "description": "[files     ]: 100%",
       "layout": "IPY_MODEL_fe2521ad25fa4f25965a472d3a782351",
       "max": 1734,
       "style": "IPY_MODEL_3a549652745a4f88bdb1b2570f06079d",
       "value": 1734
      }
     },
     "4120140ce1104208a40936ba2964a344": {
      "model_module": "@jupyter-widgets/base",
      "model_module_version": "1.2.0",
      "model_name": "LayoutModel",
      "state": {}
     },
     "4451d781cd8e46b49069ccb5d9d0296e": {
      "model_module": "@jupyter-widgets/controls",
      "model_module_version": "1.5.0",
      "model_name": "HTMLModel",
      "state": {
       "layout": "IPY_MODEL_368eb24185554e3f8abb0b835d938335",
       "style": "IPY_MODEL_a26545b60ec947c9b56353a67ecef972",
       "value": " 1734/1734 [00:03&lt;00:00, 467.01file/s]"
      }
     },
     "4daaa73931914435a8edfaf2c51ea388": {
      "model_module": "@jupyter-widgets/base",
      "model_module_version": "1.2.0",
      "model_name": "LayoutModel",
      "state": {}
     },
     "504d55e01f564e1fadf2561a245b046c": {
      "model_module": "@jupyter-widgets/base",
      "model_module_version": "1.2.0",
      "model_name": "LayoutModel",
      "state": {}
     },
     "508fd6a1d70b485da4d6aab55c26748c": {
      "model_module": "@jupyter-widgets/controls",
      "model_module_version": "1.5.0",
      "model_name": "HBoxModel",
      "state": {
       "children": [
        "IPY_MODEL_3f5ffe07b4aa4b749c1d56ecbbe463bb",
        "IPY_MODEL_e8bac839f5c64cb59754c047d9a82e6b"
       ],
       "layout": "IPY_MODEL_a5bb6ba7e00e43d9aef41e0d102d9ce8"
      }
     },
     "5277e88da428446b898e98155274bd6a": {
      "model_module": "@jupyter-widgets/controls",
      "model_module_version": "1.5.0",
      "model_name": "DescriptionStyleModel",
      "state": {
       "description_width": ""
      }
     },
     "53cb662273394ea0b84d7e4beb192732": {
      "model_module": "@jupyter-widgets/controls",
      "model_module_version": "1.5.0",
      "model_name": "IntProgressModel",
      "state": {
       "bar_style": "success",
       "description": "[files     ]: 100%",
       "layout": "IPY_MODEL_eb7cbe1b53634000b3302f2db6bd0a8f",
       "max": 1734,
       "style": "IPY_MODEL_e6933595ff9b4fd69fa14ddb75a1d1e5",
       "value": 1734
      }
     },
     "5d343ba7e20e42c4abfa486118e391e5": {
      "model_module": "@jupyter-widgets/controls",
      "model_module_version": "1.5.0",
      "model_name": "HBoxModel",
      "state": {
       "children": [
        "IPY_MODEL_53cb662273394ea0b84d7e4beb192732",
        "IPY_MODEL_4451d781cd8e46b49069ccb5d9d0296e"
       ],
       "layout": "IPY_MODEL_16fd6c3ddd6a4a4dac31d7237999751d"
      }
     },
     "7415c21e76c244c4ae0d9a9dec3d4815": {
      "model_module": "@jupyter-widgets/controls",
      "model_module_version": "1.5.0",
      "model_name": "ProgressStyleModel",
      "state": {
       "description_width": "initial"
      }
     },
     "81c79316c70649cb9adbf9294a14b3d0": {
      "model_module": "@jupyter-widgets/controls",
      "model_module_version": "1.5.0",
      "model_name": "HBoxModel",
      "state": {
       "children": [
        "IPY_MODEL_a01b0d286c2247a59ede95e9ca56cd97",
        "IPY_MODEL_8b0dfd8a55014ce0af04cf06605545db"
       ],
       "layout": "IPY_MODEL_504d55e01f564e1fadf2561a245b046c"
      }
     },
     "82725a83a68247ddba6825ce522e648a": {
      "model_module": "@jupyter-widgets/controls",
      "model_module_version": "1.5.0",
      "model_name": "ProgressStyleModel",
      "state": {
       "description_width": "initial"
      }
     },
     "85f0ce76ca73484b9fb29584b53d7f37": {
      "model_module": "@jupyter-widgets/controls",
      "model_module_version": "1.5.0",
      "model_name": "HBoxModel",
      "state": {
       "children": [
        "IPY_MODEL_f9d58f5b9888450182fb496811eefcee",
        "IPY_MODEL_95ecda05b9be45d6a4a27953ab916ec8"
       ],
       "layout": "IPY_MODEL_4120140ce1104208a40936ba2964a344"
      }
     },
     "8b0dfd8a55014ce0af04cf06605545db": {
      "model_module": "@jupyter-widgets/controls",
      "model_module_version": "1.5.0",
      "model_name": "HTMLModel",
      "state": {
       "layout": "IPY_MODEL_b604464b26a54ecd87e7a0c1c044644b",
       "style": "IPY_MODEL_f6dce4f084d14634842e09682f6bea8e",
       "value": " 1791185/1791185 [03:36&lt;00:00, 8288.65it/s]"
      }
     },
     "8be2724b925d46f1a25d435c6ea98ef4": {
      "model_module": "@jupyter-widgets/controls",
      "model_module_version": "1.5.0",
      "model_name": "HTMLModel",
      "state": {
       "layout": "IPY_MODEL_ddcda8c3e6d548a79f7fe9da053a73d9",
       "style": "IPY_MODEL_5277e88da428446b898e98155274bd6a",
       "value": " 3503621/3503621 [00:33&lt;00:00, 104146.42it/s]"
      }
     },
     "95ecda05b9be45d6a4a27953ab916ec8": {
      "model_module": "@jupyter-widgets/controls",
      "model_module_version": "1.5.0",
      "model_name": "HTMLModel",
      "state": {
       "layout": "IPY_MODEL_4daaa73931914435a8edfaf2c51ea388",
       "style": "IPY_MODEL_d56e33628b4542c3a51ea60cd4fc0e97",
       "value": " 1734/1734 [03:36&lt;00:00,  7.99file/s]"
      }
     },
     "960db17a673d4b4d8cb55dc88f0e2fc5": {
      "model_module": "@jupyter-widgets/controls",
      "model_module_version": "1.5.0",
      "model_name": "DescriptionStyleModel",
      "state": {
       "description_width": ""
      }
     },
     "a01b0d286c2247a59ede95e9ca56cd97": {
      "model_module": "@jupyter-widgets/controls",
      "model_module_version": "1.5.0",
      "model_name": "IntProgressModel",
      "state": {
       "bar_style": "success",
       "description": "mapping: 100%",
       "layout": "IPY_MODEL_06649ad043d3447c9939858725c9b7e6",
       "max": 1791185,
       "style": "IPY_MODEL_82725a83a68247ddba6825ce522e648a",
       "value": 1791185
      }
     },
     "a26545b60ec947c9b56353a67ecef972": {
      "model_module": "@jupyter-widgets/controls",
      "model_module_version": "1.5.0",
      "model_name": "DescriptionStyleModel",
      "state": {
       "description_width": ""
      }
     },
     "a4d67a04f85b43c6b83a79588bd11321": {
      "model_module": "@jupyter-widgets/base",
      "model_module_version": "1.2.0",
      "model_name": "LayoutModel",
      "state": {}
     },
     "a5bb6ba7e00e43d9aef41e0d102d9ce8": {
      "model_module": "@jupyter-widgets/base",
      "model_module_version": "1.2.0",
      "model_name": "LayoutModel",
      "state": {}
     },
     "a7384cc51269497ea3412a2bbcae81e1": {
      "model_module": "@jupyter-widgets/controls",
      "model_module_version": "1.5.0",
      "model_name": "IntProgressModel",
      "state": {
       "bar_style": "success",
       "description": "100%",
       "layout": "IPY_MODEL_d16e0aa819ad4fe3aa4445f86675f881",
       "max": 3503621,
       "style": "IPY_MODEL_141a9f5176e8466bbf3a78378a6afb49",
       "value": 3503621
      }
     },
     "ab898c5db5694b4f865241fe719ef88b": {
      "model_module": "@jupyter-widgets/controls",
      "model_module_version": "1.5.0",
      "model_name": "DescriptionStyleModel",
      "state": {
       "description_width": ""
      }
     },
     "acaf66f3b30647d4afb9b5f24834ccaa": {
      "model_module": "@jupyter-widgets/base",
      "model_module_version": "1.2.0",
      "model_name": "LayoutModel",
      "state": {}
     },
     "b1dc73082ff848b0aed800ad77494680": {
      "model_module": "@jupyter-widgets/controls",
      "model_module_version": "1.5.0",
      "model_name": "DescriptionStyleModel",
      "state": {
       "description_width": ""
      }
     },
     "b604464b26a54ecd87e7a0c1c044644b": {
      "model_module": "@jupyter-widgets/base",
      "model_module_version": "1.2.0",
      "model_name": "LayoutModel",
      "state": {}
     },
     "bc859eddaf904f87ba8e9d11b0b03edf": {
      "model_module": "@jupyter-widgets/controls",
      "model_module_version": "1.5.0",
      "model_name": "IntProgressModel",
      "state": {
       "bar_style": "success",
       "layout": "IPY_MODEL_c5216e69bdb742b481ec4254ca09ed06",
       "max": 1,
       "style": "IPY_MODEL_2216c6c99cb54ea19a0b0fe5f8cc0c45",
       "value": 1
      }
     },
     "c5216e69bdb742b481ec4254ca09ed06": {
      "model_module": "@jupyter-widgets/base",
      "model_module_version": "1.2.0",
      "model_name": "LayoutModel",
      "state": {}
     },
     "d16e0aa819ad4fe3aa4445f86675f881": {
      "model_module": "@jupyter-widgets/base",
      "model_module_version": "1.2.0",
      "model_name": "LayoutModel",
      "state": {}
     },
     "d2e7bef71b90464b853a61c557a02ca5": {
      "model_module": "@jupyter-widgets/base",
      "model_module_version": "1.2.0",
      "model_name": "LayoutModel",
      "state": {}
     },
     "d56e33628b4542c3a51ea60cd4fc0e97": {
      "model_module": "@jupyter-widgets/controls",
      "model_module_version": "1.5.0",
      "model_name": "DescriptionStyleModel",
      "state": {
       "description_width": ""
      }
     },
     "d8106e582c0c4475a41bc18b9ea10a46": {
      "model_module": "@jupyter-widgets/controls",
      "model_module_version": "1.5.0",
      "model_name": "HTMLModel",
      "state": {
       "layout": "IPY_MODEL_215fce2409e24e898afd43449e4357a4",
       "style": "IPY_MODEL_960db17a673d4b4d8cb55dc88f0e2fc5",
       "value": " 1737/? [00:04&lt;00:00, 377.07it/s]"
      }
     },
     "da742ad1b16740ff94c4b22152fdc4a8": {
      "model_module": "@jupyter-widgets/controls",
      "model_module_version": "1.5.0",
      "model_name": "HBoxModel",
      "state": {
       "children": [
        "IPY_MODEL_a7384cc51269497ea3412a2bbcae81e1",
        "IPY_MODEL_8be2724b925d46f1a25d435c6ea98ef4"
       ],
       "layout": "IPY_MODEL_2bc18d7fcdd8451cb3a306a113dda292"
      }
     },
     "ddcda8c3e6d548a79f7fe9da053a73d9": {
      "model_module": "@jupyter-widgets/base",
      "model_module_version": "1.2.0",
      "model_name": "LayoutModel",
      "state": {}
     },
     "e24d743b376b4ad8a2799d483f32f660": {
      "model_module": "@jupyter-widgets/base",
      "model_module_version": "1.2.0",
      "model_name": "LayoutModel",
      "state": {}
     },
     "e3bcb4b860914a069d5ecd09670d330e": {
      "model_module": "@jupyter-widgets/controls",
      "model_module_version": "1.5.0",
      "model_name": "HBoxModel",
      "state": {
       "children": [
        "IPY_MODEL_388a8edbbb794efd85a53b2e13d882a7",
        "IPY_MODEL_2acf315a500a4254ae1098064d93992a"
       ],
       "layout": "IPY_MODEL_acaf66f3b30647d4afb9b5f24834ccaa"
      }
     },
     "e6933595ff9b4fd69fa14ddb75a1d1e5": {
      "model_module": "@jupyter-widgets/controls",
      "model_module_version": "1.5.0",
      "model_name": "ProgressStyleModel",
      "state": {
       "description_width": "initial"
      }
     },
     "e8bac839f5c64cb59754c047d9a82e6b": {
      "model_module": "@jupyter-widgets/controls",
      "model_module_version": "1.5.0",
      "model_name": "HTMLModel",
      "state": {
       "layout": "IPY_MODEL_fa33f6af35ac40b98f13bd382a1c54eb",
       "style": "IPY_MODEL_b1dc73082ff848b0aed800ad77494680",
       "value": " 1734/1734 [00:04&lt;00:00, 390.83file/s]"
      }
     },
     "eb7cbe1b53634000b3302f2db6bd0a8f": {
      "model_module": "@jupyter-widgets/base",
      "model_module_version": "1.2.0",
      "model_name": "LayoutModel",
      "state": {}
     },
     "f6dce4f084d14634842e09682f6bea8e": {
      "model_module": "@jupyter-widgets/controls",
      "model_module_version": "1.5.0",
      "model_name": "DescriptionStyleModel",
      "state": {
       "description_width": ""
      }
     },
     "f9d58f5b9888450182fb496811eefcee": {
      "model_module": "@jupyter-widgets/controls",
      "model_module_version": "1.5.0",
      "model_name": "IntProgressModel",
      "state": {
       "bar_style": "success",
       "description": "[files     ]: 100%",
       "layout": "IPY_MODEL_a4d67a04f85b43c6b83a79588bd11321",
       "max": 1734,
       "style": "IPY_MODEL_066d2993d81d48238ca324b4ca6b9ac3",
       "value": 1734
      }
     },
     "fa33f6af35ac40b98f13bd382a1c54eb": {
      "model_module": "@jupyter-widgets/base",
      "model_module_version": "1.2.0",
      "model_name": "LayoutModel",
      "state": {}
     },
     "fe2521ad25fa4f25965a472d3a782351": {
      "model_module": "@jupyter-widgets/base",
      "model_module_version": "1.2.0",
      "model_name": "LayoutModel",
      "state": {}
     }
    },
    "version_major": 2,
    "version_minor": 0
   }
  }
 },
 "nbformat": 4,
 "nbformat_minor": 4
}
