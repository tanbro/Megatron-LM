{
 "cells": [
  {
   "cell_type": "markdown",
   "metadata": {},
   "source": [
    "# 文段句格式语料转wikipedia格式jsonlines"
   ]
  },
  {
   "cell_type": "markdown",
   "metadata": {},
   "source": [
    "原始预料的格式是 JSON Lines，每一行是一篇文章，其内容是二维数组，第一个维度是段落，第二个维度是句子"
   ]
  },
  {
   "cell_type": "markdown",
   "metadata": {
    "toc-hr-collapsed": false
   },
   "source": [
    "## 代码准备"
   ]
  },
  {
   "cell_type": "markdown",
   "metadata": {},
   "source": [
    "### Imporings"
   ]
  },
  {
   "cell_type": "code",
   "execution_count": null,
   "metadata": {},
   "outputs": [],
   "source": [
    "import json\n",
    "import math\n",
    "import os\n",
    "import sys\n",
    "from contextlib import ExitStack\n",
    "from datetime import timedelta\n",
    "from functools import partial\n",
    "from glob import glob, iglob\n",
    "from itertools import chain, cycle, islice\n",
    "from multiprocessing import Pool\n",
    "from time import time\n",
    "\n",
    "import numpy as np\n",
    "import sentencepiece as spm\n",
    "from tqdm.auto import tqdm\n"
   ]
  },
  {
   "cell_type": "markdown",
   "metadata": {},
   "source": [
    "### Constants"
   ]
  },
  {
   "cell_type": "code",
   "execution_count": null,
   "metadata": {},
   "outputs": [],
   "source": [
    "\n",
    "SEQ_LENGTH = 1024\n",
    "MIN_CTX_LEN = 128\n",
    "\n",
    "SP = spm.SentencePieceProcessor()\n",
    "SP.load('../data/spm/gpt2_huamei_corpus_bpe_32k_v2.model')"
   ]
  },
  {
   "cell_type": "markdown",
   "metadata": {},
   "source": [
    "### Functions"
   ]
  },
  {
   "cell_type": "code",
   "execution_count": null,
   "metadata": {},
   "outputs": [],
   "source": [
    "def text_files_line_iterator(paths):\n",
    "    return chain.from_iterable(\n",
    "        open(path, encoding='utf8')\n",
    "        for path in tqdm(paths, '[files     ]', unit='file')\n",
    "    )\n",
    "\n",
    "\n",
    "def single_text_file_line_count(path, pbar=False):\n",
    "    with open(path, encoding='utf8') as fd:\n",
    "        if pbar:\n",
    "            return sum(1 for _ in tqdm(fd))\n",
    "        else:\n",
    "            return sum(1 for _ in fd)\n",
    "\n",
    "\n",
    "def text_files_line_count(paths):\n",
    "    with Pool() as pool:\n",
    "        it = pool.imap_unordered(\n",
    "            single_text_file_line_count,\n",
    "            tqdm(paths, '[files     ]', unit='file')\n",
    "        )\n",
    "        if hasattr(paths, '__len__'):\n",
    "            total = len(paths)\n",
    "        else:\n",
    "            total = None\n",
    "        return sum(c for c in tqdm(it, '[files     ]', unit='file', total=total))"
   ]
  },
  {
   "cell_type": "code",
   "execution_count": null,
   "metadata": {},
   "outputs": [],
   "source": [
    "def proc_line(line):\n",
    "    line = line.strip()\n",
    "    if not line:\n",
    "        return\n",
    "    result = []\n",
    "    text = ''\n",
    "    n_text = 0\n",
    "    paragraphs = json.loads(line)\n",
    "    for sentence in chain.from_iterable(paragraphs):\n",
    "        sentence = sentence.strip()\n",
    "        if not sentence:\n",
    "            continue\n",
    "        n_sentence = len(SP.encode_as_ids(sentence))\n",
    "        if n_text + n_sentence > SEQ_LENGTH + MIN_CTX_LEN // 2:\n",
    "            result.append({'text': text, 'length': n_text})\n",
    "            text = sentence\n",
    "            n_text = n_sentence\n",
    "        else:\n",
    "            text += sentence\n",
    "            n_text += n_sentence\n",
    "    if n_text:\n",
    "        result.append({'text': text, 'length': n_text})\n",
    "    return result\n",
    "    "
   ]
  },
  {
   "cell_type": "markdown",
   "metadata": {},
   "source": [
    "## 语料文件"
   ]
  },
  {
   "cell_type": "markdown",
   "metadata": {},
   "source": [
    "### 输入文件"
   ]
  },
  {
   "cell_type": "code",
   "execution_count": null,
   "metadata": {},
   "outputs": [],
   "source": [
    "INPUT_FILES = [\n",
    "    path\n",
    "    for path in tqdm(iglob(\n",
    "        \"/nfs/server01_public/data/gpt2/output/gpt2_huamei_corpus.json.8g/**/*.*\",\n",
    "        recursive=True\n",
    "    ))\n",
    "    if os.path.isfile(path) and os.path.splitext(path)[1].lower() in ('.jsonl', '.jsonlines', 'json', 'jsonline')\n",
    "]\n",
    "print(f'源语料文件数：{len(INPUT_FILES):,d}')\n",
    "\n",
    "total_lines = text_files_line_count(INPUT_FILES)\n",
    "print(f'源语料行数：{total_lines:,d}')"
   ]
  },
  {
   "cell_type": "markdown",
   "metadata": {},
   "source": [
    "### 输出文件"
   ]
  },
  {
   "cell_type": "code",
   "execution_count": null,
   "metadata": {},
   "outputs": [],
   "source": [
    "OUTPUT_FILE = '../data/gpt2_huamei_corpus_10g-1k.jsonl'"
   ]
  },
  {
   "cell_type": "markdown",
   "metadata": {},
   "source": [
    "## 执行"
   ]
  },
  {
   "cell_type": "code",
   "execution_count": null,
   "metadata": {},
   "outputs": [],
   "source": [
    "lines_iterator = text_files_line_iterator(INPUT_FILES)\n",
    "n_samples = 0\n",
    "n_discard = 0\n",
    "\n",
    "with Pool() as pool, \\\n",
    "     open(OUTPUT_FILE, 'w') as fp:\n",
    "    it = pool.imap_unordered(\n",
    "        proc_line,\n",
    "        tqdm(lines_iterator, 'mapping', total=total_lines),\n",
    "        chunksize=512\n",
    "    )\n",
    "    for result in tqdm(it, 'reducing', total=total_lines):\n",
    "        if result:\n",
    "            for d in result:\n",
    "                if d['length'] < MIN_CTX_LEN:\n",
    "                    n_discard += 1\n",
    "                    continue\n",
    "                s = json.dumps(d, ensure_ascii=False)\n",
    "                n_samples += 1\n",
    "                print(s, file=fp)\n",
    "\n",
    "print(f'得到语料样本数：{n_samples:,d}')\n",
    "print(f'抛弃语料样本数：{n_discard:,d}')"
   ]
  },
  {
   "cell_type": "markdown",
   "metadata": {},
   "source": [
    "### 查看输出文件"
   ]
  },
  {
   "cell_type": "code",
   "execution_count": null,
   "metadata": {},
   "outputs": [],
   "source": [
    "x = !wc -l {OUTPUT_FILE}\n",
    "n_samples = int(x[0].split()[0])\n",
    "\n",
    "print(x[0])\n",
    "\n",
    "!du --block-size=g {OUTPUT_FILE}"
   ]
  },
  {
   "cell_type": "markdown",
   "metadata": {},
   "source": [
    "## 长度统计\n",
    "\n",
    "见：  <http://holoviews.org/user_guide/Large_Data.html>"
   ]
  },
  {
   "cell_type": "code",
   "execution_count": null,
   "metadata": {},
   "outputs": [],
   "source": [
    "import pandas as pd\n",
    "import holoviews as hv\n",
    "import hvplot.pandas  # noqa\n",
    "\n",
    "import datashader as ds\n",
    "import datashader.transfer_functions as tf\n",
    "\n",
    "from holoviews.operation.datashader import datashade, shade, dynspread, rasterize, spread\n",
    "\n",
    "# hv.extension('bokeh')\n",
    "\n",
    "def iter_corpus_length():\n",
    "    with open(OUTPUT_FILE) as fp:\n",
    "        for line in tqdm(fp, total=n_samples):\n",
    "            data = json.loads(line)\n",
    "            length = data.get('length')\n",
    "            yield {'length': data['length']}\n"
   ]
  },
  {
   "cell_type": "code",
   "execution_count": null,
   "metadata": {},
   "outputs": [],
   "source": [
    "df = pd.DataFrame(iter_corpus_length())"
   ]
  },
  {
   "cell_type": "code",
   "execution_count": null,
   "metadata": {},
   "outputs": [],
   "source": [
    "df.describe()"
   ]
  },
  {
   "cell_type": "code",
   "execution_count": null,
   "metadata": {},
   "outputs": [],
   "source": [
    "points = hv.Points(df, ['index', 'length'])"
   ]
  },
  {
   "cell_type": "code",
   "execution_count": null,
   "metadata": {},
   "outputs": [],
   "source": [
    "from holoviews.operation.datashader import spread, dynspread\n",
    "\n",
    "spread(datashade(points))"
   ]
  },
  {
   "cell_type": "code",
   "execution_count": null,
   "metadata": {},
   "outputs": [],
   "source": [
    "from holoviews.operation import decimate\n",
    "\n",
    "decimate.max_samples=int(n_samples * 0.005)\n",
    "decimate(points)"
   ]
  }
 ],
 "metadata": {
  "kernelspec": {
   "display_name": "Python [conda env:Megatron-LM]",
   "language": "python",
   "name": "conda-env-Megatron-LM-py"
  },
  "language_info": {
   "codemirror_mode": {
    "name": "ipython",
    "version": 3
   },
   "file_extension": ".py",
   "mimetype": "text/x-python",
   "name": "python",
   "nbconvert_exporter": "python",
   "pygments_lexer": "ipython3",
   "version": "3.7.4"
  },
  "widgets": {
   "application/vnd.jupyter.widget-state+json": {
    "state": {
     "0935b0dd37e041c2bee9e7ee5c420edc": {
      "model_module": "@jupyter-widgets/controls",
      "model_module_version": "1.5.0",
      "model_name": "DescriptionStyleModel",
      "state": {
       "description_width": ""
      }
     },
     "0ae512ba1bdb460fbb85a114f8cdcfa0": {
      "model_module": "@jupyter-widgets/controls",
      "model_module_version": "1.5.0",
      "model_name": "IntProgressModel",
      "state": {
       "bar_style": "success",
       "description": "[files     ]: 100%",
       "layout": "IPY_MODEL_9cd07182484a4918beba60c3a105c25a",
       "max": 2168,
       "style": "IPY_MODEL_7cf583fd58584c96b1db7d8d028fda83",
       "value": 2168
      }
     },
     "0bfe4bbd881c49bba191920fac4c39d6": {
      "model_module": "@jupyter-widgets/base",
      "model_module_version": "1.2.0",
      "model_name": "LayoutModel",
      "state": {}
     },
     "0e6be11a11c644e1a2b08949bcc49ce8": {
      "model_module": "@jupyter-widgets/controls",
      "model_module_version": "1.5.0",
      "model_name": "DescriptionStyleModel",
      "state": {
       "description_width": ""
      }
     },
     "0ee7d20231264c30aedcddc5f80dbc31": {
      "model_module": "@jupyter-widgets/base",
      "model_module_version": "1.2.0",
      "model_name": "LayoutModel",
      "state": {}
     },
     "2d12c8d774874babb50569fb9f95b098": {
      "model_module": "@jupyter-widgets/controls",
      "model_module_version": "1.5.0",
      "model_name": "HTMLModel",
      "state": {
       "layout": "IPY_MODEL_c841b4c57acc43a6a26138ddb65abdb3",
       "style": "IPY_MODEL_ae65c73a1eb14ce782eebbae75ec4349",
       "value": " 2168/2168 [00:04&lt;00:00, 508.35file/s]"
      }
     },
     "2d7c3cfd3cf849439abf9103eef9f538": {
      "model_module": "@jupyter-widgets/controls",
      "model_module_version": "1.5.0",
      "model_name": "HTMLModel",
      "state": {
       "layout": "IPY_MODEL_996671b5098a41f29c00a90dda565c4f",
       "style": "IPY_MODEL_0e6be11a11c644e1a2b08949bcc49ce8",
       "value": " 3180621/3180621 [01:06&lt;00:00, 47931.97it/s]"
      }
     },
     "2f80d98b0e364dc3a6d4dea1f540c152": {
      "model_module": "@jupyter-widgets/base",
      "model_module_version": "1.2.0",
      "model_name": "LayoutModel",
      "state": {}
     },
     "32c55e37256c41b0a5c3f833d866f54b": {
      "model_module": "@jupyter-widgets/controls",
      "model_module_version": "1.5.0",
      "model_name": "DescriptionStyleModel",
      "state": {
       "description_width": ""
      }
     },
     "32cc34c9b3b442fa9393f4b380ff455c": {
      "model_module": "@jupyter-widgets/controls",
      "model_module_version": "1.5.0",
      "model_name": "DescriptionStyleModel",
      "state": {
       "description_width": ""
      }
     },
     "3b3c261b749c4481871a34a95008b8e0": {
      "model_module": "@jupyter-widgets/controls",
      "model_module_version": "1.5.0",
      "model_name": "ProgressStyleModel",
      "state": {
       "description_width": "initial"
      }
     },
     "3c38af0d054c432e811caf7845e59e06": {
      "model_module": "@jupyter-widgets/controls",
      "model_module_version": "1.5.0",
      "model_name": "ProgressStyleModel",
      "state": {
       "description_width": "initial"
      }
     },
     "47432fcecadb4e4fb8fb81912329b39e": {
      "model_module": "@jupyter-widgets/controls",
      "model_module_version": "1.5.0",
      "model_name": "HBoxModel",
      "state": {
       "children": [
        "IPY_MODEL_682d473129564a3e93b5f005081bf857",
        "IPY_MODEL_2d7c3cfd3cf849439abf9103eef9f538"
       ],
       "layout": "IPY_MODEL_e7e075716e8e44cb8eefe187defbb622"
      }
     },
     "4e7143a2349b479faeba65f08ecea77f": {
      "model_module": "@jupyter-widgets/controls",
      "model_module_version": "1.5.0",
      "model_name": "ProgressStyleModel",
      "state": {
       "description_width": "initial"
      }
     },
     "50a26d3b47c94110be206a9a369e1641": {
      "model_module": "@jupyter-widgets/controls",
      "model_module_version": "1.5.0",
      "model_name": "HTMLModel",
      "state": {
       "layout": "IPY_MODEL_a4e36c4d1cc8476e9f00eaf344055de6",
       "style": "IPY_MODEL_32c55e37256c41b0a5c3f833d866f54b",
       "value": " 2171/? [00:04&lt;00:00, 440.50it/s]"
      }
     },
     "54aa87afbf4144ae91c9be962c24138a": {
      "model_module": "@jupyter-widgets/controls",
      "model_module_version": "1.5.0",
      "model_name": "DescriptionStyleModel",
      "state": {
       "description_width": ""
      }
     },
     "563661a5c79a4ea09f16f6459d829655": {
      "model_module": "@jupyter-widgets/controls",
      "model_module_version": "1.5.0",
      "model_name": "IntProgressModel",
      "state": {
       "bar_style": "success",
       "description": "[files     ]: 100%",
       "layout": "IPY_MODEL_cdd7cb2ed1ab4225ababb6515ed60192",
       "max": 2168,
       "style": "IPY_MODEL_bdf2f17354084110aa0190b0301d7b7c",
       "value": 2168
      }
     },
     "5b56fc667dea431e9553a8b7951f8d2d": {
      "model_module": "@jupyter-widgets/controls",
      "model_module_version": "1.5.0",
      "model_name": "HBoxModel",
      "state": {
       "children": [
        "IPY_MODEL_5f43c928e61f4d9792275845969f0afc",
        "IPY_MODEL_f881f9b8e9b64a90b296aa950e123446"
       ],
       "layout": "IPY_MODEL_0bfe4bbd881c49bba191920fac4c39d6"
      }
     },
     "5c9af22a5e47464db4474584e464afcb": {
      "model_module": "@jupyter-widgets/base",
      "model_module_version": "1.2.0",
      "model_name": "LayoutModel",
      "state": {}
     },
     "5f43c928e61f4d9792275845969f0afc": {
      "model_module": "@jupyter-widgets/controls",
      "model_module_version": "1.5.0",
      "model_name": "IntProgressModel",
      "state": {
       "bar_style": "success",
       "description": "[files     ]: 100%",
       "layout": "IPY_MODEL_ae765f63600245b0a350ef96a9300bb9",
       "max": 2168,
       "style": "IPY_MODEL_4e7143a2349b479faeba65f08ecea77f",
       "value": 2168
      }
     },
     "61a6cac930a343e2b458c1e127f9769c": {
      "model_module": "@jupyter-widgets/base",
      "model_module_version": "1.2.0",
      "model_name": "LayoutModel",
      "state": {}
     },
     "67a4ad0d54794bf290037f60c965f86a": {
      "model_module": "@jupyter-widgets/base",
      "model_module_version": "1.2.0",
      "model_name": "LayoutModel",
      "state": {}
     },
     "682d473129564a3e93b5f005081bf857": {
      "model_module": "@jupyter-widgets/controls",
      "model_module_version": "1.5.0",
      "model_name": "IntProgressModel",
      "state": {
       "bar_style": "success",
       "description": "100%",
       "layout": "IPY_MODEL_a9d35cc9545b45babfb71c523999dd40",
       "max": 3180621,
       "style": "IPY_MODEL_85b109b9081b4baba3c0f34b028ee773",
       "value": 3180621
      }
     },
     "7ad96bf5df724d29ac0d001d289c3e40": {
      "model_module": "@jupyter-widgets/base",
      "model_module_version": "1.2.0",
      "model_name": "LayoutModel",
      "state": {}
     },
     "7cf583fd58584c96b1db7d8d028fda83": {
      "model_module": "@jupyter-widgets/controls",
      "model_module_version": "1.5.0",
      "model_name": "ProgressStyleModel",
      "state": {
       "description_width": "initial"
      }
     },
     "82c7b891dfc845a288fc8683bbddbc4d": {
      "model_module": "@jupyter-widgets/base",
      "model_module_version": "1.2.0",
      "model_name": "LayoutModel",
      "state": {}
     },
     "82e3a4d01302499096819189c88700f2": {
      "model_module": "@jupyter-widgets/controls",
      "model_module_version": "1.5.0",
      "model_name": "HBoxModel",
      "state": {
       "children": [
        "IPY_MODEL_b70606cde494410c9f3275bfd52338ec",
        "IPY_MODEL_50a26d3b47c94110be206a9a369e1641"
       ],
       "layout": "IPY_MODEL_67a4ad0d54794bf290037f60c965f86a"
      }
     },
     "85b109b9081b4baba3c0f34b028ee773": {
      "model_module": "@jupyter-widgets/controls",
      "model_module_version": "1.5.0",
      "model_name": "ProgressStyleModel",
      "state": {
       "description_width": "initial"
      }
     },
     "868c51773adf4a65ad6e50785381de8d": {
      "model_module": "@jupyter-widgets/base",
      "model_module_version": "1.2.0",
      "model_name": "LayoutModel",
      "state": {}
     },
     "95c7c07f55b7442b8d5a842297a143d9": {
      "model_module": "@jupyter-widgets/base",
      "model_module_version": "1.2.0",
      "model_name": "LayoutModel",
      "state": {}
     },
     "996671b5098a41f29c00a90dda565c4f": {
      "model_module": "@jupyter-widgets/base",
      "model_module_version": "1.2.0",
      "model_name": "LayoutModel",
      "state": {}
     },
     "9cd07182484a4918beba60c3a105c25a": {
      "model_module": "@jupyter-widgets/base",
      "model_module_version": "1.2.0",
      "model_name": "LayoutModel",
      "state": {}
     },
     "a4e36c4d1cc8476e9f00eaf344055de6": {
      "model_module": "@jupyter-widgets/base",
      "model_module_version": "1.2.0",
      "model_name": "LayoutModel",
      "state": {}
     },
     "a9d35cc9545b45babfb71c523999dd40": {
      "model_module": "@jupyter-widgets/base",
      "model_module_version": "1.2.0",
      "model_name": "LayoutModel",
      "state": {}
     },
     "ae65c73a1eb14ce782eebbae75ec4349": {
      "model_module": "@jupyter-widgets/controls",
      "model_module_version": "1.5.0",
      "model_name": "DescriptionStyleModel",
      "state": {
       "description_width": ""
      }
     },
     "ae765f63600245b0a350ef96a9300bb9": {
      "model_module": "@jupyter-widgets/base",
      "model_module_version": "1.2.0",
      "model_name": "LayoutModel",
      "state": {}
     },
     "afe8d05c7c2e41dea5a21909405d7590": {
      "model_module": "@jupyter-widgets/controls",
      "model_module_version": "1.5.0",
      "model_name": "IntProgressModel",
      "state": {
       "bar_style": "success",
       "description": "mapping: 100%",
       "layout": "IPY_MODEL_61a6cac930a343e2b458c1e127f9769c",
       "max": 2012580,
       "style": "IPY_MODEL_d048fadda764447ab9fbe50d9d01f911",
       "value": 2012580
      }
     },
     "b27b70454f624711bdaefbc03bcba889": {
      "model_module": "@jupyter-widgets/base",
      "model_module_version": "1.2.0",
      "model_name": "LayoutModel",
      "state": {}
     },
     "b70606cde494410c9f3275bfd52338ec": {
      "model_module": "@jupyter-widgets/controls",
      "model_module_version": "1.5.0",
      "model_name": "IntProgressModel",
      "state": {
       "bar_style": "success",
       "layout": "IPY_MODEL_868c51773adf4a65ad6e50785381de8d",
       "max": 1,
       "style": "IPY_MODEL_3b3c261b749c4481871a34a95008b8e0",
       "value": 1
      }
     },
     "bba7386c8d164eec9c3607b80ba1a6bf": {
      "model_module": "@jupyter-widgets/base",
      "model_module_version": "1.2.0",
      "model_name": "LayoutModel",
      "state": {}
     },
     "bbc9fcccba304b37ac7b073437d31717": {
      "model_module": "@jupyter-widgets/controls",
      "model_module_version": "1.5.0",
      "model_name": "HBoxModel",
      "state": {
       "children": [
        "IPY_MODEL_563661a5c79a4ea09f16f6459d829655",
        "IPY_MODEL_df455192e01b412aacfcd9ceea64d5c2"
       ],
       "layout": "IPY_MODEL_0ee7d20231264c30aedcddc5f80dbc31"
      }
     },
     "bc7b60917e1441a1879264e4320cb02c": {
      "model_module": "@jupyter-widgets/controls",
      "model_module_version": "1.5.0",
      "model_name": "HBoxModel",
      "state": {
       "children": [
        "IPY_MODEL_d2695a6713944141b9f8cf00062a7f11",
        "IPY_MODEL_ed0ada20ed8543ab938eb02bbcf2b600"
       ],
       "layout": "IPY_MODEL_b27b70454f624711bdaefbc03bcba889"
      }
     },
     "bdf2f17354084110aa0190b0301d7b7c": {
      "model_module": "@jupyter-widgets/controls",
      "model_module_version": "1.5.0",
      "model_name": "ProgressStyleModel",
      "state": {
       "description_width": "initial"
      }
     },
     "c3df5c7bc503456cb247305382f8d728": {
      "model_module": "@jupyter-widgets/base",
      "model_module_version": "1.2.0",
      "model_name": "LayoutModel",
      "state": {}
     },
     "c7df26fea4b7445c9b67a2e22a631940": {
      "model_module": "@jupyter-widgets/controls",
      "model_module_version": "1.5.0",
      "model_name": "HTMLModel",
      "state": {
       "layout": "IPY_MODEL_82c7b891dfc845a288fc8683bbddbc4d",
       "style": "IPY_MODEL_0935b0dd37e041c2bee9e7ee5c420edc",
       "value": " 2012580/2012580 [05:10&lt;00:00, 6475.36it/s]"
      }
     },
     "c841b4c57acc43a6a26138ddb65abdb3": {
      "model_module": "@jupyter-widgets/base",
      "model_module_version": "1.2.0",
      "model_name": "LayoutModel",
      "state": {}
     },
     "cdd7cb2ed1ab4225ababb6515ed60192": {
      "model_module": "@jupyter-widgets/base",
      "model_module_version": "1.2.0",
      "model_name": "LayoutModel",
      "state": {}
     },
     "d048fadda764447ab9fbe50d9d01f911": {
      "model_module": "@jupyter-widgets/controls",
      "model_module_version": "1.5.0",
      "model_name": "ProgressStyleModel",
      "state": {
       "description_width": "initial"
      }
     },
     "d2695a6713944141b9f8cf00062a7f11": {
      "model_module": "@jupyter-widgets/controls",
      "model_module_version": "1.5.0",
      "model_name": "IntProgressModel",
      "state": {
       "bar_style": "success",
       "description": "reducing: 100%",
       "layout": "IPY_MODEL_7ad96bf5df724d29ac0d001d289c3e40",
       "max": 2012580,
       "style": "IPY_MODEL_3c38af0d054c432e811caf7845e59e06",
       "value": 2012580
      }
     },
     "df455192e01b412aacfcd9ceea64d5c2": {
      "model_module": "@jupyter-widgets/controls",
      "model_module_version": "1.5.0",
      "model_name": "HTMLModel",
      "state": {
       "layout": "IPY_MODEL_95c7c07f55b7442b8d5a842297a143d9",
       "style": "IPY_MODEL_32cc34c9b3b442fa9393f4b380ff455c",
       "value": " 2168/2168 [05:11&lt;00:00,  6.95file/s]"
      }
     },
     "e7e075716e8e44cb8eefe187defbb622": {
      "model_module": "@jupyter-widgets/base",
      "model_module_version": "1.2.0",
      "model_name": "LayoutModel",
      "state": {}
     },
     "e8e6946d3f6e4b48935da35606cc1693": {
      "model_module": "@jupyter-widgets/controls",
      "model_module_version": "1.5.0",
      "model_name": "HBoxModel",
      "state": {
       "children": [
        "IPY_MODEL_afe8d05c7c2e41dea5a21909405d7590",
        "IPY_MODEL_c7df26fea4b7445c9b67a2e22a631940"
       ],
       "layout": "IPY_MODEL_c3df5c7bc503456cb247305382f8d728"
      }
     },
     "ed0ada20ed8543ab938eb02bbcf2b600": {
      "model_module": "@jupyter-widgets/controls",
      "model_module_version": "1.5.0",
      "model_name": "HTMLModel",
      "state": {
       "layout": "IPY_MODEL_bba7386c8d164eec9c3607b80ba1a6bf",
       "style": "IPY_MODEL_54aa87afbf4144ae91c9be962c24138a",
       "value": " 2012580/2012580 [05:10&lt;00:00, 6475.88it/s]"
      }
     },
     "ed576008b6de4e9eae08a73599be51ef": {
      "model_module": "@jupyter-widgets/controls",
      "model_module_version": "1.5.0",
      "model_name": "DescriptionStyleModel",
      "state": {
       "description_width": ""
      }
     },
     "f881f9b8e9b64a90b296aa950e123446": {
      "model_module": "@jupyter-widgets/controls",
      "model_module_version": "1.5.0",
      "model_name": "HTMLModel",
      "state": {
       "layout": "IPY_MODEL_5c9af22a5e47464db4474584e464afcb",
       "style": "IPY_MODEL_ed576008b6de4e9eae08a73599be51ef",
       "value": " 2168/2168 [00:04&lt;00:00, 505.63file/s]"
      }
     },
     "fd90435ffc294ca2b336cbd35c9759b0": {
      "model_module": "@jupyter-widgets/controls",
      "model_module_version": "1.5.0",
      "model_name": "HBoxModel",
      "state": {
       "children": [
        "IPY_MODEL_0ae512ba1bdb460fbb85a114f8cdcfa0",
        "IPY_MODEL_2d12c8d774874babb50569fb9f95b098"
       ],
       "layout": "IPY_MODEL_2f80d98b0e364dc3a6d4dea1f540c152"
      }
     }
    },
    "version_major": 2,
    "version_minor": 0
   }
  }
 },
 "nbformat": 4,
 "nbformat_minor": 4
}
