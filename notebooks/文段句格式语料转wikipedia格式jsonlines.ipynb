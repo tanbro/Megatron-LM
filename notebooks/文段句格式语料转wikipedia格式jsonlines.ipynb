{
 "cells": [
  {
   "cell_type": "markdown",
   "metadata": {},
   "source": [
    "# 文段句格式语料转wikipedia格式jsonlines"
   ]
  },
  {
   "cell_type": "markdown",
   "metadata": {},
   "source": [
    "原始预料的格式是 JSON Lines，每一行是一篇文章，其内容是二维数组，第一个维度是段落，第二个维度是句子"
   ]
  },
  {
   "cell_type": "markdown",
   "metadata": {
    "toc-hr-collapsed": false
   },
   "source": [
    "## 代码准备"
   ]
  },
  {
   "cell_type": "markdown",
   "metadata": {},
   "source": [
    "### Imporings"
   ]
  },
  {
   "cell_type": "code",
   "execution_count": 1,
   "metadata": {},
   "outputs": [],
   "source": [
    "import json\n",
    "import math\n",
    "import os\n",
    "import sys\n",
    "from contextlib import ExitStack\n",
    "from datetime import timedelta\n",
    "from functools import partial\n",
    "from glob import glob, iglob\n",
    "from itertools import chain, cycle, islice\n",
    "from multiprocessing import Pool\n",
    "from time import time\n",
    "\n",
    "import numpy as np\n",
    "import sentencepiece as spm\n",
    "import tensorflow as tf\n",
    "from tqdm.auto import tqdm\n"
   ]
  },
  {
   "cell_type": "markdown",
   "metadata": {},
   "source": [
    "### Constants"
   ]
  },
  {
   "cell_type": "code",
   "execution_count": 2,
   "metadata": {},
   "outputs": [
    {
     "data": {
      "text/plain": [
       "True"
      ]
     },
     "execution_count": 2,
     "metadata": {},
     "output_type": "execute_result"
    }
   ],
   "source": [
    "\n",
    "SEQ_LENGTH = 768\n",
    "\n",
    "SP = spm.SentencePieceProcessor()\n",
    "SP.load('../data/spm/gpt2_huamei_corpus_bpe_32k_v2.model')"
   ]
  },
  {
   "cell_type": "markdown",
   "metadata": {},
   "source": [
    "### Functions"
   ]
  },
  {
   "cell_type": "code",
   "execution_count": 11,
   "metadata": {},
   "outputs": [],
   "source": [
    "def text_files_line_iterator(paths):\n",
    "    return chain.from_iterable(\n",
    "        open(path, encoding='utf8')\n",
    "        for path in tqdm(paths, '[files     ]', unit='file')\n",
    "    )\n",
    "\n",
    "\n",
    "def single_text_file_line_count(path, pbar=False):\n",
    "    with open(path, encoding='utf8') as fd:\n",
    "        if pbar:\n",
    "            return sum(1 for _ in tqdm(fd))\n",
    "        else:\n",
    "            return sum(1 for _ in fd)\n",
    "\n",
    "\n",
    "def text_files_line_count(paths):\n",
    "    with Pool() as pool:\n",
    "        it = pool.imap_unordered(\n",
    "            single_text_file_line_count,\n",
    "            tqdm(paths, '[files     ]', unit='file')\n",
    "        )\n",
    "        if hasattr(paths, '__len__'):\n",
    "            total = len(paths)\n",
    "        else:\n",
    "            total = None\n",
    "        return sum(c for c in tqdm(it, '[files     ]', unit='file', total=total))"
   ]
  },
  {
   "cell_type": "code",
   "execution_count": 4,
   "metadata": {},
   "outputs": [],
   "source": [
    "def proc_line(line):\n",
    "    line = line.strip()\n",
    "    if not line:\n",
    "        return\n",
    "    result = []\n",
    "    text = ''\n",
    "    n_text = 0\n",
    "    paragraphs = json.loads(line)\n",
    "    for sentence in chain.from_iterable(paragraphs):\n",
    "        sentence = sentence.strip()\n",
    "        if not sentence:\n",
    "            continue\n",
    "        n_sentence = len(SP.encode_as_ids(sentence))\n",
    "        if n_text + n_sentence > SEQ_LENGTH + SEQ_LENGTH // 64:\n",
    "            result.append({'text': text, 'length': n_text})\n",
    "            text = sentence\n",
    "            n_text = n_sentence\n",
    "        else:\n",
    "            text += sentence\n",
    "            n_text += n_sentence\n",
    "    if n_text:\n",
    "        result.append({'text': text, 'length': n_text})\n",
    "    return result\n",
    "    "
   ]
  },
  {
   "cell_type": "markdown",
   "metadata": {},
   "source": [
    "## 语料文件"
   ]
  },
  {
   "cell_type": "code",
   "execution_count": 5,
   "metadata": {},
   "outputs": [
    {
     "data": {
      "application/vnd.jupyter.widget-view+json": {
       "model_id": "ef8e3519ed72405cb51fe730c7074ba5",
       "version_major": 2,
       "version_minor": 0
      },
      "text/plain": [
       "HBox(children=(IntProgress(value=1, bar_style='info', max=1), HTML(value='')))"
      ]
     },
     "metadata": {},
     "output_type": "display_data"
    },
    {
     "name": "stdout",
     "output_type": "stream",
     "text": [
      "\n",
      "源语料文件数：1,734\n"
     ]
    },
    {
     "data": {
      "application/vnd.jupyter.widget-view+json": {
       "model_id": "3e2628e3c5824d1f9e4817d87637576a",
       "version_major": 2,
       "version_minor": 0
      },
      "text/plain": [
       "HBox(children=(IntProgress(value=0, description='[files     ]', max=1734, style=ProgressStyle(description_widt…"
      ]
     },
     "metadata": {},
     "output_type": "display_data"
    },
    {
     "data": {
      "application/vnd.jupyter.widget-view+json": {
       "model_id": "18f8f71571c840a0843b57b1764b8515",
       "version_major": 2,
       "version_minor": 0
      },
      "text/plain": [
       "HBox(children=(IntProgress(value=0, description='[files     ]', max=1734, style=ProgressStyle(description_widt…"
      ]
     },
     "metadata": {},
     "output_type": "display_data"
    },
    {
     "name": "stdout",
     "output_type": "stream",
     "text": [
      "\n",
      "\n",
      "源语料行数：1,791,185\n"
     ]
    }
   ],
   "source": [
    "INPUT_FILES = [\n",
    "    path\n",
    "    for path in tqdm(iglob(\n",
    "        \"/nfs/server01_public/data/gpt2/output/gpt2_huamei_corpus.json.8g/**/*.*\",\n",
    "        recursive=True\n",
    "    ))\n",
    "    if os.path.isfile(path) and os.path.splitext(path)[1].lower() in ('.jsonl', '.jsonlines', 'json', 'jsonline')\n",
    "]\n",
    "print(f'源语料文件数：{len(INPUT_FILES):,d}')\n",
    "\n",
    "total_lines = text_files_line_count(INPUT_FILES)\n",
    "print(f'源语料行数：{total_lines:,d}')"
   ]
  },
  {
   "cell_type": "code",
   "execution_count": 6,
   "metadata": {},
   "outputs": [],
   "source": [
    "OUTPUT_FILE = '../data/gpt2_huamei_corpus_8g.jsonl'"
   ]
  },
  {
   "cell_type": "markdown",
   "metadata": {},
   "source": [
    "## 执行"
   ]
  },
  {
   "cell_type": "code",
   "execution_count": 7,
   "metadata": {},
   "outputs": [
    {
     "data": {
      "application/vnd.jupyter.widget-view+json": {
       "model_id": "71e8e5fbbc9143acb50b9add6d198046",
       "version_major": 2,
       "version_minor": 0
      },
      "text/plain": [
       "HBox(children=(IntProgress(value=0, description='[files     ]', max=1734, style=ProgressStyle(description_widt…"
      ]
     },
     "metadata": {},
     "output_type": "display_data"
    },
    {
     "data": {
      "application/vnd.jupyter.widget-view+json": {
       "model_id": "253aa642894e4c51bf5fc510acd39a19",
       "version_major": 2,
       "version_minor": 0
      },
      "text/plain": [
       "HBox(children=(IntProgress(value=0, description='mapping', max=1791185, style=ProgressStyle(description_width=…"
      ]
     },
     "metadata": {},
     "output_type": "display_data"
    },
    {
     "data": {
      "application/vnd.jupyter.widget-view+json": {
       "model_id": "ba49e0eddfe84e9fbe47aac0a722bb8f",
       "version_major": 2,
       "version_minor": 0
      },
      "text/plain": [
       "HBox(children=(IntProgress(value=0, description='reducing', max=1791185, style=ProgressStyle(description_width…"
      ]
     },
     "metadata": {},
     "output_type": "display_data"
    },
    {
     "name": "stdout",
     "output_type": "stream",
     "text": [
      "\n",
      "\n",
      "\n"
     ]
    }
   ],
   "source": [
    "lines_iterator = text_files_line_iterator(INPUT_FILES)\n",
    "\n",
    "with Pool() as pool, \\\n",
    "     open(OUTPUT_FILE, 'w') as fp:\n",
    "    it = pool.imap_unordered(\n",
    "        proc_line,\n",
    "        tqdm(lines_iterator, 'mapping', total=total_lines),\n",
    "        chunksize=512\n",
    "    )\n",
    "    for result in tqdm(it, 'reducing', total=total_lines):\n",
    "        if result:\n",
    "            for d in result:\n",
    "                s = json.dumps(d, ensure_ascii=False)\n",
    "                print(s, file=fp)"
   ]
  },
  {
   "cell_type": "code",
   "execution_count": 14,
   "metadata": {},
   "outputs": [
    {
     "data": {
      "application/vnd.jupyter.widget-view+json": {
       "model_id": "23175fc5393f4eb18496797c541c4b6b",
       "version_major": 2,
       "version_minor": 0
      },
      "text/plain": [
       "HBox(children=(IntProgress(value=1, bar_style='info', max=1), HTML(value='')))"
      ]
     },
     "metadata": {},
     "output_type": "display_data"
    },
    {
     "name": "stdout",
     "output_type": "stream",
     "text": [
      "\n",
      "输出语料样本数：3,550,426\n"
     ]
    }
   ],
   "source": [
    "output_lines = single_text_file_line_count(OUTPUT_FILE, True)\n",
    "\n",
    "print(f'输出语料样本数：{output_lines:,d}')"
   ]
  },
  {
   "cell_type": "code",
   "execution_count": null,
   "metadata": {},
   "outputs": [],
   "source": []
  }
 ],
 "metadata": {
  "kernelspec": {
   "display_name": "Python [conda env:hmgpt2-dev]",
   "language": "python",
   "name": "conda-env-hmgpt2-dev-py"
  },
  "language_info": {
   "codemirror_mode": {
    "name": "ipython",
    "version": 3
   },
   "file_extension": ".py",
   "mimetype": "text/x-python",
   "name": "python",
   "nbconvert_exporter": "python",
   "pygments_lexer": "ipython3",
   "version": "3.7.4"
  },
  "widgets": {
   "application/vnd.jupyter.widget-state+json": {
    "state": {
     "04901880e65e4ee2b61de3c38ec39036": {
      "model_module": "@jupyter-widgets/base",
      "model_module_version": "1.2.0",
      "model_name": "LayoutModel",
      "state": {}
     },
     "054472e01afd4ca3b81cef38a5aacb29": {
      "model_module": "@jupyter-widgets/controls",
      "model_module_version": "1.5.0",
      "model_name": "HTMLModel",
      "state": {
       "layout": "IPY_MODEL_fbc436cd5fb9481e8732697c5930e205",
       "style": "IPY_MODEL_8a5373d47aad43a7a9d140b17c96ee1c",
       "value": " 1734/1734 [00:09&lt;00:00, 184.10file/s]"
      }
     },
     "18f8f71571c840a0843b57b1764b8515": {
      "model_module": "@jupyter-widgets/controls",
      "model_module_version": "1.5.0",
      "model_name": "HBoxModel",
      "state": {
       "children": [
        "IPY_MODEL_c66abdc8d51c49508264b676f574e37b",
        "IPY_MODEL_b827fa26b7e24f60b9b569c8cb7dac54"
       ],
       "layout": "IPY_MODEL_7a9ec0bfa813452c9f98e5c5e9c09b14"
      }
     },
     "23175fc5393f4eb18496797c541c4b6b": {
      "model_module": "@jupyter-widgets/controls",
      "model_module_version": "1.5.0",
      "model_name": "HBoxModel",
      "state": {
       "children": [
        "IPY_MODEL_9078aeb281c24c9ea0ebff4dfe6a4177",
        "IPY_MODEL_a3e6dff97988444b97a64676430a9a89"
       ],
       "layout": "IPY_MODEL_aef304db0e364e1ab60c7f5376925cb0"
      }
     },
     "253aa642894e4c51bf5fc510acd39a19": {
      "model_module": "@jupyter-widgets/controls",
      "model_module_version": "1.5.0",
      "model_name": "HBoxModel",
      "state": {
       "children": [
        "IPY_MODEL_4ba5125135734861b193930285579e57",
        "IPY_MODEL_2a61a19ea3704e48affc01f26d72b0a3"
       ],
       "layout": "IPY_MODEL_703e3f0de26146468ee6dd81c63c0ef6"
      }
     },
     "258967763f294b1e989823d9f7411484": {
      "model_module": "@jupyter-widgets/controls",
      "model_module_version": "1.5.0",
      "model_name": "HTMLModel",
      "state": {
       "layout": "IPY_MODEL_fcd9a549b7504f4983bb3f7a242c3001",
       "style": "IPY_MODEL_cd40d2331a344b5aa05db3220c4f8226",
       "value": " 1737/? [00:09&lt;00:00, 181.41it/s]"
      }
     },
     "274da1a1e0bf48d397f4f4c46464c56d": {
      "model_module": "@jupyter-widgets/base",
      "model_module_version": "1.2.0",
      "model_name": "LayoutModel",
      "state": {}
     },
     "2a61a19ea3704e48affc01f26d72b0a3": {
      "model_module": "@jupyter-widgets/controls",
      "model_module_version": "1.5.0",
      "model_name": "HTMLModel",
      "state": {
       "layout": "IPY_MODEL_a9e3fb8ae0e644c2ac1ad2f183ba8e5f",
       "style": "IPY_MODEL_b45866eefabc4856b58b45773d3b1a3c",
       "value": " 1791185/1791185 [03:35&lt;00:00, 8304.13it/s]"
      }
     },
     "2e66032c2f464e4f820542d4ddf4b978": {
      "model_module": "@jupyter-widgets/controls",
      "model_module_version": "1.5.0",
      "model_name": "ProgressStyleModel",
      "state": {
       "description_width": "initial"
      }
     },
     "2ef70ca10f3e431882b658c78dcd9c5e": {
      "model_module": "@jupyter-widgets/controls",
      "model_module_version": "1.5.0",
      "model_name": "IntProgressModel",
      "state": {
       "bar_style": "success",
       "description": "[files     ]: 100%",
       "layout": "IPY_MODEL_fdf57dabedcf46acb9d967120c923f16",
       "max": 1734,
       "style": "IPY_MODEL_82c8268caf2e46e0a6892a79813b2e5a",
       "value": 1734
      }
     },
     "310aeedb49994b09893c6fd063a82261": {
      "model_module": "@jupyter-widgets/base",
      "model_module_version": "1.2.0",
      "model_name": "LayoutModel",
      "state": {}
     },
     "345dca947bc7492f863ab05cb9c9f1d0": {
      "model_module": "@jupyter-widgets/controls",
      "model_module_version": "1.5.0",
      "model_name": "DescriptionStyleModel",
      "state": {
       "description_width": ""
      }
     },
     "3e2628e3c5824d1f9e4817d87637576a": {
      "model_module": "@jupyter-widgets/controls",
      "model_module_version": "1.5.0",
      "model_name": "HBoxModel",
      "state": {
       "children": [
        "IPY_MODEL_ba038f8910164aa59e26fb7330f73f63",
        "IPY_MODEL_054472e01afd4ca3b81cef38a5aacb29"
       ],
       "layout": "IPY_MODEL_79e974b14a90411c869b77000094cadb"
      }
     },
     "42dbe55d33324e51ba908312da6c56e5": {
      "model_module": "@jupyter-widgets/base",
      "model_module_version": "1.2.0",
      "model_name": "LayoutModel",
      "state": {}
     },
     "475a1e4fbc744ea49451a9a15b39ff36": {
      "model_module": "@jupyter-widgets/base",
      "model_module_version": "1.2.0",
      "model_name": "LayoutModel",
      "state": {}
     },
     "4ba5125135734861b193930285579e57": {
      "model_module": "@jupyter-widgets/controls",
      "model_module_version": "1.5.0",
      "model_name": "IntProgressModel",
      "state": {
       "bar_style": "success",
       "description": "mapping: 100%",
       "layout": "IPY_MODEL_d3f0ba9ad574478b9e24c0f7e123e95b",
       "max": 1791185,
       "style": "IPY_MODEL_f1a3ecbddb11465bbd5561d10e9dff89",
       "value": 1791185
      }
     },
     "4dcc1751224443e1be4cde48d33a8cf1": {
      "model_module": "@jupyter-widgets/controls",
      "model_module_version": "1.5.0",
      "model_name": "IntProgressModel",
      "state": {
       "bar_style": "success",
       "description": "reducing: 100%",
       "layout": "IPY_MODEL_04901880e65e4ee2b61de3c38ec39036",
       "max": 1791185,
       "style": "IPY_MODEL_b4ffedbd8e104d0892baa7ef6cd39e01",
       "value": 1791185
      }
     },
     "532c8e443b9448958777f2f6ad7e20fa": {
      "model_module": "@jupyter-widgets/controls",
      "model_module_version": "1.5.0",
      "model_name": "ProgressStyleModel",
      "state": {
       "description_width": "initial"
      }
     },
     "54c9c037673d46a597ab2f9998a9702d": {
      "model_module": "@jupyter-widgets/controls",
      "model_module_version": "1.5.0",
      "model_name": "DescriptionStyleModel",
      "state": {
       "description_width": ""
      }
     },
     "5cbd0df85d0d40f2ac2a0e10a5c742c8": {
      "model_module": "@jupyter-widgets/controls",
      "model_module_version": "1.5.0",
      "model_name": "IntProgressModel",
      "state": {
       "bar_style": "success",
       "layout": "IPY_MODEL_7ca95e8491c94c809b0ff9e08fb483f3",
       "max": 1,
       "style": "IPY_MODEL_2e66032c2f464e4f820542d4ddf4b978",
       "value": 1
      }
     },
     "5ebb784adfbb40c8811e08eedd129a44": {
      "model_module": "@jupyter-widgets/base",
      "model_module_version": "1.2.0",
      "model_name": "LayoutModel",
      "state": {}
     },
     "65a73b02d8954bf08827574e22c9ea5a": {
      "model_module": "@jupyter-widgets/base",
      "model_module_version": "1.2.0",
      "model_name": "LayoutModel",
      "state": {}
     },
     "662d8543016743768c8feb95d48ad41e": {
      "model_module": "@jupyter-widgets/base",
      "model_module_version": "1.2.0",
      "model_name": "LayoutModel",
      "state": {}
     },
     "67330d746f464ce0a8a174652671dc2e": {
      "model_module": "@jupyter-widgets/controls",
      "model_module_version": "1.5.0",
      "model_name": "HBoxModel",
      "state": {
       "children": [
        "IPY_MODEL_926979bb4c5b429cb476efb07f2166a1",
        "IPY_MODEL_f3efadc48a784d38a3c559115526661a"
       ],
       "layout": "IPY_MODEL_87a41fc98aae4b1dada9de18f6ed0e0c"
      }
     },
     "703e3f0de26146468ee6dd81c63c0ef6": {
      "model_module": "@jupyter-widgets/base",
      "model_module_version": "1.2.0",
      "model_name": "LayoutModel",
      "state": {}
     },
     "71e8e5fbbc9143acb50b9add6d198046": {
      "model_module": "@jupyter-widgets/controls",
      "model_module_version": "1.5.0",
      "model_name": "HBoxModel",
      "state": {
       "children": [
        "IPY_MODEL_2ef70ca10f3e431882b658c78dcd9c5e",
        "IPY_MODEL_b8483e47e36449e2906f4374c88d211b"
       ],
       "layout": "IPY_MODEL_475a1e4fbc744ea49451a9a15b39ff36"
      }
     },
     "79e974b14a90411c869b77000094cadb": {
      "model_module": "@jupyter-widgets/base",
      "model_module_version": "1.2.0",
      "model_name": "LayoutModel",
      "state": {}
     },
     "7a9ec0bfa813452c9f98e5c5e9c09b14": {
      "model_module": "@jupyter-widgets/base",
      "model_module_version": "1.2.0",
      "model_name": "LayoutModel",
      "state": {}
     },
     "7ca95e8491c94c809b0ff9e08fb483f3": {
      "model_module": "@jupyter-widgets/base",
      "model_module_version": "1.2.0",
      "model_name": "LayoutModel",
      "state": {}
     },
     "82c8268caf2e46e0a6892a79813b2e5a": {
      "model_module": "@jupyter-widgets/controls",
      "model_module_version": "1.5.0",
      "model_name": "ProgressStyleModel",
      "state": {
       "description_width": "initial"
      }
     },
     "85093f28668f44a3a7a5d253919a825d": {
      "model_module": "@jupyter-widgets/controls",
      "model_module_version": "1.5.0",
      "model_name": "HTMLModel",
      "state": {
       "layout": "IPY_MODEL_a334f0cc1bc24d959138751da255af62",
       "style": "IPY_MODEL_c5e1a5cbf2824a1ba64de7bb1cf6f0d7",
       "value": " 1791185/1791185 [03:37&lt;00:00, 8218.84it/s]"
      }
     },
     "8599d11b03f24d418d2e932fa72399a8": {
      "model_module": "@jupyter-widgets/controls",
      "model_module_version": "1.5.0",
      "model_name": "DescriptionStyleModel",
      "state": {
       "description_width": ""
      }
     },
     "87a41fc98aae4b1dada9de18f6ed0e0c": {
      "model_module": "@jupyter-widgets/base",
      "model_module_version": "1.2.0",
      "model_name": "LayoutModel",
      "state": {}
     },
     "8a5373d47aad43a7a9d140b17c96ee1c": {
      "model_module": "@jupyter-widgets/controls",
      "model_module_version": "1.5.0",
      "model_name": "DescriptionStyleModel",
      "state": {
       "description_width": ""
      }
     },
     "9078aeb281c24c9ea0ebff4dfe6a4177": {
      "model_module": "@jupyter-widgets/controls",
      "model_module_version": "1.5.0",
      "model_name": "IntProgressModel",
      "state": {
       "bar_style": "success",
       "layout": "IPY_MODEL_5ebb784adfbb40c8811e08eedd129a44",
       "max": 1,
       "style": "IPY_MODEL_c79160ff922647d08e5248afa59ee728",
       "value": 1
      }
     },
     "926979bb4c5b429cb476efb07f2166a1": {
      "model_module": "@jupyter-widgets/controls",
      "model_module_version": "1.5.0",
      "model_name": "IntProgressModel",
      "state": {
       "bar_style": "success",
       "layout": "IPY_MODEL_310aeedb49994b09893c6fd063a82261",
       "max": 1,
       "style": "IPY_MODEL_532c8e443b9448958777f2f6ad7e20fa",
       "value": 1
      }
     },
     "9f94a958b6de4ed0a38a2b345f50749e": {
      "model_module": "@jupyter-widgets/controls",
      "model_module_version": "1.5.0",
      "model_name": "ProgressStyleModel",
      "state": {
       "description_width": "initial"
      }
     },
     "a334f0cc1bc24d959138751da255af62": {
      "model_module": "@jupyter-widgets/base",
      "model_module_version": "1.2.0",
      "model_name": "LayoutModel",
      "state": {}
     },
     "a3e6dff97988444b97a64676430a9a89": {
      "model_module": "@jupyter-widgets/controls",
      "model_module_version": "1.5.0",
      "model_name": "HTMLModel",
      "state": {
       "layout": "IPY_MODEL_b7f17cb175324235b41fce9ff1b86a58",
       "style": "IPY_MODEL_daed07ac07ac4029ad2178dd22c532b4",
       "value": " 3550426/? [00:16&lt;00:00, 214484.55it/s]"
      }
     },
     "a9e3fb8ae0e644c2ac1ad2f183ba8e5f": {
      "model_module": "@jupyter-widgets/base",
      "model_module_version": "1.2.0",
      "model_name": "LayoutModel",
      "state": {}
     },
     "abf6e09af62e46c4a1fcc0de6459899c": {
      "model_module": "@jupyter-widgets/base",
      "model_module_version": "1.2.0",
      "model_name": "LayoutModel",
      "state": {}
     },
     "aef304db0e364e1ab60c7f5376925cb0": {
      "model_module": "@jupyter-widgets/base",
      "model_module_version": "1.2.0",
      "model_name": "LayoutModel",
      "state": {}
     },
     "b45866eefabc4856b58b45773d3b1a3c": {
      "model_module": "@jupyter-widgets/controls",
      "model_module_version": "1.5.0",
      "model_name": "DescriptionStyleModel",
      "state": {
       "description_width": ""
      }
     },
     "b4ffedbd8e104d0892baa7ef6cd39e01": {
      "model_module": "@jupyter-widgets/controls",
      "model_module_version": "1.5.0",
      "model_name": "ProgressStyleModel",
      "state": {
       "description_width": "initial"
      }
     },
     "b7f17cb175324235b41fce9ff1b86a58": {
      "model_module": "@jupyter-widgets/base",
      "model_module_version": "1.2.0",
      "model_name": "LayoutModel",
      "state": {}
     },
     "b827fa26b7e24f60b9b569c8cb7dac54": {
      "model_module": "@jupyter-widgets/controls",
      "model_module_version": "1.5.0",
      "model_name": "HTMLModel",
      "state": {
       "layout": "IPY_MODEL_65a73b02d8954bf08827574e22c9ea5a",
       "style": "IPY_MODEL_8599d11b03f24d418d2e932fa72399a8",
       "value": " 1734/1734 [00:08&lt;00:00, 199.64file/s]"
      }
     },
     "b8370c6ac20a42b3a67b5ed14b017b9d": {
      "model_module": "@jupyter-widgets/base",
      "model_module_version": "1.2.0",
      "model_name": "LayoutModel",
      "state": {}
     },
     "b8483e47e36449e2906f4374c88d211b": {
      "model_module": "@jupyter-widgets/controls",
      "model_module_version": "1.5.0",
      "model_name": "HTMLModel",
      "state": {
       "layout": "IPY_MODEL_b8370c6ac20a42b3a67b5ed14b017b9d",
       "style": "IPY_MODEL_345dca947bc7492f863ab05cb9c9f1d0",
       "value": " 1734/1734 [03:36&lt;00:00,  8.01file/s]"
      }
     },
     "ba038f8910164aa59e26fb7330f73f63": {
      "model_module": "@jupyter-widgets/controls",
      "model_module_version": "1.5.0",
      "model_name": "IntProgressModel",
      "state": {
       "bar_style": "success",
       "description": "[files     ]: 100%",
       "layout": "IPY_MODEL_abf6e09af62e46c4a1fcc0de6459899c",
       "max": 1734,
       "style": "IPY_MODEL_9f94a958b6de4ed0a38a2b345f50749e",
       "value": 1734
      }
     },
     "ba49e0eddfe84e9fbe47aac0a722bb8f": {
      "model_module": "@jupyter-widgets/controls",
      "model_module_version": "1.5.0",
      "model_name": "HBoxModel",
      "state": {
       "children": [
        "IPY_MODEL_4dcc1751224443e1be4cde48d33a8cf1",
        "IPY_MODEL_85093f28668f44a3a7a5d253919a825d"
       ],
       "layout": "IPY_MODEL_42dbe55d33324e51ba908312da6c56e5"
      }
     },
     "c5e1a5cbf2824a1ba64de7bb1cf6f0d7": {
      "model_module": "@jupyter-widgets/controls",
      "model_module_version": "1.5.0",
      "model_name": "DescriptionStyleModel",
      "state": {
       "description_width": ""
      }
     },
     "c66abdc8d51c49508264b676f574e37b": {
      "model_module": "@jupyter-widgets/controls",
      "model_module_version": "1.5.0",
      "model_name": "IntProgressModel",
      "state": {
       "bar_style": "success",
       "description": "[files     ]: 100%",
       "layout": "IPY_MODEL_274da1a1e0bf48d397f4f4c46464c56d",
       "max": 1734,
       "style": "IPY_MODEL_c795cc6651844dc9ad0adf4841d78a26",
       "value": 1734
      }
     },
     "c79160ff922647d08e5248afa59ee728": {
      "model_module": "@jupyter-widgets/controls",
      "model_module_version": "1.5.0",
      "model_name": "ProgressStyleModel",
      "state": {
       "description_width": "initial"
      }
     },
     "c795cc6651844dc9ad0adf4841d78a26": {
      "model_module": "@jupyter-widgets/controls",
      "model_module_version": "1.5.0",
      "model_name": "ProgressStyleModel",
      "state": {
       "description_width": "initial"
      }
     },
     "cd40d2331a344b5aa05db3220c4f8226": {
      "model_module": "@jupyter-widgets/controls",
      "model_module_version": "1.5.0",
      "model_name": "DescriptionStyleModel",
      "state": {
       "description_width": ""
      }
     },
     "d3f0ba9ad574478b9e24c0f7e123e95b": {
      "model_module": "@jupyter-widgets/base",
      "model_module_version": "1.2.0",
      "model_name": "LayoutModel",
      "state": {}
     },
     "daed07ac07ac4029ad2178dd22c532b4": {
      "model_module": "@jupyter-widgets/controls",
      "model_module_version": "1.5.0",
      "model_name": "DescriptionStyleModel",
      "state": {
       "description_width": ""
      }
     },
     "e35b323d271944e2ba77239aa7aa8d89": {
      "model_module": "@jupyter-widgets/base",
      "model_module_version": "1.2.0",
      "model_name": "LayoutModel",
      "state": {}
     },
     "ef8e3519ed72405cb51fe730c7074ba5": {
      "model_module": "@jupyter-widgets/controls",
      "model_module_version": "1.5.0",
      "model_name": "HBoxModel",
      "state": {
       "children": [
        "IPY_MODEL_5cbd0df85d0d40f2ac2a0e10a5c742c8",
        "IPY_MODEL_258967763f294b1e989823d9f7411484"
       ],
       "layout": "IPY_MODEL_662d8543016743768c8feb95d48ad41e"
      }
     },
     "f1a3ecbddb11465bbd5561d10e9dff89": {
      "model_module": "@jupyter-widgets/controls",
      "model_module_version": "1.5.0",
      "model_name": "ProgressStyleModel",
      "state": {
       "description_width": "initial"
      }
     },
     "f3efadc48a784d38a3c559115526661a": {
      "model_module": "@jupyter-widgets/controls",
      "model_module_version": "1.5.0",
      "model_name": "HTMLModel",
      "state": {
       "layout": "IPY_MODEL_e35b323d271944e2ba77239aa7aa8d89",
       "style": "IPY_MODEL_54c9c037673d46a597ab2f9998a9702d",
       "value": " 3550426/? [00:16&lt;00:00, 213425.08it/s]"
      }
     },
     "fbc436cd5fb9481e8732697c5930e205": {
      "model_module": "@jupyter-widgets/base",
      "model_module_version": "1.2.0",
      "model_name": "LayoutModel",
      "state": {}
     },
     "fcd9a549b7504f4983bb3f7a242c3001": {
      "model_module": "@jupyter-widgets/base",
      "model_module_version": "1.2.0",
      "model_name": "LayoutModel",
      "state": {}
     },
     "fdf57dabedcf46acb9d967120c923f16": {
      "model_module": "@jupyter-widgets/base",
      "model_module_version": "1.2.0",
      "model_name": "LayoutModel",
      "state": {}
     }
    },
    "version_major": 2,
    "version_minor": 0
   }
  }
 },
 "nbformat": 4,
 "nbformat_minor": 4
}
