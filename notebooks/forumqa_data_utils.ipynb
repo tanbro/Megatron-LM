{
 "cells": [
  {
   "cell_type": "markdown",
   "metadata": {},
   "source": [
    "# Forum QA 的 Data 相关"
   ]
  },
  {
   "cell_type": "markdown",
   "metadata": {},
   "source": [
    "## Working Directory"
   ]
  },
  {
   "cell_type": "code",
   "execution_count": 1,
   "metadata": {},
   "outputs": [
    {
     "name": "stdout",
     "output_type": "stream",
     "text": [
      "/home/Public/Megatron-LM\n"
     ]
    }
   ],
   "source": [
    "%cd .."
   ]
  },
  {
   "cell_type": "markdown",
   "metadata": {},
   "source": [
    "## Importings"
   ]
  },
  {
   "cell_type": "code",
   "execution_count": 2,
   "metadata": {},
   "outputs": [],
   "source": [
    "\n",
    "import json\n",
    "import logging\n",
    "import os\n",
    "from contextlib import ExitStack\n",
    "from itertools import chain\n",
    "from multiprocessing import Pool\n",
    "from pathlib import Path\n",
    "\n",
    "import sentencepiece as spm\n",
    "from torch.utils.data import Dataset\n",
    "from tqdm.auto import tqdm\n"
   ]
  },
  {
   "cell_type": "markdown",
   "metadata": {},
   "source": [
    "## SentencePiece tokenizer"
   ]
  },
  {
   "cell_type": "code",
   "execution_count": 3,
   "metadata": {},
   "outputs": [
    {
     "data": {
      "text/plain": [
       "True"
      ]
     },
     "execution_count": 3,
     "metadata": {},
     "output_type": "execute_result"
    }
   ],
   "source": [
    "import sentencepiece as spm\n",
    "\n",
    "toekenizer = spm.SentencePieceProcessor()\n",
    "toekenizer.load('./notebooks/spm.test.model')"
   ]
  },
  {
   "cell_type": "markdown",
   "metadata": {},
   "source": [
    "## Import Source code module"
   ]
  },
  {
   "cell_type": "code",
   "execution_count": 4,
   "metadata": {},
   "outputs": [],
   "source": [
    "from forumqa.data import *"
   ]
  },
  {
   "cell_type": "markdown",
   "metadata": {},
   "source": [
    "## PATHS"
   ]
  },
  {
   "cell_type": "code",
   "execution_count": 5,
   "metadata": {},
   "outputs": [],
   "source": [
    "paths = [\n",
    "    './data/forumqa.dev.json'\n",
    "]"
   ]
  },
  {
   "cell_type": "markdown",
   "metadata": {},
   "source": [
    "## do it"
   ]
  },
  {
   "cell_type": "code",
   "execution_count": 8,
   "metadata": {},
   "outputs": [
    {
     "data": {
      "application/vnd.jupyter.widget-view+json": {
       "model_id": "923b424a72284d44986d796bc549efff",
       "version_major": 2,
       "version_minor": 0
      },
      "text/plain": [
       "HBox(children=(IntProgress(value=1, bar_style='info', description='Get lines count', max=1, style=ProgressStyl…"
      ]
     },
     "metadata": {},
     "output_type": "display_data"
    },
    {
     "name": "stdout",
     "output_type": "stream",
     "text": [
      "\n"
     ]
    },
    {
     "data": {
      "application/vnd.jupyter.widget-view+json": {
       "model_id": "dddca5b9a79c47a594e1797b255bfad8",
       "version_major": 2,
       "version_minor": 0
      },
      "text/plain": [
       "HBox(children=(IntProgress(value=0, description='MAP', max=10, style=ProgressStyle(description_width='initial'…"
      ]
     },
     "metadata": {},
     "output_type": "display_data"
    },
    {
     "name": "stdout",
     "output_type": "stream",
     "text": [
      "\n"
     ]
    },
    {
     "data": {
      "application/vnd.jupyter.widget-view+json": {
       "model_id": "1e8ca732211846c4baae18f413b784f2",
       "version_major": 2,
       "version_minor": 0
      },
      "text/plain": [
       "HBox(children=(IntProgress(value=0, description='RDC', max=10, style=ProgressStyle(description_width='initial'…"
      ]
     },
     "metadata": {},
     "output_type": "display_data"
    },
    {
     "name": "stdout",
     "output_type": "stream",
     "text": [
      "\n"
     ]
    }
   ],
   "source": [
    "ds = ForumQaDataset.create(paths, toekenizer)"
   ]
  },
  {
   "cell_type": "code",
   "execution_count": 9,
   "metadata": {},
   "outputs": [
    {
     "data": {
      "text/plain": [
       "29"
      ]
     },
     "execution_count": 9,
     "metadata": {},
     "output_type": "execute_result"
    }
   ],
   "source": [
    "len(ds)"
   ]
  },
  {
   "cell_type": "code",
   "execution_count": 11,
   "metadata": {},
   "outputs": [
    {
     "name": "stdout",
     "output_type": "stream",
     "text": [
      "3971 ▁\n",
      "3986 想\n",
      "4035 做\n",
      "203 真正\n",
      "1527 的自己\n",
      "4 <end-of-question-title>\n",
      "3971 ▁\n",
      "39 感觉\n",
      "7 自己\n",
      "34 一直\n",
      "3525 像个\n",
      "4632 演\n",
      "4266 员\n",
      "3908 ,\n",
      "4632 演\n",
      "6576 绎\n",
      "8 一个\n",
      "1172 大家都\n",
      "83 喜欢\n",
      "1118 至少\n",
      "52 不能\n",
      "4936 讨\n",
      "5372 厌\n",
      "25 的人\n",
      "3908 ,\n",
      "3960 很\n",
      "277 痛苦\n",
      "3908 ,\n",
      "52 不能\n",
      "4097 放\n",
      "3979 开\n",
      "4035 做\n",
      "7 自己\n",
      "3910 。\n",
      "5 <end-of-question-text>\n",
      "3971 ▁\n",
      "6628 恭\n",
      "4190 喜\n",
      "3949 你\n",
      "3908 ,\n",
      "3986 想\n",
      "4035 做\n",
      "203 真正\n",
      "1527 的自己\n",
      "3908 ,\n",
      "93 这是\n",
      "3959 好\n",
      "3992 事\n",
      "4389 啊\n",
      "3982 !\n",
      "166 完全\n",
      "5517 赞\n",
      "4023 同\n",
      "3908 ,\n",
      "82 每天\n",
      "3525 像个\n",
      "4632 演\n",
      "4266 员\n",
      "3908 ,\n",
      "4632 演\n",
      "8 一个\n",
      "36 不是\n",
      "3949 你\n",
      "17 自己的\n",
      "7 自己\n",
      "4240 该\n",
      "3914 是\n",
      "2133 多么\n",
      "1123 辛苦\n",
      "4389 啊\n",
      "3982 !\n",
      "63 可能\n",
      "3949 你\n",
      "1957 本身\n",
      "16 就是\n",
      "3920 个\n",
      "663 很好\n",
      "3960 很\n",
      "1754 善良\n",
      "25 的人\n",
      "3908 ,\n",
      "112 但是\n",
      "3949 你\n",
      "39 感觉\n",
      "3023 从来没有\n",
      "4031 被\n",
      "2412 接纳\n",
      "3908 ,\n",
      "1865 欣赏\n",
      "3944 过\n",
      "62 你的\n",
      "4099 本\n",
      "3911 我\n",
      "3908 ,\n",
      "47 所以\n",
      "122 觉得\n",
      "7 自己\n",
      "10 没有\n",
      "1285 价值\n",
      "3908 ,\n",
      "3915 不\n",
      "2178 被人\n",
      "83 喜欢\n",
      "3908 ,\n",
      "3928 就\n",
      "4306 连\n",
      "2196 你自己\n",
      "79 也不\n",
      "83 喜欢\n",
      "7 自己\n",
      "3910 。\n",
      "4028 从\n",
      "3936 和\n",
      "7 自己\n",
      "4035 做\n",
      "48 朋友\n",
      "40 开始\n",
      "3908 ,\n",
      "439 慢慢\n",
      "2412 接纳\n",
      "3908 ,\n",
      "83 喜欢\n",
      "3908 ,\n",
      "3994 爱\n",
      "4697 护\n",
      "7 自己\n",
      "3908 ,\n",
      "108 那么\n",
      "1380 你在\n",
      "3919 人\n",
      "3984 前\n",
      "826 就可以\n",
      "725 慢慢地\n",
      "4035 做\n",
      "3991 回\n",
      "7 自己\n",
      "3910 。\n",
      "1895 不容易\n",
      "3908 ,\n",
      "4017 但\n",
      "18 可以\n",
      "1692 尝试\n",
      "3910 。\n",
      "203 真正\n",
      "1527 的自己\n",
      "3914 是\n",
      "4554 独\n",
      "3913 一\n",
      "3996 无\n",
      "4116 二\n",
      "3909 的\n",
      "3908 ,\n",
      "4632 演\n",
      "6576 绎\n",
      "1527 的自己\n",
      "3914 是\n",
      "3 <unk>\n",
      "4269 品\n",
      "3908 ,\n",
      "3914 是\n",
      "4414 吗\n",
      "4022 ?\n"
     ]
    }
   ],
   "source": [
    "for d in ds:\n",
    "    ids = d['text']\n",
    "    for id_ in ids:\n",
    "        piece = ds.tokenizer.id_to_piece(id_)\n",
    "        print(id_, piece)\n",
    "    break"
   ]
  },
  {
   "cell_type": "code",
   "execution_count": null,
   "metadata": {},
   "outputs": [],
   "source": []
  }
 ],
 "metadata": {
  "kernelspec": {
   "display_name": "Python [conda env:Megatron_LM-ipy]",
   "language": "python",
   "name": "conda-env-Megatron_LM-ipy-py"
  },
  "language_info": {
   "codemirror_mode": {
    "name": "ipython",
    "version": 3
   },
   "file_extension": ".py",
   "mimetype": "text/x-python",
   "name": "python",
   "nbconvert_exporter": "python",
   "pygments_lexer": "ipython3",
   "version": "3.7.4"
  }
 },
 "nbformat": 4,
 "nbformat_minor": 4
}
