{
 "cells": [
  {
   "cell_type": "markdown",
   "metadata": {},
   "source": [
    "# Megatron 直接使用预训练模型进行预测 (BPE v2)"
   ]
  },
  {
   "cell_type": "markdown",
   "metadata": {},
   "source": [
    "## 环境准备\n",
    "\n",
    "准备运行这个笔记本的 Jupyter kernel(**如果已经准备就绪，不要重复执行！**)：\n"
   ]
  },
  {
   "cell_type": "markdown",
   "metadata": {},
   "source": [
    "1. 配置一个 Conda 环境作为 Jupyter Kernel"
   ]
  },
  {
   "cell_type": "code",
   "execution_count": 1,
   "metadata": {},
   "outputs": [],
   "source": [
    "# %conda env update -f environments/environment-ipy.yml"
   ]
  },
  {
   "cell_type": "markdown",
   "metadata": {},
   "source": [
    "安装完毕后，为该 Notebook 选择这个 Kernel (名为`Megatron_LM-ipy`)"
   ]
  },
  {
   "cell_type": "markdown",
   "metadata": {},
   "source": [
    "2. 在Kernel所在 Conda 环境中安装 Apex\n",
    "\n",
    "需要通过 pip 从 github 下载源代码安装："
   ]
  },
  {
   "cell_type": "code",
   "execution_count": 2,
   "metadata": {},
   "outputs": [],
   "source": [
    "# %pip install -v -r requirements/apex.txt"
   ]
  },
  {
   "cell_type": "markdown",
   "metadata": {},
   "source": [
    "## CD\n",
    "\n",
    "定位到工作目录，根据具体情况决定哦，不一定是下面的命令"
   ]
  },
  {
   "cell_type": "code",
   "execution_count": 3,
   "metadata": {},
   "outputs": [
    {
     "name": "stdout",
     "output_type": "stream",
     "text": [
      "/home/Public/Megatron-LM\n"
     ]
    }
   ],
   "source": [
    "%cd .."
   ]
  },
  {
   "cell_type": "markdown",
   "metadata": {},
   "source": [
    "## 指定 Checkpoints 目录"
   ]
  },
  {
   "cell_type": "markdown",
   "metadata": {},
   "source": [
    "### 从 S3 下载\n",
    "\n",
    "文件比较大，根据实际情况选择下载，**不要重复下载**\n",
    "\n",
    "如果直接使用 S3 上的模型，需要下载，然后修改超参数, 路径等："
   ]
  },
  {
   "cell_type": "code",
   "execution_count": 4,
   "metadata": {},
   "outputs": [
    {
     "name": "stdout",
     "output_type": "stream",
     "text": [
      "download: s3://huamei/hmgpt2-checkpoints/345m-xinli_qa-hunyin/latest_checkpointed_iteration.txt to checkpoints/345m-xinli_qa-hunyin/latest_checkpointed_iteration.txt\n",
      "s3://huamei/hmgpt2-checkpoints/345m-xinli_qa-hunyin/iter_0035000 ==> ./checkpoints/345m-xinli_qa-hunyin/iter_0035000\n",
      "load:  ./checkpoints/345m-xinli_qa-hunyin\n",
      "iteration:  35000\n",
      "CPU times: user 58.6 ms, sys: 19.8 ms, total: 78.5 ms\n",
      "Wall time: 2.55 s\n"
     ]
    }
   ],
   "source": [
    "%%time\n",
    "\n",
    "import os\n",
    "\n",
    "HPARAMS_NAME = '345m'\n",
    "TOKENIZER_TYPE = 'GPT2BPETokenizer_CN'\n",
    "\n",
    "MODEL_NAME = '345m-xinli_qa-hunyin'\n",
    "AWSS3_CKPTS_DIR = os.path.join('s3://huamei/hmgpt2-checkpoints', MODEL_NAME)\n",
    "LOCAL_CKPTS_DIR = os.path.join('./checkpoints', MODEL_NAME)\n",
    "\n",
    "\n",
    "# 复制 latest_checkpointed_iteration.txt\n",
    "!aws s3 cp \\\n",
    "    {AWSS3_CKPTS_DIR} \\\n",
    "    {LOCAL_CKPTS_DIR} \\\n",
    "    --recursive \\\n",
    "    --exclude \"*\" \\\n",
    "    --include \"latest_checkpointed_iteration.txt\"\n",
    "\n",
    "# 下载后读取最新的 checkpoint iter 名称\n",
    "iteration = open(f'{LOCAL_CKPTS_DIR}/latest_checkpointed_iteration.txt').read()\n",
    "iteration_dir = 'iter_{:07d}'.format(int(iteration))\n",
    "\n",
    "awss3_ckpt_dir = os.path.join(AWSS3_CKPTS_DIR, iteration_dir)\n",
    "local_ckpt_dir = os.path.join(LOCAL_CKPTS_DIR, iteration_dir)\n",
    "\n",
    "print(f'{awss3_ckpt_dir} ==> {local_ckpt_dir}')\n",
    "    \n",
    "# 同步最新的 Checkpiont\n",
    "!aws s3 sync {awss3_ckpt_dir} {local_ckpt_dir}\n",
    "\n",
    "#\n",
    "load_model_dir = LOCAL_CKPTS_DIR\n",
    "print('load: ', load_model_dir)\n",
    "print('iteration: ', iteration)"
   ]
  },
  {
   "cell_type": "markdown",
   "metadata": {},
   "source": [
    "### 直接使用本地\n",
    "\n",
    "如果直接使用本地的已有模型，修改超参数, 路径等："
   ]
  },
  {
   "cell_type": "code",
   "execution_count": 5,
   "metadata": {},
   "outputs": [
    {
     "name": "stdout",
     "output_type": "stream",
     "text": [
      "load:  ./checkpoints/117m.spm-xinli_qa-hunyin\n",
      "iteration:  60000\n",
      "CPU times: user 628 µs, sys: 140 µs, total: 768 µs\n",
      "Wall time: 476 µs\n"
     ]
    }
   ],
   "source": [
    "%%time\n",
    "\n",
    "import os\n",
    "\n",
    "HPARAMS_NAME = '117m'\n",
    "TOKENIZER_TYPE = 'SentencePieceTokenizer'\n",
    "\n",
    "MODEL_NAME = '117m.spm-xinli_qa-hunyin'\n",
    "AWSS3_CKPTS_DIR = os.path.join('s3://huamei/hmgpt2-checkpoints', MODEL_NAME)\n",
    "LOCAL_CKPTS_DIR = os.path.join('./checkpoints', MODEL_NAME)\n",
    "\n",
    "\n",
    "# 读取最新的 checkpoint iter 名称\n",
    "iteration = open(f'{LOCAL_CKPTS_DIR}/latest_checkpointed_iteration.txt').read()\n",
    "iteration_dir = 'iter_{:07d}'.format(int(iteration))\n",
    "\n",
    "local_ckpt_dir = os.path.join(LOCAL_CKPTS_DIR, iteration_dir)\n",
    "\n",
    "load_model_dir = LOCAL_CKPTS_DIR\n",
    "print('load: ', load_model_dir)\n",
    "print('iteration: ', iteration)"
   ]
  },
  {
   "cell_type": "markdown",
   "metadata": {},
   "source": [
    "## Environment Variables"
   ]
  },
  {
   "cell_type": "markdown",
   "metadata": {},
   "source": [
    "- 用哪个/些 GPU?"
   ]
  },
  {
   "cell_type": "code",
   "execution_count": 5,
   "metadata": {},
   "outputs": [
    {
     "name": "stdout",
     "output_type": "stream",
     "text": [
      "env: CUDA_VISIBLE_DEVICES=0\n"
     ]
    }
   ],
   "source": [
    "%env CUDA_VISIBLE_DEVICES 0"
   ]
  },
  {
   "cell_type": "markdown",
   "metadata": {},
   "source": [
    "## Importings"
   ]
  },
  {
   "cell_type": "code",
   "execution_count": 5,
   "metadata": {},
   "outputs": [],
   "source": [
    "import copy\n",
    "import csv\n",
    "import json\n",
    "import math\n",
    "import os\n",
    "import random\n",
    "import sys\n",
    "import time\n",
    "from contextlib import closing\n",
    "from itertools import chain, compress\n",
    "from functools import partial\n",
    "from multiprocessing import Pool\n",
    "from types import SimpleNamespace\n",
    "\n",
    "import numpy as np\n",
    "import torch\n",
    "import torch.nn.functional as F\n",
    "from tqdm.auto import tqdm, trange\n",
    "\n",
    "import mpu\n",
    "from data_utils.tokenization import SentencePieceTokenizer, make_tokenizer\n",
    "from pretrain_gpt2 import get_masks_and_position_ids\n",
    "from predict_gpt2 import initialize_distributed, prepare_tokenizer, set_random_seed, setup_model, get_token_stream"
   ]
  },
  {
   "cell_type": "markdown",
   "metadata": {},
   "source": [
    "## Args"
   ]
  },
  {
   "cell_type": "code",
   "execution_count": 6,
   "metadata": {},
   "outputs": [],
   "source": [
    "args = SimpleNamespace(\n",
    "    # Model arguments\n",
    "    # To be updated ...\n",
    "    vocab_size=None,\n",
    "    make_vocab_size_divisible_by=128,\n",
    "    attention_dropout=0.1,\n",
    "    hidden_dropout=0.1,\n",
    "    # Train/valid/test data arguments.\n",
    "    seq_length=1024,\n",
    "    model_parallel_size=1,\n",
    "    tokenizer_model_type='bert-large-uncased',\n",
    "    tokenizer_type=TOKENIZER_TYPE,\n",
    "    tokenizer_path=\"./data/spm/gpt2_huamei_corpus_bpe_32k_v2.model\",\n",
    "    cache_dir=None,\n",
    "    # Training arguments.\n",
    "    load=load_model_dir,\n",
    "    seed=1234,\n",
    "    checkpoint_activations=None,\n",
    "    checkpoint_num_layers=1,\n",
    "    finetune=None,\n",
    "    no_load_optim=None,\n",
    "    no_load_rng=None,\n",
    "    resume_dataloader=None,\n",
    "    fp16=True,\n",
    "    hysteresis=2,\n",
    "    loss_scale=None,\n",
    "    loss_scale_window=1000,\n",
    "    min_scale=1,\n",
    "    distributed_backend='nccl',\n",
    "    DDP_impl='local',\n",
    "    local_rank=None,\n",
    "    reset_position_ids=None,\n",
    "    reset_attention_mask=None,\n",
    "    eod_mask_loss=None, \n",
    "    # Text generate arguments.\n",
    "    recompute=None,\n",
    "    greedy=False,\n",
    "    top_p=0.0,\n",
    "    top_k=0,\n",
    "    temperature=1.0,\n",
    "    out_seq_length=256,\n",
    ")"
   ]
  },
  {
   "cell_type": "code",
   "execution_count": 7,
   "metadata": {},
   "outputs": [
    {
     "name": "stdout",
     "output_type": "stream",
     "text": [
      "using world size: 1 and model-parallel size: 1 \n",
      " > using dynamic loss scaling\n"
     ]
    }
   ],
   "source": [
    "args.cuda = torch.cuda.is_available()\n",
    "args.rank = int(os.getenv('RANK', '0'))\n",
    "args.world_size = int(os.getenv(\"WORLD_SIZE\", '1'))\n",
    "\n",
    "if os.getenv('OMPI_COMM_WORLD_LOCAL_RANK'):\n",
    "    # We are using (OpenMPI) mpirun for launching distributed data parallel processes\n",
    "    local_rank = int(os.getenv('OMPI_COMM_WORLD_LOCAL_RANK'))\n",
    "    local_size = int(os.getenv('OMPI_COMM_WORLD_LOCAL_SIZE'))\n",
    "\n",
    "    # Possibly running with Slurm\n",
    "    num_nodes = int(os.getenv('SLURM_JOB_NUM_NODES', '1'))\n",
    "    nodeid = int(os.getenv('SLURM_NODEID', '0'))\n",
    "\n",
    "    args.local_rank = local_rank\n",
    "    args.rank = nodeid*local_size + local_rank\n",
    "    args.world_size = num_nodes*local_size\n",
    "\n",
    "args.model_parallel_size = min(args.model_parallel_size, args.world_size)\n",
    "if args.rank == 0:\n",
    "    print('using world size: {} and model-parallel size: {} '.format(\n",
    "        args.world_size, args.model_parallel_size))\n",
    "\n",
    "args.dynamic_loss_scale = False\n",
    "if args.loss_scale is None:\n",
    "    args.dynamic_loss_scale = True\n",
    "    if args.rank == 0:\n",
    "        print(' > using dynamic loss scaling')\n",
    "\n",
    "# The args fp32_* or fp16_* meant to be active when the\n",
    "# args fp16 is set. So the default behavior should all\n",
    "# be false.\n",
    "if not args.fp16:\n",
    "    args.fp32_embedding = False\n",
    "    args.fp32_tokentypes = False\n",
    "    args.fp32_layernorm = False\n"
   ]
  },
  {
   "cell_type": "code",
   "execution_count": 8,
   "metadata": {},
   "outputs": [],
   "source": [
    "HPARAMS_SCHEMA = {\n",
    "    '117m': dict(\n",
    "        num_layers=12,\n",
    "        hidden_size=768,\n",
    "        num_attention_heads=12,\n",
    "        max_position_embeddings=1024,\n",
    "    ),\n",
    "    '345m': dict(\n",
    "        num_layers=24,\n",
    "        hidden_size=1024,\n",
    "        num_attention_heads=16,\n",
    "        max_position_embeddings=1024,\n",
    "    ),\n",
    "}\n",
    "\n",
    "# 设置 GPT-2 模型的超参数\n",
    "for k, v in HPARAMS_SCHEMA[HPARAMS_NAME].items():\n",
    "    setattr(args, k, v)"
   ]
  },
  {
   "cell_type": "code",
   "execution_count": 9,
   "metadata": {},
   "outputs": [
    {
     "data": {
      "text/plain": [
       "namespace(DDP_impl='local', attention_dropout=0.1, cache_dir=None, checkpoint_activations=None, checkpoint_num_layers=1, cuda=True, distributed_backend='nccl', dynamic_loss_scale=True, eod_mask_loss=None, finetune=None, fp16=True, greedy=False, hidden_dropout=0.1, hidden_size=1024, hysteresis=2, load='./checkpoints/345m-xinli_qa-hunyin', local_rank=None, loss_scale=None, loss_scale_window=1000, make_vocab_size_divisible_by=128, max_position_embeddings=1024, min_scale=1, model_parallel_size=1, no_load_optim=None, no_load_rng=None, num_attention_heads=16, num_layers=24, out_seq_length=256, rank=0, recompute=None, reset_attention_mask=None, reset_position_ids=None, resume_dataloader=None, seed=1234, seq_length=1024, temperature=1.0, tokenizer_model_type='bert-large-uncased', tokenizer_path='./data/spm/gpt2_huamei_corpus_bpe_32k_v2.model', tokenizer_type='GPT2BPETokenizer_CN', top_k=0, top_p=0.0, vocab_size=None, world_size=1)"
      ]
     },
     "metadata": {},
     "output_type": "display_data"
    }
   ],
   "source": [
    "display(args)"
   ]
  },
  {
   "cell_type": "markdown",
   "metadata": {
    "toc-hr-collapsed": false
   },
   "source": [
    "## Init"
   ]
  },
  {
   "cell_type": "markdown",
   "metadata": {},
   "source": [
    "### 初始化函数/全局变量"
   ]
  },
  {
   "cell_type": "code",
   "execution_count": 10,
   "metadata": {},
   "outputs": [],
   "source": [
    "tokenizer = None\n",
    "model = None\n",
    "\n",
    "def initialize():\n",
    "    global model, tokenizer\n",
    "\n",
    "    # Disable CuDNN.\n",
    "    torch.backends.cudnn.enabled = False\n",
    "\n",
    "    # Pytorch distributed.\n",
    "    initialize_distributed(args)\n",
    "\n",
    "    # Random seeds for reproducability.\n",
    "    set_random_seed(args.seed)\n",
    "\n",
    "    # get the tokenizer\n",
    "    tokenizer = prepare_tokenizer(args)\n",
    "\n",
    "    # Model, optimizer, and learning rate.\n",
    "    model = setup_model(args)\n",
    "\n",
    "    args.device = torch.cuda.current_device()\n",
    "\n",
    "    # setting default batch size to 1\n",
    "    args.batch_size = 1\n",
    "\n",
    "    assert mpu.get_model_parallel_rank() == 0"
   ]
  },
  {
   "cell_type": "markdown",
   "metadata": {},
   "source": [
    "### 主进程初始化"
   ]
  },
  {
   "cell_type": "code",
   "execution_count": 11,
   "metadata": {},
   "outputs": [
    {
     "name": "stdout",
     "output_type": "stream",
     "text": [
      "> initializing model parallel with size 1\n",
      "> initializing model parallel cuda seeds on global rank 0, model parallel rank 0, and data parallel rank 0 with model parallel seed: 3952 and data parallel seed: 1234\n",
      "prepare tokenizer done\n",
      "building GPT2 model ...\n",
      " > number of parameters on model parallel rank 0: 336128000\n",
      "global rank 0 is loading checkpoint ./checkpoints/345m-xinli_qa-hunyin/iter_0035000/mp_rank_00/model_optim_rng.pt\n",
      "  successfully loaded ./checkpoints/345m-xinli_qa-hunyin/iter_0035000/mp_rank_00/model_optim_rng.pt\n",
      "CPU times: user 14.1 s, sys: 4.34 s, total: 18.5 s\n",
      "Wall time: 18.5 s\n"
     ]
    }
   ],
   "source": [
    "%%time\n",
    "\n",
    "initialize()"
   ]
  },
  {
   "cell_type": "markdown",
   "metadata": {},
   "source": [
    "## Inference functions"
   ]
  },
  {
   "cell_type": "code",
   "execution_count": 12,
   "metadata": {},
   "outputs": [],
   "source": [
    "# restore generating args\n",
    "def reset_generating_args(args):\n",
    "    args.recompute=False\n",
    "    args.top_p=0\n",
    "    args.top_k=0\n",
    "    args.temperature=1\n",
    "\n",
    "def infer_tokens_generative(context_tokens, model, tokenizer):\n",
    "    with torch.no_grad():\n",
    "        context_length = len(context_tokens)\n",
    "        token_stream = get_token_stream(model, [context_tokens], tokenizer, args)   \n",
    "        for i, (output_tokens, _) in enumerate(token_stream):\n",
    "            if context_length + i >= args.seq_length:\n",
    "                break\n",
    "            ids = output_tokens.cpu().numpy().tolist()[0]\n",
    "            yield ids[-1]\n",
    "\n",
    "\n",
    "def infer_text_generative(contex_text, model, tokenizer):\n",
    "    with torch.no_grad():\n",
    "        contex_text = contex_text.strip()\n",
    "        context_tokens = tokenizer.EncodeAsIds(contex_text).tokenization\n",
    "        context_length = len(context_tokens)\n",
    "\n",
    "        token_stream = get_token_stream(model, [context_tokens], tokenizer, args)\n",
    "\n",
    "        for i, (output_tokens, _) in enumerate(token_stream):\n",
    "            if context_length + i >= args.seq_length:\n",
    "                break\n",
    "            ids = output_tokens.cpu().numpy().tolist()[0]\n",
    "            s = tokenizer.DecodeIds([ids[-1]])\n",
    "            yield s\n"
   ]
  },
  {
   "cell_type": "markdown",
   "metadata": {},
   "source": [
    "## 预测试试看"
   ]
  },
  {
   "cell_type": "code",
   "execution_count": 13,
   "metadata": {},
   "outputs": [],
   "source": [
    "input_texts = [\n",
    "    # 这几个是 train 数据\n",
    "#     (\n",
    "#         '老公说和女老师是闺蜜?觉得老公精神出轨该怎么办?',\n",
    "#         '与老公关系越来越冷漠。离婚是想过，但离婚结果是伤害三个人，最重的是孩子。我比较敏感，觉得老公精神出轨，或亦是十多年磨合也抹掉对我的在乎，我的一切理所当然归他，他没有危机感。就让为人在就好，其他交流没有都可以。他可以同学，同事（尤其是女同事）一呼百应，对我的情绪和需求却时而不见。我也不知道该不该离?离伤己，伤孩，更伤父母，我不想做做样子的罪人。但我与老公的交流无效，我活在一口枯井里，抑郁得不行，加上单位效益差，想过重读书或考技能证专业，短期又不现实，再八年就退休了。真心累，找不到出口。嫉妒心又强，就连儿子亲近爸爸，我都会嫉恨孩子的做法，（我从不查丈夫，孩子的手机，结果个个都设密码，我有时候找不到手机，想借用都打不开。）压抑这样子愤怒的情绪的非常累。怎么办?',\n",
    "#     ),\n",
    "#     (\n",
    "#         '前任和现在的纠结',\n",
    "#         '是这样的，我和前任分手了 原因是他真的太好了 我觉得我会耽搁了他 最后逼走了前任 现在我和现任在一起了 可是每隔一段时间我就在痛心和前任的事情 总是忍不住想找前任 有一次忍不住发了个信息给前任 结果间接导致了前任和他的女友分手了（当时我不知道他在拍拖） 现任对我很好 可是老是吵嘴 可是我老是在比较 觉得现任和前任的差别 就不自主的挂念着前任 后悔当初怎么选择逼走他 觉得对不住前任 可是我的第一次阴差阳错的给了现任了 触碰了这个底线 可是我又想和前任一起 现在好纠结 您觉得我是应该好好珍惜现任呢 还是重新争取前任 我知道我现在就是等于三心两意 好贱 可是自己又由不得自己似得 好讨厌这样的自己',\n",
    "#     ),\n",
    "\n",
    "    # 这几个是网上随便找的数据\n",
    "    (\n",
    "        '男人出轨',\n",
    "        '我的意思是，出轨者会问自己，我为什么要这么做，被背叛的伴侣会问，你为什么要这样对我?'\n",
    "    ),\n",
    "    (\n",
    "        '我的奇葩婚姻，老公说为了孩子好就是不离婚？',\n",
    "        '我的婚姻最近好像一塌糊涂，可是老公不离婚，我甚至有想过死？我是不是得了抑郁症？和老公从2017年开始就吵吵闹闹，一吵架就分居，分居一两个月老公可以对我和孩子不问不闻，到时间了他就自己又搬回来，但是回来也不和我沟通，就算是上次是他动手，他也不道歉，他特别喜欢冷战。现在和老公又发展到了无性，而且双方家庭也合不来，我和他家人不敢来往，他家人对我要求高，希望天天在家做饭带娃伺候老公，他现在和我父母也不来往，从来不回家吃饭，要等我父母走了他才回来，每天很晚回家，去哪从来不告诉我，我知道他有婚外性，但他從來不承認，还说我是神经病，我還被他傳播上了高危型的HPV，以后是死是活都不确定，我特别想要离婚，我感觉和他生活快要窒息了，他整天拉着个脸，要么对我不闻不问，要么一开口说话就是责怪的语气，但他就是不离婚，说是为了孩子好，还让我不要发神经，我真的不知道该怎么和他相处了。他性格很古怪'\n",
    "    ),\n",
    "    (\n",
    "        '妻子在钱的问题上不坦诚，如何处理好家庭经济问题？',\n",
    "        '和老婆因为意外怀孕结婚，两家谈婚论嫁时闹得不愉快，我家出了一套大户型的房子，一台豪华车（当然这些都是婚前财产），然后给了40万装修婚房，同时给女方10万彩礼。而女方一开始的态度是一分钱没有，后来迫于压力给了50万现金，我老婆名下既没有房也没有车。婚后的钱一直都是给我老婆管理，包括我的工资奖金还有结婚的份子钱等等。我老婆并没有把这些钱看做是家庭财产，就算其中已经掺入了很多我的钱，还是认为全部都是她自己的钱，我只是知道她的卡密码而已，但是卡在哪里，她花了多少钱，花在哪里了，有没有借钱给别人，我通通不知道，这让我很不安。况且她没有理财观念，我曾经三番五次跟她说了理财的重要性，她就只是沉默不语，也不知道是听不懂，还是装傻实际上自己去做了理财但是没把收入情况告诉我，我们多次吵架都是为了钱，我觉得夫妻两个在这个问题上不能坦诚是个大问题，我现在很想经济分开，但是不知道怎么做才比较妥当'\n",
    "    ),\n",
    "    (\n",
    "        '30岁男生，相亲屡次不顺，我该怎么办呢？',\n",
    "        '30岁男生还单身，相亲对象不少，可是次次都以失败收场，自己长相还行，就是不太会说话，和女生聊天刚开始聊的挺不错，没聊几天女的就不回复了，爱答不理，心里郁闷的晚上都想哭，我该怎么办'\n",
    "    ),\n",
    "    (\n",
    "        '30岁女生，离婚念头挥之不去，他为何计划婚内出轨？',\n",
    "        '此刻有点儿失眠心情烦躁，我想了很久没有想明白，为什么他会计划着婚内出轨，……心里，我基本上认定原因应该是我身材不怎么好，胸部不够吸引人，因为婚后发现了在婚前，他约P了一个又肥又长相不佳的女人。我以为就是因为对方胸部傲人。在壹心理一些文章的引导下，我突然明白，源头是性生活不和谐。婚前同居一年多，到婚后2年，性生活基本就是，直奔主题，他一手拿着手机欣赏着他的成人影片一边爱爱，很少会主动关心我的感受，也很少理会我让他收起手机的要求。而且另一方面，他基本每晚都会要求我用嘴亲亲，他自己则拿着手机看片或者无关紧要的东西，让我经常觉得自己就是一个娃娃一个工具。以前我主动跟他说起过几次，然而也只是不了了之。后来我基本对性生活没有兴趣，也很反感为他口J。而且，日常生活变得频繁小吵冷战，很少有之前无话不谈的亲密，我不知道我们还有没有重归于好的机会……'\n",
    "    ),\n",
    "    (\n",
    "        '29岁哺乳期，和公婆因带孩子问题每天崩溃，怎么办？',\n",
    "        '怀孕她就没怎么管，备产各种东西都是自己准备。产后直接是妈妈照顾的。产后半年回来要上班，我爸妈又没退休，无奈下还是他们来照顾。他们方法不对，连个衣服都洗不干净，更不用提孩子的饭了。每天我都自己趁下班时间给孩子准备饭和各种东西。最怕的是习惯，比如她喜欢喂孩子各种炒菜，我说好几次一岁之内吃盐不好就是不听，还故意喂。或者孩子的奶瓶，经常不盖盖子让他把玩，说不卫生，也不搭理。孩子吃饭的碗和勺子永远是扔在各种桌子椅子角落，用的时候直接拿起来用也不洗，洗脸洗脚水每次告诉温度差不多就好了，就是不听，偏要一会冷一会烫。来我家被子也不叠，锅永远是不会洗的，下一顿加水加米接着煮。我老公又每天忙的不在家，我已经要崩溃了'\n",
    "    ),\n",
    "    (\n",
    "        '婚后分居三四年，有过家庭矛盾，我的婚姻是否该继续？',\n",
    "        '婚后分居三四年，和老公之间发生过一些家庭矛盾，可以看我另外一篇疑问。我们上半年闹离婚，后来他又主动和好，但是我们之前除了新婚，几乎很少有夫妻生活，他说一靠近我就觉得心里像一堆蚂蚁抓挠，特别难受。他说这是他得心理问题，小时候受到唾骂和凌辱，造成了心理阴影。我们俩都觉得生活的很痛苦，但为了孩子没有离婚。我跟他在一起就觉得拘束，不自在。向往的温馨家庭生活也得不到，我很累，我应该坚持离婚吗？他这种心理疾病是真的还是借口呢？'\n",
    "    ),\n",
    "]\n"
   ]
  },
  {
   "cell_type": "code",
   "execution_count": 14,
   "metadata": {},
   "outputs": [
    {
     "name": "stdout",
     "output_type": "stream",
     "text": [
      "男人出轨\n",
      "\n",
      "我的意思是，出轨者会问自己，我为什么要这么做，被背叛的伴侣会问，你为什么要这样对我?\n",
      "----------------------------------------------------------------------------------------------------\n",
      "\n",
      "1:\t<|endoftext|>那个男人要钱,当然不会说没用的,是心里应该有他的,其它的。\n",
      "\n",
      "2:\t<|endoftext|>他敢回答,但只能回答,这表明你不信任他。好男人要相信女人,不要用男人去怀疑去解决。你没问题,因为有的男人是恋爱时的男性,可能有些方面是玩玩的,有的男性更容易就爱他,刺激他,重新找回他。\n",
      "\n",
      "3:\t<|endoftext|>有一点。你问问自己,你为什么要跟别人上床呢,他敢问她,为什麽?你对她怎么样的态度。话直白的说,你什么感觉,好像有些极端的行为,我可以告诉你。你猜错了,我猜不出我什么话\n",
      "\n",
      "\n",
      "====================================================================================================\n",
      "\n",
      "我的奇葩婚姻，老公说为了孩子好就是不离婚？\n",
      "\n",
      "我的婚姻最近好像一塌糊涂，可是老公不离婚，我甚至有想过死？我是不是得了抑郁症？和老公从2017年开始就吵吵闹闹，一吵架就分居，分居一两个月老公可以对我和孩子不问不闻，到时间了他就自己又搬回来，但是回来也不和我沟通，就算是上次是他动手，他也不道歉，他特别喜欢冷战。现在和老公又发展到了无性，而且双方家庭也合不来，我和他家人不敢来往，他家人对我要求高，希望天天在家做饭带娃伺候老公，他现在和我父母也不来往，从来不回家吃饭，要等我父母走了他才回来，每天很晚回家，去哪从来不告诉我，我知道他有婚外性，但他從來不承認，还说我是神经病，我還被他傳播上了高危型的HPV，以后是死是活都不确定，我特别想要离婚，我感觉和他生活快要窒息了，他整天拉着个脸，要么对我不闻不问，要么一开口说话就是责怪的语气，但他就是不离婚，说是为了孩子好，还让我不要发神经，我真的不知道该怎么和他相处了。他性格很古怪\n",
      "----------------------------------------------------------------------------------------------------\n",
      "\n",
      "1:\t<|endoftext|>你好,感受到你的苦恼。通过你的描述可以看出你老公还没长大,你们的婚姻还牢固,所以才会继续维持这段婚姻。如果想要改善婚姻,建议你们夫妻俩去做婚姻咨询。\n",
      "\n",
      "2:\t<|endoftext|>你好,感受到你的苦恼。你老公没有做好准备,你感觉自己的人生很压抑,太累了。不过你在这里感觉你老公就像个没有长大的孩子,所以你还有些苦闷既然不想离婚,不知道当初是什么原因让你选择到手,走到了现在,你做不了决定,如果愿意可以选择咨询。\n",
      "\n",
      "3:\t<|endoftext|>你好,能够理解你的心情。老公在这两年里,你遇到了什么问题呢?老公的原生家庭不幸福,没有得到父母温暖,就会把生活的重心都放在了孩子身上,既然老公不能满足你的需求,是什么原因让你不能得到你想要的婚姻生活?你能选择来这里求助,就非常的不简单。咨询是一个过程,我需要了解更多的情况,才能帮你分析解决问题。我帮助过很多和你一样困扰的人,相信也可以帮到你。可以多说一些你的情况吗?\n",
      "\n",
      "\n",
      "====================================================================================================\n",
      "\n",
      "妻子在钱的问题上不坦诚，如何处理好家庭经济问题？\n",
      "\n",
      "和老婆因为意外怀孕结婚，两家谈婚论嫁时闹得不愉快，我家出了一套大户型的房子，一台豪华车（当然这些都是婚前财产），然后给了40万装修婚房，同时给女方10万彩礼。而女方一开始的态度是一分钱没有，后来迫于压力给了50万现金，我老婆名下既没有房也没有车。婚后的钱一直都是给我老婆管理，包括我的工资奖金还有结婚的份子钱等等。我老婆并没有把这些钱看做是家庭财产，就算其中已经掺入了很多我的钱，还是认为全部都是她自己的钱，我只是知道她的卡密码而已，但是卡在哪里，她花了多少钱，花在哪里了，有没有借钱给别人，我通通不知道，这让我很不安。况且她没有理财观念，我曾经三番五次跟她说了理财的重要性，她就只是沉默不语，也不知道是听不懂，还是装傻实际上自己去做了理财但是没把收入情况告诉我，我们多次吵架都是为了钱，我觉得夫妻两个在这个问题上不能坦诚是个大问题，我现在很想经济分开，但是不知道怎么做才比较妥当\n",
      "----------------------------------------------------------------------------------------------------\n",
      "\n",
      "1:\t<|endoftext|>钱只是一面镜子,折射出来的却是两个人之间的矛盾问题,就像楼主所说的在婚前就已经闹的很不愉快,这就已经为婚后的夫妻生活埋下了隐患的基础,或许是楼主没有意识到问题的所在,亦或是不想去面对这些问题,任由问题存在而没有去解决。妻子婚后在钱的问题上不坦诚,让楼主的内心非常的不安,做为丈夫不了解妻子把共同财产用在哪里,换成是谁都会心里不安,这不仅仅是家庭经济问题,更是夫妻之间的相处交流存在的问题。因此,楼主想要解决家庭经济问题,可以先从解决夫妻之间的问题入手,和她好好谈谈,听听她的想法和感受,9再把自己的想法和感受表达给她,促进夫妻之间的情感交流,夫妻之间需要的是相互之间的尊重真诚信任理解,并不只是哪一方单纯这样就可以,是相互之间的关系影响。从楼主提供的信息来看,两个人之间缺乏合理有效的交流沟通,彼此之间缺乏了解理解和信任,解决了这些问题,那么剩下的家庭经济问题,也就不是问题了。\n",
      "\n",
      "2:\t<|endoftext|>钱只是一面镜子,折射出来的却是两个人之间的矛盾问题,就像楼主所说的在婚前就已经闹的很不愉快,这就已经为婚后的夫妻生活埋下了隐患的基础,或许是楼主没有意识到问题的所在,亦或是不想去面对这些问题,任由问题存在而没有去解决。妻子婚后在钱的问题上不坦诚,让楼主的内心非常的不安,做为丈夫不了解妻子把共同财产用在哪里,换成是谁都会心里不安,这不仅仅是家庭经济问题,更是夫妻之间的相处交流存在的问题。因此,楼主想要解决家庭经济问题,可以先从解决夫妻之间的问题入手,和她好好谈谈,听听她的想法和感受,9再把自己的想法和感受表达给她,促进夫妻之间的情感交流,夫妻之间需要的是相互之间的尊重真诚信任理解,并不只是哪一方单纯这样就可以,是相互之间的关系影响。从楼主提供的信息来看,两个人之间缺乏合理有效的交流沟通,彼此之间缺乏了解理解和信任,解决了这些问题,那么剩下的家庭经济问题,也就不是问题了。\n",
      "\n",
      "3:\t<|endoftext|>你把你的钱财都交给了她,但是你不知道她是在理财还是单纯地藏在了某个地方,这似乎让你有些抓狂,伴侣间的金钱观念需要坦白而不是掩饰。因为你们的财产属于共同财产,而不是单单她个人的,你付出了大部分,也有知晓的权利,这种不透明的做法会让人不安。曾经三番五次跟她说了理财的重要性她就只是沉默不语,不知道是听不懂还是装傻实际上做了理财没把收入告诉你夫妻两个在这个问题上不能坦诚是个大问题目标:你现在很想经济分开..因为不知道这笔钱她到底怎么处置,所以你认为经济分开会比较好,这样你可以利用自己的财产做自己认为正确的事,而她也可以继续实行保密政策,两者相安无事。但是她可能不会同意呢,毕竟她似乎很依赖于你的资金投入,婚后的钱一直都是给你老婆管理,包括你的工资奖金还有结婚的份子钱等等。你老婆并没有把这些钱看做是家庭财产,她那一方似乎并没有很好的经济条件,所以最好还是能够委婉的告诉她,寻求她的意见,让你知晓共同财产的去向。婚姻是一种终生的承诺,要求个人成熟\n",
      "\n",
      "\n",
      "====================================================================================================\n",
      "\n",
      "30岁男生，相亲屡次不顺，我该怎么办呢？\n",
      "\n",
      "30岁男生还单身，相亲对象不少，可是次次都以失败收场，自己长相还行，就是不太会说话，和女生聊天刚开始聊的挺不错，没聊几天女的就不回复了，爱答不理，心里郁闷的晚上都想哭，我该怎么办\n",
      "----------------------------------------------------------------------------------------------------\n",
      "\n",
      "1:\t<|endoftext|>不分析的话,一定是合情达理发的,可以理解对方的缺点。如果这些是你不开心,压抑,说明两个人都不合适,只是不适合而已。但是,你喜欢的人才男孩子,怎么愿意为了对方放弃自己的这个幸福?我觉得楼主要还是看你自己的想法,去和男生的父母沟通。\n",
      "\n",
      "2:\t<|endoftext|>楼主你好,我是白描医心。既然他不喜欢你,是什么原因让你不能好好地和他在一起?毕竟是人,相亲的对象和契合有很多种特质,例如:碰到心仪的对象,或对方有其他优点,最基本满意的地方就是最不满意,最重要的是,尤其是那些随意和百合,和他人异,他不觉得你离不开他,你就该断干净净身出户。人最讨厌这样的,你喜欢的人吗?你喜欢什么样的?能不能接受?如果为了对方而放弃,都有责任,那和学历还差很抠,那些都没关系,那就更早。如果对方也觉得自己花心,那就及时止损,心一个月,人止损,欢乐和爱好,最重要的是理解和教育,最重要的是,能否忍受。祝好~!世界和我爱着你~!\n",
      "\n",
      "3:\t<|endoftext|>你遇到他的,他不算高,内心强烈。你越懂,他却越不敢说,表明自己的雄性。男人很需要男性懂爱。所以,对女性不感兴趣。你才22岁,完全可以理解你的哭。事实上,男人有了这个年龄,就得懂得自已。你要喜欢对男人感兴趣感兴趣,不要觉得男人阳痿。但是,如果他在场经历中学,一点目标都没有,那就另考了。大西,找对象,这个你可以第一时间展示你的气质,美丽。第二,你喜欢什么样的男人,只有女生,知道了这个标准才会算得上她。尤其是女生,如果这个女生不能在她面前表现得太好了,你还不带着你的感情体验,所以你就可以大可依赖男人,但缺点由你忽略。\n",
      "\n",
      "\n",
      "====================================================================================================\n",
      "\n",
      "30岁女生，离婚念头挥之不去，他为何计划婚内出轨？\n",
      "\n",
      "此刻有点儿失眠心情烦躁，我想了很久没有想明白，为什么他会计划着婚内出轨，……心里，我基本上认定原因应该是我身材不怎么好，胸部不够吸引人，因为婚后发现了在婚前，他约P了一个又肥又长相不佳的女人。我以为就是因为对方胸部傲人。在壹心理一些文章的引导下，我突然明白，源头是性生活不和谐。婚前同居一年多，到婚后2年，性生活基本就是，直奔主题，他一手拿着手机欣赏着他的成人影片一边爱爱，很少会主动关心我的感受，也很少理会我让他收起手机的要求。而且另一方面，他基本每晚都会要求我用嘴亲亲，他自己则拿着手机看片或者无关紧要的东西，让我经常觉得自己就是一个娃娃一个工具。以前我主动跟他说起过几次，然而也只是不了了之。后来我基本对性生活没有兴趣，也很反感为他口J。而且，日常生活变得频繁小吵冷战，很少有之前无话不谈的亲密，我不知道我们还有没有重归于好的机会……\n",
      "----------------------------------------------------------------------------------------------------\n",
      "\n",
      "1:\t<|endoftext|>你好,我是小媒。给楼主温暖的抱抱~楼主现在的描述让我觉得很惭愧,似乎一段过去的感情,进退两难,才不得已。每个人都有自己的经历,既然他都已经结婚了,那么我们肯定是有原因的。而且他嫌你脏,但是缺点已经无法兑现了,那就是别人的错,我们不应该这样过自己的生活了。其实我们的问题还是可以参考一下,看有没有什么好的办法?一些两全其美的,既然他有错,你还拿什么去伤害别人的话,作为他的妻子,可能你们两个人的相处模式有些矛盾。虽然分开了,但是如果双方都有照自己的道德,那我们需要去深入的阐述,建议楼主找一个靠谱的方式,相互理解。祝好~\n",
      "\n",
      "2:\t<|endoftext|>你好,我是小媒。妻子和你结婚几个月来,想必你过痛苦以及无助。你不想与他过了,但是你却发现你们这问题出在沟通方式上存在问题,除了法律上和情感上的拯救,你真的不想突破道德上的“戒毒”吗?你这不叫“风花?感觉很多都是自己的错,对方在别人看来都是对等的,故发现自己够了解,但是在婚后的这一块估计没事,这都算是一件非常大的压力。互相关心能包容,包容,宽容有差异,大度,这些都是比较可以理解的。同时,你想想,你的老公异国情都是抖,如果看起来你超出了你的话,你的老公也是在婚内心里还没有完全表达出来,是婚外情,试着宽容,给予他的理解,你们之间的差异也会越来越大。如果想摆脱,建议你找咨询师聊聊,帮助你分析你们目前的状况,解除积压。\n",
      "\n",
      "3:\t<|endoftext|>你好题主:听起来面对着婚前婚姻中的矛盾,引发了你十分痛苦的心情,对吗?或许需要你反思的是,你对自己的性格的描述,互动模式,才导致你有了想法就目前的生活状态的所造成的?所以如果选择继续婚姻,或许需要慎重考虑内心的因素?你是一个单纯的人品蛮情绪化的,很自然的懈怠慢,但是如果选择婚后的生活,是一个的开朗而你的老公,或许需要考虑改变的需要不仅仅是婚姻的基础?如果选择婚后生活劳累,重新经营你们的婚姻,是一个前提,即便是婚后代孕育一个家庭?当然如果选择婚后生活的非常的洁癖,在处理夫妻婚姻带给我们不良情绪辅导责任和义务,或许需要考虑怎样把自己的感受和需要在突破口头上?当然如果选择离婚,可能更大面子?\n",
      "\n",
      "\n",
      "====================================================================================================\n",
      "\n",
      "29岁哺乳期，和公婆因带孩子问题每天崩溃，怎么办？\n",
      "\n",
      "怀孕她就没怎么管，备产各种东西都是自己准备。产后直接是妈妈照顾的。产后半年回来要上班，我爸妈又没退休，无奈下还是他们来照顾。他们方法不对，连个衣服都洗不干净，更不用提孩子的饭了。每天我都自己趁下班时间给孩子准备饭和各种东西。最怕的是习惯，比如她喜欢喂孩子各种炒菜，我说好几次一岁之内吃盐不好就是不听，还故意喂。或者孩子的奶瓶，经常不盖盖子让他把玩，说不卫生，也不搭理。孩子吃饭的碗和勺子永远是扔在各种桌子椅子角落，用的时候直接拿起来用也不洗，洗脸洗脚水每次告诉温度差不多就好了，就是不听，偏要一会冷一会烫。来我家被子也不叠，锅永远是不会洗的，下一顿加水加米接着煮。我老公又每天忙的不在家，我已经要崩溃了\n",
      "----------------------------------------------------------------------------------------------------\n",
      "\n",
      "1:\t<|endoftext|>产后抑郁了,起不来还要面对孩子,别提要求,但后面老公和婆婆说都不高兴,生孩子是女人,那之前就有抑郁倾向,加上产后抑郁的药物有点神经质,尤其如果还好,那就只能在家里带孩子来,就再有能力,会增强孩子的能力,不是谁的做法,所以,及时咨询解决。\n",
      "\n",
      "2:\t<|endoftext|>产后抑郁了,起一名母亲。对于母亲来说,作为年轻女人不容易,无助,作为而且是很难的。你丈夫的妈,老公也很难体谅你,一家人之间的育儿事业。为什么不能帮你分担呢?还是应该帮你分担一下。\n",
      "\n",
      "3:\t<|endoftext|>产后抑郁(PPD):精神层)*宝宝要起到乳汁,你更愿意去作息,老公和婆婆分不开,她爱你,老公当妈妈的孝子,你老公也不帮忙是一个人带孩子。出于审美疲劳,如果这两种情况:你可以从婆婆带孩子到一岁前还是自己和婆婆带孩子去带的。老人在那里,女人的辅助时间角度你可以在一个人时间和婆婆来分担,他们会适当的情绪消除,而一般情况也会有偏差。*男方除了你自己和儿子、老公,两个孩子争夺公婆抚养,那你也该承担一边是妈妈义务甚至是义务带养育带孩子。虽然现在有很多老人需要分工让婆婆帮忙照看孩子,但是你觉得除了你义务还有自己的奶粉钱,还要多长时间养育儿的发展,精力来养育儿已经相应减少了。儿上幼儿园了,如果没啥用,那我倒是建议你去做一些力所能及的建议,毕竟这些利于育儿方面做出选择。\n",
      "\n",
      "\n",
      "====================================================================================================\n",
      "\n",
      "婚后分居三四年，有过家庭矛盾，我的婚姻是否该继续？\n",
      "\n",
      "婚后分居三四年，和老公之间发生过一些家庭矛盾，可以看我另外一篇疑问。我们上半年闹离婚，后来他又主动和好，但是我们之前除了新婚，几乎很少有夫妻生活，他说一靠近我就觉得心里像一堆蚂蚁抓挠，特别难受。他说这是他得心理问题，小时候受到唾骂和凌辱，造成了心理阴影。我们俩都觉得生活的很痛苦，但为了孩子没有离婚。我跟他在一起就觉得拘束，不自在。向往的温馨家庭生活也得不到，我很累，我应该坚持离婚吗？他这种心理疾病是真的还是借口呢？\n",
      "----------------------------------------------------------------------------------------------------\n",
      "\n",
      "1:\t<|endoftext|>你好,很高兴看到你的留言,感受到你的焦虑,你迫于家庭和婚姻中的种种无奈,不知道当初你选择与他丈夫虽是相互欣赏相爱,但又你们之间的关系处于一个频道上,各自的角色定位让对方感觉到品缺失,这段关系更加复杂,让你有很多的苦恼,对吗?不知道在你描述的这个困境是从什么时候开始的?也许很多的近导致了你的身心疲惫,也许你的男人都没有意识到,我想先让自己梳理一下自己的内心,你是一个需要及时很能量满满的女人,目前你的内心需要你和老公,你需要通过合理的方式宣泄自己的情绪,老公才能真正和老公讨论自己的情绪,并找到彼此爱的地方。\n",
      "\n",
      "2:\t<|endoftext|>你好,我是小媒。给你一个拥抱,我们合好几次婚姻,是否可以继续走下去。婚姻中遇到问题,也不能简单的什么方法来自于对方主见的,而不是以自我为中心。我们每个人都有自己的故事,都需要从自己身上找寻更多的空间,去解决了自己身上的问题,用心去解决冲突。如果只是针对行为,那么我们过好自己的思路,寻求专业知识,成长。\n",
      "\n",
      "3:\t<|endoftext|>你好,我是小媒。给你一个拥抱,男人不应该高调追求,你是为什么不能够接受呢?你的描述可以看出,在你的内心里面,你是很努力的,希望自己心中有答案,希望你早日走出来,珍惜目前的婚姻。而老公似乎还没有长大,所以才会出轨,并且也让你感到很挫败。也就是说,当务之急是时机不好的,你是什么时候,你会找一个软弱、有担当的妻子,去经营好婚姻关系,但老公那里得到什么?什么原因?\n",
      "\n",
      "\n",
      "====================================================================================================\n",
      "\n"
     ]
    }
   ],
   "source": [
    "n_gen = 3\n",
    "\n",
    "reset_generating_args(args)\n",
    "try:\n",
    "#     args.recompute = True\n",
    "    for title, text in input_texts:\n",
    "        context_string = f'{title}<sep>{text}<sep><sep>'\n",
    "#         context_string += '<|endoftext|>'\n",
    "        print(title)\n",
    "        print()\n",
    "        print(text)\n",
    "        print('-' * 100)\n",
    "        print()\n",
    "        for i in range(n_gen):\n",
    "            args.top_p=random.gauss(0.5, 0.5)\n",
    "            args.temperature=random.gauss(1, 0.05)\n",
    "            print(f'{i+1}:\\t', end='')\n",
    "            context_tokens = tokenizer.EncodeAsIds(context_string).tokenization\n",
    "            for id_ in infer_tokens_generative(context_tokens, model, tokenizer):\n",
    "                s = tokenizer.DecodeIds([id_])\n",
    "                print(s, end='')\n",
    "            print(os.linesep)\n",
    "        print()\n",
    "        print('=' * 100)\n",
    "        print()\n",
    "finally:\n",
    "    reset_generating_args(args)"
   ]
  },
  {
   "cell_type": "markdown",
   "metadata": {},
   "source": [
    "## Test"
   ]
  },
  {
   "cell_type": "markdown",
   "metadata": {},
   "source": [
    "使用 test 语料，从中随机打断，并预测下文，比较原文与预测结果！\n",
    "\n",
    "随机选 N 个"
   ]
  },
  {
   "cell_type": "code",
   "execution_count": 15,
   "metadata": {},
   "outputs": [
    {
     "name": "stdout",
     "output_type": "stream",
     "text": [
      "output_file=./data/xinli_qa_artical-hunyin/qa.test.predict-345m.iter_0035000-100x256.tsv\n"
     ]
    }
   ],
   "source": [
    "N = 100\n",
    "\n",
    "input_file = './data/xinli_qa_artical-hunyin/qa.test.json'\n",
    "output_file = f'./data/xinli_qa_artical-hunyin/qa.test.predict-{HPARAMS_NAME}.{iteration_dir}-{N}x{args.out_seq_length}.tsv'\n",
    "\n",
    "print(f'output_file={output_file}')"
   ]
  },
  {
   "cell_type": "code",
   "execution_count": 16,
   "metadata": {},
   "outputs": [
    {
     "data": {
      "application/vnd.jupyter.widget-view+json": {
       "model_id": "61c2dce450114c31b94c7476a59de231",
       "version_major": 2,
       "version_minor": 0
      },
      "text/plain": [
       "HBox(children=(IntProgress(value=1, bar_style='info', max=1), HTML(value='')))"
      ]
     },
     "metadata": {},
     "output_type": "display_data"
    },
    {
     "name": "stdout",
     "output_type": "stream",
     "text": [
      "\n",
      "Test 数据总数: 2,000\n",
      "Test 采样数: 100\n"
     ]
    },
    {
     "data": {
      "application/vnd.jupyter.widget-view+json": {
       "model_id": "848a839ddf974a9186bbc48af809d108",
       "version_major": 2,
       "version_minor": 0
      },
      "text/plain": [
       "HBox(children=(IntProgress(value=0, description='sample', style=ProgressStyle(description_width='initial')), H…"
      ]
     },
     "metadata": {},
     "output_type": "display_data"
    },
    {
     "name": "stdout",
     "output_type": "stream",
     "text": [
      "\n"
     ]
    },
    {
     "data": {
      "application/vnd.jupyter.widget-view+json": {
       "model_id": "7a7ee35028a7432aab3150247e8fb09f",
       "version_major": 2,
       "version_minor": 0
      },
      "text/plain": [
       "HBox(children=(IntProgress(value=0), HTML(value='')))"
      ]
     },
     "metadata": {},
     "output_type": "display_data"
    },
    {
     "name": "stdout",
     "output_type": "stream",
     "text": [
      "\n"
     ]
    }
   ],
   "source": [
    "total = sum(1 for _ in tqdm(open(input_file)))\n",
    "print(f'Test 数据总数: {total:,d}')\n",
    "\n",
    "assert total >= N\n",
    "\n",
    "print(f'Test 采样数: {N:,d}')\n",
    "\n",
    "mask = np.zeros(total, dtype=int)\n",
    "mask[:N] = 1\n",
    "np.random.shuffle(mask)\n",
    "\n",
    "samples = []\n",
    "with open(input_file) as fp:\n",
    "    reader = compress(fp, mask)\n",
    "    for line in tqdm(reader, 'sample', total=N):\n",
    "        line = line.strip()\n",
    "        if not line:\n",
    "            continue\n",
    "        text = json.loads(line)['text']\n",
    "        question, answer = text.strip().split('<|endoftext|>')\n",
    "        question_title, question_text = question.split('<sep>')[:2]\n",
    "        samples.append([question_title, question_text, answer])\n",
    "random.shuffle(samples)\n",
    "\n",
    "with open(output_file, 'w') as fp:\n",
    "    writer = csv.writer(fp, delimiter='\\t')\n",
    "    for question_title, question_text, answer in tqdm(samples):\n",
    "        txt = f'{question_title}<sep>{question_text}<sep><sep><|endoftext|>'\n",
    "        reset_generating_args(args)\n",
    "        try:\n",
    "            args.recompute=True\n",
    "            args.top_p=random.gauss(0.5, 0.5)\n",
    "            args.temperature=random.gauss(1, 0.05)\n",
    "            infer_txt = ''.join(infer_text_generative(txt, model, tokenizer))\n",
    "            row = [question_title, question_text, answer, infer_txt]\n",
    "            writer.writerow(row)\n",
    "        finally:\n",
    "            reset_generating_args(args)"
   ]
  },
  {
   "cell_type": "code",
   "execution_count": null,
   "metadata": {},
   "outputs": [],
   "source": []
  }
 ],
 "metadata": {
  "kernelspec": {
   "display_name": "Python [conda env:Megatron_LM-ipy]",
   "language": "python",
   "name": "conda-env-Megatron_LM-ipy-py"
  },
  "language_info": {
   "codemirror_mode": {
    "name": "ipython",
    "version": 3
   },
   "file_extension": ".py",
   "mimetype": "text/x-python",
   "name": "python",
   "nbconvert_exporter": "python",
   "pygments_lexer": "ipython3",
   "version": "3.7.4"
  },
  "widgets": {
   "application/vnd.jupyter.widget-state+json": {
    "state": {},
    "version_major": 2,
    "version_minor": 0
   }
  }
 },
 "nbformat": 4,
 "nbformat_minor": 4
}
