{
 "cells": [
  {
   "cell_type": "markdown",
   "metadata": {},
   "source": [
    "# 例子 - 使用 `huggingface/transfomers.GPT2LMHeadModel` 进行微调\n",
    "\n",
    "> ❗ **要点**:\n",
    ">\n",
    "> NVIDIA/Megatron-LM 的 `tokenizer` 会在 `128` 对齐的基础上，强制加上 `8` 个特殊 `token`，所以注意 `token` 的偏移！\n",
    "\n",
    "\n",
    "该 Notebook 的代码大部分来自: <https://github.com/huggingface/transformers/blob/master/examples/run_generation.py>"
   ]
  },
  {
   "cell_type": "markdown",
   "metadata": {},
   "source": [
    "## 切换工作目录\n",
    "\n",
    "注意不要搞错!按照实际情况切换！"
   ]
  },
  {
   "cell_type": "code",
   "execution_count": null,
   "metadata": {},
   "outputs": [],
   "source": [
    "%cd .."
   ]
  },
  {
   "cell_type": "markdown",
   "metadata": {},
   "source": [
    "## 环境变量"
   ]
  },
  {
   "cell_type": "markdown",
   "metadata": {},
   "source": [
    "- `CUDA` 设备:"
   ]
  },
  {
   "cell_type": "code",
   "execution_count": null,
   "metadata": {},
   "outputs": [],
   "source": [
    "%env CUDA_VISIBLE_DEVICES=0"
   ]
  },
  {
   "cell_type": "markdown",
   "metadata": {},
   "source": [
    "## 运行"
   ]
  },
  {
   "cell_type": "code",
   "execution_count": null,
   "metadata": {},
   "outputs": [],
   "source": [
    "%run finetune_gpt2.py \\\n",
    "    --model_name_or_path checkpoints/hfgpt2-117m-emotion/ \\\n",
    "    --output_dir checkpoints/tr_191023 \\\n",
    "    --tokenizer_model_path data/spm/gpt2_huamei_corpus_bpe_32k_v2.model \\\n",
    "    --do_train \\\n",
    "    --train_data_file data/tr_191023.train.json \\\n",
    "    --do_eval \\\n",
    "    --eval_data_file data/tr_191023.val.json \\\n",
    "    --fp16 \\\n",
    "    --num_train_epochs 1 \\\n",
    "    --logging_steps 100 \\\n",
    "    --save_steps 1000 \\\n",
    "    --per_gpu_train_batch_size 2"
   ]
  },
  {
   "cell_type": "code",
   "execution_count": null,
   "metadata": {},
   "outputs": [],
   "source": []
  }
 ],
 "metadata": {
  "kernelspec": {
   "display_name": "Python [conda env:Megatron_LM-ipy]",
   "language": "python",
   "name": "conda-env-Megatron_LM-ipy-py"
  },
  "language_info": {
   "codemirror_mode": {
    "name": "ipython",
    "version": 3
   },
   "file_extension": ".py",
   "mimetype": "text/x-python",
   "name": "python",
   "nbconvert_exporter": "python",
   "pygments_lexer": "ipython3",
   "version": "3.7.4"
  },
  "widgets": {
   "application/vnd.jupyter.widget-state+json": {
    "state": {},
    "version_major": 2,
    "version_minor": 0
   }
  }
 },
 "nbformat": 4,
 "nbformat_minor": 4
}
