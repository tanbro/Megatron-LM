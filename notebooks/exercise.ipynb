{
 "cells": [
  {
   "cell_type": "code",
   "execution_count": 1,
   "metadata": {},
   "outputs": [
    {
     "name": "stdout",
     "output_type": "stream",
     "text": [
      "/home/Public/Megatron-LM\n"
     ]
    }
   ],
   "source": [
    "%cd .."
   ]
  },
  {
   "cell_type": "code",
   "execution_count": 2,
   "metadata": {},
   "outputs": [
    {
     "name": "stdout",
     "output_type": "stream",
     "text": [
      "0: <pad>\n",
      "1: <eos>\n",
      "2: <bos>\n",
      "3: <unk>\n",
      "4: <sep>\n",
      "5: <L2R>\n",
      "6: <ENC>\n",
      "7: <MASK>\n",
      "CPU times: user 1.27 s, sys: 173 ms, total: 1.44 s\n",
      "Wall time: 1.48 s\n"
     ]
    }
   ],
   "source": [
    "%%time\n",
    "\n",
    "from data_utils.tokenization import SentencePieceTokenizer, make_tokenizer\n",
    "\n",
    "tokenizer = make_tokenizer(\n",
    "    SentencePieceTokenizer,\n",
    "    None,\n",
    "    model_path='./data/spm/gpt2_huamei_corpus_bpe_32k_v2.model'\n",
    ")\n",
    "\n",
    "# tokenizer.command_tokens\n",
    "for tok in tokenizer.command_name_map.values():\n",
    "    print(f'{tok.Id}: {tok.token}')"
   ]
  },
  {
   "cell_type": "code",
   "execution_count": 3,
   "metadata": {},
   "outputs": [],
   "source": [
    "import math\n",
    "import random\n",
    "from itertools import chain\n",
    "from more_itertools import windowed\n",
    "\n",
    "from forumqa.data import ForumQaDataset, split_sentences"
   ]
  },
  {
   "cell_type": "code",
   "execution_count": 4,
   "metadata": {},
   "outputs": [],
   "source": [
    "files = '/home/liuxy/Public/Megatron-LM/data/xinliqa/5.json'\n",
    "ds = ForumQaDataset(files, tokenizer, repeat_times=100)\n"
   ]
  },
  {
   "cell_type": "code",
   "execution_count": 5,
   "metadata": {},
   "outputs": [
    {
     "data": {
      "text/plain": [
       "500"
      ]
     },
     "execution_count": 5,
     "metadata": {},
     "output_type": "execute_result"
    }
   ],
   "source": [
    "len(ds)"
   ]
  },
  {
   "cell_type": "code",
   "execution_count": 7,
   "metadata": {},
   "outputs": [],
   "source": [
    "def print_item(idx):\n",
    "    print(f'[{idx}]:')\n",
    "    ids = ds[idx]\n",
    "    print(len(ids))\n",
    "    while ids[-1] < 8:\n",
    "        del ids[-1]\n",
    "    print(tokenizer.DecodeIds(ids))\n",
    "    print()"
   ]
  },
  {
   "cell_type": "code",
   "execution_count": 17,
   "metadata": {},
   "outputs": [
    {
     "name": "stdout",
     "output_type": "stream",
     "text": [
      "[0]:\n",
      "1025\n",
      "22岁,做直销 <sep> 父母都很支持,可是我性格内向,而且不喜欢说话,圈内有很多成功了的大神,我没自信能不能成功,直销靠谱不 <sep> 职业管理 <sep>  <sep>  <bos> 你好,看来你对自己的认识还挺清晰的,让我想到心理学荣格大师的话,一个人向外看他在梦中,向内看他会醒来,所以认清自己真的对于减少心理冲突很有帮助。你现在感觉自己性格内向到底是否适合直销感觉怀疑,那么首先问问你自己你的兴趣爱好是什么呢,是否适合干这些工作,你想要会怎么样的生活和何种工作方式,那种方式会让你更自主呢,在就你所说从增加自信开始,如何增加自信呢,一次次完成所定力的目标并且进行自我奖赏慢慢自信就会提高拥有自主决策的能力。\n",
      "\n",
      "CPU times: user 2.19 ms, sys: 0 ns, total: 2.19 ms\n",
      "Wall time: 1.59 ms\n",
      "[1]:\n",
      "1025\n",
      "真理都是相通的? <sep> 从洞穴出来看见理性之光的形而上人开始拼凑真理的碎片,到达二点零的人拼凑起来啦一部分碎片形成自己一套看世界的体系。 这时候的人都会用自己的一套概念体系去描述他研究得那一部分真理,可是你会发现他们说得都是一回事——真理都是相通的只是表述不同罢啦 <sep> 心理咨询 <sep>  <sep> 素质教育里能力培养(把知识学活,从客观世界去提取概念架构成魔方并学以致用以满足生物人的趋利避害)这一步我得抓紧时间完成加油加油加油加油加油加油加油加油加油加油加油加油加油加油加油加油加油加油加油加油\n",
      "\n",
      "CPU times: user 1.41 ms, sys: 18 µs, total: 1.42 ms\n",
      "Wall time: 1.26 ms\n",
      "[2]:\n",
      "1025\n",
      "爸妈的话让我很难过 <sep> 我26岁,生活在一个小城市。爸妈周围同事朋友的孩子大部分都结婚了,只有我还没对象。最近老爸又收到一个请帖,然后对我说,你也赶紧给我结婚!你都让我感觉到丢人!我当时就火了,和父母大吵一架。虽然我当时脾气很差,但因为逼婚我心里一直压力很大,我知道父母着急,可是我也没法马上解决结婚的问题。我最介怀的是\"丢人\"二字,即使爸妈道歉说那是无心的,可无心的话恰恰是心里话,我没有怨他们,只是觉得我很悲哀,用他们的话来说是\"没本事自己去找个对象,还不乐意别人给你相亲\"。努力读书,工作,每天下班回来就想休息一下。。。没想到我得到的确实这样的评价。。难道没结婚就是丢人么? <sep> 恋爱 <sep>  <sep>  <bos> 我觉得是丟人两个字伤啦你的自尊心,你说这是他们的无意带出来的心里话,说明你很在意别人的动机,不知你是否缺乏安全感,凡是总是往最坏的情况考虑那?\n",
      "\n",
      "CPU times: user 1.01 ms, sys: 185 µs, total: 1.2 ms\n",
      "Wall time: 1.1 ms\n",
      "[3]:\n",
      "1025\n",
      "劝说 <sep> 为什么我的爸爸明知自己的观点是错的,却仍然坚持,而且不听任何人的劝说?对这样的人应采取什么方式进行劝说? <sep>  <sep>  <bos> 你好!我感觉到你已经想了很多方法,可父亲还是不听人劝说,让你感觉到不知所措,会有担心。我是一个外人,我有一点儿好奇,你会怎么理解“劝说”这个词。假如别人劝说你的话,你希望别人怎么跟你说,你心里才会比较舒服并可能会容易接受。\n",
      "\n",
      "CPU times: user 881 µs, sys: 0 ns, total: 881 µs\n",
      "Wall time: 829 µs\n",
      "[4]:\n",
      "1025\n",
      "我不知道自己是不是不懂得如何去爱一个人, <sep> 我不知道自己是不是不懂得如何去爱一个人,和别人谈恋爱都没超过一年过。每次我都是很认真很认真的对待这份感情,可到最后还是没能有结果。我也只想好好和喜欢的人在一起,有个属于自己的家。是不是我自己爱别人的方式不对,还是我根本不懂得什么是爱。 <sep> 婚姻 <sep>  <sep> 以往你是如何去爱一个人的?你理解的爱,是什么呢?\n",
      "\n",
      "CPU times: user 879 µs, sys: 0 ns, total: 879 µs\n",
      "Wall time: 847 µs\n"
     ]
    }
   ],
   "source": [
    "for i in range(5):\n",
    "    %time print_item(i)"
   ]
  },
  {
   "cell_type": "code",
   "execution_count": null,
   "metadata": {},
   "outputs": [],
   "source": []
  }
 ],
 "metadata": {
  "kernelspec": {
   "display_name": "Python [conda env:Megatron_LM-ipy]",
   "language": "python",
   "name": "conda-env-Megatron_LM-ipy-py"
  },
  "language_info": {
   "codemirror_mode": {
    "name": "ipython",
    "version": 3
   },
   "file_extension": ".py",
   "mimetype": "text/x-python",
   "name": "python",
   "nbconvert_exporter": "python",
   "pygments_lexer": "ipython3",
   "version": "3.7.4"
  }
 },
 "nbformat": 4,
 "nbformat_minor": 4
}
