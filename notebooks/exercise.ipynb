{
 "cells": [
  {
   "cell_type": "code",
   "execution_count": null,
   "metadata": {},
   "outputs": [],
   "source": [
    "%cd .."
   ]
  },
  {
   "cell_type": "code",
   "execution_count": null,
   "metadata": {},
   "outputs": [],
   "source": [
    "%%time\n",
    "\n",
    "from data_utils.tokenization import SentencePieceTokenizer, make_tokenizer\n",
    "\n",
    "tokenizer = make_tokenizer(\n",
    "    SentencePieceTokenizer,\n",
    "    None,\n",
    "    model_path='./data/spm/gpt2_huamei_corpus_bpe_32k_v2.model'\n",
    ")"
   ]
  },
  {
   "cell_type": "code",
   "execution_count": null,
   "metadata": {},
   "outputs": [],
   "source": [
    "import math\n",
    "import random\n",
    "from itertools import chain\n",
    "from more_itertools import windowed\n",
    "\n",
    "from forumqa.data import ForumQaDataset, split_sentences"
   ]
  },
  {
   "cell_type": "code",
   "execution_count": null,
   "metadata": {},
   "outputs": [],
   "source": [
    "files = '/home/Public/yiren-scrapy-crawlers/data/xinli001.com/xinli001-qa[190329].jsonl'\n",
    "ds = ForumQaDataset(files, tokenizer, repeat_times=1)\n",
    "it = iter(ds)"
   ]
  },
  {
   "cell_type": "code",
   "execution_count": null,
   "metadata": {},
   "outputs": [],
   "source": [
    "ids = next(it)\n",
    "\n",
    "print(len(ids))\n",
    "print(tokenizer.DecodeIds(ids))\n",
    "\n"
   ]
  },
  {
   "cell_type": "code",
   "execution_count": null,
   "metadata": {},
   "outputs": [],
   "source": [
    "def full_windowed(seq):\n",
    "    for i in range(len(seq)):\n",
    "        pass"
   ]
  },
  {
   "cell_type": "code",
   "execution_count": null,
   "metadata": {},
   "outputs": [],
   "source": [
    "list(windowed(X, 5))"
   ]
  }
 ],
 "metadata": {
  "kernelspec": {
   "display_name": "Python [conda env:Megatron_LM-ipy]",
   "language": "python",
   "name": "conda-env-Megatron_LM-ipy-py"
  },
  "language_info": {
   "codemirror_mode": {
    "name": "ipython",
    "version": 3
   },
   "file_extension": ".py",
   "mimetype": "text/x-python",
   "name": "python",
   "nbconvert_exporter": "python",
   "pygments_lexer": "ipython3",
   "version": "3.7.4"
  }
 },
 "nbformat": 4,
 "nbformat_minor": 4
}
