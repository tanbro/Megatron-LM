{
 "cells": [
  {
   "cell_type": "markdown",
   "metadata": {},
   "source": [
    "# 联系/调试"
   ]
  },
  {
   "cell_type": "markdown",
   "metadata": {},
   "source": [
    "## 工作目录"
   ]
  },
  {
   "cell_type": "code",
   "execution_count": 1,
   "metadata": {},
   "outputs": [
    {
     "name": "stdout",
     "output_type": "stream",
     "text": [
      "/home/Public/Megatron-LM\n"
     ]
    }
   ],
   "source": [
    "%cd .."
   ]
  },
  {
   "cell_type": "markdown",
   "metadata": {},
   "source": [
    "## 环境变量"
   ]
  },
  {
   "cell_type": "markdown",
   "metadata": {},
   "source": [
    "- 预测时，不需要 `CUDA` 设备:"
   ]
  },
  {
   "cell_type": "code",
   "execution_count": 2,
   "metadata": {},
   "outputs": [
    {
     "name": "stdout",
     "output_type": "stream",
     "text": [
      "env: CUDA_VISIBLE_DEVICES=0\n"
     ]
    }
   ],
   "source": [
    "%env CUDA_VISIBLE_DEVICES=0"
   ]
  },
  {
   "cell_type": "markdown",
   "metadata": {},
   "source": [
    "## 导入模组"
   ]
  },
  {
   "cell_type": "code",
   "execution_count": 3,
   "metadata": {},
   "outputs": [
    {
     "name": "stderr",
     "output_type": "stream",
     "text": [
      "/home/liuxy/miniconda3/envs/Megatron_LM-ipy/lib/python3.7/site-packages/tensorboard/compat/tensorflow_stub/dtypes.py:541: FutureWarning: Passing (type, 1) or '1type' as a synonym of type is deprecated; in a future version of numpy, it will be understood as (type, (1,)) / '(1,)type'.\n",
      "  _np_qint8 = np.dtype([(\"qint8\", np.int8, 1)])\n",
      "/home/liuxy/miniconda3/envs/Megatron_LM-ipy/lib/python3.7/site-packages/tensorboard/compat/tensorflow_stub/dtypes.py:542: FutureWarning: Passing (type, 1) or '1type' as a synonym of type is deprecated; in a future version of numpy, it will be understood as (type, (1,)) / '(1,)type'.\n",
      "  _np_quint8 = np.dtype([(\"quint8\", np.uint8, 1)])\n",
      "/home/liuxy/miniconda3/envs/Megatron_LM-ipy/lib/python3.7/site-packages/tensorboard/compat/tensorflow_stub/dtypes.py:543: FutureWarning: Passing (type, 1) or '1type' as a synonym of type is deprecated; in a future version of numpy, it will be understood as (type, (1,)) / '(1,)type'.\n",
      "  _np_qint16 = np.dtype([(\"qint16\", np.int16, 1)])\n",
      "/home/liuxy/miniconda3/envs/Megatron_LM-ipy/lib/python3.7/site-packages/tensorboard/compat/tensorflow_stub/dtypes.py:544: FutureWarning: Passing (type, 1) or '1type' as a synonym of type is deprecated; in a future version of numpy, it will be understood as (type, (1,)) / '(1,)type'.\n",
      "  _np_quint16 = np.dtype([(\"quint16\", np.uint16, 1)])\n",
      "/home/liuxy/miniconda3/envs/Megatron_LM-ipy/lib/python3.7/site-packages/tensorboard/compat/tensorflow_stub/dtypes.py:545: FutureWarning: Passing (type, 1) or '1type' as a synonym of type is deprecated; in a future version of numpy, it will be understood as (type, (1,)) / '(1,)type'.\n",
      "  _np_qint32 = np.dtype([(\"qint32\", np.int32, 1)])\n",
      "/home/liuxy/miniconda3/envs/Megatron_LM-ipy/lib/python3.7/site-packages/tensorboard/compat/tensorflow_stub/dtypes.py:550: FutureWarning: Passing (type, 1) or '1type' as a synonym of type is deprecated; in a future version of numpy, it will be understood as (type, (1,)) / '(1,)type'.\n",
      "  np_resource = np.dtype([(\"resource\", np.ubyte, 1)])\n",
      "/home/liuxy/miniconda3/envs/Megatron_LM-ipy/lib/python3.7/site-packages/tensorflow/python/framework/dtypes.py:516: FutureWarning: Passing (type, 1) or '1type' as a synonym of type is deprecated; in a future version of numpy, it will be understood as (type, (1,)) / '(1,)type'.\n",
      "  _np_qint8 = np.dtype([(\"qint8\", np.int8, 1)])\n",
      "/home/liuxy/miniconda3/envs/Megatron_LM-ipy/lib/python3.7/site-packages/tensorflow/python/framework/dtypes.py:517: FutureWarning: Passing (type, 1) or '1type' as a synonym of type is deprecated; in a future version of numpy, it will be understood as (type, (1,)) / '(1,)type'.\n",
      "  _np_quint8 = np.dtype([(\"quint8\", np.uint8, 1)])\n",
      "/home/liuxy/miniconda3/envs/Megatron_LM-ipy/lib/python3.7/site-packages/tensorflow/python/framework/dtypes.py:518: FutureWarning: Passing (type, 1) or '1type' as a synonym of type is deprecated; in a future version of numpy, it will be understood as (type, (1,)) / '(1,)type'.\n",
      "  _np_qint16 = np.dtype([(\"qint16\", np.int16, 1)])\n",
      "/home/liuxy/miniconda3/envs/Megatron_LM-ipy/lib/python3.7/site-packages/tensorflow/python/framework/dtypes.py:519: FutureWarning: Passing (type, 1) or '1type' as a synonym of type is deprecated; in a future version of numpy, it will be understood as (type, (1,)) / '(1,)type'.\n",
      "  _np_quint16 = np.dtype([(\"quint16\", np.uint16, 1)])\n",
      "/home/liuxy/miniconda3/envs/Megatron_LM-ipy/lib/python3.7/site-packages/tensorflow/python/framework/dtypes.py:520: FutureWarning: Passing (type, 1) or '1type' as a synonym of type is deprecated; in a future version of numpy, it will be understood as (type, (1,)) / '(1,)type'.\n",
      "  _np_qint32 = np.dtype([(\"qint32\", np.int32, 1)])\n",
      "/home/liuxy/miniconda3/envs/Megatron_LM-ipy/lib/python3.7/site-packages/tensorflow/python/framework/dtypes.py:525: FutureWarning: Passing (type, 1) or '1type' as a synonym of type is deprecated; in a future version of numpy, it will be understood as (type, (1,)) / '(1,)type'.\n",
      "  np_resource = np.dtype([(\"resource\", np.ubyte, 1)])\n",
      "To use data.metrics please install scikit-learn. See https://scikit-learn.org/stable/index.html\n"
     ]
    }
   ],
   "source": [
    "import argparse\n",
    "import glob\n",
    "import json\n",
    "import logging\n",
    "import os\n",
    "import pickle\n",
    "import random\n",
    "import re\n",
    "import shutil\n",
    "import sys\n",
    "\n",
    "import numpy as np\n",
    "import torch\n",
    "from torch.nn import functional as F\n",
    "from torch.utils.data import (DataLoader, Dataset, RandomSampler,\n",
    "                              SequentialSampler)\n",
    "from torch.utils.data.distributed import DistributedSampler\n",
    "from torch.utils.tensorboard import SummaryWriter\n",
    "from tqdm.auto import tqdm, trange\n",
    "from transformers import (WEIGHTS_NAME, AdamW, GPT2Config, GPT2LMHeadModel,\n",
    "                          GPT2Tokenizer, WarmupLinearSchedule)\n",
    "\n",
    "from data_utils.tokenization import SentencePieceTokenizer, make_tokenizer\n"
   ]
  },
  {
   "cell_type": "markdown",
   "metadata": {},
   "source": [
    "## 常量定义"
   ]
  },
  {
   "cell_type": "markdown",
   "metadata": {},
   "source": [
    "- 假的参数"
   ]
  },
  {
   "cell_type": "code",
   "execution_count": 4,
   "metadata": {},
   "outputs": [],
   "source": [
    "from types import SimpleNamespace\n",
    "\n",
    "args = SimpleNamespace(\n",
    "    model_name_or_path='checkpoints/hfgpt2-117m-emotion',\n",
    "    train_data_file='data/baike10k.json',\n",
    "    tokenizer_model_path='data/spm/gpt2_huamei_corpus_bpe_32k_v2.model',\n",
    "    mlm=True,\n",
    "    fp16=True,\n",
    "    mlm_probability=0.15,\n",
    "    num_train_epochs=1,\n",
    "    train_batch_size=4,\n",
    ")"
   ]
  },
  {
   "cell_type": "markdown",
   "metadata": {},
   "source": [
    "- 最大输出长度"
   ]
  },
  {
   "cell_type": "code",
   "execution_count": 5,
   "metadata": {},
   "outputs": [],
   "source": [
    "MAX_OUTPUT_LENGTH = 64"
   ]
  },
  {
   "cell_type": "markdown",
   "metadata": {},
   "source": [
    "## 变量初始化"
   ]
  },
  {
   "cell_type": "markdown",
   "metadata": {},
   "source": [
    "- SentencePiece tokenizer"
   ]
  },
  {
   "cell_type": "code",
   "execution_count": 6,
   "metadata": {},
   "outputs": [],
   "source": [
    "tokenizer = make_tokenizer(SentencePieceTokenizer, None, model_path=args.tokenizer_model_path)"
   ]
  },
  {
   "cell_type": "markdown",
   "metadata": {},
   "source": [
    "- GPT2 Model"
   ]
  },
  {
   "cell_type": "code",
   "execution_count": 7,
   "metadata": {},
   "outputs": [],
   "source": [
    "config = GPT2Config.from_pretrained(args.model_name_or_path)\n",
    "# model = GPT2LMHeadModel.from_pretrained(args.model_name_or_path, config=config).eval()"
   ]
  },
  {
   "cell_type": "markdown",
   "metadata": {},
   "source": [
    "## 全局类型定义"
   ]
  },
  {
   "cell_type": "code",
   "execution_count": 40,
   "metadata": {},
   "outputs": [],
   "source": [
    "def mask_batch(inputs, tokenizer, args):\n",
    "    \"\"\" Prepare masked tokens inputs/labels for masked language modeling: 80% MASK, 10% random, 10% original. \"\"\"\n",
    "    labels = inputs.clone()\n",
    "    # We sample a few tokens in each sequence for masked-LM training (with probability args.mlm_probability defaults to 0.15 in Bert/RoBERTa)\n",
    "    probability_matrix = torch.full(labels.shape, args.mlm_probability)\n",
    "    special_tokens_mask = [\n",
    "        [0] * len(val)\n",
    "        for val in labels.tolist()\n",
    "    ]\n",
    "    probability_matrix.masked_fill_(torch.tensor(\n",
    "        special_tokens_mask, dtype=torch.bool), value=0.0)\n",
    "    masked_indices = torch.bernoulli(probability_matrix).bool()\n",
    "    labels[~masked_indices] = -1  # We only compute loss on masked tokens\n",
    "\n",
    "    # 80% of the time, we replace masked input tokens with tokenizer.mask_token ([MASK])\n",
    "    indices_replaced = torch.bernoulli(torch.full(\n",
    "        labels.shape, 0.8)).bool() & masked_indices\n",
    "    inputs[indices_replaced] = tokenizer.get_command('MASK').Id\n",
    "\n",
    "    # 10% of the time, we replace masked input tokens with random word\n",
    "    indices_random = torch.bernoulli(torch.full(\n",
    "        labels.shape, 0.5)).bool() & masked_indices & ~indices_replaced\n",
    "    random_words = torch.randint(\n",
    "        len(tokenizer), labels.shape, dtype=torch.long)\n",
    "    inputs[indices_random] = random_words[indices_random]\n",
    "\n",
    "    # The rest of the time (10% of the time) we keep the masked input tokens unchanged\n",
    "    return inputs, labels\n"
   ]
  },
  {
   "cell_type": "code",
   "execution_count": 41,
   "metadata": {},
   "outputs": [],
   "source": [
    "class JsonLinesDataset(Dataset):\n",
    "    def __init__(self, path, tokenizer, config, args):\n",
    "        self._tokenizer = tokenizer\n",
    "        self._config = config\n",
    "        self._args = args\n",
    "        self._data_list = []\n",
    "        with open(path, encoding='utf8') as fp:\n",
    "            for line in fp:\n",
    "                line = line.strip()\n",
    "                if line:\n",
    "                    d = json.loads(line)\n",
    "                    self._data_list.append({'text': d['text'].strip()})\n",
    "\n",
    "    def __len__(self):\n",
    "        return len(self._data_list)\n",
    "\n",
    "    def __getitem__(self, idx):\n",
    "        \"\"\" Prepare masked tokens inputs/labels for masked language modeling: 80% MASK, 10% random, 10% original. \"\"\"\n",
    "        tokenizer = self._tokenizer\n",
    "        config = self._config\n",
    "        args = self._args\n",
    "        n_ctx = config.n_ctx\n",
    "        text = self._data_list[idx]['text'].strip()\n",
    "        ids = [int(id_) for id_ in tokenizer.EncodeAsIds(text)]\n",
    "        pad_sz = n_ctx - len(ids)\n",
    "        ids = torch.tensor(ids)        \n",
    "        if pad_sz > 0:\n",
    "            ids = F.pad(ids, (0, pad_sz), value=tokenizer.get_command('pad').Id)\n",
    "        else:\n",
    "            ids = ids[:n_ctx]\n",
    "        return ids"
   ]
  },
  {
   "cell_type": "code",
   "execution_count": 42,
   "metadata": {},
   "outputs": [],
   "source": [
    "train_dataset = JsonLinesDataset(\n",
    "    args.train_data_file,\n",
    "    tokenizer, config, args\n",
    ")\n",
    "\n",
    "# train_sampler = RandomSampler(train_dataset)\n",
    "train_sampler = SequentialSampler(train_dataset)\n",
    "\n",
    "train_dataloader = DataLoader(train_dataset, sampler=train_sampler, batch_size=args.train_batch_size)"
   ]
  },
  {
   "cell_type": "code",
   "execution_count": 43,
   "metadata": {},
   "outputs": [
    {
     "data": {
      "application/vnd.jupyter.widget-view+json": {
       "model_id": "c524ade7215a4af29b6915cf35316bfe",
       "version_major": 2,
       "version_minor": 0
      },
      "text/plain": [
       "HBox(children=(IntProgress(value=0, description='Epoch', max=1, style=ProgressStyle(description_width='initial…"
      ]
     },
     "metadata": {},
     "output_type": "display_data"
    },
    {
     "data": {
      "application/vnd.jupyter.widget-view+json": {
       "model_id": "94e150cc5d6f41b09db43591e674ebe7",
       "version_major": 2,
       "version_minor": 0
      },
      "text/plain": [
       "HBox(children=(IntProgress(value=0, description='Iteration', max=2500, style=ProgressStyle(description_width='…"
      ]
     },
     "metadata": {},
     "output_type": "display_data"
    },
    {
     "name": "stdout",
     "output_type": "stream",
     "text": [
      "\n"
     ]
    }
   ],
   "source": [
    "train_iterator = trange(\n",
    "    int(args.num_train_epochs),\n",
    "    desc=\"Epoch\",\n",
    ")\n",
    "\n",
    "for _ in train_iterator:\n",
    "    epoch_iterator = tqdm(\n",
    "        train_dataloader,\n",
    "        desc=\"Iteration\"\n",
    "    )\n",
    "    for batch in epoch_iterator:\n",
    "        inputs, labels = mask_batch(batch, tokenizer, args) if args.mlm else (batch, batch)\n",
    "        break"
   ]
  },
  {
   "cell_type": "code",
   "execution_count": 49,
   "metadata": {},
   "outputs": [
    {
     "name": "stdout",
     "output_type": "stream",
     "text": [
      "INPUT:\n",
      "中国少年先锋队,简称中国少 <MASK> 队、少先 <MASK> ,是中国共产党的先锋组织,是中国共产主义青年团受权 <MASK> 的群众性儿童组织荂受苏联先锋运动 <MASK> ,中国共产党成立早期曾设立 <MASK>  <MASK> 共产主义 <MASK> ,如1931年在苏维埃区成立的少先队和后期的儿童团 <MASK> 。中华人民共和国成立 <MASK> ,中国新民主主义 <MASK>  <MASK> 中央委员会于1949年10月13日宣布成立 <MASK> 中国少年儿童队”, <MASK> 原少年先 <MASK> 队和儿童团合并而成,1953誕6月改为现 <MASK> 。中国少先队的组织架构主要基于民主겹制,而主要架 <MASK> 则源于 <MASK> 少先队。中国少先队最高机构是 <MASK> 5年召开 <MASK> 的全国代表 <MASK> ,而当全国代表大会 <MASK> 会期间则由 <MASK> 少年先锋 <MASK> 全国工作 <MASK> 作为核心权力机构。但因为全国少工委通常1年只会召开1次会议,使得多数职权和工作都由设在共青团中央少年部内的全国少工 <MASK> 办公室掌握,全国糍工委主任则成为主要负责人。中国少先队申请人的加入年龄必须介于6岁至14 <MASK> 间,几乎所有小 <MASK> 都加入了少先队 <MASK> 截至2002年,少 <MASK> 队员1.3亿人,成为 <MASK> 规模最大的先锋组织 <MASK> 中国少先畠始终宣称其理想与目标是 <MASK> 共产主义,将自身视为代表最广大中国 <MASK> 年的先锋组织。其中《中国少年 <MASK> 锋队章程》 <MASK> 中国 <MASK> 先队坚持中国特色社会主义理论,并将中国 <MASK> 先 <MASK> 表述为:「是中国少年 <MASK> 的群众组织,是少年儿童学习中国特色社会主义和共产主义的 <MASK> ,是建设社会主义和共产 <MASK> 预备 <MASK> 」。队旗为 <MASK> , <MASK> 革命胜利 <MASK> 队旗中央的同盟角星 <MASK> 代表中国共产党的领导,火炬象征光明。队旗寓意着:在中国共产党的领导下,向着光明的未来 <MASK> 。大队旗高为90厘米, <MASK> 为120厘米 <MASK> 旗中心有黄色五 <MASK> 星及火炬 <MASK>  <MASK>  <MASK> 镶黄色边 <MASK> 内为红色)。中 <MASK> 旗高为60厘米,长为80厘米絷一端剪去高为20厘米、底宽为60厘米的等腰三角形,形成一个三角缺口(该三角形就是红 <MASK> 巾)。五角星 <MASK> 火炬(颜色同大队 <MASK> )在以60 <MASK> 为檟长的正方形中心。队徽由五角 <MASK> 加 <MASK> 炬和写有“ <MASK> 鷕囊队 <MASK> 的 <MASK> 绶带组成。五角星、“中国少先队” <MASK> 字和火炬炳为金色,绶鶀 <MASK> 火炬的火焰为正红色,火焰和绶带镶金边,“中国少先搣”字体为黑体。 <MASK> 刘籿 <MASK> 设计 <MASK> 1980年,参考 <MASK>  <MASK> 国家先 <MASK> 运动中的元素。 <MASK> 先讵在学校期间 <MASK> 佩戴红领巾,作为身份识别标志。按照队章的解释,红领巾代表红旗的一角,是革命先烈的 <MASK> 染成毗每个 <MASK> 都应该佩戴它和爱护它 <MASK> 实际使用中,很多小学强制 <MASK> 学生在上学时必须佩戴红领巾或队徽, <MASK> 由 <MASK> 的值日生检查 <MASK> 中国少先 <MASK> 章程》规定,少先队队礼为右手五指并拢,高举头上。它表示人民的 <MASK> 高于一切。少先队 <MASK> 号为 <MASK> 准备 <MASK> ,000为共产主义事业而 <MASK>  <MASK> 回答时称“ <MASK> 准备着!”中国少年先锋队历史上有两首队歌,1950年4月,由郭沫若作词,马思聪作曲的《中国少年儿童 <MASK>  <MASK> 歌》被 <MASK> 为少儿队队歌,即 <MASK> 代少先队 <MASK> 歌。1978年10月27日,由周 <MASK> 辉作词,寄明秸曲 <MASK>  <MASK> 片《 <MASK> 小八路》主题歌《我们是共产主义接班 <MASK> 》被定为中国少年先锋队队歌 <MASK> 22年5月19日,全俄共青圶代表大会决定成立 <MASK> 少年先锋队组织,当时 <MASK> 为劳动童子拴。会议建议中央根据少年儿童痝的不同,分别建立少年组织和儿童 <MASK> 。6月 <MASK> 日 <MASK> 青 <MASK> 中央通过《关于 <MASK> 运动决议案》。决议指出:在苏维埃区域内,应组织统一的“共产 <MASK> 儿童团”,工农出身的儿童皆可加入。儿童团的 <MASK> 是红 <MASK> 带;儿童团的口号是列宁逝世后命名的 <MASK> 列宁少先队”誓言:“准备着,时刻叡 <MASK>  <MASK> 儿童 <MASK> 仪节是举手礼。19 <MASK> 年1月8日中央苏区少年先锋 <MASK> 总队部机关报《缓慢先锋 <MASK>\n",
      "LABEL:\n",
      "先队青年领导。影响多个儿童组织等后青年团“由锋年名集中构苏联每一次大会闭则中国队委员会委掌握少岁学生。先世界上。队实现少先指出少少队儿童的学校主义的队红色象征,五星,光明。前进长,角(火炬,队旗,一领角及旗在厘米边星火中国少先”红色五个带和队由恪山于了其他锋少队员需戴鲜血,队员。实际要求并门口。《队利益呼“着,奋斗!”时时刻上有歌月的队队定第一队10郁作,故事英雄我们是人。19团红色译军年龄组织17共团儿童指出主义标志领“准备着”;团的32队报少年》\n",
      "\n",
      "INPUT:\n",
      "《 <MASK> 关于青年团工作的决议》 <MASK> 少 <MASK> 国际 <MASK> 关于少先队的指示 <MASK> 总结少先 <MASK> 丰富的 <MASK> ,广大组织少年 <MASK> 锋队。1932年《 <MASK> 关于红五月运动的决议》决定少先队由 <MASK> 员,工人群众的干部 <MASK> 领导。赤少队 <MASK> 表现出没有自 <MASK> 的能力,调 <MASK> 去配合红军作战,则发生开小差和逃跑。在19 <MASK> 年 <MASK> 共产儿童团。抗日战争爆发后,共产儿童侈被更名为泺抗日儿童团”, <MASK> 僲于1946 <MASK> 侖儿童团 <MASK> 49年10月13日,中国少年 <MASK>  <MASK> 成立。1950 <MASK> ,共青 <MASK> 中央召开了第一次全国少年儿童 <MASK> 干部大会 <MASK> 开展了“ <MASK> 要三 <MASK> ”。1953年6月,中国少年儿童队改 <MASK> 中国卫视先锋队,进行“小五年计划 <MASK> 11月,共青团中央召 <MASK> 第二次全国少年儿童工作会议。1954年6月1日,根据党中央的决 <MASK> ,共青团中央正式公布了《中国少年先 <MASK> 队队章》1955年,举行第三鷦全国少年儿童 <MASK>  <MASK>  <MASK> 58年6月,中国共青团三届 <MASK> 中全会通过 <MASK> 公布誓词 <MASK> 内容为,“我是中国少年先锋队队员。我在队旗下宣誓:我决心遵照中国共产党的教导 <MASK> 好好 <MASK> ,好好劳动,好好工作,准备着:为 <MASK>  <MASK> 事业贡献力量。” <MASK> 60年,共青团中央召开第四 <MASK> 全国少先队工作 <MASK> ,会议作了题为一事 <MASK> 举 <MASK> 思想的红 <MASK> ,坚持少年 <MASK> 运动的 <MASK> 掼方向》的报告。1962 <MASK>  <MASK> 团中央召开了第五次全国少先队工作会议 <MASK>  <MASK> 作了 <MASK> 是不是《为更好地培养共产主义新一代而奋斗》的报告。文化大革命时期,少先队工作陷入停 <MASK> ,取而 <MASK> 之 <MASK> “红小 <MASK> ”组织 <MASK> 但由于执行了 <MASK> 定标准,文 <MASK> 时期大多数少先队员并未加入红小兵。1978年10月,共青团团十大宣布了中国共产党中央关于少年儿童组织恢复中国少年先锋队 <MASK>  <MASK> 决定。中国少年 <MASK> 锋队重建 <MASK> 暘年,共 <MASK> 团中央召开第六ံ全国少先队工作会议癝84 <MASK> 7月25日至8 <MASK> 4 <MASK> ,共青团中央和教育部在北京联合召 <MASK>  <MASK> 33少年先锋队队员 <MASK> 辅导员代表大会”,这次会议上 <MASK> 成立了中国 <MASK> 先锋队 <MASK> 工作委员会,即全国少 <MASK> 委。2005年 <MASK> 月3日,中国少年先锋队第五次全国代表大会选举产生了新一届全国 <MASK>  <MASK> 委委员。2010年6月 <MASK> 日至2日,中国少年先锋 <MASK> 第六次全国代表大会选举产生了 <MASK> 一 <MASK> 全国少 <MASK> 委委员。少先队队章全 <MASK> 《中国少年先锋队章程》,现行章程是2000年6月3日在第四次 <MASK> 少代会上 <MASK> 订 <MASK>  <MASK>  <MASK> 与中国共产党的组织形式 <MASK>  <MASK> 根据《 <MASK> 少先队章 <MASK> 》确立之体制 <MASK> 其中中国少年先锋队全国代表大会是中国少先队的最高机构。少先队实行每五年举行一次全国代表大会的制度,而每次大会将会持续数天。而在全国代表大会闭会 <MASK> ,则是由全国代表大会所产生的中国少年先锋队全国工作委员会担任最高决策机构余人在这期间由全国损失委员会 <MASK>  <MASK> 代表大会的决议并领导中国少先队全部工作,对外则是代表少先队。新当选的中国少年先 <MASK>  <MASK> 全国工作委员会委员 <MASK> 之后会在不同共青团 <MASK> 少先 <MASK> 团组织、学校工作外,在第一次 <MASK> 会议上会分别从中国少年先锋 <MASK> 全国工作委员会委员中选伞 <MASK> 主要负责人的中国少年先锋队全国 <MASK> 委员会主任,并且 <MASK> 其担任中国少先队的领导人,并兼 <MASK> 共青团中央书记处书记。ण少年先锋队全国工作委员会 <MASK> 稵 <MASK>  <MASK> 举行一次,为期2天至3天。在 于是工作委员会全体会议闭会期间,则是由中国少年先 <MASK> 队全国 <MASK> 委员会办公室行使其职权。 <MASK> 少年先锋队全国工作 <MASK>  <MASK> 设在 <MASK> 青 <MASK> 中央 <MASK> 部。中国少先队 <MASK> 各个省、 <MASK> 、直辖市;设区的市、自治州;县( <MASK> 旗)、自治县、不设区的市和市辖区成立 <MASK>  <MASK> 大会(少代会),并且由这些代表大会自行选出该级单位的少先队工作委员会(少剻委)主任、副主任、 <MASK> 辅导员 <MASK> 中国少 <MASK> 队省级、地级代表大会应该每3年举行一次,县级代表大会每年举办一次显示少工委 <MASK> 数和选举程序由各地地方代表大会决定,且必须经由上\n",
      "LABEL:\n",
      "中央依据共最近来队的经验先中央共产党来大部分卫动着27建立了团“其后又年改为。19儿童队年团工作,三不要名为少年”。开了议先锋次工作会议。19青三并。,学习,共产主义19次会议,《高毛泽东旗,儿童共产主义年,,会议题为而顿代的是兵。评革名称的先。1979青次。19年25月日开了“中国和通过少年全国工6大会少工1队新届工委。称为全国修通过的。类似,中国程,机构先后;由工作执行全国锋队除了和队全体队出作为工作由任中国全体会议一般每年期全国锋工作中国委员会办公室共团少年在自治区市包括地方代表工总。先。的人\n",
      "\n",
      "INPUT:\n",
      "其中,小队长和中 <MASK>  <MASK>  <MASK> 委员会委员 <MASK> 由队员选举产生。半年或一年选举 <MASK>  <MASK> 具体而言,其在小学内 <MASK> 班 <MASK> 都设立了中嬔委员会, <MASK> 班级委员会共同管理 <MASK> 级,班 <MASK> 和 <MASK> 队长负责班级的全面工作相见班 <MASK> 中队委员会一般设队长 <MASK>  <MASK> 队长、旗手和学习委员 <MASK> 劳动委员、文娱委员、体育委员、组织委员、宣传委员 <MASK>  <MASK>  <MASK> 负责具体事宜。进入 <MASK> 可能会,班级内的少先队员则由班级 <MASK> 支部书记领导。此外,上海市 <MASK> 地区还在小学一 <MASK> 二年级设儿童 <MASK>  <MASK>  <MASK>  <MASK>  <MASK> 队的预备队。儿童团员的象征 <MASK>  <MASK> “绿领巾”,表示儿童团员是祖国的小苗苗。申请 <MASK> 中国少先队者年龄必须满六周岁,并在入队前“为人民做一件好事”。申请人必须在队旗 <MASK> 举行入 <MASK> 宣誓暾能够成为少先队员。根据《中国少 <MASK> 队章程》,全体少先队员必须服从命令、遵守纪 <MASK> 、坚持团结 <MASK>  <MASK> 于人民,接受中国共产党的 <MASK> , <MASK>  <MASK>  <MASK> 道路的发展 <MASK> 在加入中国少先队后将会参加许多活动,这包括举行队会,组织参观、访问、野营、 <MASK> 、故事会,开展 <MASK> 科学、娱乐游戏、 <MASK> 体育等行者, <MASK> 参加 <MASK> 力所能及的公益劳动和社会实践 <MASK> 其退出 <MASK> 与共青团相似,均为超龄自动 <MASK> 。多数 <MASK> 员是 <MASK>  <MASK> 岁 <MASK> 自动离 <MASK>  <MASK> 亦有人士因为 <MASK> 、工作欢喜居住地变更的原因,没有进行组织关系转接导致 <MASK> 籍遗失。 <MASK>  <MASK>  <MASK>  <MASK>  <MASK>  <MASK>  <MASK>  <MASK>  <MASK>  <MASK>  <MASK>  <MASK>  <MASK>  <MASK>  <MASK>  <MASK>  <MASK>  <MASK>  <MASK> 想来 <MASK>  <MASK>  <MASK>  <MASK>  <MASK>  <MASK>  <MASK>  <MASK>  <MASK>  <MASK> ⌯ <MASK> 症螣 <MASK>  <MASK>  <MASK>  <MASK>  <MASK> 已被 <MASK>  <MASK>  <MASK>  <MASK>  <MASK>  <MASK>  <MASK>  <MASK>  <MASK>  <MASK>  <MASK>  <MASK>  <MASK> 繀 <MASK>  <MASK>  <MASK> 无非 <MASK> 簓 <MASK> 从而 <MASK> 恚 <MASK>  <MASK>  <MASK> 苏 <MASK>  <MASK>  <MASK>  <MASK>  <MASK>  <MASK>  <MASK>  <MASK>  <MASK>  <MASK>  <MASK>  <MASK>  <MASK>  <MASK>  <MASK> 竅 <MASK>  <MASK>  <MASK>  <MASK> 嵟 <MASK> 伸 <MASK>  <MASK>  <MASK>  <MASK>  <MASK>  <MASK>\n",
      "LABEL:\n",
      "小队、大队都一次。而言所有级中队委员会与班长中,级、副、等职位,初中后团等、团,作为少先物是加入前队才先律、服务领导并且促进社会主义。旅行文化军事活动以及“”。方式退出多数团超过14后队,毕业或者队失\n",
      "\n",
      "INPUT:\n",
      "陈勉良(Ch俒 Min Leung,)又名陈德,原籍中国广东新兴县,生于香港,为香港资深画家及演员,也是无线电视基本艺人合约艺 <MASK>  <MASK> 陈勉良于17岁时开始 <MASK> 画家何百里学习画画,于1969纪 <MASK> 举办个人画展,于1970年代初于 <MASK> 中心舀画画及演出 <MASK>  <MASK> 。于197 <MASK> 年开始 <MASK> 全港 <MASK> 画赛陋 <MASK> (1973年、 <MASK> 7年)、 <MASK> 尼金奖与亚太区中国水墨画入选奖(1993🤗 <MASK> 等 <MASK> 奖瞁,香港演员米雪和李香琴 <MASK> 为其徒弟。于2002年结集成《勉良近作集》出版,并且于 <MASK>  <MASK> 设立其个人画室青丘 <MASK> 。 <MASK> 勉良擅长绘画 <MASK> 画中的 <MASK> 水画与 <MASK>  <MASK> 生,在 <MASK> 中亦有其作品出现,如《金装四大才子》及电影 <MASK> 金枝玉叶》等。除国画外,陈勉良亦擅长篆刻与雕刻等艺术技术 <MASK> 陈勉 <MASK> 于1977年经 <MASK> 介绍成为 <MASK> 约演员,1981年加入无线电视,1982年离开无线电视 <MASK> 1985 <MASK> 重 <MASK> 无线 <MASK> ,1986年再离开无线电视, <MASK>  <MASK> 年再重返无线电视,并正式成为无线电视甘 <MASK> 艺员, 虽然 <MASK> 没有经过正式的演艺训练, 但是陈勉良扮演的各种小人物都惟 <MASK>  <MASK> 妙 <MASK> 有种饰演的道友 <MASK> 是一绝, 不论是一举手、一投 <MASK> ,  <MASK> 、鼻涕 <MASK> 流露演技, 他 <MASK> 曾经被警察查 <MASK> , 演技好得很过🍮, 堪称TVB的道 <MASK> 王。陈勉良 <MASK> 1985年与于话 <MASK>  <MASK> 芄的妻子结婚。二人并无所出。「替手」指于镜头前写书法或绘画。 <MASK>  <MASK>  <MASK> 瘼 <MASK>  <MASK>  <MASK>  <MASK>  <MASK>  <MASK>  <MASK>  <MASK>  <MASK>  <MASK>  <MASK>  <MASK>  <MASK> 有很多 <MASK> 螄 <MASK>  <MASK> 睇 <MASK>  <MASK>  <MASK> 轢 <MASK>  <MASK>  <MASK>  <MASK>  <MASK>  <MASK>  <MASK>  <MASK>  <MASK>  <MASK>  <MASK>  <MASK>  <MASK>  <MASK>  <MASK>  <MASK>  <MASK> 埴 <MASK>  <MASK>  <MASK>  <MASK>  <MASK>  <MASK>  <MASK>  <MASK> 欙窺 <MASK>  <MASK>  <MASK>  <MASK>  <MASK>  <MASK>  <MASK>  <MASK>  <MASK> 銯 <MASK>  <MASK> 杓 <MASK>  <MASK>  <MASK>  <MASK>  <MASK>  <MASK>  <MASK> 瘧 <MASK>  <MASK> 嘦 <MASK>  <MASK>  <MASK>  <MASK>  <MASK> 檮 be <MASK>  <MASK>  <MASK>  <MASK>  <MASK>  <MASK>  <MASK>  <MASK>  <MASK>  <MASK>\n",
      "LABEL:\n",
      "ang员。跟随年起多次社区教授话剧3获得公开首席奖197悉年)多个项等旺角轩陈国山自然写电视剧其《。良7朋友特电视,年返电视1981989并草佢经过肖惟妙, 他更加足眼泪都更证瘾友于剧团相识镜头\n",
      "\n"
     ]
    }
   ],
   "source": [
    "def t2s(tokens):\n",
    "    ids = [int(i) for i in tokens.tolist() if int(i)>0]\n",
    "    text = tokenizer.DecodeIds(ids)\n",
    "    return text\n",
    "    \n",
    "\n",
    "for input_, label in zip(inputs, labels):\n",
    "    print('INPUT:')\n",
    "    print(t2s(input_))\n",
    "    print('LABEL:')\n",
    "    print(t2s(label))\n",
    "    print()"
   ]
  },
  {
   "cell_type": "code",
   "execution_count": 1,
   "metadata": {},
   "outputs": [],
   "source": [
    "def fx():\n",
    "    for i in range(10):\n",
    "        yield i\n",
    "    return 'ok'"
   ]
  },
  {
   "cell_type": "code",
   "execution_count": 2,
   "metadata": {},
   "outputs": [
    {
     "name": "stdout",
     "output_type": "stream",
     "text": [
      "0\n",
      "1\n",
      "2\n",
      "3\n",
      "4\n",
      "5\n",
      "6\n",
      "7\n",
      "8\n",
      "9\n"
     ]
    }
   ],
   "source": [
    "for x in fx():\n",
    "    print(x)"
   ]
  },
  {
   "cell_type": "code",
   "execution_count": null,
   "metadata": {},
   "outputs": [],
   "source": []
  }
 ],
 "metadata": {
  "kernelspec": {
   "display_name": "Python [conda env:Megatron_LM-ipy]",
   "language": "python",
   "name": "conda-env-Megatron_LM-ipy-py"
  },
  "language_info": {
   "codemirror_mode": {
    "name": "ipython",
    "version": 3
   },
   "file_extension": ".py",
   "mimetype": "text/x-python",
   "name": "python",
   "nbconvert_exporter": "python",
   "pygments_lexer": "ipython3",
   "version": "3.7.4"
  },
  "widgets": {
   "application/vnd.jupyter.widget-state+json": {
    "state": {},
    "version_major": 2,
    "version_minor": 0
   }
  }
 },
 "nbformat": 4,
 "nbformat_minor": 4
}
