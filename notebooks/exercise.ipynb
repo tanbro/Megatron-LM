{
 "cells": [
  {
   "cell_type": "code",
   "execution_count": 1,
   "metadata": {},
   "outputs": [
    {
     "name": "stdout",
     "output_type": "stream",
     "text": [
      "/home/Public/Megatron-LM\n"
     ]
    }
   ],
   "source": [
    "%cd .."
   ]
  },
  {
   "cell_type": "code",
   "execution_count": 2,
   "metadata": {},
   "outputs": [
    {
     "name": "stdout",
     "output_type": "stream",
     "text": [
      "0: <pad>\n",
      "1: <eos>\n",
      "2: <bos>\n",
      "3: <unk>\n",
      "4: <sep>\n",
      "5: <L2R>\n",
      "6: <ENC>\n",
      "7: <MASK>\n",
      "CPU times: user 1.24 s, sys: 148 ms, total: 1.39 s\n",
      "Wall time: 1.41 s\n"
     ]
    }
   ],
   "source": [
    "%%time\n",
    "\n",
    "from data_utils.tokenization import SentencePieceTokenizer, make_tokenizer\n",
    "\n",
    "tokenizer = make_tokenizer(\n",
    "    SentencePieceTokenizer,\n",
    "    None,\n",
    "    model_path='./data/spm/gpt2_huamei_corpus_bpe_32k_v2.model'\n",
    ")\n",
    "\n",
    "# tokenizer.command_tokens\n",
    "for tok in tokenizer.command_name_map.values():\n",
    "    print(f'{tok.Id}: {tok.token}')"
   ]
  },
  {
   "cell_type": "code",
   "execution_count": 3,
   "metadata": {},
   "outputs": [],
   "source": [
    "import math\n",
    "import random\n",
    "from itertools import chain\n",
    "from more_itertools import windowed\n",
    "\n",
    "from tqdm.auto import tqdm, trange"
   ]
  },
  {
   "cell_type": "code",
   "execution_count": 4,
   "metadata": {},
   "outputs": [],
   "source": [
    "files = '/home/liuxy/Public/Megatron-LM/data/xinliqa/train.json'\n",
    "\n"
   ]
  },
  {
   "cell_type": "code",
   "execution_count": 5,
   "metadata": {},
   "outputs": [
    {
     "data": {
      "text/plain": [
       "140000"
      ]
     },
     "execution_count": 5,
     "metadata": {},
     "output_type": "execute_result"
    }
   ],
   "source": [
    "from forumqa.data import ForumQaDataset, split_sentences\n",
    "ds = ForumQaDataset(files, tokenizer, repeat_times=1)\n",
    "len(ds)"
   ]
  },
  {
   "cell_type": "code",
   "execution_count": null,
   "metadata": {},
   "outputs": [],
   "source": [
    "ids"
   ]
  },
  {
   "cell_type": "code",
   "execution_count": 18,
   "metadata": {},
   "outputs": [
    {
     "data": {
      "text/plain": [
       "'明明有生理需求还排斥异性碰触,为什么? <sep> 28岁,一直单身,曾经喜欢过一个男生,表白了才发现他有女友,后来就一直在相亲,没遇到喜欢的,曾经相过一个聊得来的,经常见面打电话,结果自从他提出要开房,就觉得他好恶心,前几天刚刚结束的一个相亲对象因为第一次出去吃饭,他就伸手勾我肩膀,我们认识两个月我几乎没给过它笑脸,不是我面瘫,因为只要见面,他的手就想要碰我,我实在反感。但其实我也有那方面的生理需求,时常幻想,聊以自慰,可是为什么就那么讨厌被他们碰呢?PS:我不是同性恋,性幻想对象都是男人 <sep> 性心理 <sep>  <sep>  <bos> 你需要一个崇拜的男人来征服你,哎!女性靠崇拜来择偶,男性渴望被崇拜来达到传播基因目的,有兴趣可看我的《规则心理学》 <eos>  <pad>  <pad>  <pad>  <pad>  <pad>  <pad>  <pad>  <pad>  <pad>  <pad>  <pad>  <pad>  <pad>  <pad>  <pad>  <pad>  <pad>  <pad>  <pad>  <pad>  <pad>  <pad>  <pad>  <pad>  <pad>  <pad>  <pad>  <pad>  <pad>  <pad>  <pad>  <pad>  <pad>  <pad>  <pad>  <pad>  <pad>  <pad>  <pad>  <pad>  <pad>  <pad>  <pad>  <pad>  <pad>  <pad>  <pad>  <pad>  <pad>  <pad>  <pad>  <pad>  <pad>  <pad>  <pad>  <pad>  <pad>  <pad>  <pad>  <pad>  <pad>  <pad>  <pad>  <pad>  <pad>  <pad>  <pad>  <pad>  <pad>  <pad>  <pad>  <pad>  <pad>  <pad>  <pad>  <pad>  <pad>  <pad>  <pad>  <pad>  <pad>  <pad>  <pad>  <pad>  <pad>  <pad>  <pad>  <pad>  <pad>  <pad>  <pad>  <pad>  <pad>  <pad>  <pad>  <pad>  <pad>  <pad>  <pad>  <pad>  <pad>  <pad>  <pad>  <pad>  <pad>  <pad>  <pad>  <pad>  <pad>  <pad>  <pad>  <pad>  <pad>  <pad>  <pad>  <pad>  <pad>  <pad>  <pad>  <pad>  <pad>  <pad>  <pad>  <pad>  <pad>  <pad>  <pad>  <pad>  <pad>  <pad>  <pad>  <pad>  <pad>  <pad>  <pad>  <pad>  <pad>  <pad>  <pad>  <pad>  <pad>  <pad>  <pad>  <pad>  <pad>  <pad>  <pad>  <pad>  <pad>  <pad>  <pad>  <pad>  <pad>  <pad>  <pad>  <pad>  <pad>  <pad>  <pad>  <pad>  <pad>  <pad>  <pad>  <pad>  <pad>  <pad>  <pad>  <pad>  <pad>  <pad>  <pad>  <pad>  <pad>  <pad>  <pad>  <pad>  <pad>  <pad>  <pad>  <pad>  <pad>  <pad>  <pad>  <pad>  <pad>  <pad>  <pad>  <pad>  <pad>  <pad>  <pad>  <pad>  <pad>  <pad>  <pad>  <pad>  <pad>  <pad>  <pad>  <pad>  <pad>  <pad>  <pad>  <pad>  <pad>  <pad>  <pad>  <pad>  <pad>  <pad>  <pad>  <pad>  <pad>  <pad>  <pad>  <pad>  <pad>  <pad>  <pad>  <pad>  <pad>  <pad>  <pad>  <pad>  <pad>  <pad>  <pad>  <pad>  <pad>  <pad>  <pad>  <pad>  <pad>  <pad>  <pad>  <pad>  <pad>  <pad>  <pad>  <pad>  <pad>  <pad>  <pad>  <pad>  <pad>  <pad>  <pad>  <pad>  <pad>  <pad>  <pad>  <pad>  <pad>  <pad>  <pad>  <pad>  <pad>  <pad>  <pad>  <pad>  <pad>  <pad>  <pad>  <pad>  <pad>  <pad>  <pad>  <pad>  <pad>  <pad>  <pad>  <pad>  <pad>  <pad>  <pad>  <pad>  <pad>  <pad>  <pad>  <pad>  <pad>  <pad>  <pad>  <pad>  <pad>  <pad>  <pad>  <pad>  <pad>  <pad>  <pad>  <pad>  <pad>  <pad>  <pad>  <pad>  <pad>  <pad>  <pad>  <pad>  <pad>  <pad>  <pad>  <pad>  <pad>  <pad>  <pad>  <pad>  <pad>  <pad>  <pad>  <pad>  <pad>  <pad>  <pad>  <pad>  <pad>  <pad>  <pad>  <pad>  <pad>  <pad>  <pad>  <pad>  <pad>  <pad>  <pad>  <pad>  <pad>  <pad>  <pad>  <pad>  <pad>  <pad>  <pad>  <pad>  <pad>  <pad>  <pad>  <pad>  <pad>  <pad>  <pad>  <pad>  <pad>  <pad>  <pad>  <pad>  <pad>  <pad>  <pad>  <pad>  <pad>  <pad>  <pad>  <pad>  <pad>  <pad>  <pad>  <pad>  <pad>  <pad>  <pad>  <pad>  <pad>  <pad>  <pad>  <pad>  <pad>  <pad>  <pad>  <pad>  <pad>  <pad>  <pad>  <pad>  <pad>  <pad>  <pad>  <pad>  <pad>  <pad>  <pad>  <pad>  <pad>  <pad>  <pad>  <pad>  <pad>  <pad>  <pad>  <pad>  <pad>  <pad>  <pad>  <pad>  <pad>  <pad>  <pad>  <pad>  <pad>  <pad>  <pad>  <pad>  <pad>  <pad>  <pad>  <pad>  <pad>  <pad>  <pad>  <pad>  <pad>  <pad>  <pad>  <pad>  <pad>  <pad>  <pad>  <pad>  <pad>  <pad>  <pad>  <pad>  <pad>  <pad>  <pad>  <pad>  <pad>  <pad>  <pad>  <pad>  <pad>  <pad>  <pad>  <pad>  <pad>  <pad>  <pad>  <pad>  <pad>  <pad>  <pad>  <pad>  <pad>  <pad>  <pad>  <pad>  <pad>  <pad>  <pad>  <pad>  <pad>  <pad>  <pad>  <pad>  <pad>  <pad>  <pad>  <pad>  <pad>  <pad>  <pad>  <pad>  <pad>  <pad>  <pad>  <pad>  <pad>  <pad>  <pad>  <pad>  <pad>  <pad>  <pad>  <pad>  <pad>  <pad>  <pad>  <pad>  <pad>  <pad>  <pad>  <pad>  <pad>  <pad>  <pad>  <pad>  <pad>  <pad>  <pad>  <pad>  <pad>  <pad>  <pad>  <pad>  <pad>  <pad>  <pad>  <pad>  <pad>  <pad>  <pad>  <pad>  <pad>  <pad>  <pad>  <pad>  <pad>  <pad>  <pad>  <pad>  <pad>  <pad>  <pad>  <pad>  <pad>  <pad>  <pad>  <pad>  <pad>  <pad>  <pad>  <pad>  <pad>  <pad>  <pad>  <pad>  <pad>  <pad>  <pad>  <pad>  <pad>  <pad>  <pad>  <pad>  <pad>  <pad>  <pad>  <pad>  <pad>  <pad>  <pad>  <pad>  <pad>  <pad>  <pad>  <pad>  <pad>  <pad>  <pad>  <pad>  <pad>  <pad>  <pad>  <pad>  <pad>  <pad>  <pad>  <pad>  <pad>  <pad>  <pad>  <pad>  <pad>  <pad>  <pad>  <pad>  <pad>  <pad>  <pad>  <pad>  <pad>  <pad>  <pad>  <pad>  <pad>  <pad>  <pad>  <pad>  <pad>  <pad>  <pad>  <pad>  <pad>  <pad>  <pad>  <pad>  <pad>  <pad>  <pad>  <pad>  <pad>  <pad>  <pad>  <pad>  <pad>  <pad>  <pad>  <pad>  <pad>  <pad>  <pad>  <pad>  <pad>  <pad>  <pad>  <pad>  <pad>  <pad>  <pad>  <pad>  <pad>  <pad>  <pad>  <pad>  <pad>  <pad>  <pad>  <pad>  <pad>  <pad>  <pad>  <pad>  <pad>  <pad>  <pad>  <pad>  <pad>  <pad>  <pad>  <pad>  <pad>  <pad>  <pad>  <pad>  <pad>  <pad>  <pad>  <pad>  <pad>  <pad>  <pad>  <pad>  <pad>  <pad>  <pad>  <pad>  <pad>  <pad>  <pad>  <pad>  <pad>  <pad>  <pad>  <pad>  <pad>  <pad>  <pad>  <pad>  <pad>  <pad>  <pad>  <pad>  <pad>  <pad>  <pad>  <pad>  <pad>  <pad>  <pad>  <pad>  <pad>  <pad>  <pad>  <pad>  <pad>  <pad>  <pad>  <pad>  <pad>  <pad>  <pad>  <pad>  <pad>  <pad>  <pad>  <pad>  <pad>  <pad>  <pad>  <pad>  <pad>  <pad>  <pad>  <pad>  <pad>  <pad>  <pad>  <pad>  <pad>  <pad>  <pad>  <pad>  <pad>  <pad>  <pad>  <pad>  <pad>  <pad>  <pad>  <pad>  <pad>  <pad>  <pad>  <pad>  <pad>  <pad>  <pad>  <pad>  <pad>  <pad>  <pad>  <pad>  <pad>  <pad>  <pad>  <pad>  <pad>  <pad>  <pad>  <pad>  <pad>  <pad>  <pad>  <pad>  <pad>  <pad>  <pad>  <pad>  <pad>  <pad>  <pad>  <pad>  <pad>  <pad>  <pad>  <pad>  <pad>  <pad>  <pad>  <pad>  <pad>  <pad>  <pad>  <pad>  <pad>  <pad>  <pad>  <pad>  <pad>  <pad>  <pad>  <pad>  <pad>  <pad>  <pad>  <pad>  <pad>  <pad>  <pad>  <pad>  <pad>  <pad>  <pad>  <pad>  <pad>  <pad>  <pad>  <pad>  <pad>  <pad>  <pad>  <pad>  <pad>  <pad>  <pad>  <pad>  <pad>  <pad>  <pad>  <pad>  <pad>  <pad>  <pad>  <pad>  <pad>  <pad>  <pad>  <pad>  <pad>  <pad>  <pad>  <pad>  <pad>  <pad>  <pad>  <pad>  <pad>  <pad>  <pad>  <pad>  <pad>  <pad>  <pad>  <pad>  <pad>  <pad>  <pad>  <pad>  <pad>  <pad>  <pad>  <pad>  <pad>  <pad>  <pad>'"
      ]
     },
     "execution_count": 18,
     "metadata": {},
     "output_type": "execute_result"
    }
   ],
   "source": [
    "tokenizer.DecodeIds([int(i) for i in ids])"
   ]
  },
  {
   "cell_type": "code",
   "execution_count": null,
   "metadata": {},
   "outputs": [],
   "source": [
    "# 迭代测试\n",
    "\n",
    "from tqdm.auto import tqdm, trange\n",
    "\n",
    "for i in trange(len(ds)):\n",
    "    try:\n",
    "        _ = ds[i]\n",
    "    except:\n",
    "        print('>>> i: ', i)\n",
    "        raise\n"
   ]
  },
  {
   "cell_type": "code",
   "execution_count": 60,
   "metadata": {},
   "outputs": [
    {
     "data": {
      "application/vnd.jupyter.widget-view+json": {
       "model_id": "a892672cfb844182b9cdce1a9074d15d",
       "version_major": 2,
       "version_minor": 0
      },
      "text/plain": [
       "HBox(children=(IntProgress(value=0, max=406), HTML(value='')))"
      ]
     },
     "metadata": {},
     "output_type": "display_data"
    },
    {
     "name": "stdout",
     "output_type": "stream",
     "text": [
      "\n"
     ]
    }
   ],
   "source": [
    "import json\n",
    "import fileinput\n",
    "\n",
    "n = 406\n",
    "\n",
    "with fileinput.input(files) as it:\n",
    "    for i, line in tqdm(zip(range(n), it), total=n):\n",
    "        if i == n:\n",
    "            data = json.loads(line)\n",
    "            display(i)\n",
    "            display(data)\n",
    "   "
   ]
  },
  {
   "cell_type": "code",
   "execution_count": 65,
   "metadata": {},
   "outputs": [
    {
     "data": {
      "text/plain": [
       "{'answers': [{'text': '你要和他有共同话题，尽量去想，你要让她来找你，不是你付出，当你付出多了她可能就觉得理所当然了，如果他优秀的话，你要努力比他更优秀甚至盖过他，或者找她玩得好的和他成为朋友，加大他对你的关注力，经常到他那里刷脸，总之，加油！！'},\n",
       "  {'text': '\\n\\n你遇到事情会想很多，可你却很少说出口对吧？\\n也许她并没有感觉到你需要被关注呢，因为你既没有说，也没有用别的方式引起她的注意。\\n相信她既然说了最在乎你，那就是真心的，你选择用给她有趣的东西来表达自己对她的喜爱，但她表达对你的喜欢的方式，你却可能没有 get 到？毕竟“爱有五种语言”呢。'},\n",
       "  {'text': '你好呀，我是鲸鱼社工滚滚，给你抱抱～\\n塞尔曼儿童同伴友谊发展五阶段：\\n第一阶段，3–7岁，无友谊概念，儿童间只是暂时的游戏同伴关系；\\n\\u200b第二阶段，4–9岁，单向帮助阶段，这个时期的儿童要求朋友能够服从自己的愿望和要求；\\n第三阶段，6–12岁，双向帮助阶段，具有明显的功利性；\\n\\u200b\\n第四阶段，9–15岁，亲密共享阶段，具有强烈的排他性和独占性；\\n\\u200b\\n第五阶段，12岁以后，友谊发展的最高阶段。\\n根据楼主的描述，是否是处在第四阶段呢，具有明显的排他性和独占性，你也提到你的同学很受欢迎，并且她说过你是最重要的，但是她也有自己的交际啊，而且和别人玩并不代表着你不重要啊～楼主已经付出了很多，可能需要和好朋友说说心里话哦～'}],\n",
       " 'title': '为什么朋友不能关注我一点呢？我对她不够好吗？',\n",
       " 'text': '我遇到事情总会情不自禁的想很多，心里不时会很难受。现在最困扰我的，便是友情问题。同学甲的人缘很好，每次下课都会有很多人找她玩。她说过最在乎我，我对她简直到有趣的东西我会给她好多。我觉得我付出了很多，可是没有得到自己该有的。每次下课一回头，她总是在和其他人闹得很开心。其实，很简单的一件事，因为我的社交恐惧，因为我的占有欲，便成了一件心事。我就想知道，我对她，不够好吗？为什么就不能关注我一点点呢。',\n",
       " 'tags': ['人际', '朋友', '舍友同学', '人际边界']}"
      ]
     },
     "execution_count": 65,
     "metadata": {},
     "output_type": "execute_result"
    }
   ],
   "source": [
    "json.loads(line)"
   ]
  },
  {
   "cell_type": "code",
   "execution_count": 61,
   "metadata": {},
   "outputs": [
    {
     "data": {
      "text/plain": [
       "'{\"answers\": [{\"text\": \"你要和他有共同话题，尽量去想，你要让她来找你，不是你付出，当你付出多了她可能就觉得理所当然了，如果他优秀的话，你要努力比他更优秀甚至盖过他，或者找她玩得好的和他成为朋友，加大他对你的关注力，经常到他那里刷脸，总之，加油！！\"}, {\"text\": \"\\\\n\\\\n你遇到事情会想很多，可你却很少说出口对吧？\\\\n也许她并没有感觉到你需要被关注呢，因为你既没有说，也没有用别的方式引起她的注意。\\\\n相信她既然说了最在乎你，那就是真心的，你选择用给她有趣的东西来表达自己对她的喜爱，但她表达对你的喜欢的方式，你却可能没有 get 到？毕竟“爱有五种语言”呢。\"}, {\"text\": \"你好呀，我是鲸鱼社工滚滚，给你抱抱～\\\\n塞尔曼儿童同伴友谊发展五阶段：\\\\n第一阶段，3–7岁，无友谊概念，儿童间只是暂时的游戏同伴关系；\\\\n\\u200b第二阶段，4–9岁，单向帮助阶段，这个时期的儿童要求朋友能够服从自己的愿望和要求；\\\\n第三阶段，6–12岁，双向帮助阶段，具有明显的功利性；\\\\n\\u200b\\\\n第四阶段，9–15岁，亲密共享阶段，具有强烈的排他性和独占性；\\\\n\\u200b\\\\n第五阶段，12岁以后，友谊发展的最高阶段。\\\\n根据楼主的描述，是否是处在第四阶段呢，具有明显的排他性和独占性，你也提到你的同学很受欢迎，并且她说过你是最重要的，但是她也有自己的交际啊，而且和别人玩并不代表着你不重要啊～楼主已经付出了很多，可能需要和好朋友说说心里话哦～\"}], \"title\": \"为什么朋友不能关注我一点呢？我对她不够好吗？\", \"text\": \"我遇到事情总会情不自禁的想很多，心里不时会很难受。现在最困扰我的，便是友情问题。同学甲的人缘很好，每次下课都会有很多人找她玩。她说过最在乎我，我对她简直到有趣的东西我会给她好多。我觉得我付出了很多，可是没有得到自己该有的。每次下课一回头，她总是在和其他人闹得很开心。其实，很简单的一件事，因为我的社交恐惧，因为我的占有欲，便成了一件心事。我就想知道，我对她，不够好吗？为什么就不能关注我一点点呢。\", \"tags\": [\"人际\", \"朋友\", \"舍友同学\", \"人际边界\"]}\\n'"
      ]
     },
     "execution_count": 61,
     "metadata": {},
     "output_type": "execute_result"
    }
   ],
   "source": [
    "line"
   ]
  }
 ],
 "metadata": {
  "kernelspec": {
   "display_name": "Python [conda env:Megatron_LM-ipy]",
   "language": "python",
   "name": "conda-env-Megatron_LM-ipy-py"
  },
  "language_info": {
   "codemirror_mode": {
    "name": "ipython",
    "version": 3
   },
   "file_extension": ".py",
   "mimetype": "text/x-python",
   "name": "python",
   "nbconvert_exporter": "python",
   "pygments_lexer": "ipython3",
   "version": "3.7.4"
  }
 },
 "nbformat": 4,
 "nbformat_minor": 4
}
