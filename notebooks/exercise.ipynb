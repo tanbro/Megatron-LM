{
 "cells": [
  {
   "cell_type": "code",
   "execution_count": 1,
   "metadata": {},
   "outputs": [
    {
     "name": "stdout",
     "output_type": "stream",
     "text": [
      "/home/Public/Megatron-LM\n"
     ]
    }
   ],
   "source": [
    "%cd .."
   ]
  },
  {
   "cell_type": "code",
   "execution_count": 2,
   "metadata": {},
   "outputs": [
    {
     "name": "stdout",
     "output_type": "stream",
     "text": [
      "0: <pad>\n",
      "1: <eos>\n",
      "2: <bos>\n",
      "3: <unk>\n",
      "4: <sep>\n",
      "5: <L2R>\n",
      "6: <ENC>\n",
      "7: <MASK>\n",
      "CPU times: user 1.04 s, sys: 164 ms, total: 1.2 s\n",
      "Wall time: 1.23 s\n"
     ]
    }
   ],
   "source": [
    "%%time\n",
    "\n",
    "from data_utils.tokenization import SentencePieceTokenizer, make_tokenizer\n",
    "\n",
    "tokenizer = make_tokenizer(\n",
    "    SentencePieceTokenizer,\n",
    "    None,\n",
    "    model_path='./data/spm/gpt2_huamei_corpus_bpe_32k_v2.model'\n",
    ")\n",
    "\n",
    "# tokenizer.command_tokens\n",
    "for tok in tokenizer.command_name_map.values():\n",
    "    print(f'{tok.Id}: {tok.token}')"
   ]
  },
  {
   "cell_type": "code",
   "execution_count": 3,
   "metadata": {},
   "outputs": [],
   "source": [
    "import math\n",
    "import random\n",
    "from itertools import chain\n",
    "from more_itertools import windowed\n",
    "\n",
    "from tqdm.auto import tqdm, trange"
   ]
  },
  {
   "cell_type": "code",
   "execution_count": 4,
   "metadata": {},
   "outputs": [],
   "source": [
    "files = '/home/liuxy/Public/Megatron-LM/data/xinliqa/train.json'\n",
    "\n"
   ]
  },
  {
   "cell_type": "code",
   "execution_count": 5,
   "metadata": {},
   "outputs": [
    {
     "data": {
      "text/plain": [
       "140000"
      ]
     },
     "execution_count": 5,
     "metadata": {},
     "output_type": "execute_result"
    }
   ],
   "source": [
    "from forumqa.data import ForumQaDataset, split_sentences\n",
    "ds = ForumQaDataset(files, tokenizer, repeat_times=1)\n",
    "len(ds)"
   ]
  },
  {
   "cell_type": "code",
   "execution_count": 6,
   "metadata": {},
   "outputs": [
    {
     "data": {
      "application/vnd.jupyter.widget-view+json": {
       "model_id": "c8b653e20ade4a7699c7aa4ce200ec90",
       "version_major": 2,
       "version_minor": 0
      },
      "text/plain": [
       "HBox(children=(IntProgress(value=0, max=140000), HTML(value='')))"
      ]
     },
     "metadata": {},
     "output_type": "display_data"
    },
    {
     "name": "stdout",
     "output_type": "stream",
     "text": [
      ">>> i:  405\n",
      "\n"
     ]
    },
    {
     "ename": "ValueError",
     "evalue": "math domain error",
     "output_type": "error",
     "traceback": [
      "\u001b[0;31m---------------------------------------------------------------------------\u001b[0m",
      "\u001b[0;31mValueError\u001b[0m                                Traceback (most recent call last)",
      "\u001b[0;32m<ipython-input-6-e9efb36e097c>\u001b[0m in \u001b[0;36m<module>\u001b[0;34m\u001b[0m\n\u001b[1;32m      5\u001b[0m \u001b[0;32mfor\u001b[0m \u001b[0mi\u001b[0m \u001b[0;32min\u001b[0m \u001b[0mtrange\u001b[0m\u001b[0;34m(\u001b[0m\u001b[0mlen\u001b[0m\u001b[0;34m(\u001b[0m\u001b[0mds\u001b[0m\u001b[0;34m)\u001b[0m\u001b[0;34m)\u001b[0m\u001b[0;34m:\u001b[0m\u001b[0;34m\u001b[0m\u001b[0;34m\u001b[0m\u001b[0m\n\u001b[1;32m      6\u001b[0m     \u001b[0;32mtry\u001b[0m\u001b[0;34m:\u001b[0m\u001b[0;34m\u001b[0m\u001b[0;34m\u001b[0m\u001b[0m\n\u001b[0;32m----> 7\u001b[0;31m         \u001b[0m_\u001b[0m \u001b[0;34m=\u001b[0m \u001b[0mds\u001b[0m\u001b[0;34m[\u001b[0m\u001b[0mi\u001b[0m\u001b[0;34m]\u001b[0m\u001b[0;34m\u001b[0m\u001b[0;34m\u001b[0m\u001b[0m\n\u001b[0m\u001b[1;32m      8\u001b[0m     \u001b[0;32mexcept\u001b[0m\u001b[0;34m:\u001b[0m\u001b[0;34m\u001b[0m\u001b[0;34m\u001b[0m\u001b[0m\n\u001b[1;32m      9\u001b[0m         \u001b[0mprint\u001b[0m\u001b[0;34m(\u001b[0m\u001b[0;34m'>>> i: '\u001b[0m\u001b[0;34m,\u001b[0m \u001b[0mi\u001b[0m\u001b[0;34m)\u001b[0m\u001b[0;34m\u001b[0m\u001b[0;34m\u001b[0m\u001b[0m\n",
      "\u001b[0;32m/home/Public/Megatron-LM/forumqa/data.py\u001b[0m in \u001b[0;36m__getitem__\u001b[0;34m(self, key)\u001b[0m\n\u001b[1;32m     81\u001b[0m             \u001b[0;32mraise\u001b[0m \u001b[0mIndexError\u001b[0m\u001b[0;34m(\u001b[0m\u001b[0;34m'Key is too big'\u001b[0m\u001b[0;34m)\u001b[0m\u001b[0;34m\u001b[0m\u001b[0;34m\u001b[0m\u001b[0m\n\u001b[1;32m     82\u001b[0m         \u001b[0;32mif\u001b[0m \u001b[0mkey\u001b[0m \u001b[0;34m==\u001b[0m \u001b[0mself\u001b[0m\u001b[0;34m.\u001b[0m\u001b[0m_pos\u001b[0m\u001b[0;34m:\u001b[0m\u001b[0;34m\u001b[0m\u001b[0;34m\u001b[0m\u001b[0m\n\u001b[0;32m---> 83\u001b[0;31m             \u001b[0mvalue\u001b[0m \u001b[0;34m=\u001b[0m \u001b[0mnext\u001b[0m\u001b[0;34m(\u001b[0m\u001b[0mself\u001b[0m\u001b[0;34m.\u001b[0m\u001b[0m_generator\u001b[0m\u001b[0;34m)\u001b[0m\u001b[0;34m\u001b[0m\u001b[0;34m\u001b[0m\u001b[0m\n\u001b[0m\u001b[1;32m     84\u001b[0m             \u001b[0mself\u001b[0m\u001b[0;34m.\u001b[0m\u001b[0m_pos\u001b[0m \u001b[0;34m+=\u001b[0m \u001b[0;36m1\u001b[0m\u001b[0;34m\u001b[0m\u001b[0;34m\u001b[0m\u001b[0m\n\u001b[1;32m     85\u001b[0m         \u001b[0;32melse\u001b[0m\u001b[0;34m:\u001b[0m\u001b[0;34m\u001b[0m\u001b[0;34m\u001b[0m\u001b[0m\n",
      "\u001b[0;32m/home/Public/Megatron-LM/forumqa/data.py\u001b[0m in \u001b[0;36m_create_generator\u001b[0;34m(self)\u001b[0m\n\u001b[1;32m    114\u001b[0m                             \u001b[0;32myield\u001b[0m\u001b[0;34m\u001b[0m\u001b[0;34m\u001b[0m\u001b[0m\n\u001b[1;32m    115\u001b[0m                         \u001b[0;32melse\u001b[0m\u001b[0;34m:\u001b[0m\u001b[0;34m\u001b[0m\u001b[0;34m\u001b[0m\u001b[0m\n\u001b[0;32m--> 116\u001b[0;31m                             \u001b[0;32myield\u001b[0m \u001b[0mself\u001b[0m\u001b[0;34m.\u001b[0m\u001b[0mextract\u001b[0m\u001b[0;34m(\u001b[0m\u001b[0ms\u001b[0m\u001b[0;34m)\u001b[0m\u001b[0;34m\u001b[0m\u001b[0;34m\u001b[0m\u001b[0m\n\u001b[0m\u001b[1;32m    117\u001b[0m \u001b[0;34m\u001b[0m\u001b[0m\n\u001b[1;32m    118\u001b[0m     \u001b[0;32mdef\u001b[0m \u001b[0mclose\u001b[0m\u001b[0;34m(\u001b[0m\u001b[0mself\u001b[0m\u001b[0;34m)\u001b[0m\u001b[0;34m:\u001b[0m\u001b[0;34m\u001b[0m\u001b[0;34m\u001b[0m\u001b[0m\n",
      "\u001b[0;32m/home/Public/Megatron-LM/forumqa/data.py\u001b[0m in \u001b[0;36mextract\u001b[0;34m(self, text)\u001b[0m\n\u001b[1;32m    169\u001b[0m         \u001b[0;32mif\u001b[0m \u001b[0mtexts\u001b[0m\u001b[0;34m:\u001b[0m\u001b[0;34m\u001b[0m\u001b[0;34m\u001b[0m\u001b[0m\n\u001b[1;32m    170\u001b[0m             \u001b[0ms\u001b[0m \u001b[0;34m=\u001b[0m \u001b[0mrandom\u001b[0m\u001b[0;34m.\u001b[0m\u001b[0mchoice\u001b[0m\u001b[0;34m(\u001b[0m\u001b[0mtexts\u001b[0m\u001b[0;34m)\u001b[0m\u001b[0;34m\u001b[0m\u001b[0;34m\u001b[0m\u001b[0m\n\u001b[0;32m--> 171\u001b[0;31m             \u001b[0mids\u001b[0m \u001b[0;34m=\u001b[0m \u001b[0mself\u001b[0m\u001b[0;34m.\u001b[0m\u001b[0mpickup_sentences\u001b[0m\u001b[0;34m(\u001b[0m\u001b[0ms\u001b[0m\u001b[0;34m,\u001b[0m \u001b[0mbos\u001b[0m\u001b[0;34m=\u001b[0m\u001b[0;32mTrue\u001b[0m\u001b[0;34m,\u001b[0m \u001b[0meos\u001b[0m\u001b[0;34m=\u001b[0m\u001b[0;32mTrue\u001b[0m\u001b[0;34m)\u001b[0m\u001b[0;34m\u001b[0m\u001b[0;34m\u001b[0m\u001b[0m\n\u001b[0m\u001b[1;32m    172\u001b[0m             \u001b[0minput_ids\u001b[0m\u001b[0;34m.\u001b[0m\u001b[0mextend\u001b[0m\u001b[0;34m(\u001b[0m\u001b[0mids\u001b[0m\u001b[0;34m)\u001b[0m\u001b[0;34m\u001b[0m\u001b[0;34m\u001b[0m\u001b[0m\n\u001b[1;32m    173\u001b[0m         \u001b[0;31m###\u001b[0m\u001b[0;34m\u001b[0m\u001b[0;34m\u001b[0m\u001b[0;34m\u001b[0m\u001b[0m\n",
      "\u001b[0;32m/home/Public/Megatron-LM/forumqa/data.py\u001b[0m in \u001b[0;36mpickup_sentences\u001b[0;34m(self, text, bos, eos)\u001b[0m\n\u001b[1;32m    139\u001b[0m         weights = [\n\u001b[1;32m    140\u001b[0m             \u001b[0mmath\u001b[0m\u001b[0;34m.\u001b[0m\u001b[0mlog\u001b[0m\u001b[0;34m(\u001b[0m\u001b[0msum\u001b[0m\u001b[0;34m(\u001b[0m\u001b[0mlen\u001b[0m\u001b[0;34m(\u001b[0m\u001b[0msentences\u001b[0m\u001b[0;34m[\u001b[0m\u001b[0midx\u001b[0m\u001b[0;34m]\u001b[0m\u001b[0;34m)\u001b[0m \u001b[0;32mfor\u001b[0m \u001b[0midx\u001b[0m \u001b[0;32min\u001b[0m \u001b[0mindices\u001b[0m\u001b[0;34m)\u001b[0m\u001b[0;34m)\u001b[0m\u001b[0;34m\u001b[0m\u001b[0;34m\u001b[0m\u001b[0m\n\u001b[0;32m--> 141\u001b[0;31m             \u001b[0;32mfor\u001b[0m \u001b[0mindices\u001b[0m \u001b[0;32min\u001b[0m \u001b[0mwindows\u001b[0m\u001b[0;34m\u001b[0m\u001b[0;34m\u001b[0m\u001b[0m\n\u001b[0m\u001b[1;32m    142\u001b[0m         ]\n\u001b[1;32m    143\u001b[0m         \u001b[0mindices\u001b[0m \u001b[0;34m=\u001b[0m \u001b[0mrandom\u001b[0m\u001b[0;34m.\u001b[0m\u001b[0mchoices\u001b[0m\u001b[0;34m(\u001b[0m\u001b[0mwindows\u001b[0m\u001b[0;34m,\u001b[0m \u001b[0mweights\u001b[0m\u001b[0;34m)\u001b[0m\u001b[0;34m[\u001b[0m\u001b[0;36m0\u001b[0m\u001b[0;34m]\u001b[0m\u001b[0;34m\u001b[0m\u001b[0;34m\u001b[0m\u001b[0m\n",
      "\u001b[0;32m/home/Public/Megatron-LM/forumqa/data.py\u001b[0m in \u001b[0;36m<listcomp>\u001b[0;34m(.0)\u001b[0m\n\u001b[1;32m    139\u001b[0m         weights = [\n\u001b[1;32m    140\u001b[0m             \u001b[0mmath\u001b[0m\u001b[0;34m.\u001b[0m\u001b[0mlog\u001b[0m\u001b[0;34m(\u001b[0m\u001b[0msum\u001b[0m\u001b[0;34m(\u001b[0m\u001b[0mlen\u001b[0m\u001b[0;34m(\u001b[0m\u001b[0msentences\u001b[0m\u001b[0;34m[\u001b[0m\u001b[0midx\u001b[0m\u001b[0;34m]\u001b[0m\u001b[0;34m)\u001b[0m \u001b[0;32mfor\u001b[0m \u001b[0midx\u001b[0m \u001b[0;32min\u001b[0m \u001b[0mindices\u001b[0m\u001b[0;34m)\u001b[0m\u001b[0;34m)\u001b[0m\u001b[0;34m\u001b[0m\u001b[0;34m\u001b[0m\u001b[0m\n\u001b[0;32m--> 141\u001b[0;31m             \u001b[0;32mfor\u001b[0m \u001b[0mindices\u001b[0m \u001b[0;32min\u001b[0m \u001b[0mwindows\u001b[0m\u001b[0;34m\u001b[0m\u001b[0;34m\u001b[0m\u001b[0m\n\u001b[0m\u001b[1;32m    142\u001b[0m         ]\n\u001b[1;32m    143\u001b[0m         \u001b[0mindices\u001b[0m \u001b[0;34m=\u001b[0m \u001b[0mrandom\u001b[0m\u001b[0;34m.\u001b[0m\u001b[0mchoices\u001b[0m\u001b[0;34m(\u001b[0m\u001b[0mwindows\u001b[0m\u001b[0;34m,\u001b[0m \u001b[0mweights\u001b[0m\u001b[0;34m)\u001b[0m\u001b[0;34m[\u001b[0m\u001b[0;36m0\u001b[0m\u001b[0;34m]\u001b[0m\u001b[0;34m\u001b[0m\u001b[0;34m\u001b[0m\u001b[0m\n",
      "\u001b[0;31mValueError\u001b[0m: math domain error"
     ]
    }
   ],
   "source": [
    "# 迭代测试\n",
    "\n",
    "from tqdm.auto import tqdm, trange\n",
    "\n",
    "for i in trange(len(ds)):\n",
    "    try:\n",
    "        _ = ds[i]\n",
    "    except:\n",
    "        print('>>> i: ', i)\n",
    "        raise\n"
   ]
  },
  {
   "cell_type": "code",
   "execution_count": 60,
   "metadata": {},
   "outputs": [
    {
     "data": {
      "application/vnd.jupyter.widget-view+json": {
       "model_id": "a892672cfb844182b9cdce1a9074d15d",
       "version_major": 2,
       "version_minor": 0
      },
      "text/plain": [
       "HBox(children=(IntProgress(value=0, max=406), HTML(value='')))"
      ]
     },
     "metadata": {},
     "output_type": "display_data"
    },
    {
     "name": "stdout",
     "output_type": "stream",
     "text": [
      "\n"
     ]
    }
   ],
   "source": [
    "import json\n",
    "import fileinput\n",
    "\n",
    "n = 406\n",
    "\n",
    "with fileinput.input(files) as it:\n",
    "    for i, line in tqdm(zip(range(n), it), total=n):\n",
    "        if i == n:\n",
    "            data = json.loads(line)\n",
    "            display(i)\n",
    "            display(data)\n",
    "   "
   ]
  },
  {
   "cell_type": "code",
   "execution_count": 65,
   "metadata": {},
   "outputs": [
    {
     "data": {
      "text/plain": [
       "{'answers': [{'text': '你要和他有共同话题，尽量去想，你要让她来找你，不是你付出，当你付出多了她可能就觉得理所当然了，如果他优秀的话，你要努力比他更优秀甚至盖过他，或者找她玩得好的和他成为朋友，加大他对你的关注力，经常到他那里刷脸，总之，加油！！'},\n",
       "  {'text': '\\n\\n你遇到事情会想很多，可你却很少说出口对吧？\\n也许她并没有感觉到你需要被关注呢，因为你既没有说，也没有用别的方式引起她的注意。\\n相信她既然说了最在乎你，那就是真心的，你选择用给她有趣的东西来表达自己对她的喜爱，但她表达对你的喜欢的方式，你却可能没有 get 到？毕竟“爱有五种语言”呢。'},\n",
       "  {'text': '你好呀，我是鲸鱼社工滚滚，给你抱抱～\\n塞尔曼儿童同伴友谊发展五阶段：\\n第一阶段，3–7岁，无友谊概念，儿童间只是暂时的游戏同伴关系；\\n\\u200b第二阶段，4–9岁，单向帮助阶段，这个时期的儿童要求朋友能够服从自己的愿望和要求；\\n第三阶段，6–12岁，双向帮助阶段，具有明显的功利性；\\n\\u200b\\n第四阶段，9–15岁，亲密共享阶段，具有强烈的排他性和独占性；\\n\\u200b\\n第五阶段，12岁以后，友谊发展的最高阶段。\\n根据楼主的描述，是否是处在第四阶段呢，具有明显的排他性和独占性，你也提到你的同学很受欢迎，并且她说过你是最重要的，但是她也有自己的交际啊，而且和别人玩并不代表着你不重要啊～楼主已经付出了很多，可能需要和好朋友说说心里话哦～'}],\n",
       " 'title': '为什么朋友不能关注我一点呢？我对她不够好吗？',\n",
       " 'text': '我遇到事情总会情不自禁的想很多，心里不时会很难受。现在最困扰我的，便是友情问题。同学甲的人缘很好，每次下课都会有很多人找她玩。她说过最在乎我，我对她简直到有趣的东西我会给她好多。我觉得我付出了很多，可是没有得到自己该有的。每次下课一回头，她总是在和其他人闹得很开心。其实，很简单的一件事，因为我的社交恐惧，因为我的占有欲，便成了一件心事。我就想知道，我对她，不够好吗？为什么就不能关注我一点点呢。',\n",
       " 'tags': ['人际', '朋友', '舍友同学', '人际边界']}"
      ]
     },
     "execution_count": 65,
     "metadata": {},
     "output_type": "execute_result"
    }
   ],
   "source": [
    "json.loads(line)"
   ]
  },
  {
   "cell_type": "code",
   "execution_count": 61,
   "metadata": {},
   "outputs": [
    {
     "data": {
      "text/plain": [
       "'{\"answers\": [{\"text\": \"你要和他有共同话题，尽量去想，你要让她来找你，不是你付出，当你付出多了她可能就觉得理所当然了，如果他优秀的话，你要努力比他更优秀甚至盖过他，或者找她玩得好的和他成为朋友，加大他对你的关注力，经常到他那里刷脸，总之，加油！！\"}, {\"text\": \"\\\\n\\\\n你遇到事情会想很多，可你却很少说出口对吧？\\\\n也许她并没有感觉到你需要被关注呢，因为你既没有说，也没有用别的方式引起她的注意。\\\\n相信她既然说了最在乎你，那就是真心的，你选择用给她有趣的东西来表达自己对她的喜爱，但她表达对你的喜欢的方式，你却可能没有 get 到？毕竟“爱有五种语言”呢。\"}, {\"text\": \"你好呀，我是鲸鱼社工滚滚，给你抱抱～\\\\n塞尔曼儿童同伴友谊发展五阶段：\\\\n第一阶段，3–7岁，无友谊概念，儿童间只是暂时的游戏同伴关系；\\\\n\\u200b第二阶段，4–9岁，单向帮助阶段，这个时期的儿童要求朋友能够服从自己的愿望和要求；\\\\n第三阶段，6–12岁，双向帮助阶段，具有明显的功利性；\\\\n\\u200b\\\\n第四阶段，9–15岁，亲密共享阶段，具有强烈的排他性和独占性；\\\\n\\u200b\\\\n第五阶段，12岁以后，友谊发展的最高阶段。\\\\n根据楼主的描述，是否是处在第四阶段呢，具有明显的排他性和独占性，你也提到你的同学很受欢迎，并且她说过你是最重要的，但是她也有自己的交际啊，而且和别人玩并不代表着你不重要啊～楼主已经付出了很多，可能需要和好朋友说说心里话哦～\"}], \"title\": \"为什么朋友不能关注我一点呢？我对她不够好吗？\", \"text\": \"我遇到事情总会情不自禁的想很多，心里不时会很难受。现在最困扰我的，便是友情问题。同学甲的人缘很好，每次下课都会有很多人找她玩。她说过最在乎我，我对她简直到有趣的东西我会给她好多。我觉得我付出了很多，可是没有得到自己该有的。每次下课一回头，她总是在和其他人闹得很开心。其实，很简单的一件事，因为我的社交恐惧，因为我的占有欲，便成了一件心事。我就想知道，我对她，不够好吗？为什么就不能关注我一点点呢。\", \"tags\": [\"人际\", \"朋友\", \"舍友同学\", \"人际边界\"]}\\n'"
      ]
     },
     "execution_count": 61,
     "metadata": {},
     "output_type": "execute_result"
    }
   ],
   "source": [
    "line"
   ]
  },
  {
   "cell_type": "code",
   "execution_count": 69,
   "metadata": {},
   "outputs": [
    {
     "ename": "ValueError",
     "evalue": "math domain error",
     "output_type": "error",
     "traceback": [
      "\u001b[0;31m---------------------------------------------------------------------------\u001b[0m",
      "\u001b[0;31mValueError\u001b[0m                                Traceback (most recent call last)",
      "\u001b[0;32m<ipython-input-69-101d8bd937a1>\u001b[0m in \u001b[0;36m<module>\u001b[0;34m\u001b[0m\n\u001b[0;32m----> 1\u001b[0;31m \u001b[0mx\u001b[0m \u001b[0;34m=\u001b[0m \u001b[0mds\u001b[0m\u001b[0;34m.\u001b[0m\u001b[0mextract\u001b[0m\u001b[0;34m(\u001b[0m\u001b[0mline\u001b[0m\u001b[0;34m)\u001b[0m\u001b[0;34m\u001b[0m\u001b[0;34m\u001b[0m\u001b[0m\n\u001b[0m\u001b[1;32m      2\u001b[0m \u001b[0;34m\u001b[0m\u001b[0m\n\u001b[1;32m      3\u001b[0m \u001b[0mids\u001b[0m \u001b[0;34m=\u001b[0m \u001b[0;34m[\u001b[0m\u001b[0mint\u001b[0m\u001b[0;34m(\u001b[0m\u001b[0mid_\u001b[0m\u001b[0;34m)\u001b[0m \u001b[0;32mfor\u001b[0m \u001b[0mid_\u001b[0m \u001b[0;32min\u001b[0m \u001b[0mx\u001b[0m\u001b[0;34m[\u001b[0m\u001b[0;34m'text'\u001b[0m\u001b[0;34m]\u001b[0m \u001b[0;32mif\u001b[0m \u001b[0mid_\u001b[0m\u001b[0;34m>\u001b[0m\u001b[0;36m7\u001b[0m\u001b[0;34m]\u001b[0m\u001b[0;34m\u001b[0m\u001b[0;34m\u001b[0m\u001b[0m\n\u001b[1;32m      4\u001b[0m \u001b[0;34m\u001b[0m\u001b[0m\n\u001b[1;32m      5\u001b[0m \u001b[0mtokenizer\u001b[0m\u001b[0;34m.\u001b[0m\u001b[0mDecodeIds\u001b[0m\u001b[0;34m(\u001b[0m\u001b[0mids\u001b[0m\u001b[0;34m)\u001b[0m\u001b[0;34m\u001b[0m\u001b[0;34m\u001b[0m\u001b[0m\n",
      "\u001b[0;32m/home/Public/Megatron-LM/forumqa/data.py\u001b[0m in \u001b[0;36mextract\u001b[0;34m(self, text)\u001b[0m\n\u001b[1;32m    169\u001b[0m         \u001b[0;32mif\u001b[0m \u001b[0mtexts\u001b[0m\u001b[0;34m:\u001b[0m\u001b[0;34m\u001b[0m\u001b[0;34m\u001b[0m\u001b[0m\n\u001b[1;32m    170\u001b[0m             \u001b[0ms\u001b[0m \u001b[0;34m=\u001b[0m \u001b[0mrandom\u001b[0m\u001b[0;34m.\u001b[0m\u001b[0mchoice\u001b[0m\u001b[0;34m(\u001b[0m\u001b[0mtexts\u001b[0m\u001b[0;34m)\u001b[0m\u001b[0;34m\u001b[0m\u001b[0;34m\u001b[0m\u001b[0m\n\u001b[0;32m--> 171\u001b[0;31m             \u001b[0mids\u001b[0m \u001b[0;34m=\u001b[0m \u001b[0mself\u001b[0m\u001b[0;34m.\u001b[0m\u001b[0mpickup_sentences\u001b[0m\u001b[0;34m(\u001b[0m\u001b[0ms\u001b[0m\u001b[0;34m,\u001b[0m \u001b[0mbos\u001b[0m\u001b[0;34m=\u001b[0m\u001b[0;32mTrue\u001b[0m\u001b[0;34m,\u001b[0m \u001b[0meos\u001b[0m\u001b[0;34m=\u001b[0m\u001b[0;32mTrue\u001b[0m\u001b[0;34m)\u001b[0m\u001b[0;34m\u001b[0m\u001b[0;34m\u001b[0m\u001b[0m\n\u001b[0m\u001b[1;32m    172\u001b[0m             \u001b[0minput_ids\u001b[0m\u001b[0;34m.\u001b[0m\u001b[0mextend\u001b[0m\u001b[0;34m(\u001b[0m\u001b[0mids\u001b[0m\u001b[0;34m)\u001b[0m\u001b[0;34m\u001b[0m\u001b[0;34m\u001b[0m\u001b[0m\n\u001b[1;32m    173\u001b[0m         \u001b[0;31m###\u001b[0m\u001b[0;34m\u001b[0m\u001b[0;34m\u001b[0m\u001b[0;34m\u001b[0m\u001b[0m\n",
      "\u001b[0;32m/home/Public/Megatron-LM/forumqa/data.py\u001b[0m in \u001b[0;36mpickup_sentences\u001b[0;34m(self, text, bos, eos)\u001b[0m\n\u001b[1;32m    139\u001b[0m         weights = [\n\u001b[1;32m    140\u001b[0m             \u001b[0mmath\u001b[0m\u001b[0;34m.\u001b[0m\u001b[0mlog\u001b[0m\u001b[0;34m(\u001b[0m\u001b[0msum\u001b[0m\u001b[0;34m(\u001b[0m\u001b[0mlen\u001b[0m\u001b[0;34m(\u001b[0m\u001b[0msentences\u001b[0m\u001b[0;34m[\u001b[0m\u001b[0midx\u001b[0m\u001b[0;34m]\u001b[0m\u001b[0;34m)\u001b[0m \u001b[0;32mfor\u001b[0m \u001b[0midx\u001b[0m \u001b[0;32min\u001b[0m \u001b[0mindices\u001b[0m\u001b[0;34m)\u001b[0m\u001b[0;34m)\u001b[0m\u001b[0;34m\u001b[0m\u001b[0;34m\u001b[0m\u001b[0m\n\u001b[0;32m--> 141\u001b[0;31m             \u001b[0;32mfor\u001b[0m \u001b[0mindices\u001b[0m \u001b[0;32min\u001b[0m \u001b[0mwindows\u001b[0m\u001b[0;34m\u001b[0m\u001b[0;34m\u001b[0m\u001b[0m\n\u001b[0m\u001b[1;32m    142\u001b[0m         ]\n\u001b[1;32m    143\u001b[0m         \u001b[0mindices\u001b[0m \u001b[0;34m=\u001b[0m \u001b[0mrandom\u001b[0m\u001b[0;34m.\u001b[0m\u001b[0mchoices\u001b[0m\u001b[0;34m(\u001b[0m\u001b[0mwindows\u001b[0m\u001b[0;34m,\u001b[0m \u001b[0mweights\u001b[0m\u001b[0;34m)\u001b[0m\u001b[0;34m[\u001b[0m\u001b[0;36m0\u001b[0m\u001b[0;34m]\u001b[0m\u001b[0;34m\u001b[0m\u001b[0;34m\u001b[0m\u001b[0m\n",
      "\u001b[0;32m/home/Public/Megatron-LM/forumqa/data.py\u001b[0m in \u001b[0;36m<listcomp>\u001b[0;34m(.0)\u001b[0m\n\u001b[1;32m    139\u001b[0m         weights = [\n\u001b[1;32m    140\u001b[0m             \u001b[0mmath\u001b[0m\u001b[0;34m.\u001b[0m\u001b[0mlog\u001b[0m\u001b[0;34m(\u001b[0m\u001b[0msum\u001b[0m\u001b[0;34m(\u001b[0m\u001b[0mlen\u001b[0m\u001b[0;34m(\u001b[0m\u001b[0msentences\u001b[0m\u001b[0;34m[\u001b[0m\u001b[0midx\u001b[0m\u001b[0;34m]\u001b[0m\u001b[0;34m)\u001b[0m \u001b[0;32mfor\u001b[0m \u001b[0midx\u001b[0m \u001b[0;32min\u001b[0m \u001b[0mindices\u001b[0m\u001b[0;34m)\u001b[0m\u001b[0;34m)\u001b[0m\u001b[0;34m\u001b[0m\u001b[0;34m\u001b[0m\u001b[0m\n\u001b[0;32m--> 141\u001b[0;31m             \u001b[0;32mfor\u001b[0m \u001b[0mindices\u001b[0m \u001b[0;32min\u001b[0m \u001b[0mwindows\u001b[0m\u001b[0;34m\u001b[0m\u001b[0;34m\u001b[0m\u001b[0m\n\u001b[0m\u001b[1;32m    142\u001b[0m         ]\n\u001b[1;32m    143\u001b[0m         \u001b[0mindices\u001b[0m \u001b[0;34m=\u001b[0m \u001b[0mrandom\u001b[0m\u001b[0;34m.\u001b[0m\u001b[0mchoices\u001b[0m\u001b[0;34m(\u001b[0m\u001b[0mwindows\u001b[0m\u001b[0;34m,\u001b[0m \u001b[0mweights\u001b[0m\u001b[0;34m)\u001b[0m\u001b[0;34m[\u001b[0m\u001b[0;36m0\u001b[0m\u001b[0;34m]\u001b[0m\u001b[0;34m\u001b[0m\u001b[0;34m\u001b[0m\u001b[0m\n",
      "\u001b[0;31mValueError\u001b[0m: math domain error"
     ]
    }
   ],
   "source": [
    "x = ds.extract(line)\n",
    "\n",
    "ids = [int(id_) for id_ in x['text'] if id_>7]\n",
    "\n",
    "tokenizer.DecodeIds(ids)"
   ]
  },
  {
   "cell_type": "code",
   "execution_count": 111,
   "metadata": {},
   "outputs": [],
   "source": [
    "import fileinput\n",
    "import json\n",
    "import math\n",
    "import random\n",
    "import re\n",
    "from itertools import chain\n",
    "\n",
    "import numpy as np\n",
    "\n",
    "from more_itertools import windowed\n",
    "from torch.utils.data import Dataset, IterableDataset\n",
    "\n",
    "_REGEX = r'.*?(([\\.|\\!|\\?|。|！|？]\\s*)+|.+)'\n",
    "_RE_SPLIT_SENTENCES = re.compile(_REGEX)\n",
    "del _REGEX\n",
    "\n",
    "\n",
    "def split_sentences(text):\n",
    "    groups = re.findall(_RE_SPLIT_SENTENCES, text)\n",
    "    return [''.join(s) for s in groups]\n",
    "\n",
    "\n",
    "def pickup_sentences(text, bos=False, eos=False):\n",
    "    text = text.strip()\n",
    "    if not text:\n",
    "        return ''\n",
    "    sentences = split_sentences(text)\n",
    "    sentences = (\n",
    "        tokenizer.EncodeAsIds(s.strip()).tokenization\n",
    "        for s in sentences\n",
    "    )\n",
    "    sentences = [ids for ids in sentences if ids]\n",
    "    \n",
    "    if bos:\n",
    "        sentences[0].insert(0, tokenizer.TokenToId('<bos>'))\n",
    "    if eos:\n",
    "        sentences[-1].append(tokenizer.TokenToId('<eos>'))\n",
    "    indices = list(range(len(sentences)))\n",
    "    windows = list(chain.from_iterable(\n",
    "        windowed(indices, n)\n",
    "        for n in range(1, 1+len(indices))\n",
    "    ))\n",
    "    try:\n",
    "        weights = [\n",
    "            math.log(sum(len(sentences[idx]) for idx in indices))\n",
    "            for indices in windows\n",
    "        ]\n",
    "    except:\n",
    "        print(sentences)\n",
    "        print()\n",
    "        print(indices)\n",
    "        print()\n",
    "        print(windows)\n",
    "        print()\n",
    "        raise\n",
    "    indices = random.choices(windows, weights)[0]\n",
    "    ids = chain.from_iterable(sentences[i] for i in indices)\n",
    "    return list(ids)\n",
    "\n",
    "def extract(text):\n",
    "    data = json.loads(text)\n",
    "    input_ids = []\n",
    "    # 标题, 问题\n",
    "    for k in ('title', 'text'):\n",
    "        s = data[k].strip()\n",
    "        ids = pickup_sentences(s)\n",
    "        input_ids.extend(ids)\n",
    "        input_ids.append(tokenizer.TokenToId('<sep>'))\n",
    "    # 标签\n",
    "    tags = data.get('tags')\n",
    "    if tags:\n",
    "        tag = random.choice(tags)\n",
    "        input_ids.extend(tokenizer.EncodeAsIds(\n",
    "            tag.strip()).tokenization)\n",
    "        input_ids.append(tokenizer.TokenToId('<sep>'))\n",
    "    # 问题/回答 的分隔符，保证连续两个 `<sep>`\n",
    "    input_ids.append(tokenizer.TokenToId('<sep>'))\n",
    "    # 回答\n",
    "    texts = [m['text'] for m in data['answers']]\n",
    "    if texts:\n",
    "        s = random.choice(texts)\n",
    "        ids = pickup_sentences(s, bos=True, eos=True)\n",
    "        input_ids.extend(ids)\n",
    "    ###\n",
    "    # Pad / Strip\n",
    "    total_tokens = 1024\n",
    "    num_pad_tokens = total_tokens - len(input_ids)\n",
    "    if num_pad_tokens > 0:\n",
    "        input_ids.extend(\n",
    "            [tokenizer.TokenToId('<pad>')] * num_pad_tokens)\n",
    "    else:\n",
    "        input_ids = input_ids[:total_tokens]\n",
    "\n",
    "    return {'text': np.array(input_ids),}\n"
   ]
  },
  {
   "cell_type": "code",
   "execution_count": 153,
   "metadata": {},
   "outputs": [
    {
     "data": {
      "text/plain": [
       "{'text': array([1994,  115,   78, ...,    0,    0,    0])}"
      ]
     },
     "execution_count": 153,
     "metadata": {},
     "output_type": "execute_result"
    }
   ],
   "source": [
    "extract(line)"
   ]
  },
  {
   "cell_type": "code",
   "execution_count": 91,
   "metadata": {},
   "outputs": [],
   "source": [
    "sentences = [[2, 3965, 9799, 8785, 315, 12059, 9706, 9218, 8974, 10381, 10381, 8785, 675, 9806, 9806, 10332], [8787, 6093, 9756, 1916, 8902, 10044, 5580, 185, 9170, 1070, 8832], [3908, 1070, 4910, 11605, 9012, 9408, 8785, 8909, 5580, 1425, 8785, 1916, 8936, 119, 10289, 939, 331, 8902, 10044, 175, 9017], [4656, 1070, 6966, 11605, 8925, 9408, 8785, 9166, 9038, 507, 1070, 8785, 31, 5879, 1916, 291, 115, 300, 8560, 80, 4120, 8828, 291, 9017], [5901, 1070, 8629, 11605, 255, 9408, 8785, 9410, 9038, 507, 1070, 8785, 695, 4439, 9281, 9029, 8968, 9017], [], [8787, 1612, 1070, 7630, 11605, 317, 9408, 8785, 3931, 7327, 1070, 8785, 695, 4851, 9475, 8800, 4396, 9479, 9722, 8968, 9017], [], [2925, 9170, 1070, 8785, 255, 9408, 226, 8785, 5580, 2964, 888, 1070, 8788], [4615, 1795, 8786, 1661, 8785, 396, 8789, 5659, 1612, 1070, 9157, 8785, 695, 4439, 9475, 8800, 4396, 9479, 9722, 8968, 8785, 2656, 2612, 103, 541, 8879, 8316, 8785, 485, 1392, 8848, 906, 4483, 8785, 61, 8871, 406, 80, 9128, 9415, 9150, 8785, 145, 8224, 9413, 361, 390, 8857, 1287, 202, 9150, 10332, 1795, 58, 9752, 295, 107, 8785, 62, 109, 8828, 6903, 3564, 346, 8961, 10274, 10332, 1]]\n",
    "indices = [0, 1, 2, 3, 4, 5, 6, 7, 8, 9]\n",
    "windows = [(0,), (1,), (2,), (3,), (4,), (5,), (6,), (7,), (8,), (9,), (0, 1), (1, 2), (2, 3), (3, 4), (4, 5), (5, 6), (6, 7), (7, 8), (8, 9), (0, 1, 2), (1, 2, 3), (2, 3, 4), (3, 4, 5), (4, 5, 6), (5, 6, 7), (6, 7, 8), (7, 8, 9), (0, 1, 2, 3), (1, 2, 3, 4), (2, 3, 4, 5), (3, 4, 5, 6), (4, 5, 6, 7), (5, 6, 7, 8), (6, 7, 8, 9), (0, 1, 2, 3, 4), (1, 2, 3, 4, 5), (2, 3, 4, 5, 6), (3, 4, 5, 6, 7), (4, 5, 6, 7, 8), (5, 6, 7, 8, 9), (0, 1, 2, 3, 4, 5), (1, 2, 3, 4, 5, 6), (2, 3, 4, 5, 6, 7), (3, 4, 5, 6, 7, 8), (4, 5, 6, 7, 8, 9), (0, 1, 2, 3, 4, 5, 6), (1, 2, 3, 4, 5, 6, 7), (2, 3, 4, 5, 6, 7, 8), (3, 4, 5, 6, 7, 8, 9), (0, 1, 2, 3, 4, 5, 6, 7), (1, 2, 3, 4, 5, 6, 7, 8), (2, 3, 4, 5, 6, 7, 8, 9), (0, 1, 2, 3, 4, 5, 6, 7, 8), (1, 2, 3, 4, 5, 6, 7, 8, 9), (0, 1, 2, 3, 4, 5, 6, 7, 8, 9)]"
   ]
  },
  {
   "cell_type": "code",
   "execution_count": 100,
   "metadata": {},
   "outputs": [
    {
     "data": {
      "text/plain": [
       "[[16],\n",
       " [11],\n",
       " [21],\n",
       " [24],\n",
       " [18],\n",
       " [0],\n",
       " [21],\n",
       " [0],\n",
       " [13],\n",
       " [68],\n",
       " [16, 11],\n",
       " [11, 21],\n",
       " [21, 24],\n",
       " [24, 18],\n",
       " [18, 0],\n",
       " [0, 21],\n",
       " [21, 0],\n",
       " [0, 13],\n",
       " [13, 68],\n",
       " [16, 11, 21],\n",
       " [11, 21, 24],\n",
       " [21, 24, 18],\n",
       " [24, 18, 0],\n",
       " [18, 0, 21],\n",
       " [0, 21, 0],\n",
       " [21, 0, 13],\n",
       " [0, 13, 68],\n",
       " [16, 11, 21, 24],\n",
       " [11, 21, 24, 18],\n",
       " [21, 24, 18, 0],\n",
       " [24, 18, 0, 21],\n",
       " [18, 0, 21, 0],\n",
       " [0, 21, 0, 13],\n",
       " [21, 0, 13, 68],\n",
       " [16, 11, 21, 24, 18],\n",
       " [11, 21, 24, 18, 0],\n",
       " [21, 24, 18, 0, 21],\n",
       " [24, 18, 0, 21, 0],\n",
       " [18, 0, 21, 0, 13],\n",
       " [0, 21, 0, 13, 68],\n",
       " [16, 11, 21, 24, 18, 0],\n",
       " [11, 21, 24, 18, 0, 21],\n",
       " [21, 24, 18, 0, 21, 0],\n",
       " [24, 18, 0, 21, 0, 13],\n",
       " [18, 0, 21, 0, 13, 68],\n",
       " [16, 11, 21, 24, 18, 0, 21],\n",
       " [11, 21, 24, 18, 0, 21, 0],\n",
       " [21, 24, 18, 0, 21, 0, 13],\n",
       " [24, 18, 0, 21, 0, 13, 68],\n",
       " [16, 11, 21, 24, 18, 0, 21, 0],\n",
       " [11, 21, 24, 18, 0, 21, 0, 13],\n",
       " [21, 24, 18, 0, 21, 0, 13, 68],\n",
       " [16, 11, 21, 24, 18, 0, 21, 0, 13],\n",
       " [11, 21, 24, 18, 0, 21, 0, 13, 68],\n",
       " [16, 11, 21, 24, 18, 0, 21, 0, 13, 68]]"
      ]
     },
     "execution_count": 100,
     "metadata": {},
     "output_type": "execute_result"
    }
   ],
   "source": [
    "[\n",
    "        [len(sentences[idx]) for idx in indices]\n",
    "        for indices in windows\n",
    "]"
   ]
  },
  {
   "cell_type": "code",
   "execution_count": null,
   "metadata": {},
   "outputs": [],
   "source": []
  }
 ],
 "metadata": {
  "kernelspec": {
   "display_name": "Python [conda env:Megatron_LM-ipy]",
   "language": "python",
   "name": "conda-env-Megatron_LM-ipy-py"
  },
  "language_info": {
   "codemirror_mode": {
    "name": "ipython",
    "version": 3
   },
   "file_extension": ".py",
   "mimetype": "text/x-python",
   "name": "python",
   "nbconvert_exporter": "python",
   "pygments_lexer": "ipython3",
   "version": "3.7.4"
  }
 },
 "nbformat": 4,
 "nbformat_minor": 4
}
