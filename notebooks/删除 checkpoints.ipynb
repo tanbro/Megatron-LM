{
 "cells": [
  {
   "cell_type": "markdown",
   "metadata": {},
   "source": [
    "# 删除 checkpooints"
   ]
  },
  {
   "cell_type": "markdown",
   "metadata": {},
   "source": [
    "删除旧的 checkpoints，只保留最近的几个"
   ]
  },
  {
   "cell_type": "code",
   "execution_count": null,
   "metadata": {},
   "outputs": [],
   "source": [
    "# checkpoint 目录\n",
    "# CHECKPOINTS_DIR = \"../checkpoints/gpt2_117m_hm8g/\"\n",
    "CHECKPOINTS_DIR = \"../checkpoints/gpt2_117m_emotion/\"\n",
    "\n",
    "# 要保留而不删除的最近checkpoint数量\n",
    "RESERVE_COUNT = 5"
   ]
  },
  {
   "cell_type": "code",
   "execution_count": null,
   "metadata": {},
   "outputs": [],
   "source": [
    "!du -d1 -h {CHECKPOINTS_DIR}"
   ]
  },
  {
   "cell_type": "code",
   "execution_count": null,
   "metadata": {},
   "outputs": [],
   "source": [
    "import os\n",
    "import shutil\n",
    "\n",
    "from tqdm.auto import tqdm\n",
    "\n",
    "dirnames = sorted([\n",
    "    dirname\n",
    "    for dirname in os.listdir(CHECKPOINTS_DIR)\n",
    "    if dirname.startswith('iter_')\n",
    "])\n",
    "\n",
    "deleting_dirnames = dirnames[ : -1*RESERVE_COUNT]\n",
    "\n",
    "for dirname in tqdm(deleting_dirnames):\n",
    "    target_dirname = os.path.join(CHECKPOINTS_DIR, dirname)\n",
    "    print(f'删除 {target_dirname}')\n",
    "    shutil.rmtree(target_dirname)"
   ]
  },
  {
   "cell_type": "code",
   "execution_count": null,
   "metadata": {},
   "outputs": [],
   "source": [
    "!du -d1 -h {CHECKPOINTS_DIR}"
   ]
  },
  {
   "cell_type": "code",
   "execution_count": null,
   "metadata": {},
   "outputs": [],
   "source": []
  }
 ],
 "metadata": {
  "file_extension": ".py",
  "kernelspec": {
   "display_name": "Python [conda env:Megatron_LM-ipy]",
   "language": "python",
   "name": "conda-env-Megatron_LM-ipy-py"
  },
  "language_info": {
   "codemirror_mode": {
    "name": "ipython",
    "version": 3
   },
   "file_extension": ".py",
   "mimetype": "text/x-python",
   "name": "python",
   "nbconvert_exporter": "python",
   "pygments_lexer": "ipython3",
   "version": "3.7.4"
  },
  "mimetype": "text/x-python",
  "name": "python",
  "npconvert_exporter": "python",
  "pygments_lexer": "ipython3",
  "version": 3,
  "widgets": {
   "application/vnd.jupyter.widget-state+json": {
    "state": {
     "00b8b6011b024d58b3454a22e1e1bddb": {
      "model_module": "@jupyter-widgets/controls",
      "model_module_version": "1.5.0",
      "model_name": "ProgressStyleModel",
      "state": {
       "description_width": "initial"
      }
     },
     "0e19c04e3ef04462b846156da7dfd03e": {
      "model_module": "@jupyter-widgets/base",
      "model_module_version": "1.2.0",
      "model_name": "LayoutModel",
      "state": {}
     },
     "109e75da40ee46f680e1a44b1ae04f56": {
      "model_module": "@jupyter-widgets/controls",
      "model_module_version": "1.5.0",
      "model_name": "ProgressStyleModel",
      "state": {
       "description_width": "initial"
      }
     },
     "12fb2264d6314205ae716289256b0b2f": {
      "model_module": "@jupyter-widgets/controls",
      "model_module_version": "1.5.0",
      "model_name": "HTMLModel",
      "state": {
       "layout": "IPY_MODEL_ab5348cb9b0d4ebf830361a82cfb33d0",
       "style": "IPY_MODEL_4b445e8029ab48ca95db8528a1f613f4",
       "value": " 4/4 [3:39:41&lt;00:00, 3295.35s/it]"
      }
     },
     "1aa29956277843878b749c26c1f24d6a": {
      "model_module": "@jupyter-widgets/controls",
      "model_module_version": "1.5.0",
      "model_name": "DescriptionStyleModel",
      "state": {
       "description_width": ""
      }
     },
     "1acd315e1ec44688af365d7dcb4f5cc2": {
      "model_module": "@jupyter-widgets/controls",
      "model_module_version": "1.5.0",
      "model_name": "DescriptionStyleModel",
      "state": {
       "description_width": ""
      }
     },
     "1f95f95533244fecaa12f507f750b3f4": {
      "model_module": "@jupyter-widgets/base",
      "model_module_version": "1.2.0",
      "model_name": "LayoutModel",
      "state": {}
     },
     "21c60ab7abee40908c171fe086fc8c8d": {
      "model_module": "@jupyter-widgets/controls",
      "model_module_version": "1.5.0",
      "model_name": "ProgressStyleModel",
      "state": {
       "description_width": "initial"
      }
     },
     "26d689b2fb274075854854ec3ebbf16a": {
      "model_module": "@jupyter-widgets/base",
      "model_module_version": "1.2.0",
      "model_name": "LayoutModel",
      "state": {}
     },
     "280bd8ea71d74cb596e4ecd8d59a752a": {
      "model_module": "@jupyter-widgets/base",
      "model_module_version": "1.2.0",
      "model_name": "LayoutModel",
      "state": {}
     },
     "2bb8f220dcee4c798dc5c322ad674a8e": {
      "model_module": "@jupyter-widgets/controls",
      "model_module_version": "1.5.0",
      "model_name": "DescriptionStyleModel",
      "state": {
       "description_width": ""
      }
     },
     "2de72ecfbf2345a498b750fd6eae584b": {
      "model_module": "@jupyter-widgets/base",
      "model_module_version": "1.2.0",
      "model_name": "LayoutModel",
      "state": {}
     },
     "2ee06cd5f7444217bc95684aff32046e": {
      "model_module": "@jupyter-widgets/base",
      "model_module_version": "1.2.0",
      "model_name": "LayoutModel",
      "state": {}
     },
     "31bfc0b2adf34804b38c4017f6a73d2e": {
      "model_module": "@jupyter-widgets/controls",
      "model_module_version": "1.5.0",
      "model_name": "HTMLModel",
      "state": {
       "layout": "IPY_MODEL_280bd8ea71d74cb596e4ecd8d59a752a",
       "style": "IPY_MODEL_2bb8f220dcee4c798dc5c322ad674a8e",
       "value": " 2/2 [00:00&lt;00:00,  6.45it/s]"
      }
     },
     "346fb07c6ad94e9b85b3e4356c0bc2f8": {
      "model_module": "@jupyter-widgets/controls",
      "model_module_version": "1.5.0",
      "model_name": "IntProgressModel",
      "state": {
       "bar_style": "success",
       "description": "100%",
       "layout": "IPY_MODEL_e5dbd2429dec4831aea07d651e75d8fb",
       "max": 5,
       "style": "IPY_MODEL_d3d8910bb8154ce6aad4605ae4e733d1",
       "value": 5
      }
     },
     "36897c9f228149dc8f0d217ca8611b3f": {
      "model_module": "@jupyter-widgets/controls",
      "model_module_version": "1.5.0",
      "model_name": "IntProgressModel",
      "state": {
       "bar_style": "success",
       "description": "100%",
       "layout": "IPY_MODEL_d33de04079a7400cbc56459471dac161",
       "max": 44,
       "style": "IPY_MODEL_bc894dcdad1043fb9804c4d07d75ab1e",
       "value": 44
      }
     },
     "37561b8d93274500b512bfecf533b3b7": {
      "model_module": "@jupyter-widgets/base",
      "model_module_version": "1.2.0",
      "model_name": "LayoutModel",
      "state": {}
     },
     "3c84f531327a4842abe656101589744d": {
      "model_module": "@jupyter-widgets/controls",
      "model_module_version": "1.5.0",
      "model_name": "HBoxModel",
      "state": {
       "children": [
        "IPY_MODEL_ce7140d6339942109bd16108c6b1c6c0",
        "IPY_MODEL_a9ca55aab59e45569dae8ecf9ed38df5"
       ],
       "layout": "IPY_MODEL_417976650abe49f98ab26f3f00b94021"
      }
     },
     "4160f512e83b4e8ca9a5ef107c14a74e": {
      "model_module": "@jupyter-widgets/base",
      "model_module_version": "1.2.0",
      "model_name": "LayoutModel",
      "state": {}
     },
     "417976650abe49f98ab26f3f00b94021": {
      "model_module": "@jupyter-widgets/base",
      "model_module_version": "1.2.0",
      "model_name": "LayoutModel",
      "state": {}
     },
     "45f982e899824026b33a2147260435d4": {
      "model_module": "@jupyter-widgets/controls",
      "model_module_version": "1.5.0",
      "model_name": "DescriptionStyleModel",
      "state": {
       "description_width": ""
      }
     },
     "463e3db363594928bd1b3a330ce7c565": {
      "model_module": "@jupyter-widgets/controls",
      "model_module_version": "1.5.0",
      "model_name": "HBoxModel",
      "state": {
       "children": [
        "IPY_MODEL_55dda6139d6c4027acc01b953ce67d0b",
        "IPY_MODEL_31bfc0b2adf34804b38c4017f6a73d2e"
       ],
       "layout": "IPY_MODEL_2de72ecfbf2345a498b750fd6eae584b"
      }
     },
     "48fcabc947c44707b5e6f49deae0d72f": {
      "model_module": "@jupyter-widgets/base",
      "model_module_version": "1.2.0",
      "model_name": "LayoutModel",
      "state": {}
     },
     "499df70e0e914172b1b438fc1df9233f": {
      "model_module": "@jupyter-widgets/base",
      "model_module_version": "1.2.0",
      "model_name": "LayoutModel",
      "state": {}
     },
     "49f8a1776f0946dda6e91fdbddd6508c": {
      "model_module": "@jupyter-widgets/base",
      "model_module_version": "1.2.0",
      "model_name": "LayoutModel",
      "state": {}
     },
     "4a935a239f1b4d5f97d6d6ba4393836d": {
      "model_module": "@jupyter-widgets/controls",
      "model_module_version": "1.5.0",
      "model_name": "IntProgressModel",
      "state": {
       "bar_style": "success",
       "description": "100%",
       "layout": "IPY_MODEL_4160f512e83b4e8ca9a5ef107c14a74e",
       "max": 4,
       "style": "IPY_MODEL_00b8b6011b024d58b3454a22e1e1bddb",
       "value": 4
      }
     },
     "4b445e8029ab48ca95db8528a1f613f4": {
      "model_module": "@jupyter-widgets/controls",
      "model_module_version": "1.5.0",
      "model_name": "DescriptionStyleModel",
      "state": {
       "description_width": ""
      }
     },
     "4c5522d442694b5eb2cf9610a102b5b4": {
      "model_module": "@jupyter-widgets/controls",
      "model_module_version": "1.5.0",
      "model_name": "IntProgressModel",
      "state": {
       "bar_style": "success",
       "description": "100%",
       "layout": "IPY_MODEL_77ae0be2fe824dacacae87143990133f",
       "max": 3,
       "style": "IPY_MODEL_21c60ab7abee40908c171fe086fc8c8d",
       "value": 3
      }
     },
     "4ddc264dc5104d33b78c3004b6bc444a": {
      "model_module": "@jupyter-widgets/controls",
      "model_module_version": "1.5.0",
      "model_name": "HTMLModel",
      "state": {
       "layout": "IPY_MODEL_aaef32753dbb4020a0b6419aa4338892",
       "style": "IPY_MODEL_713c26a65d9848a9809e1192f134dd6c",
       "value": " 3/3 [19:30&lt;00:00, 390.21s/it]"
      }
     },
     "55028dfefa0245efab9a881b5c57e31d": {
      "model_module": "@jupyter-widgets/base",
      "model_module_version": "1.2.0",
      "model_name": "LayoutModel",
      "state": {}
     },
     "55dda6139d6c4027acc01b953ce67d0b": {
      "model_module": "@jupyter-widgets/controls",
      "model_module_version": "1.5.0",
      "model_name": "IntProgressModel",
      "state": {
       "bar_style": "success",
       "description": "100%",
       "layout": "IPY_MODEL_49f8a1776f0946dda6e91fdbddd6508c",
       "max": 2,
       "style": "IPY_MODEL_d304226d421c47769e08eba121886b13",
       "value": 2
      }
     },
     "5ee7836f7fff4fce875ed09721b6f097": {
      "model_module": "@jupyter-widgets/controls",
      "model_module_version": "1.5.0",
      "model_name": "DescriptionStyleModel",
      "state": {
       "description_width": ""
      }
     },
     "5f37876516f246f98fb9b2c7631728bf": {
      "model_module": "@jupyter-widgets/controls",
      "model_module_version": "1.5.0",
      "model_name": "HBoxModel",
      "state": {
       "children": [
        "IPY_MODEL_a354d9616fb44e76859701541dc75443",
        "IPY_MODEL_12fb2264d6314205ae716289256b0b2f"
       ],
       "layout": "IPY_MODEL_a6c1a3e2a69e4ae985671ea9232e5b6d"
      }
     },
     "5f419e82da844abfa4c1e035b12b7a7c": {
      "model_module": "@jupyter-widgets/base",
      "model_module_version": "1.2.0",
      "model_name": "LayoutModel",
      "state": {}
     },
     "61470d95e23b4d7ba82ea1ac9a781f2a": {
      "model_module": "@jupyter-widgets/controls",
      "model_module_version": "1.5.0",
      "model_name": "ProgressStyleModel",
      "state": {
       "description_width": "initial"
      }
     },
     "63e16ef7dac546d69cf94bef97cae1f1": {
      "model_module": "@jupyter-widgets/controls",
      "model_module_version": "1.5.0",
      "model_name": "ProgressStyleModel",
      "state": {
       "description_width": "initial"
      }
     },
     "6a0a047021e44573acaabcde33c6c717": {
      "model_module": "@jupyter-widgets/controls",
      "model_module_version": "1.5.0",
      "model_name": "HTMLModel",
      "state": {
       "layout": "IPY_MODEL_5f419e82da844abfa4c1e035b12b7a7c",
       "style": "IPY_MODEL_1aa29956277843878b749c26c1f24d6a",
       "value": " 44/44 [1:16:16&lt;00:00, 104.01s/it]"
      }
     },
     "713c26a65d9848a9809e1192f134dd6c": {
      "model_module": "@jupyter-widgets/controls",
      "model_module_version": "1.5.0",
      "model_name": "DescriptionStyleModel",
      "state": {
       "description_width": ""
      }
     },
     "77ae0be2fe824dacacae87143990133f": {
      "model_module": "@jupyter-widgets/base",
      "model_module_version": "1.2.0",
      "model_name": "LayoutModel",
      "state": {}
     },
     "7c6affaad7cd4ea3baab5de9e3c2856c": {
      "model_module": "@jupyter-widgets/controls",
      "model_module_version": "1.5.0",
      "model_name": "HBoxModel",
      "state": {
       "children": [
        "IPY_MODEL_fc9eb5dda3094eb69eab8146584a90ee",
        "IPY_MODEL_e1ce4932fba540538d50eab0c352b5b5"
       ],
       "layout": "IPY_MODEL_ed6a72b2b10a4149ad8f76e84ed935ec"
      }
     },
     "7e11de53e5114a7b89540c24ce2a168f": {
      "model_module": "@jupyter-widgets/controls",
      "model_module_version": "1.5.0",
      "model_name": "DescriptionStyleModel",
      "state": {
       "description_width": ""
      }
     },
     "8261f381987c4baa800b8f58ac4bd96e": {
      "model_module": "@jupyter-widgets/controls",
      "model_module_version": "1.5.0",
      "model_name": "HBoxModel",
      "state": {
       "children": [
        "IPY_MODEL_4a935a239f1b4d5f97d6d6ba4393836d",
        "IPY_MODEL_dca8640a539f48838b508582c67799a7"
       ],
       "layout": "IPY_MODEL_d6d613aca982478ba433e4ac60b827eb"
      }
     },
     "82b2b8ae358e493e9e44d6fb781a54ec": {
      "model_module": "@jupyter-widgets/controls",
      "model_module_version": "1.5.0",
      "model_name": "DescriptionStyleModel",
      "state": {
       "description_width": ""
      }
     },
     "837d79db85494cf6a1ed30d9b8741b9c": {
      "model_module": "@jupyter-widgets/base",
      "model_module_version": "1.2.0",
      "model_name": "LayoutModel",
      "state": {}
     },
     "878b6c4341ba4a0886987513a9c44f53": {
      "model_module": "@jupyter-widgets/base",
      "model_module_version": "1.2.0",
      "model_name": "LayoutModel",
      "state": {}
     },
     "88cec54f3de04d8295b4d8a21c55bfa7": {
      "model_module": "@jupyter-widgets/base",
      "model_module_version": "1.2.0",
      "model_name": "LayoutModel",
      "state": {}
     },
     "892976736eb3488f9016744c5c86401b": {
      "model_module": "@jupyter-widgets/base",
      "model_module_version": "1.2.0",
      "model_name": "LayoutModel",
      "state": {}
     },
     "8ffe60a56be5473e94284b1dbe0eda11": {
      "model_module": "@jupyter-widgets/base",
      "model_module_version": "1.2.0",
      "model_name": "LayoutModel",
      "state": {}
     },
     "955921d5e62745df9a3068ad5a712877": {
      "model_module": "@jupyter-widgets/controls",
      "model_module_version": "1.5.0",
      "model_name": "IntProgressModel",
      "state": {
       "bar_style": "success",
       "layout": "IPY_MODEL_8ffe60a56be5473e94284b1dbe0eda11",
       "max": 1,
       "style": "IPY_MODEL_c001c644a206431c8beec269c6c7b7b4"
      }
     },
     "9780f66fb62942fab5ec1e31ae30613b": {
      "model_module": "@jupyter-widgets/base",
      "model_module_version": "1.2.0",
      "model_name": "LayoutModel",
      "state": {}
     },
     "a354d9616fb44e76859701541dc75443": {
      "model_module": "@jupyter-widgets/controls",
      "model_module_version": "1.5.0",
      "model_name": "IntProgressModel",
      "state": {
       "bar_style": "success",
       "description": "100%",
       "layout": "IPY_MODEL_48fcabc947c44707b5e6f49deae0d72f",
       "max": 4,
       "style": "IPY_MODEL_d32b71e0d2e743f0a9d5ffdb095b37a3",
       "value": 4
      }
     },
     "a3a087dfa0a4445c802bb3aa97304775": {
      "model_module": "@jupyter-widgets/controls",
      "model_module_version": "1.5.0",
      "model_name": "HTMLModel",
      "state": {
       "layout": "IPY_MODEL_1f95f95533244fecaa12f507f750b3f4",
       "style": "IPY_MODEL_5ee7836f7fff4fce875ed09721b6f097",
       "value": " 5/5 [00:00&lt;00:00,  7.42it/s]"
      }
     },
     "a6c1a3e2a69e4ae985671ea9232e5b6d": {
      "model_module": "@jupyter-widgets/base",
      "model_module_version": "1.2.0",
      "model_name": "LayoutModel",
      "state": {}
     },
     "a7826760a9fe4e45b11df77d7885268c": {
      "model_module": "@jupyter-widgets/controls",
      "model_module_version": "1.5.0",
      "model_name": "HBoxModel",
      "state": {
       "children": [
        "IPY_MODEL_4c5522d442694b5eb2cf9610a102b5b4",
        "IPY_MODEL_4ddc264dc5104d33b78c3004b6bc444a"
       ],
       "layout": "IPY_MODEL_878b6c4341ba4a0886987513a9c44f53"
      }
     },
     "a85f1ffa16644a35bea9f041f3a45166": {
      "model_module": "@jupyter-widgets/controls",
      "model_module_version": "1.5.0",
      "model_name": "HBoxModel",
      "state": {
       "children": [
        "IPY_MODEL_346fb07c6ad94e9b85b3e4356c0bc2f8",
        "IPY_MODEL_a3a087dfa0a4445c802bb3aa97304775"
       ],
       "layout": "IPY_MODEL_2ee06cd5f7444217bc95684aff32046e"
      }
     },
     "a907231e7033418bb4e6ca60d5fcfd85": {
      "model_module": "@jupyter-widgets/controls",
      "model_module_version": "1.5.0",
      "model_name": "IntProgressModel",
      "state": {
       "bar_style": "success",
       "description": "100%",
       "layout": "IPY_MODEL_88cec54f3de04d8295b4d8a21c55bfa7",
       "max": 1,
       "style": "IPY_MODEL_109e75da40ee46f680e1a44b1ae04f56",
       "value": 1
      }
     },
     "a9ca55aab59e45569dae8ecf9ed38df5": {
      "model_module": "@jupyter-widgets/controls",
      "model_module_version": "1.5.0",
      "model_name": "HTMLModel",
      "state": {
       "layout": "IPY_MODEL_9780f66fb62942fab5ec1e31ae30613b",
       "style": "IPY_MODEL_82b2b8ae358e493e9e44d6fb781a54ec",
       "value": " 3/3 [24:22&lt;00:00, 487.40s/it]"
      }
     },
     "aaef32753dbb4020a0b6419aa4338892": {
      "model_module": "@jupyter-widgets/base",
      "model_module_version": "1.2.0",
      "model_name": "LayoutModel",
      "state": {}
     },
     "ab5348cb9b0d4ebf830361a82cfb33d0": {
      "model_module": "@jupyter-widgets/base",
      "model_module_version": "1.2.0",
      "model_name": "LayoutModel",
      "state": {}
     },
     "b3ae2a3aad7d49a6a0b6d122c947fb29": {
      "model_module": "@jupyter-widgets/controls",
      "model_module_version": "1.5.0",
      "model_name": "HBoxModel",
      "state": {
       "children": [
        "IPY_MODEL_36897c9f228149dc8f0d217ca8611b3f",
        "IPY_MODEL_6a0a047021e44573acaabcde33c6c717"
       ],
       "layout": "IPY_MODEL_499df70e0e914172b1b438fc1df9233f"
      }
     },
     "b5efb15850434f8195bffc95af616857": {
      "model_module": "@jupyter-widgets/controls",
      "model_module_version": "1.5.0",
      "model_name": "HTMLModel",
      "state": {
       "layout": "IPY_MODEL_b90c58751a3d4fafb5d29bab60f03bf9",
       "style": "IPY_MODEL_7e11de53e5114a7b89540c24ce2a168f",
       "value": " 0/0 [20:19:34&lt;?, ?it/s]"
      }
     },
     "b90c58751a3d4fafb5d29bab60f03bf9": {
      "model_module": "@jupyter-widgets/base",
      "model_module_version": "1.2.0",
      "model_name": "LayoutModel",
      "state": {}
     },
     "bc894dcdad1043fb9804c4d07d75ab1e": {
      "model_module": "@jupyter-widgets/controls",
      "model_module_version": "1.5.0",
      "model_name": "ProgressStyleModel",
      "state": {
       "description_width": "initial"
      }
     },
     "c001c644a206431c8beec269c6c7b7b4": {
      "model_module": "@jupyter-widgets/controls",
      "model_module_version": "1.5.0",
      "model_name": "ProgressStyleModel",
      "state": {
       "description_width": "initial"
      }
     },
     "ce7140d6339942109bd16108c6b1c6c0": {
      "model_module": "@jupyter-widgets/controls",
      "model_module_version": "1.5.0",
      "model_name": "IntProgressModel",
      "state": {
       "bar_style": "success",
       "description": "100%",
       "layout": "IPY_MODEL_26d689b2fb274075854854ec3ebbf16a",
       "max": 3,
       "style": "IPY_MODEL_63e16ef7dac546d69cf94bef97cae1f1",
       "value": 3
      }
     },
     "d304226d421c47769e08eba121886b13": {
      "model_module": "@jupyter-widgets/controls",
      "model_module_version": "1.5.0",
      "model_name": "ProgressStyleModel",
      "state": {
       "description_width": "initial"
      }
     },
     "d32b71e0d2e743f0a9d5ffdb095b37a3": {
      "model_module": "@jupyter-widgets/controls",
      "model_module_version": "1.5.0",
      "model_name": "ProgressStyleModel",
      "state": {
       "description_width": "initial"
      }
     },
     "d33de04079a7400cbc56459471dac161": {
      "model_module": "@jupyter-widgets/base",
      "model_module_version": "1.2.0",
      "model_name": "LayoutModel",
      "state": {}
     },
     "d35df438488d4c64a521de754b2d4381": {
      "model_module": "@jupyter-widgets/controls",
      "model_module_version": "1.5.0",
      "model_name": "DescriptionStyleModel",
      "state": {
       "description_width": ""
      }
     },
     "d3d8910bb8154ce6aad4605ae4e733d1": {
      "model_module": "@jupyter-widgets/controls",
      "model_module_version": "1.5.0",
      "model_name": "ProgressStyleModel",
      "state": {
       "description_width": "initial"
      }
     },
     "d6d613aca982478ba433e4ac60b827eb": {
      "model_module": "@jupyter-widgets/base",
      "model_module_version": "1.2.0",
      "model_name": "LayoutModel",
      "state": {}
     },
     "dca8640a539f48838b508582c67799a7": {
      "model_module": "@jupyter-widgets/controls",
      "model_module_version": "1.5.0",
      "model_name": "HTMLModel",
      "state": {
       "layout": "IPY_MODEL_892976736eb3488f9016744c5c86401b",
       "style": "IPY_MODEL_45f982e899824026b33a2147260435d4",
       "value": " 4/4 [1:07:07&lt;00:00, 1006.97s/it]"
      }
     },
     "e0bf0cabc8f644969bafadec354eca7d": {
      "model_module": "@jupyter-widgets/base",
      "model_module_version": "1.2.0",
      "model_name": "LayoutModel",
      "state": {}
     },
     "e1ce4932fba540538d50eab0c352b5b5": {
      "model_module": "@jupyter-widgets/controls",
      "model_module_version": "1.5.0",
      "model_name": "HTMLModel",
      "state": {
       "layout": "IPY_MODEL_837d79db85494cf6a1ed30d9b8741b9c",
       "style": "IPY_MODEL_d35df438488d4c64a521de754b2d4381",
       "value": " 0/0 [20:18:47&lt;?, ?it/s]"
      }
     },
     "e5dbd2429dec4831aea07d651e75d8fb": {
      "model_module": "@jupyter-widgets/base",
      "model_module_version": "1.2.0",
      "model_name": "LayoutModel",
      "state": {}
     },
     "ed6a72b2b10a4149ad8f76e84ed935ec": {
      "model_module": "@jupyter-widgets/base",
      "model_module_version": "1.2.0",
      "model_name": "LayoutModel",
      "state": {}
     },
     "f4c04cf0a9834117aa7c17eb5866f2e7": {
      "model_module": "@jupyter-widgets/controls",
      "model_module_version": "1.5.0",
      "model_name": "HBoxModel",
      "state": {
       "children": [
        "IPY_MODEL_955921d5e62745df9a3068ad5a712877",
        "IPY_MODEL_b5efb15850434f8195bffc95af616857"
       ],
       "layout": "IPY_MODEL_37561b8d93274500b512bfecf533b3b7"
      }
     },
     "fc9eb5dda3094eb69eab8146584a90ee": {
      "model_module": "@jupyter-widgets/controls",
      "model_module_version": "1.5.0",
      "model_name": "IntProgressModel",
      "state": {
       "bar_style": "success",
       "layout": "IPY_MODEL_0e19c04e3ef04462b846156da7dfd03e",
       "max": 1,
       "style": "IPY_MODEL_61470d95e23b4d7ba82ea1ac9a781f2a"
      }
     }
    },
    "version_major": 2,
    "version_minor": 0
   }
  }
 },
 "nbformat": 4,
 "nbformat_minor": 4
}
