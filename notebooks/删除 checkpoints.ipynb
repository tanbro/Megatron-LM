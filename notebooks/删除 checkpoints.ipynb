{
 "cells": [
  {
   "cell_type": "markdown",
   "metadata": {},
   "source": [
    "# 删除 checkpooints"
   ]
  },
  {
   "cell_type": "markdown",
   "metadata": {},
   "source": [
    "删除旧的 checkpoints，只保留最近的几个"
   ]
  },
  {
   "cell_type": "code",
   "execution_count": 1,
   "metadata": {},
   "outputs": [],
   "source": [
    "# checkpoint 目录\n",
    "CHECKPOINTS_DIR = \"../checkpoints/gpt2_87.75m_hm8g\"\n",
    "\n",
    "# 要保留而不删除的最近checkpoint数量\n",
    "RESERVE_COUNT = 10"
   ]
  },
  {
   "cell_type": "code",
   "execution_count": 2,
   "metadata": {},
   "outputs": [
    {
     "name": "stdout",
     "output_type": "stream",
     "text": [
      "iter_0001000  iter_0005000  iter_0009000  iter_0013000\n",
      "iter_0002000  iter_0006000  iter_0010000  latest_checkpointed_iteration.txt\n",
      "iter_0003000  iter_0007000  iter_0011000\n",
      "iter_0004000  iter_0008000  iter_0012000\n"
     ]
    }
   ],
   "source": [
    "!ls {CHECKPOINTS_DIR}"
   ]
  },
  {
   "cell_type": "code",
   "execution_count": 3,
   "metadata": {},
   "outputs": [
    {
     "name": "stdout",
     "output_type": "stream",
     "text": [
      "删除 ../checkpoints/gpt2_87.75m_hm8g/iter_0001000\n",
      "删除 ../checkpoints/gpt2_87.75m_hm8g/iter_0002000\n",
      "删除 ../checkpoints/gpt2_87.75m_hm8g/iter_0003000\n"
     ]
    }
   ],
   "source": [
    "import os\n",
    "import shutil\n",
    "\n",
    "dirnames = sorted([\n",
    "    dirname\n",
    "    for dirname in os.listdir(CHECKPOINTS_DIR)\n",
    "    if dirname.startswith('iter_')\n",
    "])\n",
    "\n",
    "for dirname in dirnames[ : -1*RESERVE_COUNT]:\n",
    "    target_dirname = os.path.join(CHECKPOINTS_DIR, dirname)\n",
    "    print(f'删除 {target_dirname}')\n",
    "    shutil.rmtree(target_dirname)"
   ]
  },
  {
   "cell_type": "code",
   "execution_count": null,
   "metadata": {},
   "outputs": [],
   "source": []
  }
 ],
 "metadata": {
  "kernelspec": {
   "display_name": "Python [conda env:hmgpt2-cpu-dev]",
   "language": "python",
   "name": "conda-env-hmgpt2-cpu-dev-py"
  },
  "language_info": {
   "codemirror_mode": {
    "name": "ipython",
    "version": 3
   },
   "file_extension": ".py",
   "mimetype": "text/x-python",
   "name": "python",
   "nbconvert_exporter": "python",
   "pygments_lexer": "ipython3",
   "version": "3.7.4"
  },
  "widgets": {
   "application/vnd.jupyter.widget-state+json": {
    "state": {},
    "version_major": 2,
    "version_minor": 0
   }
  }
 },
 "nbformat": 4,
 "nbformat_minor": 4
}
