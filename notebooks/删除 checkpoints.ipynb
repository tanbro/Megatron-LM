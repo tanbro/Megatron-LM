{
 "cells": [
  {
   "cell_type": "markdown",
   "metadata": {},
   "source": [
    "# 删除 checkpooints"
   ]
  },
  {
   "cell_type": "markdown",
   "metadata": {},
   "source": [
    "删除旧的 checkpoints，只保留最近的几个"
   ]
  },
  {
   "cell_type": "code",
   "execution_count": 1,
   "metadata": {},
   "outputs": [],
   "source": [
    "# checkpoint 目录\n",
    "CHECKPOINTS_DIR = \"../checkpoints/gpt2_87.75m_hm8g\"\n",
    "# CHECKPOINTS_DIR = \"../checkpoints/gpt2_180m_百科/\"\n",
    "\n",
    "# 要保留而不删除的最近checkpoint数量\n",
    "RESERVE_COUNT = 5"
   ]
  },
  {
   "cell_type": "code",
   "execution_count": 2,
   "metadata": {},
   "outputs": [
    {
     "name": "stdout",
     "output_type": "stream",
     "text": [
      "总用量 1M\n",
      "drwxrwxr-x 3 liuxy liuxy 1M 10月  6 18:16 iter_0074000\n",
      "drwxrwxr-x 3 liuxy liuxy 1M 10月  6 18:35 iter_0075000\n",
      "drwxrwxr-x 3 liuxy liuxy 1M 10月  6 18:55 iter_0076000\n",
      "drwxrwxr-x 3 liuxy liuxy 1M 10月  6 19:14 iter_0077000\n",
      "drwxrwxr-x 3 liuxy liuxy 1M 10月  6 19:33 iter_0078000\n",
      "drwxrwxr-x 3 liuxy liuxy 1M 10月  6 19:53 iter_0079000\n",
      "drwxrwxr-x 3 liuxy liuxy 1M 10月  6 20:12 iter_0080000\n",
      "drwxrwxr-x 3 liuxy liuxy 1M 10月  6 20:31 iter_0081000\n",
      "drwxrwxr-x 3 liuxy liuxy 1M 10月  6 20:51 iter_0082000\n",
      "drwxrwxr-x 3 liuxy liuxy 1M 10月  6 21:10 iter_0083000\n",
      "drwxrwxr-x 3 liuxy liuxy 1M 10月  6 21:29 iter_0084000\n",
      "drwxrwxr-x 3 liuxy liuxy 1M 10月  6 21:48 iter_0085000\n",
      "drwxrwxr-x 3 liuxy liuxy 1M 10月  6 22:08 iter_0086000\n",
      "drwxrwxr-x 3 liuxy liuxy 1M 10月  6 22:27 iter_0087000\n",
      "drwxrwxr-x 3 liuxy liuxy 1M 10月  6 22:46 iter_0088000\n",
      "drwxrwxr-x 3 liuxy liuxy 1M 10月  6 23:06 iter_0089000\n",
      "drwxrwxr-x 3 liuxy liuxy 1M 10月  6 23:25 iter_0090000\n",
      "drwxrwxr-x 3 liuxy liuxy 1M 10月  6 23:44 iter_0091000\n",
      "drwxrwxr-x 3 liuxy liuxy 1M 10月  7 00:03 iter_0092000\n",
      "drwxrwxr-x 3 liuxy liuxy 1M 10月  7 00:23 iter_0093000\n",
      "drwxrwxr-x 3 liuxy liuxy 1M 10月  7 00:42 iter_0094000\n",
      "drwxrwxr-x 3 liuxy liuxy 1M 10月  7 01:01 iter_0095000\n",
      "drwxrwxr-x 3 liuxy liuxy 1M 10月  7 01:21 iter_0096000\n",
      "drwxrwxr-x 3 liuxy liuxy 1M 10月  7 01:40 iter_0097000\n",
      "drwxrwxr-x 3 liuxy liuxy 1M 10月  7 01:59 iter_0098000\n",
      "drwxrwxr-x 3 liuxy liuxy 1M 10月  7 02:18 iter_0099000\n",
      "drwxrwxr-x 3 liuxy liuxy 1M 10月  7 02:38 iter_0100000\n",
      "drwxrwxr-x 3 liuxy liuxy 1M 10月  7 02:57 iter_0101000\n",
      "drwxrwxr-x 3 liuxy liuxy 1M 10月  7 03:16 iter_0102000\n",
      "drwxrwxr-x 3 liuxy liuxy 1M 10月  7 03:35 iter_0103000\n",
      "drwxrwxr-x 3 liuxy liuxy 1M 10月  7 03:55 iter_0104000\n",
      "drwxrwxr-x 3 liuxy liuxy 1M 10月  7 04:14 iter_0105000\n",
      "drwxrwxr-x 3 liuxy liuxy 1M 10月  7 04:33 iter_0106000\n",
      "drwxrwxr-x 3 liuxy liuxy 1M 10月  7 04:52 iter_0107000\n",
      "drwxrwxr-x 3 liuxy liuxy 1M 10月  7 05:12 iter_0108000\n",
      "drwxrwxr-x 3 liuxy liuxy 1M 10月  7 05:31 iter_0109000\n",
      "drwxrwxr-x 3 liuxy liuxy 1M 10月  7 05:50 iter_0110000\n",
      "drwxrwxr-x 3 liuxy liuxy 1M 10月  7 06:09 iter_0111000\n",
      "drwxrwxr-x 3 liuxy liuxy 1M 10月  7 06:28 iter_0112000\n",
      "drwxrwxr-x 3 liuxy liuxy 1M 10月  7 06:48 iter_0113000\n",
      "drwxrwxr-x 3 liuxy liuxy 1M 10月  7 07:07 iter_0114000\n",
      "drwxrwxr-x 3 liuxy liuxy 1M 10月  7 07:26 iter_0115000\n",
      "drwxrwxr-x 3 liuxy liuxy 1M 10月  7 07:45 iter_0116000\n",
      "drwxrwxr-x 3 liuxy liuxy 1M 10月  7 08:05 iter_0117000\n",
      "drwxrwxr-x 3 liuxy liuxy 1M 10月  7 08:24 iter_0118000\n",
      "drwxrwxr-x 3 liuxy liuxy 1M 10月  7 08:43 iter_0119000\n",
      "drwxrwxr-x 3 liuxy liuxy 1M 10月  7 09:02 iter_0120000\n",
      "drwxrwxr-x 3 liuxy liuxy 1M 10月  7 09:22 iter_0121000\n",
      "drwxrwxr-x 3 liuxy liuxy 1M 10月  7 09:41 iter_0122000\n",
      "drwxrwxr-x 3 liuxy liuxy 1M 10月  7 10:00 iter_0123000\n",
      "drwxrwxr-x 3 liuxy liuxy 1M 10月  7 10:19 iter_0124000\n",
      "drwxrwxr-x 3 liuxy liuxy 1M 10月  7 10:38 iter_0125000\n",
      "drwxrwxr-x 3 liuxy liuxy 1M 10月  7 10:57 iter_0126000\n",
      "drwxrwxr-x 3 liuxy liuxy 1M 10月  7 11:16 iter_0127000\n",
      "drwxrwxr-x 3 liuxy liuxy 1M 10月  7 11:35 iter_0128000\n",
      "-rw-rw-rw- 1 liuxy liuxy 1M 10月  7 11:36 latest_checkpointed_iteration.txt\n"
     ]
    }
   ],
   "source": [
    "!ls -l --block-size=M {CHECKPOINTS_DIR}"
   ]
  },
  {
   "cell_type": "code",
   "execution_count": 3,
   "metadata": {},
   "outputs": [
    {
     "name": "stdout",
     "output_type": "stream",
     "text": [
      "删除 ../checkpoints/gpt2_180m_百科/iter_0074000\n",
      "删除 ../checkpoints/gpt2_180m_百科/iter_0075000\n",
      "删除 ../checkpoints/gpt2_180m_百科/iter_0076000\n",
      "删除 ../checkpoints/gpt2_180m_百科/iter_0077000\n",
      "删除 ../checkpoints/gpt2_180m_百科/iter_0078000\n",
      "删除 ../checkpoints/gpt2_180m_百科/iter_0079000\n",
      "删除 ../checkpoints/gpt2_180m_百科/iter_0080000\n",
      "删除 ../checkpoints/gpt2_180m_百科/iter_0081000\n",
      "删除 ../checkpoints/gpt2_180m_百科/iter_0082000\n",
      "删除 ../checkpoints/gpt2_180m_百科/iter_0083000\n",
      "删除 ../checkpoints/gpt2_180m_百科/iter_0084000\n",
      "删除 ../checkpoints/gpt2_180m_百科/iter_0085000\n",
      "删除 ../checkpoints/gpt2_180m_百科/iter_0086000\n",
      "删除 ../checkpoints/gpt2_180m_百科/iter_0087000\n",
      "删除 ../checkpoints/gpt2_180m_百科/iter_0088000\n",
      "删除 ../checkpoints/gpt2_180m_百科/iter_0089000\n",
      "删除 ../checkpoints/gpt2_180m_百科/iter_0090000\n",
      "删除 ../checkpoints/gpt2_180m_百科/iter_0091000\n",
      "删除 ../checkpoints/gpt2_180m_百科/iter_0092000\n",
      "删除 ../checkpoints/gpt2_180m_百科/iter_0093000\n",
      "删除 ../checkpoints/gpt2_180m_百科/iter_0094000\n",
      "删除 ../checkpoints/gpt2_180m_百科/iter_0095000\n",
      "删除 ../checkpoints/gpt2_180m_百科/iter_0096000\n",
      "删除 ../checkpoints/gpt2_180m_百科/iter_0097000\n",
      "删除 ../checkpoints/gpt2_180m_百科/iter_0098000\n",
      "删除 ../checkpoints/gpt2_180m_百科/iter_0099000\n",
      "删除 ../checkpoints/gpt2_180m_百科/iter_0100000\n",
      "删除 ../checkpoints/gpt2_180m_百科/iter_0101000\n",
      "删除 ../checkpoints/gpt2_180m_百科/iter_0102000\n",
      "删除 ../checkpoints/gpt2_180m_百科/iter_0103000\n",
      "删除 ../checkpoints/gpt2_180m_百科/iter_0104000\n",
      "删除 ../checkpoints/gpt2_180m_百科/iter_0105000\n",
      "删除 ../checkpoints/gpt2_180m_百科/iter_0106000\n",
      "删除 ../checkpoints/gpt2_180m_百科/iter_0107000\n",
      "删除 ../checkpoints/gpt2_180m_百科/iter_0108000\n",
      "删除 ../checkpoints/gpt2_180m_百科/iter_0109000\n",
      "删除 ../checkpoints/gpt2_180m_百科/iter_0110000\n",
      "删除 ../checkpoints/gpt2_180m_百科/iter_0111000\n",
      "删除 ../checkpoints/gpt2_180m_百科/iter_0112000\n",
      "删除 ../checkpoints/gpt2_180m_百科/iter_0113000\n",
      "删除 ../checkpoints/gpt2_180m_百科/iter_0114000\n",
      "删除 ../checkpoints/gpt2_180m_百科/iter_0115000\n",
      "删除 ../checkpoints/gpt2_180m_百科/iter_0116000\n",
      "删除 ../checkpoints/gpt2_180m_百科/iter_0117000\n",
      "删除 ../checkpoints/gpt2_180m_百科/iter_0118000\n"
     ]
    }
   ],
   "source": [
    "import os\n",
    "import shutil\n",
    "\n",
    "dirnames = sorted([\n",
    "    dirname\n",
    "    for dirname in os.listdir(CHECKPOINTS_DIR)\n",
    "    if dirname.startswith('iter_')\n",
    "])\n",
    "\n",
    "for dirname in dirnames[ : -1*RESERVE_COUNT]:\n",
    "    target_dirname = os.path.join(CHECKPOINTS_DIR, dirname)\n",
    "    print(f'删除 {target_dirname}')\n",
    "    shutil.rmtree(target_dirname)"
   ]
  },
  {
   "cell_type": "code",
   "execution_count": null,
   "metadata": {},
   "outputs": [],
   "source": []
  }
 ],
 "metadata": {
  "kernelspec": {
   "display_name": "Python [conda env:hmgpt2-cpu-dev]",
   "language": "python",
   "name": "conda-env-hmgpt2-cpu-dev-py"
  },
  "language_info": {
   "codemirror_mode": {
    "name": "ipython",
    "version": 3
   },
   "file_extension": ".py",
   "mimetype": "text/x-python",
   "name": "python",
   "nbconvert_exporter": "python",
   "pygments_lexer": "ipython3",
   "version": "3.7.4"
  },
  "widgets": {
   "application/vnd.jupyter.widget-state+json": {
    "state": {},
    "version_major": 2,
    "version_minor": 0
   }
  }
 },
 "nbformat": 4,
 "nbformat_minor": 4
}
