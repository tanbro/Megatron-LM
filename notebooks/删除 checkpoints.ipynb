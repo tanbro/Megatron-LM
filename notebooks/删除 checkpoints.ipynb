{
 "cells": [
  {
   "cell_type": "markdown",
   "metadata": {},
   "source": [
    "# 删除 checkpooints"
   ]
  },
  {
   "cell_type": "markdown",
   "metadata": {},
   "source": [
    "删除旧的 checkpoints，只保留最近的几个"
   ]
  },
  {
   "cell_type": "code",
   "execution_count": 1,
   "metadata": {},
   "outputs": [],
   "source": [
    "# checkpoint 目录\n",
    "# CHECKPOINTS_DIR = \"../checkpoints/gpt2_117m_hm8g/\"\n",
    "CHECKPOINTS_DIR = \"../checkpoints/gpt2-117m-emotion/\"\n",
    "\n",
    "# 要保留而不删除的最近checkpoint数量\n",
    "RESERVE_COUNT = 5"
   ]
  },
  {
   "cell_type": "code",
   "execution_count": 2,
   "metadata": {},
   "outputs": [
    {
     "name": "stdout",
     "output_type": "stream",
     "text": [
      "1.5G\t../checkpoints/gpt2-117m-emotion/iter_0140000\n",
      "1.5G\t../checkpoints/gpt2-117m-emotion/iter_0125000\n",
      "1.5G\t../checkpoints/gpt2-117m-emotion/iter_0145000\n",
      "1.5G\t../checkpoints/gpt2-117m-emotion/iter_0135000\n",
      "1.5G\t../checkpoints/gpt2-117m-emotion/iter_0130000\n",
      "1.5G\t../checkpoints/gpt2-117m-emotion/iter_0115000\n",
      "1.5G\t../checkpoints/gpt2-117m-emotion/iter_0120000\n",
      "11G\t../checkpoints/gpt2-117m-emotion/\n"
     ]
    }
   ],
   "source": [
    "!du -d1 -h {CHECKPOINTS_DIR}"
   ]
  },
  {
   "cell_type": "code",
   "execution_count": 3,
   "metadata": {},
   "outputs": [
    {
     "data": {
      "application/vnd.jupyter.widget-view+json": {
       "model_id": "401a9e429ac445d78cbe76358bfb252d",
       "version_major": 2,
       "version_minor": 0
      },
      "text/plain": [
       "HBox(children=(IntProgress(value=0, max=2), HTML(value='')))"
      ]
     },
     "metadata": {},
     "output_type": "display_data"
    },
    {
     "name": "stdout",
     "output_type": "stream",
     "text": [
      "删除 ../checkpoints/gpt2-117m-emotion/iter_0115000\n",
      "删除 ../checkpoints/gpt2-117m-emotion/iter_0120000\n",
      "\n"
     ]
    }
   ],
   "source": [
    "import os\n",
    "import shutil\n",
    "\n",
    "from tqdm.auto import tqdm\n",
    "\n",
    "dirnames = sorted([\n",
    "    dirname\n",
    "    for dirname in os.listdir(CHECKPOINTS_DIR)\n",
    "    if dirname.startswith('iter_')\n",
    "])\n",
    "\n",
    "deleting_dirnames = dirnames[ : -1*RESERVE_COUNT]\n",
    "\n",
    "for dirname in tqdm(deleting_dirnames):\n",
    "    target_dirname = os.path.join(CHECKPOINTS_DIR, dirname)\n",
    "    print(f'删除 {target_dirname}')\n",
    "    shutil.rmtree(target_dirname)"
   ]
  },
  {
   "cell_type": "code",
   "execution_count": 4,
   "metadata": {},
   "outputs": [
    {
     "name": "stdout",
     "output_type": "stream",
     "text": [
      "1.5G\t../checkpoints/gpt2-117m-emotion/iter_0140000\n",
      "1.5G\t../checkpoints/gpt2-117m-emotion/iter_0125000\n",
      "1.5G\t../checkpoints/gpt2-117m-emotion/iter_0145000\n",
      "1.5G\t../checkpoints/gpt2-117m-emotion/iter_0135000\n",
      "1.5G\t../checkpoints/gpt2-117m-emotion/iter_0130000\n",
      "7.3G\t../checkpoints/gpt2-117m-emotion/\n"
     ]
    }
   ],
   "source": [
    "!du -d1 -h {CHECKPOINTS_DIR}"
   ]
  },
  {
   "cell_type": "code",
   "execution_count": null,
   "metadata": {},
   "outputs": [],
   "source": []
  }
 ],
 "metadata": {
  "file_extension": ".py",
  "kernelspec": {
   "display_name": "Python [conda env:Megatron_LM-ipy]",
   "language": "python",
   "name": "conda-env-Megatron_LM-ipy-py"
  },
  "language_info": {
   "codemirror_mode": {
    "name": "ipython",
    "version": 3
   },
   "file_extension": ".py",
   "mimetype": "text/x-python",
   "name": "python",
   "nbconvert_exporter": "python",
   "pygments_lexer": "ipython3",
   "version": "3.7.4"
  },
  "mimetype": "text/x-python",
  "name": "python",
  "npconvert_exporter": "python",
  "pygments_lexer": "ipython3",
  "version": 3,
  "widgets": {
   "application/vnd.jupyter.widget-state+json": {
    "state": {
     "2173fbcfcbd74c5e92dca3d1386d6ac5": {
      "model_module": "@jupyter-widgets/controls",
      "model_module_version": "1.5.0",
      "model_name": "ProgressStyleModel",
      "state": {
       "description_width": "initial"
      }
     },
     "36616b2e4f3748d0b4f5c19321269a87": {
      "model_module": "@jupyter-widgets/controls",
      "model_module_version": "1.5.0",
      "model_name": "DescriptionStyleModel",
      "state": {
       "description_width": ""
      }
     },
     "401a9e429ac445d78cbe76358bfb252d": {
      "model_module": "@jupyter-widgets/controls",
      "model_module_version": "1.5.0",
      "model_name": "HBoxModel",
      "state": {
       "children": [
        "IPY_MODEL_d6d10d1f56e74208bc3d9acaedfe4cb2",
        "IPY_MODEL_b5fade501cee49568cb8e1f77c46d650"
       ],
       "layout": "IPY_MODEL_5ad31ffa449e4c0bb77490089ccf5227"
      }
     },
     "5ad31ffa449e4c0bb77490089ccf5227": {
      "model_module": "@jupyter-widgets/base",
      "model_module_version": "1.2.0",
      "model_name": "LayoutModel",
      "state": {}
     },
     "67418f26784441329edd80eb288945fc": {
      "model_module": "@jupyter-widgets/controls",
      "model_module_version": "1.5.0",
      "model_name": "HBoxModel",
      "state": {
       "children": [
        "IPY_MODEL_fb131b8c0a614d50b7128d42e621649b",
        "IPY_MODEL_72ab5432518144aebbd894ebea0b7941"
       ],
       "layout": "IPY_MODEL_c4e76aedeea74ea0b9c78c9c826a43e4"
      }
     },
     "72ab5432518144aebbd894ebea0b7941": {
      "model_module": "@jupyter-widgets/controls",
      "model_module_version": "1.5.0",
      "model_name": "HTMLModel",
      "state": {
       "layout": "IPY_MODEL_f22f9e0b06584104acc942b58835c53d",
       "style": "IPY_MODEL_36616b2e4f3748d0b4f5c19321269a87",
       "value": " 1/1 [00:00&lt;00:00,  6.05it/s]"
      }
     },
     "89f11e36a94846eaa30036cb00ff3f30": {
      "model_module": "@jupyter-widgets/base",
      "model_module_version": "1.2.0",
      "model_name": "LayoutModel",
      "state": {}
     },
     "8ae275b539a345f7ad088a9a876950f9": {
      "model_module": "@jupyter-widgets/controls",
      "model_module_version": "1.5.0",
      "model_name": "ProgressStyleModel",
      "state": {
       "description_width": "initial"
      }
     },
     "a4e9960d67fa44cfbfaea6a171fcb73a": {
      "model_module": "@jupyter-widgets/controls",
      "model_module_version": "1.5.0",
      "model_name": "DescriptionStyleModel",
      "state": {
       "description_width": ""
      }
     },
     "a9f2a2525e96475ab84b990db47b9368": {
      "model_module": "@jupyter-widgets/base",
      "model_module_version": "1.2.0",
      "model_name": "LayoutModel",
      "state": {}
     },
     "b5fade501cee49568cb8e1f77c46d650": {
      "model_module": "@jupyter-widgets/controls",
      "model_module_version": "1.5.0",
      "model_name": "HTMLModel",
      "state": {
       "layout": "IPY_MODEL_b6b0535964bf4e66919d496e13e56968",
       "style": "IPY_MODEL_a4e9960d67fa44cfbfaea6a171fcb73a",
       "value": " 2/2 [00:00&lt;00:00,  7.35it/s]"
      }
     },
     "b6b0535964bf4e66919d496e13e56968": {
      "model_module": "@jupyter-widgets/base",
      "model_module_version": "1.2.0",
      "model_name": "LayoutModel",
      "state": {}
     },
     "c4e76aedeea74ea0b9c78c9c826a43e4": {
      "model_module": "@jupyter-widgets/base",
      "model_module_version": "1.2.0",
      "model_name": "LayoutModel",
      "state": {}
     },
     "d6d10d1f56e74208bc3d9acaedfe4cb2": {
      "model_module": "@jupyter-widgets/controls",
      "model_module_version": "1.5.0",
      "model_name": "IntProgressModel",
      "state": {
       "bar_style": "success",
       "description": "100%",
       "layout": "IPY_MODEL_a9f2a2525e96475ab84b990db47b9368",
       "max": 2,
       "style": "IPY_MODEL_8ae275b539a345f7ad088a9a876950f9",
       "value": 2
      }
     },
     "f22f9e0b06584104acc942b58835c53d": {
      "model_module": "@jupyter-widgets/base",
      "model_module_version": "1.2.0",
      "model_name": "LayoutModel",
      "state": {}
     },
     "fb131b8c0a614d50b7128d42e621649b": {
      "model_module": "@jupyter-widgets/controls",
      "model_module_version": "1.5.0",
      "model_name": "IntProgressModel",
      "state": {
       "bar_style": "success",
       "description": "100%",
       "layout": "IPY_MODEL_89f11e36a94846eaa30036cb00ff3f30",
       "max": 1,
       "style": "IPY_MODEL_2173fbcfcbd74c5e92dca3d1386d6ac5",
       "value": 1
      }
     }
    },
    "version_major": 2,
    "version_minor": 0
   }
  }
 },
 "nbformat": 4,
 "nbformat_minor": 4
}
