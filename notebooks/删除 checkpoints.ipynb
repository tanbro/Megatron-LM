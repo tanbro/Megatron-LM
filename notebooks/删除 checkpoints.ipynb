{
 "cells": [
  {
   "cell_type": "markdown",
   "metadata": {},
   "source": [
    "# 删除 checkpooints"
   ]
  },
  {
   "cell_type": "markdown",
   "metadata": {},
   "source": [
    "删除旧的 checkpoints，只保留最近的几个"
   ]
  },
  {
   "cell_type": "code",
   "execution_count": null,
   "metadata": {},
   "outputs": [],
   "source": [
    "# checkpoint 目录\n",
    "# CHECKPOINTS_DIR = \"../checkpoints/gpt2_117m_hm8g/\"\n",
    "CHECKPOINTS_DIR = \"../checkpoints/gpt2-117m-emotion/\"\n",
    "\n",
    "# 要保留而不删除的最近checkpoint数量\n",
    "RESERVE_COUNT = 5"
   ]
  },
  {
   "cell_type": "code",
   "execution_count": null,
   "metadata": {},
   "outputs": [],
   "source": [
    "!du -d1 -h {CHECKPOINTS_DIR}"
   ]
  },
  {
   "cell_type": "code",
   "execution_count": null,
   "metadata": {},
   "outputs": [],
   "source": [
    "import os\n",
    "import shutil\n",
    "\n",
    "from tqdm.auto import tqdm\n",
    "\n",
    "dirnames = sorted([\n",
    "    dirname\n",
    "    for dirname in os.listdir(CHECKPOINTS_DIR)\n",
    "    if dirname.startswith('iter_')\n",
    "])\n",
    "\n",
    "deleting_dirnames = dirnames[ : -1*RESERVE_COUNT]\n",
    "\n",
    "for dirname in tqdm(deleting_dirnames):\n",
    "    target_dirname = os.path.join(CHECKPOINTS_DIR, dirname)\n",
    "    print(f'删除 {target_dirname}')\n",
    "    shutil.rmtree(target_dirname)"
   ]
  },
  {
   "cell_type": "code",
   "execution_count": null,
   "metadata": {},
   "outputs": [],
   "source": [
    "!du -d1 -h {CHECKPOINTS_DIR}"
   ]
  },
  {
   "cell_type": "code",
   "execution_count": null,
   "metadata": {},
   "outputs": [],
   "source": []
  }
 ],
 "metadata": {
  "file_extension": ".py",
  "kernelspec": {
   "display_name": "Python [conda env:Megatron_LM-ipy]",
   "language": "python",
   "name": "conda-env-Megatron_LM-ipy-py"
  },
  "language_info": {
   "codemirror_mode": {
    "name": "ipython",
    "version": 3
   },
   "file_extension": ".py",
   "mimetype": "text/x-python",
   "name": "python",
   "nbconvert_exporter": "python",
   "pygments_lexer": "ipython3",
   "version": "3.7.4"
  },
  "mimetype": "text/x-python",
  "name": "python",
  "npconvert_exporter": "python",
  "pygments_lexer": "ipython3",
  "version": 3,
  "widgets": {
   "application/vnd.jupyter.widget-state+json": {
    "state": {},
    "version_major": 2,
    "version_minor": 0
   }
  }
 },
 "nbformat": 4,
 "nbformat_minor": 4
}
