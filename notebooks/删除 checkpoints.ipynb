{
 "cells": [
  {
   "cell_type": "markdown",
   "metadata": {},
   "source": [
    "# 删除 checkpooints"
   ]
  },
  {
   "cell_type": "markdown",
   "metadata": {},
   "source": [
    "删除旧的 checkpoints，只保留最近的几个"
   ]
  },
  {
   "cell_type": "code",
   "execution_count": 1,
   "metadata": {},
   "outputs": [],
   "source": [
    "# checkpoint 目录\n",
    "CHECKPOINTS_DIR = \"../checkpoints/gpt2_117m_hm8g\"\n",
    "# CHECKPOINTS_DIR = \"../checkpoints/gpt2_180m_百科/\"\n",
    "\n",
    "# 要保留而不删除的最近checkpoint数量\n",
    "RESERVE_COUNT = 5"
   ]
  },
  {
   "cell_type": "code",
   "execution_count": 2,
   "metadata": {},
   "outputs": [
    {
     "name": "stdout",
     "output_type": "stream",
     "text": [
      "2G\t../checkpoints/gpt2_117m_hm8g/iter_0007000/mp_rank_00\n",
      "2G\t../checkpoints/gpt2_117m_hm8g/iter_0007000\n",
      "2G\t../checkpoints/gpt2_117m_hm8g/iter_0002000/mp_rank_00\n",
      "2G\t../checkpoints/gpt2_117m_hm8g/iter_0002000\n",
      "2G\t../checkpoints/gpt2_117m_hm8g/iter_0019000/mp_rank_00\n",
      "2G\t../checkpoints/gpt2_117m_hm8g/iter_0019000\n",
      "2G\t../checkpoints/gpt2_117m_hm8g/iter_0006000/mp_rank_00\n",
      "2G\t../checkpoints/gpt2_117m_hm8g/iter_0006000\n",
      "2G\t../checkpoints/gpt2_117m_hm8g/iter_0013000/mp_rank_00\n",
      "2G\t../checkpoints/gpt2_117m_hm8g/iter_0013000\n",
      "2G\t../checkpoints/gpt2_117m_hm8g/iter_0015000/mp_rank_00\n",
      "2G\t../checkpoints/gpt2_117m_hm8g/iter_0015000\n",
      "2G\t../checkpoints/gpt2_117m_hm8g/iter_0009000/mp_rank_00\n",
      "2G\t../checkpoints/gpt2_117m_hm8g/iter_0009000\n",
      "2G\t../checkpoints/gpt2_117m_hm8g/iter_0005000/mp_rank_00\n",
      "2G\t../checkpoints/gpt2_117m_hm8g/iter_0005000\n",
      "2G\t../checkpoints/gpt2_117m_hm8g/iter_0014000/mp_rank_00\n",
      "2G\t../checkpoints/gpt2_117m_hm8g/iter_0014000\n",
      "2G\t../checkpoints/gpt2_117m_hm8g/iter_0016000/mp_rank_00\n",
      "2G\t../checkpoints/gpt2_117m_hm8g/iter_0016000\n",
      "2G\t../checkpoints/gpt2_117m_hm8g/iter_0011000/mp_rank_00\n",
      "2G\t../checkpoints/gpt2_117m_hm8g/iter_0011000\n",
      "2G\t../checkpoints/gpt2_117m_hm8g/iter_0012000/mp_rank_00\n",
      "2G\t../checkpoints/gpt2_117m_hm8g/iter_0012000\n",
      "2G\t../checkpoints/gpt2_117m_hm8g/iter_0004000/mp_rank_00\n",
      "2G\t../checkpoints/gpt2_117m_hm8g/iter_0004000\n",
      "2G\t../checkpoints/gpt2_117m_hm8g/iter_0010000/mp_rank_00\n",
      "2G\t../checkpoints/gpt2_117m_hm8g/iter_0010000\n",
      "2G\t../checkpoints/gpt2_117m_hm8g/iter_0018000/mp_rank_00\n",
      "2G\t../checkpoints/gpt2_117m_hm8g/iter_0018000\n",
      "2G\t../checkpoints/gpt2_117m_hm8g/iter_0001000/mp_rank_00\n",
      "2G\t../checkpoints/gpt2_117m_hm8g/iter_0001000\n",
      "2G\t../checkpoints/gpt2_117m_hm8g/iter_0003000/mp_rank_00\n",
      "2G\t../checkpoints/gpt2_117m_hm8g/iter_0003000\n",
      "2G\t../checkpoints/gpt2_117m_hm8g/iter_0008000/mp_rank_00\n",
      "2G\t../checkpoints/gpt2_117m_hm8g/iter_0008000\n",
      "2G\t../checkpoints/gpt2_117m_hm8g/iter_0017000/mp_rank_00\n",
      "2G\t../checkpoints/gpt2_117m_hm8g/iter_0017000\n",
      "28G\t../checkpoints/gpt2_117m_hm8g\n"
     ]
    }
   ],
   "source": [
    "!du --block-size=G {CHECKPOINTS_DIR}"
   ]
  },
  {
   "cell_type": "code",
   "execution_count": 3,
   "metadata": {},
   "outputs": [
    {
     "name": "stderr",
     "output_type": "stream",
     "text": [
      "/home/liuxy/miniconda3/envs/Megatron-LM/lib/python3.7/site-packages/tqdm/autonotebook.py:17: TqdmExperimentalWarning: Using `tqdm.autonotebook.tqdm` in notebook mode. Use `tqdm.tqdm` instead to force console mode (e.g. in jupyter console)\n",
      "  \" (e.g. in jupyter console)\", TqdmExperimentalWarning)\n"
     ]
    },
    {
     "data": {
      "application/vnd.jupyter.widget-view+json": {
       "model_id": "2ef6e80f4e4c492f91a9eee16183a09d",
       "version_major": 2,
       "version_minor": 0
      },
      "text/plain": [
       "HBox(children=(IntProgress(value=0, max=14), HTML(value='')))"
      ]
     },
     "metadata": {},
     "output_type": "display_data"
    },
    {
     "name": "stdout",
     "output_type": "stream",
     "text": [
      "删除 ../checkpoints/gpt2_117m_hm8g/iter_0001000\n",
      "删除 ../checkpoints/gpt2_117m_hm8g/iter_0002000\n",
      "删除 ../checkpoints/gpt2_117m_hm8g/iter_0003000\n",
      "删除 ../checkpoints/gpt2_117m_hm8g/iter_0004000\n",
      "删除 ../checkpoints/gpt2_117m_hm8g/iter_0005000\n",
      "删除 ../checkpoints/gpt2_117m_hm8g/iter_0006000\n",
      "删除 ../checkpoints/gpt2_117m_hm8g/iter_0007000\n",
      "删除 ../checkpoints/gpt2_117m_hm8g/iter_0008000\n",
      "删除 ../checkpoints/gpt2_117m_hm8g/iter_0009000\n",
      "删除 ../checkpoints/gpt2_117m_hm8g/iter_0010000\n",
      "删除 ../checkpoints/gpt2_117m_hm8g/iter_0011000\n",
      "删除 ../checkpoints/gpt2_117m_hm8g/iter_0012000\n",
      "删除 ../checkpoints/gpt2_117m_hm8g/iter_0013000\n",
      "删除 ../checkpoints/gpt2_117m_hm8g/iter_0014000\n",
      "\n"
     ]
    }
   ],
   "source": [
    "import os\n",
    "import shutil\n",
    "\n",
    "from tqdm.auto import tqdm\n",
    "\n",
    "dirnames = sorted([\n",
    "    dirname\n",
    "    for dirname in os.listdir(CHECKPOINTS_DIR)\n",
    "    if dirname.startswith('iter_')\n",
    "])\n",
    "\n",
    "deleting_dirnames = dirnames[ : -1*RESERVE_COUNT]\n",
    "\n",
    "for dirname in tqdm(deleting_dirnames):\n",
    "    target_dirname = os.path.join(CHECKPOINTS_DIR, dirname)\n",
    "    print(f'删除 {target_dirname}')\n",
    "    shutil.rmtree(target_dirname)"
   ]
  },
  {
   "cell_type": "code",
   "execution_count": 4,
   "metadata": {},
   "outputs": [
    {
     "name": "stdout",
     "output_type": "stream",
     "text": [
      "2G\t../checkpoints/gpt2_117m_hm8g/iter_0019000/mp_rank_00\n",
      "2G\t../checkpoints/gpt2_117m_hm8g/iter_0019000\n",
      "2G\t../checkpoints/gpt2_117m_hm8g/iter_0015000/mp_rank_00\n",
      "2G\t../checkpoints/gpt2_117m_hm8g/iter_0015000\n",
      "2G\t../checkpoints/gpt2_117m_hm8g/iter_0016000/mp_rank_00\n",
      "2G\t../checkpoints/gpt2_117m_hm8g/iter_0016000\n",
      "2G\t../checkpoints/gpt2_117m_hm8g/iter_0018000/mp_rank_00\n",
      "2G\t../checkpoints/gpt2_117m_hm8g/iter_0018000\n",
      "2G\t../checkpoints/gpt2_117m_hm8g/iter_0017000/mp_rank_00\n",
      "2G\t../checkpoints/gpt2_117m_hm8g/iter_0017000\n",
      "8G\t../checkpoints/gpt2_117m_hm8g\n"
     ]
    }
   ],
   "source": [
    "!du --block-size=G {CHECKPOINTS_DIR}"
   ]
  },
  {
   "cell_type": "code",
   "execution_count": null,
   "metadata": {},
   "outputs": [],
   "source": []
  }
 ],
 "metadata": {
  "file_extension": ".py",
  "kernelspec": {
   "display_name": "Python [conda env:Megatron-LM]",
   "language": "python",
   "name": "conda-env-Megatron-LM-py"
  },
  "language_info": {
   "codemirror_mode": {
    "name": "ipython",
    "version": 3
   },
   "file_extension": ".py",
   "mimetype": "text/x-python",
   "name": "python",
   "nbconvert_exporter": "python",
   "pygments_lexer": "ipython3",
   "version": "3.7.4"
  },
  "mimetype": "text/x-python",
  "name": "python",
  "npconvert_exporter": "python",
  "pygments_lexer": "ipython3",
  "version": 3,
  "widgets": {
   "application/vnd.jupyter.widget-state+json": {
    "state": {
     "26943a0e3d56410d92c1e3b680075893": {
      "model_module": "@jupyter-widgets/base",
      "model_module_version": "1.2.0",
      "model_name": "LayoutModel",
      "state": {}
     },
     "2ef6e80f4e4c492f91a9eee16183a09d": {
      "model_module": "@jupyter-widgets/controls",
      "model_module_version": "1.5.0",
      "model_name": "HBoxModel",
      "state": {
       "children": [
        "IPY_MODEL_423d6f5598cc4e608230fcabb748c1f9",
        "IPY_MODEL_ddb0120f919b40a796b1ddb8ac4d89f1"
       ],
       "layout": "IPY_MODEL_cc2bc4b708a647a7bc9afdf6a7745fd4"
      }
     },
     "423d6f5598cc4e608230fcabb748c1f9": {
      "model_module": "@jupyter-widgets/controls",
      "model_module_version": "1.5.0",
      "model_name": "IntProgressModel",
      "state": {
       "bar_style": "success",
       "description": "100%",
       "layout": "IPY_MODEL_4ef59041d9d24fc692beb437d5e35b1c",
       "max": 14,
       "style": "IPY_MODEL_81e813bb42e9402895a6fc39247773af",
       "value": 14
      }
     },
     "4ef59041d9d24fc692beb437d5e35b1c": {
      "model_module": "@jupyter-widgets/base",
      "model_module_version": "1.2.0",
      "model_name": "LayoutModel",
      "state": {}
     },
     "81e813bb42e9402895a6fc39247773af": {
      "model_module": "@jupyter-widgets/controls",
      "model_module_version": "1.5.0",
      "model_name": "ProgressStyleModel",
      "state": {
       "description_width": "initial"
      }
     },
     "cc2bc4b708a647a7bc9afdf6a7745fd4": {
      "model_module": "@jupyter-widgets/base",
      "model_module_version": "1.2.0",
      "model_name": "LayoutModel",
      "state": {}
     },
     "ddb0120f919b40a796b1ddb8ac4d89f1": {
      "model_module": "@jupyter-widgets/controls",
      "model_module_version": "1.5.0",
      "model_name": "HTMLModel",
      "state": {
       "layout": "IPY_MODEL_26943a0e3d56410d92c1e3b680075893",
       "style": "IPY_MODEL_fa1260dd116640079b0e4aa021d297d1",
       "value": " 14/14 [00:01&lt;00:00,  7.69it/s]"
      }
     },
     "fa1260dd116640079b0e4aa021d297d1": {
      "model_module": "@jupyter-widgets/controls",
      "model_module_version": "1.5.0",
      "model_name": "DescriptionStyleModel",
      "state": {
       "description_width": ""
      }
     }
    },
    "version_major": 2,
    "version_minor": 0
   }
  }
 },
 "nbformat": 4,
 "nbformat_minor": 4
}
