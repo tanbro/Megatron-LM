{
 "cells": [
  {
   "cell_type": "markdown",
   "metadata": {},
   "source": [
    "# 按行采样和划分语料"
   ]
  },
  {
   "cell_type": "markdown",
   "metadata": {},
   "source": [
    "## Importings"
   ]
  },
  {
   "cell_type": "code",
   "execution_count": 1,
   "metadata": {},
   "outputs": [],
   "source": [
    "import os\n",
    "import random\n",
    "from contextlib import ExitStack \n",
    "from glob import glob\n",
    "from itertools import chain, repeat\n",
    "from multiprocessing import Pool\n",
    "from pathlib import Path\n",
    "\n",
    "import numpy as np\n",
    "from tqdm.auto import tqdm"
   ]
  },
  {
   "cell_type": "markdown",
   "metadata": {},
   "source": [
    "## Constants"
   ]
  },
  {
   "cell_type": "code",
   "execution_count": 2,
   "metadata": {},
   "outputs": [],
   "source": [
    "CORPUS_FILES = ['../data/wikipedia/wikidump_lines.json']"
   ]
  },
  {
   "cell_type": "markdown",
   "metadata": {},
   "source": [
    "## Functions"
   ]
  },
  {
   "cell_type": "code",
   "execution_count": 3,
   "metadata": {},
   "outputs": [],
   "source": [
    "def get_lines(path, show_progress=False):\n",
    "    with open(path) as fp:\n",
    "        return sum(1 for line in tqdm(fp , disable=(not show_progress)))\n",
    "\n",
    "def get_total_lines(paths, show_progress=True):\n",
    "    if isinstance(paths, (str, Path)):\n",
    "        paths = [paths]\n",
    "    try:\n",
    "        total = len(paths)\n",
    "    except TypeError:\n",
    "        total = None\n",
    "    processes = max(os.cpu_count(), len(paths))\n",
    "    with Pool(processes) as pool:\n",
    "        it = pool.imap_unordered(\n",
    "            get_lines,\n",
    "            tqdm(paths, 'Get lines - mapping', unit='file', disable=(not show_progress))\n",
    "        )\n",
    "        return sum(\n",
    "            tqdm(it, 'Get lines - reducing', total=total, unit='file', disable=(not show_progress))\n",
    "        )\n",
    "        \n",
    "def iterate_lines(paths, show_progress=True):\n",
    "    if isinstance(paths, (str, Path)):\n",
    "        paths = [paths]\n",
    "    return chain.from_iterable(\n",
    "        open(path)\n",
    "        for path\n",
    "        in tqdm(paths, unit='file', disable=(not show_progress))\n",
    "    )\n",
    "\n"
   ]
  },
  {
   "cell_type": "code",
   "execution_count": 4,
   "metadata": {},
   "outputs": [
    {
     "data": {
      "application/vnd.jupyter.widget-view+json": {
       "model_id": "81d5ff28f4f64ad5abad98137f72617d",
       "version_major": 2,
       "version_minor": 0
      },
      "text/plain": [
       "HBox(children=(IntProgress(value=0, description='Get lines - mapping', max=1, style=ProgressStyle(description_…"
      ]
     },
     "metadata": {},
     "output_type": "display_data"
    },
    {
     "data": {
      "application/vnd.jupyter.widget-view+json": {
       "model_id": "43a96cb8c3a54f77b6b63ebb95180b13",
       "version_major": 2,
       "version_minor": 0
      },
      "text/plain": [
       "HBox(children=(IntProgress(value=0, description='Get lines - reducing', max=1, style=ProgressStyle(description…"
      ]
     },
     "metadata": {},
     "output_type": "display_data"
    },
    {
     "name": "stdout",
     "output_type": "stream",
     "text": [
      "\n",
      "\n",
      "977539\n"
     ]
    }
   ],
   "source": [
    "total_lines = get_total_lines(CORPUS_FILES)\n",
    "print(f'{total_lines}')"
   ]
  },
  {
   "cell_type": "markdown",
   "metadata": {},
   "source": [
    "## Number of samples"
   ]
  },
  {
   "cell_type": "code",
   "execution_count": 5,
   "metadata": {},
   "outputs": [],
   "source": [
    "parts = {\n",
    "    'dev': 100,\n",
    "    'val': 10,\n",
    "}\n",
    "\n",
    "mask = []\n",
    "for name, number in parts.items():\n",
    "    mask.extend(repeat(name, number))\n",
    "mask.extend(repeat(None, total_lines-len(mask)))\n",
    "random.shuffle(mask)\n",
    "\n",
    "assert len(mask) == total_lines"
   ]
  },
  {
   "cell_type": "markdown",
   "metadata": {},
   "source": [
    "## Sample to output files"
   ]
  },
  {
   "cell_type": "code",
   "execution_count": 7,
   "metadata": {},
   "outputs": [
    {
     "data": {
      "application/vnd.jupyter.widget-view+json": {
       "model_id": "1d64715f2e424fa1a0360c51079a1897",
       "version_major": 2,
       "version_minor": 0
      },
      "text/plain": [
       "HBox(children=(IntProgress(value=0, max=977539), HTML(value='')))"
      ]
     },
     "metadata": {},
     "output_type": "display_data"
    },
    {
     "name": "stdout",
     "output_type": "stream",
     "text": [
      "\n"
     ]
    }
   ],
   "source": [
    "output_files = (\n",
    "    (name, '../data/baike.{}.json'.format(name))\n",
    "    for name in parts.keys()\n",
    ")\n",
    "with ExitStack() as stack:\n",
    "    fp_dict = {\n",
    "        name: stack.enter_context(open(fname, 'w'))\n",
    "        for name, fname in output_files\n",
    "    }\n",
    "    for m, line in tqdm(\n",
    "        zip(mask, iterate_lines(CORPUS_FILES, False)),\n",
    "        total=total_lines,\n",
    "        unit='line',\n",
    "    ):\n",
    "        fp = fp_dict.get(m)\n",
    "        if fp:\n",
    "            fp.write(line)\n"
   ]
  },
  {
   "cell_type": "code",
   "execution_count": null,
   "metadata": {},
   "outputs": [],
   "source": []
  }
 ],
 "metadata": {
  "kernelspec": {
   "display_name": "Python [conda env:Megatron_LM-ipy]",
   "language": "python",
   "name": "conda-env-Megatron_LM-ipy-py"
  },
  "language_info": {
   "codemirror_mode": {
    "name": "ipython",
    "version": 3
   },
   "file_extension": ".py",
   "mimetype": "text/x-python",
   "name": "python",
   "nbconvert_exporter": "python",
   "pygments_lexer": "ipython3",
   "version": "3.7.4"
  }
 },
 "nbformat": 4,
 "nbformat_minor": 4
}
