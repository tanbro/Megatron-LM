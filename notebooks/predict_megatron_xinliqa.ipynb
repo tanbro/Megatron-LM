{
 "cells": [
  {
   "cell_type": "markdown",
   "metadata": {},
   "source": [
    "# Megatron XinLi QA fintune 模型 预测"
   ]
  },
  {
   "cell_type": "markdown",
   "metadata": {},
   "source": [
    "## CD\n",
    "\n",
    "定位到工作目录，根据具体情况决定哦，不一定是下面的命令"
   ]
  },
  {
   "cell_type": "code",
   "execution_count": 1,
   "metadata": {},
   "outputs": [
    {
     "name": "stdout",
     "output_type": "stream",
     "text": [
      "/home/Public/Megatron-LM\n"
     ]
    }
   ],
   "source": [
    "%cd .."
   ]
  },
  {
   "cell_type": "markdown",
   "metadata": {},
   "source": [
    "## Importings"
   ]
  },
  {
   "cell_type": "code",
   "execution_count": 2,
   "metadata": {},
   "outputs": [],
   "source": [
    "import copy\n",
    "import csv\n",
    "import json\n",
    "import os\n",
    "import random\n",
    "import sys\n",
    "import time\n",
    "from contextlib import closing\n",
    "from types import SimpleNamespace\n",
    "\n",
    "import numpy as np\n",
    "import torch\n",
    "import torch.nn.functional as F\n",
    "from tqdm.auto import tqdm\n",
    "\n",
    "import mpu\n",
    "from data_utils.tokenization import SentencePieceTokenizer, make_tokenizer\n",
    "from pretrain_gpt2 import get_masks_and_position_ids\n",
    "from predict_gpt2 import initialize_distributed, prepare_tokenizer, set_random_seed, setup_model, get_token_stream"
   ]
  },
  {
   "cell_type": "markdown",
   "metadata": {},
   "source": [
    "## Args"
   ]
  },
  {
   "cell_type": "code",
   "execution_count": 3,
   "metadata": {},
   "outputs": [],
   "source": [
    "args = SimpleNamespace(\n",
    "    # Model arguments\n",
    "    num_layers=12,\n",
    "    hidden_size=768,\n",
    "    num_attention_heads=12,\n",
    "    max_position_embeddings=1024,\n",
    "    vocab_size=None,\n",
    "    make_vocab_size_divisible_by=128,\n",
    "    attention_dropout=0.1,\n",
    "    hidden_dropout=0.1,\n",
    "    # Train/valid/test data arguments.\n",
    "    seq_length=512,\n",
    "    model_parallel_size=1,\n",
    "    tokenizer_model_type='bert-large-uncased',\n",
    "    tokenizer_type=SentencePieceTokenizer,\n",
    "    tokenizer_path=\"./data/spm/gpt2_huamei_corpus_bpe_32k_v2.model\",\n",
    "    cache_dir=None,\n",
    "    # Training arguments.\n",
    "    load='./checkpoints/xinliqa_hunyin/',\n",
    "    seed=1234,\n",
    "    checkpoint_activations=None,\n",
    "    checkpoint_num_layers=1,\n",
    "    finetune=None,\n",
    "    no_load_optim=None,\n",
    "    no_load_rng=None,\n",
    "    resume_dataloader=None,\n",
    "    fp16=True,\n",
    "    hysteresis=2,\n",
    "    loss_scale=None,\n",
    "    loss_scale_window=1000,\n",
    "    min_scale=1,\n",
    "    distributed_backend='nccl',\n",
    "    DDP_impl='local',\n",
    "    local_rank=None,\n",
    "    reset_position_ids=None,\n",
    "    reset_attention_mask=None,\n",
    "    eod_mask_loss=None, \n",
    "    # Text generate arguments.\n",
    "    recompute=None,\n",
    "    greedy=False,\n",
    "    top_p=0.0,\n",
    "    top_k=0,\n",
    "    temperature=1.0,\n",
    "    out_seq_length=128,\n",
    ")"
   ]
  },
  {
   "cell_type": "code",
   "execution_count": 4,
   "metadata": {},
   "outputs": [
    {
     "name": "stdout",
     "output_type": "stream",
     "text": [
      "using world size: 1 and model-parallel size: 1 \n",
      " > using dynamic loss scaling\n"
     ]
    }
   ],
   "source": [
    "args.cuda = torch.cuda.is_available()\n",
    "args.rank = int(os.getenv('RANK', '0'))\n",
    "args.world_size = int(os.getenv(\"WORLD_SIZE\", '1'))\n",
    "\n",
    "if os.getenv('OMPI_COMM_WORLD_LOCAL_RANK'):\n",
    "    # We are using (OpenMPI) mpirun for launching distributed data parallel processes\n",
    "    local_rank = int(os.getenv('OMPI_COMM_WORLD_LOCAL_RANK'))\n",
    "    local_size = int(os.getenv('OMPI_COMM_WORLD_LOCAL_SIZE'))\n",
    "\n",
    "    # Possibly running with Slurm\n",
    "    num_nodes = int(os.getenv('SLURM_JOB_NUM_NODES', '1'))\n",
    "    nodeid = int(os.getenv('SLURM_NODEID', '0'))\n",
    "\n",
    "    args.local_rank = local_rank\n",
    "    args.rank = nodeid*local_size + local_rank\n",
    "    args.world_size = num_nodes*local_size\n",
    "\n",
    "args.model_parallel_size = min(args.model_parallel_size, args.world_size)\n",
    "if args.rank == 0:\n",
    "    print('using world size: {} and model-parallel size: {} '.format(\n",
    "        args.world_size, args.model_parallel_size))\n",
    "\n",
    "args.dynamic_loss_scale = False\n",
    "if args.loss_scale is None:\n",
    "    args.dynamic_loss_scale = True\n",
    "    if args.rank == 0:\n",
    "        print(' > using dynamic loss scaling')\n",
    "\n",
    "# The args fp32_* or fp16_* meant to be active when the\n",
    "# args fp16 is set. So the default behavior should all\n",
    "# be false.\n",
    "if not args.fp16:\n",
    "    args.fp32_embedding = False\n",
    "    args.fp32_tokentypes = False\n",
    "    args.fp32_layernorm = False\n"
   ]
  },
  {
   "cell_type": "markdown",
   "metadata": {},
   "source": [
    "## Init"
   ]
  },
  {
   "cell_type": "code",
   "execution_count": 5,
   "metadata": {},
   "outputs": [
    {
     "name": "stdout",
     "output_type": "stream",
     "text": [
      "> initializing model parallel with size 1\n",
      "> initializing model parallel cuda seeds on global rank 0, model parallel rank 0, and data parallel rank 0 with model parallel seed: 3952 and data parallel seed: 1234\n",
      "prepare tokenizer done\n",
      "building GPT2 model ...\n",
      " > number of parameters on model parallel rank 0: 110516736\n",
      "global rank 0 is loading checkpoint ./checkpoints/xinliqa_hunyin/iter_0055000/mp_rank_00/model_optim_rng.pt\n",
      "  successfully loaded ./checkpoints/xinliqa_hunyin/iter_0055000/mp_rank_00/model_optim_rng.pt\n",
      "CPU times: user 5.14 s, sys: 1.7 s, total: 6.84 s\n",
      "Wall time: 6.85 s\n"
     ]
    }
   ],
   "source": [
    "%%time\n",
    "\n",
    "# Disable CuDNN.\n",
    "torch.backends.cudnn.enabled = False\n",
    "\n",
    "# Pytorch distributed.\n",
    "initialize_distributed(args)\n",
    "\n",
    "# Random seeds for reproducability.\n",
    "set_random_seed(args.seed)\n",
    "\n",
    "# get the tokenizer\n",
    "tokenizer = prepare_tokenizer(args)\n",
    "\n",
    "# Model, optimizer, and learning rate.\n",
    "model = setup_model(args)\n",
    "\n",
    "args.device = torch.cuda.current_device()\n",
    "\n",
    "# setting default batch size to 1\n",
    "args.batch_size = 1\n",
    "\n",
    "assert mpu.get_model_parallel_rank() == 0"
   ]
  },
  {
   "cell_type": "markdown",
   "metadata": {},
   "source": [
    "## Inference functions"
   ]
  },
  {
   "cell_type": "code",
   "execution_count": 6,
   "metadata": {},
   "outputs": [],
   "source": [
    "def infer_text_generative(contex_text, model, tokenizer):\n",
    "    contex_text = contex_text.strip()\n",
    "    context_tokens = tokenizer.EncodeAsIds(contex_text).tokenization\n",
    "    context_length = len(context_tokens)\n",
    "\n",
    "    token_stream = get_token_stream(model, [context_tokens], tokenizer, args)\n",
    "    \n",
    "    for i, (output_tokens, _) in enumerate(token_stream):\n",
    "        if context_length + i >= args.seq_length:\n",
    "            break\n",
    "        ids = output_tokens.cpu().numpy().tolist()[0]\n",
    "        s = tokenizer.DecodeIds([ids[-1]])\n",
    "        yield s\n"
   ]
  },
  {
   "cell_type": "markdown",
   "metadata": {},
   "source": [
    "## Infer texts"
   ]
  },
  {
   "cell_type": "code",
   "execution_count": 7,
   "metadata": {},
   "outputs": [],
   "source": [
    "input_texts = [\n",
    "    (\n",
    "        '最近晚上睡不着觉，但很困，总觉得不会睡觉？',\n",
    "        '最近一段时间，总是晚上睡不着觉，但是却很困，没次睡觉心理都在不自觉的想着该如何去睡觉，每次想着想着就完全清醒了，失眠特别严重，感觉身体快要透支了，很无助，还连累家人一起跟着担心'\n",
    "    ),\n",
    "    (\n",
    "        '大一，谈了将近一年的女友突然提出分手我该怎么办？',\n",
    "        ' 某一天晚上她突然给我打电话说我不是她喜欢的那种类型，在电话中她多次提到自己的性格不好，说“我所看到的都是加了“滤镜”的效果，其实她并没有我想得那么好，今后不准备结婚”。（她以前谈过一次恋爱，对于那场恋爱她一直都铭记在心）接完电话我很迷茫和困惑，因为之前她愿意跟我分享她的生活中的不如意和困难，突然的转变让我措手不及。同时我也很自责，没有准确的表达出自己的意思和情感，在与她的对话中我常常感到无力和无助。我到底该怎么办？我真的很爱她，想和她度过一生。'\n",
    "    ),\n",
    "    (\n",
    "        '男人出轨',\n",
    "        '我的意思是，出轨者会问自己，我为什么要这么做，被背叛的伴侣会问，你为什么要这样对我?'\n",
    "    ),\n",
    "    (\n",
    "        '我的奇葩婚姻，老公说为了孩子好就是不离婚？',\n",
    "        '我的婚姻最近好像一塌糊涂，可是老公不离婚，我甚至有想过死？我是不是得了抑郁症？和老公从2017年开始就吵吵闹闹，一吵架就分居，分居一两个月老公可以对我和孩子不问不闻，到时间了他就自己又搬回来，但是回来也不和我沟通，就算是上次是他动手，他也不道歉，他特别喜欢冷战。现在和老公又发展到了无性，而且双方家庭也合不来，我和他家人不敢来往，他家人对我要求高，希望天天在家做饭带娃伺候老公，他现在和我父母也不来往，从来不回家吃饭，要等我父母走了他才回来，每天很晚回家，去哪从来不告诉我，我知道他有婚外性，但他從來不承認，还说我是神经病，我還被他傳播上了高危型的HPV，以后是死是活都不确定，我特别想要离婚，我感觉和他生活快要窒息了，他整天拉着个脸，要么对我不闻不问，要么一开口说话就是责怪的语气，但他就是不离婚，说是为了孩子好，还让我不要发神经，我真的不知道该怎么和他相处了。他性格很古怪'\n",
    "    ),\n",
    "    (\n",
    "        '妻子在钱的问题上不坦诚，如何处理好家庭经济问题？',\n",
    "        '和老婆因为意外怀孕结婚，两家谈婚论嫁时闹得不愉快，我家出了一套大户型的房子，一台豪华车（当然这些都是婚前财产），然后给了40万装修婚房，同时给女方10万彩礼。而女方一开始的态度是一分钱没有，后来迫于压力给了50万现金，我老婆名下既没有房也没有车。婚后的钱一直都是给我老婆管理，包括我的工资奖金还有结婚的份子钱等等。我老婆并没有把这些钱看做是家庭财产，就算其中已经掺入了很多我的钱，还是认为全部都是她自己的钱，我只是知道她的卡密码而已，但是卡在哪里，她花了多少钱，花在哪里了，有没有借钱给别人，我通通不知道，这让我很不安。况且她没有理财观念，我曾经三番五次跟她说了理财的重要性，她就只是沉默不语，也不知道是听不懂，还是装傻实际上自己去做了理财但是没把收入情况告诉我，我们多次吵架都是为了钱，我觉得夫妻两个在这个问题上不能坦诚是个大问题，我现在很想经济分开，但是不知道怎么做才比较妥当'\n",
    "    )\n",
    "]\n"
   ]
  },
  {
   "cell_type": "code",
   "execution_count": 8,
   "metadata": {},
   "outputs": [
    {
     "name": "stdout",
     "output_type": "stream",
     "text": [
      "最近晚上睡不着觉，但很困，总觉得不会睡觉？\n",
      "最近一段时间，总是晚上睡不着觉，但是却很困，没次睡觉心理都在不自觉的想着该如何去睡觉，每次想着想着就完全清醒了，失眠特别严重，感觉身体快要透支了，很无助，还连累家人一起跟着担心\n",
      "\n",
      "0: <bos>你好,找你倾诉一下你的情绪,打击与你的情结,还有爱浪子,还有爱。虽然婚姻不是简单地年少,但你也建议你用婚姻的智慧去争取陪伴和繁华。 <eos>\n",
      "\n",
      "1: <bos>我能感受到父母的话,我们养育了三年的狗,可是没有给带走的人,活在另一个极端,近乎的朋友,后来姐姐开车去住,由于地下室太远了,很多朋友的小姑娘是塞保心。2.没有人教我舔,天天在公司上班老和同事玩,况且他不想回家就抽烟喝酒,一周也不会带人出去玩,出去找点酒喝完酒,事后问人都没不可以再去我家,可是只要他们就会逼我,说我是那种人,而我,情感上很难受,有时候甚至想死的心都有了。我不喜欢听\n",
      "\n",
      "2: <bos>讲下那就是成长过程中的一种分离焦虑,然而创伤后遗症是躯体、经历..虚构的并不是对象,而是掌握了内心敏感时间和精力,继续或长了会影响自信心,自然不会有稳定的,你能选择来这里求助,就非常的不简单。咨询是一个过程,我需要了解更多的情况,才能帮你分析解决问题。我帮助过很多和你一样困扰的人,相信也可以帮到你。可以多说一些你的情况吗? <eos>\n",
      "\n",
      "\n",
      "====================================================================================================\n",
      "\n",
      "大一，谈了将近一年的女友突然提出分手我该怎么办？\n",
      " 某一天晚上她突然给我打电话说我不是她喜欢的那种类型，在电话中她多次提到自己的性格不好，说“我所看到的都是加了“滤镜”的效果，其实她并没有我想得那么好，今后不准备结婚”。（她以前谈过一次恋爱，对于那场恋爱她一直都铭记在心）接完电话我很迷茫和困惑，因为之前她愿意跟我分享她的生活中的不如意和困难，突然的转变让我措手不及。同时我也很自责，没有准确的表达出自己的意思和情感，在与她的对话中我常常感到无力和无助。我到底该怎么办？我真的很爱她，想和她度过一生。\n",
      "\n",
      "0: <bos>我也是一样,我特喜欢她,可她不喜欢的人在一起,要感觉很开心,可是她很介意她,不想看见我的留言,虽然我知道她不好意思帮忙,希望她全心全意的为她做爱侣,能做朋友的最好,可是,我的内心深处还是有些悲伤,我现在特别特别想和她在一起,虽然我很难受,但是她总是为我想不开,希望有人可以帮帮我。<|endoftext|><bos>你好。你们在一起多长时间了?你平时和她聊天会有什么反应的?她有什么样的行为会成为你心目中的女神吗?如果她真的\n",
      "\n",
      "1: <bos>你好,能够理解你的心情。不知道你们为什么分手?你们在一起都已经因为什么?你能够给彼此带来温暖吗?你们彼此吸引的特质是什么?你能选择来这里求助,就非常的不简单。咨询是一个过程,我需要了解更多的情况,才能帮你分析解决问题。我帮助过很多和你一样困扰的人,相信也可以帮到你。可以多说一些你的情况吗? <eos>\n",
      "\n",
      "2: <bos>你好,能够理解你的心情。不知道你们为什么分手?你们分手了多长时间?你想要的答案是什么?她对你如何?你和她的恋爱关系如何?你能选择来这里求助,就非常的不简单。咨询是一个过程,我需要了解更多的情况,才能帮你分析解决问题。我帮助过很多和你一样困扰的人,相信也可以帮到你。可以多说一些你的情况吗? <eos>\n",
      "\n",
      "\n",
      "====================================================================================================\n",
      "\n",
      "男人出轨\n",
      "我的意思是，出轨者会问自己，我为什么要这么做，被背叛的伴侣会问，你为什么要这样对我?\n",
      "\n",
      "0: <bos>“她爱你,在乎你对她的收你,会让你受损影响,是因为感情在,你这是爱你的,也是爱的,喜欢没有被满足的。可能你对她太好一些,但是对你好一些,恶果还是改善的,你自己的状况也是不合理的。所以才对虽然离她们在一起,但是你们的世界也会更加的。如果这时候你也需要去反思你的婚姻关系,这样对你的意义。建议可以找咨询师寻求帮助。 <eos>\n",
      "\n",
      "1: <bos>看来你最想证明是谁的人,对你而言叫情感比重。你要是真的想自己婚姻头痛,大哭一场,我祈求奇迹,可以有多远没有信赖,也可以无人可信。如果觉得现在不好,但也要坚持,到底是否值得,明天还是一个窟笼。 <eos>\n",
      "\n",
      "2: <bos>我认为您一直在注重这个交流的过程当中,最初,这里的父亲曾经出轨一次是和母亲的状态一样的举动,同样在面对这样的挫折时联结会受到自己的影响。听起来你好像很想寻找父亲一样去面对这些问题。我能感受到你的压力,可能你自己也遇到了一些困难(与母亲的关系的障碍)。 <eos>\n",
      "\n",
      "\n",
      "====================================================================================================\n",
      "\n",
      "我的奇葩婚姻，老公说为了孩子好就是不离婚？\n",
      "我的婚姻最近好像一塌糊涂，可是老公不离婚，我甚至有想过死？我是不是得了抑郁症？和老公从2017年开始就吵吵闹闹，一吵架就分居，分居一两个月老公可以对我和孩子不问不闻，到时间了他就自己又搬回来，但是回来也不和我沟通，就算是上次是他动手，他也不道歉，他特别喜欢冷战。现在和老公又发展到了无性，而且双方家庭也合不来，我和他家人不敢来往，他家人对我要求高，希望天天在家做饭带娃伺候老公，他现在和我父母也不来往，从来不回家吃饭，要等我父母走了他才回来，每天很晚回家，去哪从来不告诉我，我知道他有婚外性，但他從來不承認，还说我是神经病，我還被他傳播上了高危型的HPV，以后是死是活都不确定，我特别想要离婚，我感觉和他生活快要窒息了，他整天拉着个脸，要么对我不闻不问，要么一开口说话就是责怪的语气，但他就是不离婚，说是为了孩子好，还让我不要发神经，我真的不知道该怎么和他相处了。他性格很古怪\n",
      "\n",
      "0: <bos>处理好与孩子的关系,成长的需要建立他的模式,他不问不沟通也不能解决问题,他对你的冷漠与冷漠让你绝望,你直接找他沟通,你不妨也带着“我冷暴力”的感觉,以后建议你跟他谈一谈,不要在暴力的情况下对他发脾气暴力的扭曲,有条件的话要找一位婚姻咨询师好好谈一谈,以免双方家长谈清楚你的底线,以免你这率和你的家庭教育有利。 <eos>\n",
      "\n",
      "1: <bos>有些事情是可能了,就象你说的,不知道你怎么看?他的脾气是从哪里来的?试着先观察他的情绪,从行为上去讲,他似乎有时并不是很重视你,或许只是他有点小小的加入,也许会因为一些事情埋想不到。你在家是不是比你家里劳一些?工作劳累?有时也会工作,是否有赚更多的钱,这并不靠谱?在我看来,买房没有任何钱还5k的地方,如果有孩子,也很好规划,为什么两个人不能一起住? <eos>\n",
      "\n",
      "2: <bos>处理好与人的关系,一直以来,要想让你们的婚姻更幸福,如果你们能互相爱,必然会幸福,如果只是凑合,分居迟早会让两方花有获益,可想而知。 <eos>\n",
      "\n",
      "\n",
      "====================================================================================================\n",
      "\n",
      "妻子在钱的问题上不坦诚，如何处理好家庭经济问题？\n",
      "和老婆因为意外怀孕结婚，两家谈婚论嫁时闹得不愉快，我家出了一套大户型的房子，一台豪华车（当然这些都是婚前财产），然后给了40万装修婚房，同时给女方10万彩礼。而女方一开始的态度是一分钱没有，后来迫于压力给了50万现金，我老婆名下既没有房也没有车。婚后的钱一直都是给我老婆管理，包括我的工资奖金还有结婚的份子钱等等。我老婆并没有把这些钱看做是家庭财产，就算其中已经掺入了很多我的钱，还是认为全部都是她自己的钱，我只是知道她的卡密码而已，但是卡在哪里，她花了多少钱，花在哪里了，有没有借钱给别人，我通通不知道，这让我很不安。况且她没有理财观念，我曾经三番五次跟她说了理财的重要性，她就只是沉默不语，也不知道是听不懂，还是装傻实际上自己去做了理财但是没把收入情况告诉我，我们多次吵架都是为了钱，我觉得夫妻两个在这个问题上不能坦诚是个大问题，我现在很想经济分开，但是不知道怎么做才比较妥当\n",
      "\n",
      "0: <bos>我感觉您希望经济分开的背后是委屈和无奈,是不是丈夫债务中有对之前的状况不满,或者还有期待对方希望有人可以满足您,而您希望自己工作有车有房的动力和事业,这本身就没有您目前是甘心把丈夫的怨气都发泄到自己身上。婚姻和感情是两回事,从你的描述来看,你们之间充满对彼此的压抑,对方没有多多的时间,您要多的要求他他都可能在创业里呆着,也无法一定有他喜欢的的要求,您希望通过自己的方式来满足他的要求,也就是说您可以通过他的方式\n",
      "\n",
      "1: <bos>钱只是一面镜子,折射出来的却是两个人之间的矛盾问题,就像楼主所说的在婚前就已经闹的很不愉快,这就已经为婚后的夫妻生活埋下了隐患的基础,或许是楼主没有意识到问题的所在,亦或是不想去面对这些问题,任由问题存在而没有去解决。妻子婚后在钱的问题上不坦诚,让楼主的内心非常的不安,做为丈夫不了解妻子把共同财产用在哪里,换成是谁都会心里不安,这不仅仅是家庭经济问题,更是夫妻之间的相处交流存在的问题。因此,楼主想要解决家庭经济问题,\n",
      "\n",
      "2: <bos>钱只是一面镜子,折射出来的却是两个人之间的矛盾问题,就像楼主所说的在婚前就已经闹的很不愉快,这就已经为婚后的夫妻生活埋下了隐患的基础,或许是楼主没有意识到问题的所在,亦或是不想去面对这些问题,任由问题存在而没有去解决。妻子婚后在钱的问题上不坦诚,让楼主的内心非常的不安,做为丈夫不了解妻子把共同财产用在哪里,换成是谁都会心里不安,这不仅仅是家庭经济问题。建议楼主去咨询专业的律师,看看问题出在哪里,如何从丈夫那里获得\n",
      "\n",
      "\n",
      "====================================================================================================\n",
      "\n"
     ]
    }
   ],
   "source": [
    "# args.recompute=True\n",
    "args.top_p=0.0\n",
    "args.top_k=0\n",
    "args.temperature=1.0\n",
    "\n",
    "n_gen = 3\n",
    "\n",
    "for title, text in input_texts:\n",
    "    txt = f'{title}<sep>{text}<|endoftext|>'\n",
    "    context_tokens = tokenizer.EncodeAsIds(txt).tokenization\n",
    "    print(title)\n",
    "    print(text)\n",
    "    print()\n",
    "    for i in range(n_gen):\n",
    "        args.temperature=random.gauss(0.95, 0.05)\n",
    "        print(f'{i}: ', end='')\n",
    "        s_pred = ''\n",
    "        for s in infer_text_generative(txt, model, tokenizer):\n",
    "            print(s, end='')\n",
    "        print(os.linesep)\n",
    "    print()\n",
    "    print('=' * 100)\n",
    "    print()\n",
    "    "
   ]
  },
  {
   "cell_type": "code",
   "execution_count": null,
   "metadata": {},
   "outputs": [],
   "source": []
  }
 ],
 "metadata": {
  "kernelspec": {
   "display_name": "Python [conda env:Megatron_LM-ipy]",
   "language": "python",
   "name": "conda-env-Megatron_LM-ipy-py"
  },
  "language_info": {
   "codemirror_mode": {
    "name": "ipython",
    "version": 3
   },
   "file_extension": ".py",
   "mimetype": "text/x-python",
   "name": "python",
   "nbconvert_exporter": "python",
   "pygments_lexer": "ipython3",
   "version": "3.7.4"
  }
 },
 "nbformat": 4,
 "nbformat_minor": 4
}
