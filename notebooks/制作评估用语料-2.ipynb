{
 "cells": [
  {
   "cell_type": "markdown",
   "metadata": {},
   "source": [
    "# 制作评估语料\n",
    "\n",
    "注意输入的 Context tokens 长度要小于最大模型最大生成序列长度的一半！\n",
    "\n",
    "这个 notebook 针对的输入 corpus 文件是：\n",
    "\n",
    "- 每个文档一行\n",
    "- 文档包含段落数组\n",
    "- 段落包含句子数组\n",
    "- 从逗号中间截断，得出输入文本\n",
    "\n",
    "的 Loose JSON 文件"
   ]
  },
  {
   "cell_type": "markdown",
   "metadata": {
    "toc-hr-collapsed": false
   },
   "source": [
    "## 代码准备"
   ]
  },
  {
   "cell_type": "markdown",
   "metadata": {},
   "source": [
    "### Imporings"
   ]
  },
  {
   "cell_type": "code",
   "execution_count": 32,
   "metadata": {},
   "outputs": [],
   "source": [
    "import csv\n",
    "import json\n",
    "import math\n",
    "import os\n",
    "import sys\n",
    "import re\n",
    "import random\n",
    "from contextlib import ExitStack\n",
    "from datetime import timedelta\n",
    "from functools import partial\n",
    "from glob import glob, iglob\n",
    "from itertools import chain, cycle, islice, count, accumulate, compress\n",
    "from multiprocessing import Pool\n",
    "from time import time\n",
    "\n",
    "import numpy as np\n",
    "import sentencepiece as spm\n",
    "from ftfy import fix_text\n",
    "from tqdm.auto import tqdm\n"
   ]
  },
  {
   "cell_type": "markdown",
   "metadata": {},
   "source": [
    "### Constants"
   ]
  },
  {
   "cell_type": "code",
   "execution_count": 2,
   "metadata": {},
   "outputs": [
    {
     "data": {
      "text/plain": [
       "True"
      ]
     },
     "execution_count": 2,
     "metadata": {},
     "output_type": "execute_result"
    }
   ],
   "source": [
    "MAX_LEN = 128\n",
    "MIN_LEN = 16\n",
    "\n",
    "SPM_MODEL = '../data/spm/gpt2_huamei_corpus_bpe_32k_v2.model'\n",
    "\n",
    "SP = spm.SentencePieceProcessor()\n",
    "SP.load(SPM_MODEL)"
   ]
  },
  {
   "cell_type": "markdown",
   "metadata": {},
   "source": [
    "### Functions"
   ]
  },
  {
   "cell_type": "code",
   "execution_count": 3,
   "metadata": {},
   "outputs": [],
   "source": [
    "def text_files_line_iterator(paths):\n",
    "    return chain.from_iterable(\n",
    "        open(path)\n",
    "        for path\n",
    "        in tqdm(paths, '[iter files]', unit='file')\n",
    "    )\n",
    "\n",
    "\n",
    "def single_text_file_line_count(path, show_progress_bar=False):\n",
    "    with open(path) as fd:\n",
    "        iterable = tqdm(fd) if show_progress_bar else fd\n",
    "        return sum(1 for _ in iterable)\n",
    "        \n",
    "\n",
    "def text_files_line_count(paths):\n",
    "    try:\n",
    "        total = len(paths)\n",
    "    except (AttributeError, TypeError):\n",
    "        total = None\n",
    "    with Pool() as pool:\n",
    "        it = pool.imap_unordered(\n",
    "            single_text_file_line_count,\n",
    "            tqdm(paths, '[map: files]', unit='file')\n",
    "        )\n",
    "        return sum(c for c in tqdm(it, '[reduce: sum lines]', unit='file', total=total))\n"
   ]
  },
  {
   "cell_type": "markdown",
   "metadata": {},
   "source": [
    "## 语料文件"
   ]
  },
  {
   "cell_type": "markdown",
   "metadata": {},
   "source": [
    "### 输入文件"
   ]
  },
  {
   "cell_type": "markdown",
   "metadata": {},
   "source": [
    "### 列出输入文件"
   ]
  },
  {
   "cell_type": "code",
   "execution_count": 4,
   "metadata": {},
   "outputs": [
    {
     "name": "stdout",
     "output_type": "stream",
     "text": [
      "源语料文件数：1\n"
     ]
    }
   ],
   "source": [
    "# INPUT_FILES = [\n",
    "#     path\n",
    "#     for path in tqdm(iglob(\n",
    "#         \"/nfs/server01_public/豆瓣/情感相关的小组/data.json/*\",\n",
    "#         recursive=True\n",
    "#     ))\n",
    "#     if os.path.isfile(path) and os.path.splitext(path)[1].lower() in ('json', '.jsonl', '.jsonlines', 'json', 'jsonline')\n",
    "# ]\n",
    "\n",
    "INPUT_FILES = [\n",
    "    '/nfs/server01_public/data/gpt2/output/xinli_20191016.jsonl'\n",
    "]\n",
    "\n",
    "print(f'源语料文件数：{len(INPUT_FILES):,d}')"
   ]
  },
  {
   "cell_type": "markdown",
   "metadata": {},
   "source": [
    "## 文件采样\n",
    "\n",
    "由于只是用于评估，所以只使用很少的文件"
   ]
  },
  {
   "cell_type": "code",
   "execution_count": 5,
   "metadata": {},
   "outputs": [],
   "source": [
    "# K = 5\n",
    "\n",
    "# print(f'选取 {K} 个输入语料文件')\n",
    "\n",
    "# SRC_FILES = sorted(random.choices(INPUT_FILES, k=5))\n",
    "\n",
    "# SRC_FILES"
   ]
  },
  {
   "cell_type": "markdown",
   "metadata": {},
   "source": [
    "### 统计输入文件总行数"
   ]
  },
  {
   "cell_type": "code",
   "execution_count": 6,
   "metadata": {},
   "outputs": [
    {
     "data": {
      "application/vnd.jupyter.widget-view+json": {
       "model_id": "592ad304a9c64fa5876f93951b0404b5",
       "version_major": 2,
       "version_minor": 0
      },
      "text/plain": [
       "HBox(children=(IntProgress(value=0, description='[map: files]', max=1, style=ProgressStyle(description_width='…"
      ]
     },
     "metadata": {},
     "output_type": "display_data"
    },
    {
     "name": "stdout",
     "output_type": "stream",
     "text": [
      "\n"
     ]
    },
    {
     "data": {
      "application/vnd.jupyter.widget-view+json": {
       "model_id": "89bc5d86f58247db81c63312950fe5df",
       "version_major": 2,
       "version_minor": 0
      },
      "text/plain": [
       "HBox(children=(IntProgress(value=0, description='[reduce: sum lines]', max=1, style=ProgressStyle(description_…"
      ]
     },
     "metadata": {},
     "output_type": "display_data"
    },
    {
     "name": "stdout",
     "output_type": "stream",
     "text": [
      "\n",
      "源语料行数：5,398\n",
      "CPU times: user 63 ms, sys: 42.6 ms, total: 106 ms\n",
      "Wall time: 272 ms\n"
     ]
    }
   ],
   "source": [
    "%%time\n",
    "\n",
    "total_lines = text_files_line_count(INPUT_FILES)\n",
    "print(f'源语料行数：{total_lines:,d}')"
   ]
  },
  {
   "cell_type": "markdown",
   "metadata": {},
   "source": [
    "## 处理\n",
    "\n",
    "我们目前的评估目标\n",
    "\n",
    "1. 进行人工评估，输出列表文件进行比对\n",
    "1. 输入文字为回答数据的逗号前的半句"
   ]
  },
  {
   "cell_type": "markdown",
   "metadata": {},
   "source": [
    "### 处理函数定义\n",
    "\n",
    "从段落中拆出开头的几句作为预测上下文"
   ]
  },
  {
   "cell_type": "code",
   "execution_count": 7,
   "metadata": {},
   "outputs": [],
   "source": [
    "RE_SPLIT_PARAGRAPH = re.compile(\n",
    "    r'(?<=[,:,、])\\s*'\n",
    ")\n",
    "\n",
    "def split_text(s):\n",
    "    return re.split(RE_SPLIT_PARAGRAPH, s)\n",
    "\n",
    "\n",
    "def proc_line(line):\n",
    "    result = []\n",
    "    line = line.strip()\n",
    "    if not line:\n",
    "        return result\n",
    "    min_length = MIN_LEN\n",
    "    max_length = MAX_LEN\n",
    "    paragraphs = json.loads(line)\n",
    "    for sentences in paragraphs:\n",
    "        paragraph_text = ''.join(s.strip() for s in sentences)\n",
    "        paragraph_text = fix_text(paragraph_text).strip()\n",
    "        parts = split_text(paragraph_text)\n",
    "        population = []\n",
    "        weights = []\n",
    "        for i, v in enumerate(accumulate(len(SP.encode_as_ids(s)) for s in parts[:-1])):\n",
    "            if min_length < v <= max_length:\n",
    "                population.append(i)\n",
    "                weights.append(math.log2(v))\n",
    "        if population:\n",
    "            elems = random.choices(population, weights=weights)\n",
    "            i = elems[0]\n",
    "            d = {\n",
    "                'text': ''.join(parts[:i+1]),\n",
    "                'post_text': ''.join(parts[i+1:]),\n",
    "            }\n",
    "            result.append(d)\n",
    "        \n",
    "    return result\n",
    "\n",
    "\n",
    "    "
   ]
  },
  {
   "cell_type": "markdown",
   "metadata": {},
   "source": [
    "### 输出文件 tsv/json"
   ]
  },
  {
   "cell_type": "code",
   "execution_count": 8,
   "metadata": {},
   "outputs": [],
   "source": [
    "OUTPUT_FILE = '../data/eval.json'"
   ]
  },
  {
   "cell_type": "markdown",
   "metadata": {},
   "source": [
    "### 执行\n",
    "\n",
    "并发执行"
   ]
  },
  {
   "cell_type": "code",
   "execution_count": 11,
   "metadata": {},
   "outputs": [
    {
     "data": {
      "application/vnd.jupyter.widget-view+json": {
       "model_id": "8a085d22574d467fb818a41174493a0e",
       "version_major": 2,
       "version_minor": 0
      },
      "text/plain": [
       "HBox(children=(IntProgress(value=0, description='[iter files]', max=1, style=ProgressStyle(description_width='…"
      ]
     },
     "metadata": {},
     "output_type": "display_data"
    },
    {
     "data": {
      "application/vnd.jupyter.widget-view+json": {
       "model_id": "d96923308f3346b78becb7df21ed4a4a",
       "version_major": 2,
       "version_minor": 0
      },
      "text/plain": [
       "HBox(children=(IntProgress(value=0, description='[map lines]', max=5398, style=ProgressStyle(description_width…"
      ]
     },
     "metadata": {},
     "output_type": "display_data"
    },
    {
     "data": {
      "application/vnd.jupyter.widget-view+json": {
       "model_id": "714f749a4e57454b8b4e67107e2bbca5",
       "version_major": 2,
       "version_minor": 0
      },
      "text/plain": [
       "HBox(children=(IntProgress(value=0, description='[reduce all]', max=5398, style=ProgressStyle(description_widt…"
      ]
     },
     "metadata": {},
     "output_type": "display_data"
    },
    {
     "name": "stdout",
     "output_type": "stream",
     "text": [
      "\n",
      "\n",
      "\n",
      "得到语料样本数：60,366\n"
     ]
    }
   ],
   "source": [
    "\n",
    "n_total_samples = 0\n",
    "\n",
    "with Pool() as pool, open(OUTPUT_FILE, 'w') as fp:\n",
    "    lines_iterator = text_files_line_iterator(INPUT_FILES)\n",
    "    it = pool.imap_unordered(\n",
    "        proc_line,\n",
    "        tqdm(lines_iterator, '[map lines]', total=total_lines),\n",
    "        chunksize=512\n",
    "    )\n",
    "    for result in tqdm(it, '[reduce all]', total=total_lines):\n",
    "        for d in result:\n",
    "            print(json.dumps(d, ensure_ascii=False), file=fp)\n",
    "            n_total_samples += 1\n",
    "\n",
    "print(f'得到语料样本数：{n_total_samples:,d}')"
   ]
  },
  {
   "cell_type": "code",
   "execution_count": 12,
   "metadata": {},
   "outputs": [
    {
     "name": "stdout",
     "output_type": "stream",
     "text": [
      "60366 ../data/eval.json\n",
      "37M\t../data/eval.json\n"
     ]
    }
   ],
   "source": [
    "! wc -l {OUTPUT_FILE} && \\\n",
    "  du -h {OUTPUT_FILE}"
   ]
  },
  {
   "cell_type": "markdown",
   "metadata": {},
   "source": [
    "## 采样\n",
    "\n",
    "我们也许不需要这么多样本进行 evaluation，所以，进行采样"
   ]
  },
  {
   "cell_type": "code",
   "execution_count": 43,
   "metadata": {},
   "outputs": [
    {
     "data": {
      "application/vnd.jupyter.widget-view+json": {
       "model_id": "6d9ebc1fec194ebb8d5f6cce17f00912",
       "version_major": 2,
       "version_minor": 0
      },
      "text/plain": [
       "HBox(children=(IntProgress(value=1, bar_style='info', max=1), HTML(value='')))"
      ]
     },
     "metadata": {},
     "output_type": "display_data"
    },
    {
     "name": "stdout",
     "output_type": "stream",
     "text": [
      "\n",
      "样本数：60,366.\n"
     ]
    }
   ],
   "source": [
    "with open(OUTPUT_FILE) as fp:\n",
    "    n_total_samples = sum(1 for _ in tqdm(fp))\n",
    "\n",
    "print(f'样本数：{n_total_samples:,d}.')"
   ]
  },
  {
   "cell_type": "code",
   "execution_count": 63,
   "metadata": {},
   "outputs": [
    {
     "name": "stdout",
     "output_type": "stream",
     "text": [
      "n_sample=10 sample_rate=0.0166%\n"
     ]
    }
   ],
   "source": [
    "n_sample = 10\n",
    "\n",
    "print(f'n_sample={n_sample:,d} sample_rate={n_sample/n_total_samples*100:.3}%')"
   ]
  },
  {
   "cell_type": "code",
   "execution_count": 64,
   "metadata": {},
   "outputs": [
    {
     "data": {
      "application/vnd.jupyter.widget-view+json": {
       "model_id": "a66c3d995e6142b58d7041e1cbd48cc6",
       "version_major": 2,
       "version_minor": 0
      },
      "text/plain": [
       "HBox(children=(IntProgress(value=0, description='sampling', max=10, style=ProgressStyle(description_width='ini…"
      ]
     },
     "metadata": {},
     "output_type": "display_data"
    },
    {
     "name": "stdout",
     "output_type": "stream",
     "text": [
      "\n"
     ]
    }
   ],
   "source": [
    "lines_mask = np.zeros(n_total_samples, dtype=int)\n",
    "lines_mask[:n_sample] = 1\n",
    "np.random.shuffle(lines_mask)\n",
    "\n",
    "assert lines_mask.shape[0]==n_total_samples\n",
    "\n",
    "root, ext = os.path.splitext(OUTPUT_FILE)\n",
    "SPL_FILE = root + f'-spl_{n_sample}' + ext\n",
    "\n",
    "with open(OUTPUT_FILE) as fp_src, open(SPL_FILE, 'w') as fp_dst:\n",
    "    for s in tqdm(compress(fp_src, lines_mask), 'sampling', total=n_sample):\n",
    "        print(s.strip(), file=fp_dst)"
   ]
  },
  {
   "cell_type": "code",
   "execution_count": 65,
   "metadata": {},
   "outputs": [
    {
     "name": "stdout",
     "output_type": "stream",
     "text": [
      "10 ../data/eval-spl_10.json\n",
      "24K\t../data/eval-spl_10.json\n"
     ]
    }
   ],
   "source": [
    "! wc -l {SPL_FILE} && \\\n",
    "  du -h {SPL_FILE}"
   ]
  }
 ],
 "metadata": {
  "kernelspec": {
   "display_name": "Python [conda env:Megatron_LM-ipy]",
   "language": "python",
   "name": "conda-env-Megatron_LM-ipy-py"
  },
  "language_info": {
   "codemirror_mode": {
    "name": "ipython",
    "version": 3
   },
   "file_extension": ".py",
   "mimetype": "text/x-python",
   "name": "python",
   "nbconvert_exporter": "python",
   "pygments_lexer": "ipython3",
   "version": "3.7.4"
  },
  "widgets": {
   "application/vnd.jupyter.widget-state+json": {
    "state": {
     "027c813b5b5d453a89d2f107005ba802": {
      "model_module": "@jupyter-widgets/controls",
      "model_module_version": "1.5.0",
      "model_name": "DescriptionStyleModel",
      "state": {
       "description_width": ""
      }
     },
     "0323339d06f9400ca5b1c1a6c46e20a6": {
      "model_module": "@jupyter-widgets/controls",
      "model_module_version": "1.5.0",
      "model_name": "HBoxModel",
      "state": {
       "children": [
        "IPY_MODEL_38c8130acfe341ab982054aca7ddeea9",
        "IPY_MODEL_94d44a9c3e144ce8858e7806307b5d69"
       ],
       "layout": "IPY_MODEL_855545935fdd4149ba1fbf947a51d3e1"
      }
     },
     "05c3d65fd353498e9f558a9892737dfc": {
      "model_module": "@jupyter-widgets/controls",
      "model_module_version": "1.5.0",
      "model_name": "ProgressStyleModel",
      "state": {
       "description_width": "initial"
      }
     },
     "064a6cc989744ca1befbf2b5dd725410": {
      "model_module": "@jupyter-widgets/controls",
      "model_module_version": "1.5.0",
      "model_name": "HBoxModel",
      "state": {
       "children": [
        "IPY_MODEL_2861a66e2b5a495bb28447b21e0d08c6",
        "IPY_MODEL_62560c69afd84b1aa81f8d1a0628baca"
       ],
       "layout": "IPY_MODEL_e276d19a15e547c4ae9af1fc2093f72a"
      }
     },
     "07ab87a804b749eca4a92379080e97ac": {
      "model_module": "@jupyter-widgets/base",
      "model_module_version": "1.2.0",
      "model_name": "LayoutModel",
      "state": {}
     },
     "0832c3e1726341458784d0c2e9852869": {
      "model_module": "@jupyter-widgets/base",
      "model_module_version": "1.2.0",
      "model_name": "LayoutModel",
      "state": {}
     },
     "0eb6486c24fc402884cb0bb054d0f050": {
      "model_module": "@jupyter-widgets/base",
      "model_module_version": "1.2.0",
      "model_name": "LayoutModel",
      "state": {}
     },
     "0ec84be2682c4c25a88a0d26b6308d98": {
      "model_module": "@jupyter-widgets/controls",
      "model_module_version": "1.5.0",
      "model_name": "DescriptionStyleModel",
      "state": {
       "description_width": ""
      }
     },
     "0f5415f1bcaa4df38a266233b3a5c34a": {
      "model_module": "@jupyter-widgets/base",
      "model_module_version": "1.2.0",
      "model_name": "LayoutModel",
      "state": {}
     },
     "11db621423814ee3a94d687b7d2860a8": {
      "model_module": "@jupyter-widgets/base",
      "model_module_version": "1.2.0",
      "model_name": "LayoutModel",
      "state": {}
     },
     "12801056fa3d4f74a18c0371a5c85722": {
      "model_module": "@jupyter-widgets/controls",
      "model_module_version": "1.5.0",
      "model_name": "HBoxModel",
      "state": {
       "children": [
        "IPY_MODEL_646a399352d2452290c81fcf928a1eb6",
        "IPY_MODEL_f46c85871f254d699adf253fa854cad1"
       ],
       "layout": "IPY_MODEL_7af6b5f6b95b4d86b3b3813d8bad48c4"
      }
     },
     "13fc6430645c4a1c9e1cfbbd5f6d3628": {
      "model_module": "@jupyter-widgets/controls",
      "model_module_version": "1.5.0",
      "model_name": "IntProgressModel",
      "state": {
       "bar_style": "success",
       "description": "sampling: 100%",
       "layout": "IPY_MODEL_8ff2968d5204499fbf26f2590757a532",
       "max": 1000,
       "style": "IPY_MODEL_14d2cbcedd504e9f94ae41c3a8645b45",
       "value": 1000
      }
     },
     "14496c5160774dc1afb5dc7ef2cb2597": {
      "model_module": "@jupyter-widgets/controls",
      "model_module_version": "1.5.0",
      "model_name": "IntProgressModel",
      "state": {
       "bar_style": "success",
       "description": "sampling: 100%",
       "layout": "IPY_MODEL_7de9124353894cbb8824cafce9dd181e",
       "max": 1000,
       "style": "IPY_MODEL_4a098531e6d9407d9b07e99f5704c196",
       "value": 1000
      }
     },
     "147a10271d6048a3803804f6c522cc05": {
      "model_module": "@jupyter-widgets/base",
      "model_module_version": "1.2.0",
      "model_name": "LayoutModel",
      "state": {}
     },
     "14d2cbcedd504e9f94ae41c3a8645b45": {
      "model_module": "@jupyter-widgets/controls",
      "model_module_version": "1.5.0",
      "model_name": "ProgressStyleModel",
      "state": {
       "description_width": "initial"
      }
     },
     "17f7217a3e5d4b7daba9c902f32b9180": {
      "model_module": "@jupyter-widgets/base",
      "model_module_version": "1.2.0",
      "model_name": "LayoutModel",
      "state": {}
     },
     "193ed35adb344a48a2c429dc815d91b2": {
      "model_module": "@jupyter-widgets/controls",
      "model_module_version": "1.5.0",
      "model_name": "ProgressStyleModel",
      "state": {
       "description_width": "initial"
      }
     },
     "195c678379b04b2ea0e306a3ae0a0595": {
      "model_module": "@jupyter-widgets/base",
      "model_module_version": "1.2.0",
      "model_name": "LayoutModel",
      "state": {}
     },
     "1ff1ddd2356841f8a62378802899b0c0": {
      "model_module": "@jupyter-widgets/base",
      "model_module_version": "1.2.0",
      "model_name": "LayoutModel",
      "state": {}
     },
     "21badd0c1c6742e7ad52db60083f8b92": {
      "model_module": "@jupyter-widgets/base",
      "model_module_version": "1.2.0",
      "model_name": "LayoutModel",
      "state": {}
     },
     "2204e79ed9e3433baff72e8a8b352c10": {
      "model_module": "@jupyter-widgets/base",
      "model_module_version": "1.2.0",
      "model_name": "LayoutModel",
      "state": {}
     },
     "2229e141a6294c688d692b0ad915f4d1": {
      "model_module": "@jupyter-widgets/base",
      "model_module_version": "1.2.0",
      "model_name": "LayoutModel",
      "state": {}
     },
     "2276336210b042ad925d2d87199bfca6": {
      "model_module": "@jupyter-widgets/controls",
      "model_module_version": "1.5.0",
      "model_name": "DescriptionStyleModel",
      "state": {
       "description_width": ""
      }
     },
     "27d6a51b561b41b295362c57d7db7ce6": {
      "model_module": "@jupyter-widgets/controls",
      "model_module_version": "1.5.0",
      "model_name": "HTMLModel",
      "state": {
       "layout": "IPY_MODEL_4f6454d45de04b0abe3805d9102d8154",
       "style": "IPY_MODEL_4bbfc7aed72f4c40a25e8ec912394e29",
       "value": " 1000/1000 [00:00&lt;00:00, 7768.57it/s]"
      }
     },
     "2861a66e2b5a495bb28447b21e0d08c6": {
      "model_module": "@jupyter-widgets/controls",
      "model_module_version": "1.5.0",
      "model_name": "IntProgressModel",
      "state": {
       "bar_style": "success",
       "description": "sampling: 100%",
       "layout": "IPY_MODEL_f08d7d1eadae41fbbcd69133616bfe83",
       "max": 10,
       "style": "IPY_MODEL_3b342eae03f84e6693c64a6519900d9b",
       "value": 10
      }
     },
     "2ab342a875ca40249ec5570b94c65ae6": {
      "model_module": "@jupyter-widgets/controls",
      "model_module_version": "1.5.0",
      "model_name": "IntProgressModel",
      "state": {
       "bar_style": "success",
       "description": "sample to ../data/eval-spl_1000.json: 100%",
       "layout": "IPY_MODEL_d238ae1e1e624bd1aa2341361c3ea1a2",
       "max": 1000,
       "style": "IPY_MODEL_f410fb64ae1345fd9bb4b5159b93a9e4",
       "value": 1000
      }
     },
     "2afb118327c44222b428a16aa22f0808": {
      "model_module": "@jupyter-widgets/base",
      "model_module_version": "1.2.0",
      "model_name": "LayoutModel",
      "state": {}
     },
     "2cd2eb50f78846eb8868e380b17dc5bb": {
      "model_module": "@jupyter-widgets/controls",
      "model_module_version": "1.5.0",
      "model_name": "HTMLModel",
      "state": {
       "layout": "IPY_MODEL_65d8586ab98443aebd36c96f70f20f10",
       "style": "IPY_MODEL_79bf2f82c023413c95d91cc72a320e60",
       "value": " 1/1 [00:02&lt;00:00,  2.93s/file]"
      }
     },
     "2dc6dae0ec6d421780ceda6c87ad8b69": {
      "model_module": "@jupyter-widgets/base",
      "model_module_version": "1.2.0",
      "model_name": "LayoutModel",
      "state": {}
     },
     "2dd61bc628f04046853e12a2699622e3": {
      "model_module": "@jupyter-widgets/base",
      "model_module_version": "1.2.0",
      "model_name": "LayoutModel",
      "state": {}
     },
     "2fc36ce0d1fb4aeea3a6f92eaf0261b7": {
      "model_module": "@jupyter-widgets/controls",
      "model_module_version": "1.5.0",
      "model_name": "HBoxModel",
      "state": {
       "children": [
        "IPY_MODEL_e4c391e5b76743a0a43c61e5c5909966",
        "IPY_MODEL_27d6a51b561b41b295362c57d7db7ce6"
       ],
       "layout": "IPY_MODEL_ddc1de6068f64b9685c124ba3e81b2c7"
      }
     },
     "33315a2677df4d8a9c784a9d54f1eea2": {
      "model_module": "@jupyter-widgets/controls",
      "model_module_version": "1.5.0",
      "model_name": "DescriptionStyleModel",
      "state": {
       "description_width": ""
      }
     },
     "347ef1067571435190018df67d0fb4d0": {
      "model_module": "@jupyter-widgets/controls",
      "model_module_version": "1.5.0",
      "model_name": "DescriptionStyleModel",
      "state": {
       "description_width": ""
      }
     },
     "3643590efcfe4a348e281cd073f409a4": {
      "model_module": "@jupyter-widgets/base",
      "model_module_version": "1.2.0",
      "model_name": "LayoutModel",
      "state": {}
     },
     "3732f176c1a24124851b1e5ef83dec73": {
      "model_module": "@jupyter-widgets/controls",
      "model_module_version": "1.5.0",
      "model_name": "IntProgressModel",
      "state": {
       "bar_style": "success",
       "description": "sampling: 100%",
       "layout": "IPY_MODEL_7b4804298e504dbcb5792f229b92dffd",
       "max": 10,
       "style": "IPY_MODEL_ddaa0ba4905949b8b9bbbdc9b85f603c",
       "value": 10
      }
     },
     "38b7ff00ce7747d28da4ab4ebe5fe4d6": {
      "model_module": "@jupyter-widgets/controls",
      "model_module_version": "1.5.0",
      "model_name": "ProgressStyleModel",
      "state": {
       "description_width": "initial"
      }
     },
     "38c8130acfe341ab982054aca7ddeea9": {
      "model_module": "@jupyter-widgets/controls",
      "model_module_version": "1.5.0",
      "model_name": "IntProgressModel",
      "state": {
       "bar_style": "success",
       "description": "reduce all: 100%",
       "layout": "IPY_MODEL_2229e141a6294c688d692b0ad915f4d1",
       "max": 5398,
       "style": "IPY_MODEL_9c46331e8b324c2382bee20fcaf588fa",
       "value": 5398
      }
     },
     "3b342eae03f84e6693c64a6519900d9b": {
      "model_module": "@jupyter-widgets/controls",
      "model_module_version": "1.5.0",
      "model_name": "ProgressStyleModel",
      "state": {
       "description_width": "initial"
      }
     },
     "40ffb0b7bb8e4e878c1c8df9305bea42": {
      "model_module": "@jupyter-widgets/controls",
      "model_module_version": "1.5.0",
      "model_name": "DescriptionStyleModel",
      "state": {
       "description_width": ""
      }
     },
     "411d202dbb624351bc34bac9091b8635": {
      "model_module": "@jupyter-widgets/base",
      "model_module_version": "1.2.0",
      "model_name": "LayoutModel",
      "state": {}
     },
     "4299094569084725a8d05768821bbccc": {
      "model_module": "@jupyter-widgets/controls",
      "model_module_version": "1.5.0",
      "model_name": "ProgressStyleModel",
      "state": {
       "description_width": "initial"
      }
     },
     "45462817053a4157917797ba4eecefec": {
      "model_module": "@jupyter-widgets/controls",
      "model_module_version": "1.5.0",
      "model_name": "HTMLModel",
      "state": {
       "layout": "IPY_MODEL_0eb6486c24fc402884cb0bb054d0f050",
       "style": "IPY_MODEL_2276336210b042ad925d2d87199bfca6",
       "value": " 60366/? [00:00&lt;00:00, 67986.08it/s]"
      }
     },
     "468733ea06e840e5a941aa5a0bd07840": {
      "model_module": "@jupyter-widgets/controls",
      "model_module_version": "1.5.0",
      "model_name": "DescriptionStyleModel",
      "state": {
       "description_width": ""
      }
     },
     "47649c513d6d4c289aef61f66bd5628e": {
      "model_module": "@jupyter-widgets/base",
      "model_module_version": "1.2.0",
      "model_name": "LayoutModel",
      "state": {}
     },
     "4a098531e6d9407d9b07e99f5704c196": {
      "model_module": "@jupyter-widgets/controls",
      "model_module_version": "1.5.0",
      "model_name": "ProgressStyleModel",
      "state": {
       "description_width": "initial"
      }
     },
     "4ae654563d394ec3ac0498de962fb25c": {
      "model_module": "@jupyter-widgets/controls",
      "model_module_version": "1.5.0",
      "model_name": "ProgressStyleModel",
      "state": {
       "description_width": "initial"
      }
     },
     "4bbebf5d531c403c9a1dc24630e5644b": {
      "model_module": "@jupyter-widgets/controls",
      "model_module_version": "1.5.0",
      "model_name": "HTMLModel",
      "state": {
       "layout": "IPY_MODEL_aff2b0b148874e6bacdac39185325679",
       "style": "IPY_MODEL_9290a507556c4c53982d2086c88c3180",
       "value": " 10/10 [00:00&lt;00:00, 86.76it/s]"
      }
     },
     "4bbfc7aed72f4c40a25e8ec912394e29": {
      "model_module": "@jupyter-widgets/controls",
      "model_module_version": "1.5.0",
      "model_name": "DescriptionStyleModel",
      "state": {
       "description_width": ""
      }
     },
     "4d8a37022a4042ce8366247531c34bdd": {
      "model_module": "@jupyter-widgets/controls",
      "model_module_version": "1.5.0",
      "model_name": "HBoxModel",
      "state": {
       "children": [
        "IPY_MODEL_2ab342a875ca40249ec5570b94c65ae6",
        "IPY_MODEL_76d60afd8d5a414286f2699eb3297b3b"
       ],
       "layout": "IPY_MODEL_74443b2d1c684685a5dbebda744bf2ea"
      }
     },
     "4db519f6f763422cb5b32fa3b8e69ce6": {
      "model_module": "@jupyter-widgets/base",
      "model_module_version": "1.2.0",
      "model_name": "LayoutModel",
      "state": {}
     },
     "4e4d6728162649e6ae880cc21c4923ec": {
      "model_module": "@jupyter-widgets/controls",
      "model_module_version": "1.5.0",
      "model_name": "IntProgressModel",
      "state": {
       "bar_style": "success",
       "description": "100%",
       "layout": "IPY_MODEL_c301284af5b54d858cc75270c85c1211",
       "max": 1000,
       "style": "IPY_MODEL_797439c3f1b8471289ae67bc1be22016",
       "value": 1000
      }
     },
     "4f6454d45de04b0abe3805d9102d8154": {
      "model_module": "@jupyter-widgets/base",
      "model_module_version": "1.2.0",
      "model_name": "LayoutModel",
      "state": {}
     },
     "4f74b1640d3147ffbd165b05d5ffd537": {
      "model_module": "@jupyter-widgets/base",
      "model_module_version": "1.2.0",
      "model_name": "LayoutModel",
      "state": {}
     },
     "50091a4c5f6e41f88dbdcbbbf9fc3658": {
      "model_module": "@jupyter-widgets/controls",
      "model_module_version": "1.5.0",
      "model_name": "HBoxModel",
      "state": {
       "children": [
        "IPY_MODEL_f2d265192fac4d7a86dcc8f81953ce0c",
        "IPY_MODEL_a2b1dd10522041e388efc2a30167dd30"
       ],
       "layout": "IPY_MODEL_f8e8686ed6db45d98514dbc4f6b08959"
      }
     },
     "5289d6250b454b7d8a17ba642750fb48": {
      "model_module": "@jupyter-widgets/controls",
      "model_module_version": "1.5.0",
      "model_name": "HTMLModel",
      "state": {
       "layout": "IPY_MODEL_808409f980fd4ac087247f21527b9818",
       "style": "IPY_MODEL_347ef1067571435190018df67d0fb4d0",
       "value": " 1/1 [00:02&lt;00:00,  2.93s/file]"
      }
     },
     "5585066f54bf437cabf8c9ed8b49eaf2": {
      "model_module": "@jupyter-widgets/controls",
      "model_module_version": "1.5.0",
      "model_name": "ProgressStyleModel",
      "state": {
       "description_width": "initial"
      }
     },
     "58510dd98ac441c8bb9af50a2aa7c8bf": {
      "model_module": "@jupyter-widgets/controls",
      "model_module_version": "1.5.0",
      "model_name": "ProgressStyleModel",
      "state": {
       "description_width": "initial"
      }
     },
     "58c23343f894417e9a5bafda022bf68a": {
      "model_module": "@jupyter-widgets/controls",
      "model_module_version": "1.5.0",
      "model_name": "HBoxModel",
      "state": {
       "children": [
        "IPY_MODEL_951472520591406380f68ebc9ffb03f6",
        "IPY_MODEL_736733a9e1684324bcb33984d0e32d14"
       ],
       "layout": "IPY_MODEL_9fd5fd23087e4f3bb75ff231412b56b6"
      }
     },
     "592ad304a9c64fa5876f93951b0404b5": {
      "model_module": "@jupyter-widgets/controls",
      "model_module_version": "1.5.0",
      "model_name": "HBoxModel",
      "state": {
       "children": [
        "IPY_MODEL_739ec6e18ca6424a965cb94239ec022d",
        "IPY_MODEL_6ce1149f56754f8e9e56f74408584582"
       ],
       "layout": "IPY_MODEL_81d975767f074524a5f79b25f5c51970"
      }
     },
     "5953a21640ad4a959c93c5b777218ae5": {
      "model_module": "@jupyter-widgets/base",
      "model_module_version": "1.2.0",
      "model_name": "LayoutModel",
      "state": {}
     },
     "5a364cad640e4fc88e6d8b663536ada6": {
      "model_module": "@jupyter-widgets/base",
      "model_module_version": "1.2.0",
      "model_name": "LayoutModel",
      "state": {}
     },
     "5b9ad0f2f9bb4cc1b51831965bb129fb": {
      "model_module": "@jupyter-widgets/controls",
      "model_module_version": "1.5.0",
      "model_name": "IntProgressModel",
      "state": {
       "bar_style": "success",
       "description": "sampling: 100%",
       "layout": "IPY_MODEL_07ab87a804b749eca4a92379080e97ac",
       "max": 10,
       "style": "IPY_MODEL_4ae654563d394ec3ac0498de962fb25c",
       "value": 10
      }
     },
     "5e32fb02f07c4d77977b4c3f8a82dd02": {
      "model_module": "@jupyter-widgets/base",
      "model_module_version": "1.2.0",
      "model_name": "LayoutModel",
      "state": {}
     },
     "5efe4a1b74064c0a8a7bfd28cd89a2c1": {
      "model_module": "@jupyter-widgets/controls",
      "model_module_version": "1.5.0",
      "model_name": "IntProgressModel",
      "state": {
       "bar_style": "success",
       "layout": "IPY_MODEL_4f74b1640d3147ffbd165b05d5ffd537",
       "max": 1,
       "style": "IPY_MODEL_a9ced7f8916b4e809c53c23032cf506a",
       "value": 1
      }
     },
     "612a2410102345e1819a6267cbe70789": {
      "model_module": "@jupyter-widgets/controls",
      "model_module_version": "1.5.0",
      "model_name": "HBoxModel",
      "state": {
       "children": [
        "IPY_MODEL_df36a3f8978e42829a013e5ed2e70331",
        "IPY_MODEL_d5921c8428a542a6bdb99f010c101dab"
       ],
       "layout": "IPY_MODEL_5953a21640ad4a959c93c5b777218ae5"
      }
     },
     "62560c69afd84b1aa81f8d1a0628baca": {
      "model_module": "@jupyter-widgets/controls",
      "model_module_version": "1.5.0",
      "model_name": "HTMLModel",
      "state": {
       "layout": "IPY_MODEL_3643590efcfe4a348e281cd073f409a4",
       "style": "IPY_MODEL_eedf39e3b9ba4529b1705cbd258923c9",
       "value": " 10/10 [00:05&lt;00:00,  1.86it/s]"
      }
     },
     "635b47db0a394deabb3582a8e90629c9": {
      "model_module": "@jupyter-widgets/controls",
      "model_module_version": "1.5.0",
      "model_name": "DescriptionStyleModel",
      "state": {
       "description_width": ""
      }
     },
     "63d12f339a894342a8e44ad335987d25": {
      "model_module": "@jupyter-widgets/controls",
      "model_module_version": "1.5.0",
      "model_name": "HBoxModel",
      "state": {
       "children": [
        "IPY_MODEL_c000c2d9b7c343b79bb3808e29933209",
        "IPY_MODEL_c3a7169361aa4673ba0277ed7bce4116"
       ],
       "layout": "IPY_MODEL_c622b95d971e4d97875ed80d1856499d"
      }
     },
     "646a399352d2452290c81fcf928a1eb6": {
      "model_module": "@jupyter-widgets/controls",
      "model_module_version": "1.5.0",
      "model_name": "IntProgressModel",
      "state": {
       "bar_style": "success",
       "description": "sample: 100%",
       "layout": "IPY_MODEL_c2d088c86b7948ba853dca29debad715",
       "max": 1000,
       "style": "IPY_MODEL_4299094569084725a8d05768821bbccc",
       "value": 1000
      }
     },
     "65d8586ab98443aebd36c96f70f20f10": {
      "model_module": "@jupyter-widgets/base",
      "model_module_version": "1.2.0",
      "model_name": "LayoutModel",
      "state": {}
     },
     "6630b3fdcfc64448b805e30aa503625d": {
      "model_module": "@jupyter-widgets/controls",
      "model_module_version": "1.5.0",
      "model_name": "ProgressStyleModel",
      "state": {
       "description_width": "initial"
      }
     },
     "6ce1149f56754f8e9e56f74408584582": {
      "model_module": "@jupyter-widgets/controls",
      "model_module_version": "1.5.0",
      "model_name": "HTMLModel",
      "state": {
       "layout": "IPY_MODEL_edf1f6defd3d4a7894662a97fb2e089b",
       "style": "IPY_MODEL_79176ff3c1334a7b8f39e0a3f46d17b2",
       "value": " 1/1 [00:08&lt;00:00,  8.97s/file]"
      }
     },
     "6d9ebc1fec194ebb8d5f6cce17f00912": {
      "model_module": "@jupyter-widgets/controls",
      "model_module_version": "1.5.0",
      "model_name": "HBoxModel",
      "state": {
       "children": [
        "IPY_MODEL_5efe4a1b74064c0a8a7bfd28cd89a2c1",
        "IPY_MODEL_45462817053a4157917797ba4eecefec"
       ],
       "layout": "IPY_MODEL_21badd0c1c6742e7ad52db60083f8b92"
      }
     },
     "6da80779955a4864951d35a8b6fb4e38": {
      "model_module": "@jupyter-widgets/controls",
      "model_module_version": "1.5.0",
      "model_name": "HTMLModel",
      "state": {
       "layout": "IPY_MODEL_2dd61bc628f04046853e12a2699622e3",
       "style": "IPY_MODEL_0ec84be2682c4c25a88a0d26b6308d98",
       "value": " 10/10 [00:00&lt;00:00, 84.03it/s]"
      }
     },
     "701ae511771644fabe3bfaa61fc3f8b2": {
      "model_module": "@jupyter-widgets/controls",
      "model_module_version": "1.5.0",
      "model_name": "DescriptionStyleModel",
      "state": {
       "description_width": ""
      }
     },
     "70aad228f4744bb98719076f049f6089": {
      "model_module": "@jupyter-widgets/base",
      "model_module_version": "1.2.0",
      "model_name": "LayoutModel",
      "state": {}
     },
     "7120085ca8ef473fb1dff83697eae929": {
      "model_module": "@jupyter-widgets/controls",
      "model_module_version": "1.5.0",
      "model_name": "DescriptionStyleModel",
      "state": {
       "description_width": ""
      }
     },
     "714f749a4e57454b8b4e67107e2bbca5": {
      "model_module": "@jupyter-widgets/controls",
      "model_module_version": "1.5.0",
      "model_name": "HBoxModel",
      "state": {
       "children": [
        "IPY_MODEL_f56c2bc09429443aa6171a528676aa16",
        "IPY_MODEL_9f14ad8ed0ad48138ff2aaa911fb9d67"
       ],
       "layout": "IPY_MODEL_1ff1ddd2356841f8a62378802899b0c0"
      }
     },
     "72d3a89f7c9e4bdd932ab0a287f21c5c": {
      "model_module": "@jupyter-widgets/controls",
      "model_module_version": "1.5.0",
      "model_name": "ProgressStyleModel",
      "state": {
       "description_width": "initial"
      }
     },
     "736733a9e1684324bcb33984d0e32d14": {
      "model_module": "@jupyter-widgets/controls",
      "model_module_version": "1.5.0",
      "model_name": "HTMLModel",
      "state": {
       "layout": "IPY_MODEL_aa8e0195a85d4b3595d1d343c326c7b0",
       "style": "IPY_MODEL_ea8c1dad3f134de1b450a1dcc3a9223d",
       "value": " 1000/? [00:34&lt;00:00, 28.94it/s]"
      }
     },
     "739ec6e18ca6424a965cb94239ec022d": {
      "model_module": "@jupyter-widgets/controls",
      "model_module_version": "1.5.0",
      "model_name": "IntProgressModel",
      "state": {
       "bar_style": "success",
       "description": "[map: files]: 100%",
       "layout": "IPY_MODEL_a829d9a4f50a4b3abbe0d0e83560c3ad",
       "max": 1,
       "style": "IPY_MODEL_bb689ee6b80d4991b4d2035cd3996429",
       "value": 1
      }
     },
     "74443b2d1c684685a5dbebda744bf2ea": {
      "model_module": "@jupyter-widgets/base",
      "model_module_version": "1.2.0",
      "model_name": "LayoutModel",
      "state": {}
     },
     "76d60afd8d5a414286f2699eb3297b3b": {
      "model_module": "@jupyter-widgets/controls",
      "model_module_version": "1.5.0",
      "model_name": "HTMLModel",
      "state": {
       "layout": "IPY_MODEL_7cc14a8b9fa147e2b82cbf5fad9f70cb",
       "style": "IPY_MODEL_027c813b5b5d453a89d2f107005ba802",
       "value": " 1000/1000 [00:28&lt;00:00, 35.61it/s]"
      }
     },
     "77a25463da0a45949b79d864a8fac1c8": {
      "model_module": "@jupyter-widgets/controls",
      "model_module_version": "1.5.0",
      "model_name": "DescriptionStyleModel",
      "state": {
       "description_width": ""
      }
     },
     "77f95aa3345f451f82d3a63f3f8403d6": {
      "model_module": "@jupyter-widgets/base",
      "model_module_version": "1.2.0",
      "model_name": "LayoutModel",
      "state": {}
     },
     "79176ff3c1334a7b8f39e0a3f46d17b2": {
      "model_module": "@jupyter-widgets/controls",
      "model_module_version": "1.5.0",
      "model_name": "DescriptionStyleModel",
      "state": {
       "description_width": ""
      }
     },
     "796404da8622476cac8ee8d3b2209a24": {
      "model_module": "@jupyter-widgets/base",
      "model_module_version": "1.2.0",
      "model_name": "LayoutModel",
      "state": {}
     },
     "797439c3f1b8471289ae67bc1be22016": {
      "model_module": "@jupyter-widgets/controls",
      "model_module_version": "1.5.0",
      "model_name": "ProgressStyleModel",
      "state": {
       "description_width": "initial"
      }
     },
     "79bf2f82c023413c95d91cc72a320e60": {
      "model_module": "@jupyter-widgets/controls",
      "model_module_version": "1.5.0",
      "model_name": "DescriptionStyleModel",
      "state": {
       "description_width": ""
      }
     },
     "7af6b5f6b95b4d86b3b3813d8bad48c4": {
      "model_module": "@jupyter-widgets/base",
      "model_module_version": "1.2.0",
      "model_name": "LayoutModel",
      "state": {}
     },
     "7b4804298e504dbcb5792f229b92dffd": {
      "model_module": "@jupyter-widgets/base",
      "model_module_version": "1.2.0",
      "model_name": "LayoutModel",
      "state": {}
     },
     "7cc14a8b9fa147e2b82cbf5fad9f70cb": {
      "model_module": "@jupyter-widgets/base",
      "model_module_version": "1.2.0",
      "model_name": "LayoutModel",
      "state": {}
     },
     "7cf7cbaeae464a7fb7dd8ef261bea74e": {
      "model_module": "@jupyter-widgets/base",
      "model_module_version": "1.2.0",
      "model_name": "LayoutModel",
      "state": {}
     },
     "7de9124353894cbb8824cafce9dd181e": {
      "model_module": "@jupyter-widgets/base",
      "model_module_version": "1.2.0",
      "model_name": "LayoutModel",
      "state": {}
     },
     "808409f980fd4ac087247f21527b9818": {
      "model_module": "@jupyter-widgets/base",
      "model_module_version": "1.2.0",
      "model_name": "LayoutModel",
      "state": {}
     },
     "8094a587eb234987a4ffe37ecd82db68": {
      "model_module": "@jupyter-widgets/controls",
      "model_module_version": "1.5.0",
      "model_name": "HTMLModel",
      "state": {
       "layout": "IPY_MODEL_cad8815e597b48a3a5a3a4461f2885a2",
       "style": "IPY_MODEL_77a25463da0a45949b79d864a8fac1c8",
       "value": " 60366/? [00:01&lt;00:00, 48709.18it/s]"
      }
     },
     "80e777344a994e5d8833beb8aff944f3": {
      "model_module": "@jupyter-widgets/controls",
      "model_module_version": "1.5.0",
      "model_name": "HBoxModel",
      "state": {
       "children": [
        "IPY_MODEL_816bf6ae022a449da2f6ccbcda0b2002",
        "IPY_MODEL_8094a587eb234987a4ffe37ecd82db68"
       ],
       "layout": "IPY_MODEL_2dc6dae0ec6d421780ceda6c87ad8b69"
      }
     },
     "816bf6ae022a449da2f6ccbcda0b2002": {
      "model_module": "@jupyter-widgets/controls",
      "model_module_version": "1.5.0",
      "model_name": "IntProgressModel",
      "state": {
       "bar_style": "success",
       "layout": "IPY_MODEL_ad826964d2574ce7bc4cc398fcd0840a",
       "max": 1,
       "style": "IPY_MODEL_ebbbcb5dc76f4286b4eb9c088a31f33b",
       "value": 1
      }
     },
     "81d975767f074524a5f79b25f5c51970": {
      "model_module": "@jupyter-widgets/base",
      "model_module_version": "1.2.0",
      "model_name": "LayoutModel",
      "state": {}
     },
     "847f93acf6094113b7bac78b695867d8": {
      "model_module": "@jupyter-widgets/controls",
      "model_module_version": "1.5.0",
      "model_name": "HTMLModel",
      "state": {
       "layout": "IPY_MODEL_796404da8622476cac8ee8d3b2209a24",
       "style": "IPY_MODEL_ee79340a91664e09b4e9d1559c7504db",
       "value": " 1000/1000 [00:16&lt;00:00, 61.55it/s]"
      }
     },
     "855545935fdd4149ba1fbf947a51d3e1": {
      "model_module": "@jupyter-widgets/base",
      "model_module_version": "1.2.0",
      "model_name": "LayoutModel",
      "state": {}
     },
     "89bc5d86f58247db81c63312950fe5df": {
      "model_module": "@jupyter-widgets/controls",
      "model_module_version": "1.5.0",
      "model_name": "HBoxModel",
      "state": {
       "children": [
        "IPY_MODEL_fa686cd5ec964b13bbb0b3d0be99e16c",
        "IPY_MODEL_a5c07143d3e4479da70c30ab534d27f8"
       ],
       "layout": "IPY_MODEL_b43646500fb64b88b01d99e82608f7e2"
      }
     },
     "8a085d22574d467fb818a41174493a0e": {
      "model_module": "@jupyter-widgets/controls",
      "model_module_version": "1.5.0",
      "model_name": "HBoxModel",
      "state": {
       "children": [
        "IPY_MODEL_a4ea4229a57243968df11a0883591b1d",
        "IPY_MODEL_5289d6250b454b7d8a17ba642750fb48"
       ],
       "layout": "IPY_MODEL_5e32fb02f07c4d77977b4c3f8a82dd02"
      }
     },
     "8b6586a97748407dad2c0161ccb6c528": {
      "model_module": "@jupyter-widgets/controls",
      "model_module_version": "1.5.0",
      "model_name": "DescriptionStyleModel",
      "state": {
       "description_width": ""
      }
     },
     "8e713b0fe7dc4e2c843054d38e0334c1": {
      "model_module": "@jupyter-widgets/base",
      "model_module_version": "1.2.0",
      "model_name": "LayoutModel",
      "state": {}
     },
     "8f3a674d06cf4f3980319a3d109c1eaf": {
      "model_module": "@jupyter-widgets/controls",
      "model_module_version": "1.5.0",
      "model_name": "IntProgressModel",
      "state": {
       "bar_style": "success",
       "layout": "IPY_MODEL_c0ddcd6d3f9b4dc3812d47e4b7df9450",
       "max": 1,
       "style": "IPY_MODEL_05c3d65fd353498e9f558a9892737dfc",
       "value": 1
      }
     },
     "8ff2968d5204499fbf26f2590757a532": {
      "model_module": "@jupyter-widgets/base",
      "model_module_version": "1.2.0",
      "model_name": "LayoutModel",
      "state": {}
     },
     "91bbe54fd1a54665a92da6852c2df9c1": {
      "model_module": "@jupyter-widgets/base",
      "model_module_version": "1.2.0",
      "model_name": "LayoutModel",
      "state": {}
     },
     "9290a507556c4c53982d2086c88c3180": {
      "model_module": "@jupyter-widgets/controls",
      "model_module_version": "1.5.0",
      "model_name": "DescriptionStyleModel",
      "state": {
       "description_width": ""
      }
     },
     "94d44a9c3e144ce8858e7806307b5d69": {
      "model_module": "@jupyter-widgets/controls",
      "model_module_version": "1.5.0",
      "model_name": "HTMLModel",
      "state": {
       "layout": "IPY_MODEL_17f7217a3e5d4b7daba9c902f32b9180",
       "style": "IPY_MODEL_9c01b0132e4543ef9990c223dbdba52c",
       "value": " 5398/5398 [13:23&lt;00:00,  6.72it/s]"
      }
     },
     "951472520591406380f68ebc9ffb03f6": {
      "model_module": "@jupyter-widgets/controls",
      "model_module_version": "1.5.0",
      "model_name": "IntProgressModel",
      "state": {
       "bar_style": "success",
       "description": "sampling: ",
       "layout": "IPY_MODEL_77f95aa3345f451f82d3a63f3f8403d6",
       "max": 1,
       "style": "IPY_MODEL_193ed35adb344a48a2c429dc815d91b2",
       "value": 1
      }
     },
     "981c01c333094873aa65396c9642c3c5": {
      "model_module": "@jupyter-widgets/base",
      "model_module_version": "1.2.0",
      "model_name": "LayoutModel",
      "state": {}
     },
     "993eea0eae7d4b779445a9e2f02dd2c2": {
      "model_module": "@jupyter-widgets/base",
      "model_module_version": "1.2.0",
      "model_name": "LayoutModel",
      "state": {}
     },
     "9ad7e64f326a493eaf65d164b213329a": {
      "model_module": "@jupyter-widgets/base",
      "model_module_version": "1.2.0",
      "model_name": "LayoutModel",
      "state": {}
     },
     "9c01b0132e4543ef9990c223dbdba52c": {
      "model_module": "@jupyter-widgets/controls",
      "model_module_version": "1.5.0",
      "model_name": "DescriptionStyleModel",
      "state": {
       "description_width": ""
      }
     },
     "9c46331e8b324c2382bee20fcaf588fa": {
      "model_module": "@jupyter-widgets/controls",
      "model_module_version": "1.5.0",
      "model_name": "ProgressStyleModel",
      "state": {
       "description_width": "initial"
      }
     },
     "9f14ad8ed0ad48138ff2aaa911fb9d67": {
      "model_module": "@jupyter-widgets/controls",
      "model_module_version": "1.5.0",
      "model_name": "HTMLModel",
      "state": {
       "layout": "IPY_MODEL_4db519f6f763422cb5b32fa3b8e69ce6",
       "style": "IPY_MODEL_33315a2677df4d8a9c784a9d54f1eea2",
       "value": " 5398/5398 [00:05&lt;00:00, 1015.57it/s]"
      }
     },
     "9fd5fd23087e4f3bb75ff231412b56b6": {
      "model_module": "@jupyter-widgets/base",
      "model_module_version": "1.2.0",
      "model_name": "LayoutModel",
      "state": {}
     },
     "a2b1dd10522041e388efc2a30167dd30": {
      "model_module": "@jupyter-widgets/controls",
      "model_module_version": "1.5.0",
      "model_name": "HTMLModel",
      "state": {
       "layout": "IPY_MODEL_195c678379b04b2ea0e306a3ae0a0595",
       "style": "IPY_MODEL_40ffb0b7bb8e4e878c1c8df9305bea42",
       "value": " 1000/1000 [00:59&lt;00:00, 16.90it/s]"
      }
     },
     "a331d5e8f6cf4409b506ed497221290e": {
      "model_module": "@jupyter-widgets/controls",
      "model_module_version": "1.5.0",
      "model_name": "HBoxModel",
      "state": {
       "children": [
        "IPY_MODEL_13fc6430645c4a1c9e1cfbbd5f6d3628",
        "IPY_MODEL_847f93acf6094113b7bac78b695867d8"
       ],
       "layout": "IPY_MODEL_981c01c333094873aa65396c9642c3c5"
      }
     },
     "a339dd21d3dd41408c28157f66b4fc43": {
      "model_module": "@jupyter-widgets/controls",
      "model_module_version": "1.5.0",
      "model_name": "ProgressStyleModel",
      "state": {
       "description_width": "initial"
      }
     },
     "a4ea4229a57243968df11a0883591b1d": {
      "model_module": "@jupyter-widgets/controls",
      "model_module_version": "1.5.0",
      "model_name": "IntProgressModel",
      "state": {
       "bar_style": "success",
       "description": "[iter files]: 100%",
       "layout": "IPY_MODEL_0832c3e1726341458784d0c2e9852869",
       "max": 1,
       "style": "IPY_MODEL_e207e9048d3e4498b9d773b7232cd86e",
       "value": 1
      }
     },
     "a5c045ab51e440bd8ba27295d1de00eb": {
      "model_module": "@jupyter-widgets/controls",
      "model_module_version": "1.5.0",
      "model_name": "HBoxModel",
      "state": {
       "children": [
        "IPY_MODEL_f6759511b22445399ba972a3641d90f6",
        "IPY_MODEL_2cd2eb50f78846eb8868e380b17dc5bb"
       ],
       "layout": "IPY_MODEL_993eea0eae7d4b779445a9e2f02dd2c2"
      }
     },
     "a5c07143d3e4479da70c30ab534d27f8": {
      "model_module": "@jupyter-widgets/controls",
      "model_module_version": "1.5.0",
      "model_name": "HTMLModel",
      "state": {
       "layout": "IPY_MODEL_47649c513d6d4c289aef61f66bd5628e",
       "style": "IPY_MODEL_bc4043ae719e4e84ad3fa91ecf1fe0a6",
       "value": " 1/1 [00:03&lt;00:00,  3.38s/file]"
      }
     },
     "a66c3d995e6142b58d7041e1cbd48cc6": {
      "model_module": "@jupyter-widgets/controls",
      "model_module_version": "1.5.0",
      "model_name": "HBoxModel",
      "state": {
       "children": [
        "IPY_MODEL_3732f176c1a24124851b1e5ef83dec73",
        "IPY_MODEL_4bbebf5d531c403c9a1dc24630e5644b"
       ],
       "layout": "IPY_MODEL_dc5165e1d53242458aec4af49c93c566"
      }
     },
     "a810d58fbdae4d6bab0eb11eb58a205e": {
      "model_module": "@jupyter-widgets/base",
      "model_module_version": "1.2.0",
      "model_name": "LayoutModel",
      "state": {}
     },
     "a829d9a4f50a4b3abbe0d0e83560c3ad": {
      "model_module": "@jupyter-widgets/base",
      "model_module_version": "1.2.0",
      "model_name": "LayoutModel",
      "state": {}
     },
     "a8e77889b38b4a179f888bdebea358d4": {
      "model_module": "@jupyter-widgets/controls",
      "model_module_version": "1.5.0",
      "model_name": "HTMLModel",
      "state": {
       "layout": "IPY_MODEL_ddfe0aebd7e24b5d94ee0d97f1be70f7",
       "style": "IPY_MODEL_635b47db0a394deabb3582a8e90629c9",
       "value": " 1000/1000 [00:00&lt;00:00, 7075.65it/s]"
      }
     },
     "a9ced7f8916b4e809c53c23032cf506a": {
      "model_module": "@jupyter-widgets/controls",
      "model_module_version": "1.5.0",
      "model_name": "ProgressStyleModel",
      "state": {
       "description_width": "initial"
      }
     },
     "aa8e0195a85d4b3595d1d343c326c7b0": {
      "model_module": "@jupyter-widgets/base",
      "model_module_version": "1.2.0",
      "model_name": "LayoutModel",
      "state": {}
     },
     "ab27ebd51e57477fa54d3a1460f5e538": {
      "model_module": "@jupyter-widgets/controls",
      "model_module_version": "1.5.0",
      "model_name": "HTMLModel",
      "state": {
       "layout": "IPY_MODEL_e11832d1317c4d7aa4fbd9a55c7a9622",
       "style": "IPY_MODEL_468733ea06e840e5a941aa5a0bd07840",
       "value": " 1000/1000 [00:00&lt;00:00, 7410.71it/s]"
      }
     },
     "ad826964d2574ce7bc4cc398fcd0840a": {
      "model_module": "@jupyter-widgets/base",
      "model_module_version": "1.2.0",
      "model_name": "LayoutModel",
      "state": {}
     },
     "aeba3c7e19b649829e006078370575e6": {
      "model_module": "@jupyter-widgets/base",
      "model_module_version": "1.2.0",
      "model_name": "LayoutModel",
      "state": {}
     },
     "aff2b0b148874e6bacdac39185325679": {
      "model_module": "@jupyter-widgets/base",
      "model_module_version": "1.2.0",
      "model_name": "LayoutModel",
      "state": {}
     },
     "b40700c917c24f2794827a7648b6df1a": {
      "model_module": "@jupyter-widgets/controls",
      "model_module_version": "1.5.0",
      "model_name": "HBoxModel",
      "state": {
       "children": [
        "IPY_MODEL_14496c5160774dc1afb5dc7ef2cb2597",
        "IPY_MODEL_a8e77889b38b4a179f888bdebea358d4"
       ],
       "layout": "IPY_MODEL_ddf9a49f16004329acd59e1432355bee"
      }
     },
     "b43646500fb64b88b01d99e82608f7e2": {
      "model_module": "@jupyter-widgets/base",
      "model_module_version": "1.2.0",
      "model_name": "LayoutModel",
      "state": {}
     },
     "b6938afb884647f7bbc5c1cca0f839b6": {
      "model_module": "@jupyter-widgets/controls",
      "model_module_version": "1.5.0",
      "model_name": "ProgressStyleModel",
      "state": {
       "description_width": "initial"
      }
     },
     "b7868dc5fb2947238b283ca5c7272638": {
      "model_module": "@jupyter-widgets/base",
      "model_module_version": "1.2.0",
      "model_name": "LayoutModel",
      "state": {}
     },
     "bb689ee6b80d4991b4d2035cd3996429": {
      "model_module": "@jupyter-widgets/controls",
      "model_module_version": "1.5.0",
      "model_name": "ProgressStyleModel",
      "state": {
       "description_width": "initial"
      }
     },
     "bc4043ae719e4e84ad3fa91ecf1fe0a6": {
      "model_module": "@jupyter-widgets/controls",
      "model_module_version": "1.5.0",
      "model_name": "DescriptionStyleModel",
      "state": {
       "description_width": ""
      }
     },
     "c000c2d9b7c343b79bb3808e29933209": {
      "model_module": "@jupyter-widgets/controls",
      "model_module_version": "1.5.0",
      "model_name": "IntProgressModel",
      "state": {
       "bar_style": "success",
       "description": "map lines: 100%",
       "layout": "IPY_MODEL_5a364cad640e4fc88e6d8b663536ada6",
       "max": 5398,
       "style": "IPY_MODEL_6630b3fdcfc64448b805e30aa503625d",
       "value": 5398
      }
     },
     "c0ddcd6d3f9b4dc3812d47e4b7df9450": {
      "model_module": "@jupyter-widgets/base",
      "model_module_version": "1.2.0",
      "model_name": "LayoutModel",
      "state": {}
     },
     "c2d088c86b7948ba853dca29debad715": {
      "model_module": "@jupyter-widgets/base",
      "model_module_version": "1.2.0",
      "model_name": "LayoutModel",
      "state": {}
     },
     "c301284af5b54d858cc75270c85c1211": {
      "model_module": "@jupyter-widgets/base",
      "model_module_version": "1.2.0",
      "model_name": "LayoutModel",
      "state": {}
     },
     "c3a7169361aa4673ba0277ed7bce4116": {
      "model_module": "@jupyter-widgets/controls",
      "model_module_version": "1.5.0",
      "model_name": "HTMLModel",
      "state": {
       "layout": "IPY_MODEL_70aad228f4744bb98719076f049f6089",
       "style": "IPY_MODEL_e0dd5c372fa547508459a02d08ffeb81",
       "value": " 5398/5398 [00:02&lt;00:00, 1888.17it/s]"
      }
     },
     "c3e8bff502bd4fa09d723f8da4a1b6ea": {
      "model_module": "@jupyter-widgets/base",
      "model_module_version": "1.2.0",
      "model_name": "LayoutModel",
      "state": {}
     },
     "c622b95d971e4d97875ed80d1856499d": {
      "model_module": "@jupyter-widgets/base",
      "model_module_version": "1.2.0",
      "model_name": "LayoutModel",
      "state": {}
     },
     "cad8815e597b48a3a5a3a4461f2885a2": {
      "model_module": "@jupyter-widgets/base",
      "model_module_version": "1.2.0",
      "model_name": "LayoutModel",
      "state": {}
     },
     "cd057dbbd5bd492fa140fcd5c63a4cc3": {
      "model_module": "@jupyter-widgets/controls",
      "model_module_version": "1.5.0",
      "model_name": "HBoxModel",
      "state": {
       "children": [
        "IPY_MODEL_8f3a674d06cf4f3980319a3d109c1eaf",
        "IPY_MODEL_dfcf5cb08e014a1d8e450ca555aebb6e"
       ],
       "layout": "IPY_MODEL_2204e79ed9e3433baff72e8a8b352c10"
      }
     },
     "cf0c8c7daa804976b28027b8199bc9c2": {
      "model_module": "@jupyter-widgets/controls",
      "model_module_version": "1.5.0",
      "model_name": "DescriptionStyleModel",
      "state": {
       "description_width": ""
      }
     },
     "d238ae1e1e624bd1aa2341361c3ea1a2": {
      "model_module": "@jupyter-widgets/base",
      "model_module_version": "1.2.0",
      "model_name": "LayoutModel",
      "state": {}
     },
     "d5921c8428a542a6bdb99f010c101dab": {
      "model_module": "@jupyter-widgets/controls",
      "model_module_version": "1.5.0",
      "model_name": "HTMLModel",
      "state": {
       "layout": "IPY_MODEL_aeba3c7e19b649829e006078370575e6",
       "style": "IPY_MODEL_7120085ca8ef473fb1dff83697eae929",
       "value": " 1000/1000 [00:15&lt;00:00, 62.59it/s]"
      }
     },
     "d96923308f3346b78becb7df21ed4a4a": {
      "model_module": "@jupyter-widgets/controls",
      "model_module_version": "1.5.0",
      "model_name": "HBoxModel",
      "state": {
       "children": [
        "IPY_MODEL_f5ab7cc799984314a04d2aa0e05ce32b",
        "IPY_MODEL_f4ed734cd08b4bd3a0cc2752aa851a21"
       ],
       "layout": "IPY_MODEL_7cf7cbaeae464a7fb7dd8ef261bea74e"
      }
     },
     "dc5165e1d53242458aec4af49c93c566": {
      "model_module": "@jupyter-widgets/base",
      "model_module_version": "1.2.0",
      "model_name": "LayoutModel",
      "state": {}
     },
     "dd28830f012d4556bc05d9532cdaa13b": {
      "model_module": "@jupyter-widgets/controls",
      "model_module_version": "1.5.0",
      "model_name": "HBoxModel",
      "state": {
       "children": [
        "IPY_MODEL_5b9ad0f2f9bb4cc1b51831965bb129fb",
        "IPY_MODEL_6da80779955a4864951d35a8b6fb4e38"
       ],
       "layout": "IPY_MODEL_147a10271d6048a3803804f6c522cc05"
      }
     },
     "ddaa0ba4905949b8b9bbbdc9b85f603c": {
      "model_module": "@jupyter-widgets/controls",
      "model_module_version": "1.5.0",
      "model_name": "ProgressStyleModel",
      "state": {
       "description_width": "initial"
      }
     },
     "ddc1de6068f64b9685c124ba3e81b2c7": {
      "model_module": "@jupyter-widgets/base",
      "model_module_version": "1.2.0",
      "model_name": "LayoutModel",
      "state": {}
     },
     "ddf9a49f16004329acd59e1432355bee": {
      "model_module": "@jupyter-widgets/base",
      "model_module_version": "1.2.0",
      "model_name": "LayoutModel",
      "state": {}
     },
     "ddfe0aebd7e24b5d94ee0d97f1be70f7": {
      "model_module": "@jupyter-widgets/base",
      "model_module_version": "1.2.0",
      "model_name": "LayoutModel",
      "state": {}
     },
     "df36a3f8978e42829a013e5ed2e70331": {
      "model_module": "@jupyter-widgets/controls",
      "model_module_version": "1.5.0",
      "model_name": "IntProgressModel",
      "state": {
       "bar_style": "success",
       "description": "sample to\n../data/eval-spl_1000.json: 100%",
       "layout": "IPY_MODEL_411d202dbb624351bc34bac9091b8635",
       "max": 1000,
       "style": "IPY_MODEL_72d3a89f7c9e4bdd932ab0a287f21c5c",
       "value": 1000
      }
     },
     "dfcf5cb08e014a1d8e450ca555aebb6e": {
      "model_module": "@jupyter-widgets/controls",
      "model_module_version": "1.5.0",
      "model_name": "HTMLModel",
      "state": {
       "layout": "IPY_MODEL_2afb118327c44222b428a16aa22f0808",
       "style": "IPY_MODEL_701ae511771644fabe3bfaa61fc3f8b2",
       "value": " 60366/? [03:18&lt;00:00, 304.33it/s]"
      }
     },
     "e0dd5c372fa547508459a02d08ffeb81": {
      "model_module": "@jupyter-widgets/controls",
      "model_module_version": "1.5.0",
      "model_name": "DescriptionStyleModel",
      "state": {
       "description_width": ""
      }
     },
     "e11832d1317c4d7aa4fbd9a55c7a9622": {
      "model_module": "@jupyter-widgets/base",
      "model_module_version": "1.2.0",
      "model_name": "LayoutModel",
      "state": {}
     },
     "e207e9048d3e4498b9d773b7232cd86e": {
      "model_module": "@jupyter-widgets/controls",
      "model_module_version": "1.5.0",
      "model_name": "ProgressStyleModel",
      "state": {
       "description_width": "initial"
      }
     },
     "e276d19a15e547c4ae9af1fc2093f72a": {
      "model_module": "@jupyter-widgets/base",
      "model_module_version": "1.2.0",
      "model_name": "LayoutModel",
      "state": {}
     },
     "e4c391e5b76743a0a43c61e5c5909966": {
      "model_module": "@jupyter-widgets/controls",
      "model_module_version": "1.5.0",
      "model_name": "IntProgressModel",
      "state": {
       "bar_style": "success",
       "description": "sampling: 100%",
       "layout": "IPY_MODEL_b7868dc5fb2947238b283ca5c7272638",
       "max": 1000,
       "style": "IPY_MODEL_5585066f54bf437cabf8c9ed8b49eaf2",
       "value": 1000
      }
     },
     "ea8c1dad3f134de1b450a1dcc3a9223d": {
      "model_module": "@jupyter-widgets/controls",
      "model_module_version": "1.5.0",
      "model_name": "DescriptionStyleModel",
      "state": {
       "description_width": ""
      }
     },
     "eb0391320c154ea4a6579e98e9f9cbf8": {
      "model_module": "@jupyter-widgets/controls",
      "model_module_version": "1.5.0",
      "model_name": "ProgressStyleModel",
      "state": {
       "description_width": "initial"
      }
     },
     "ebbbcb5dc76f4286b4eb9c088a31f33b": {
      "model_module": "@jupyter-widgets/controls",
      "model_module_version": "1.5.0",
      "model_name": "ProgressStyleModel",
      "state": {
       "description_width": "initial"
      }
     },
     "edf1f6defd3d4a7894662a97fb2e089b": {
      "model_module": "@jupyter-widgets/base",
      "model_module_version": "1.2.0",
      "model_name": "LayoutModel",
      "state": {}
     },
     "ee79340a91664e09b4e9d1559c7504db": {
      "model_module": "@jupyter-widgets/controls",
      "model_module_version": "1.5.0",
      "model_name": "DescriptionStyleModel",
      "state": {
       "description_width": ""
      }
     },
     "eedf39e3b9ba4529b1705cbd258923c9": {
      "model_module": "@jupyter-widgets/controls",
      "model_module_version": "1.5.0",
      "model_name": "DescriptionStyleModel",
      "state": {
       "description_width": ""
      }
     },
     "f08d7d1eadae41fbbcd69133616bfe83": {
      "model_module": "@jupyter-widgets/base",
      "model_module_version": "1.2.0",
      "model_name": "LayoutModel",
      "state": {}
     },
     "f2d265192fac4d7a86dcc8f81953ce0c": {
      "model_module": "@jupyter-widgets/controls",
      "model_module_version": "1.5.0",
      "model_name": "IntProgressModel",
      "state": {
       "bar_style": "success",
       "description": "sampling: 100%",
       "layout": "IPY_MODEL_a810d58fbdae4d6bab0eb11eb58a205e",
       "max": 1000,
       "style": "IPY_MODEL_a339dd21d3dd41408c28157f66b4fc43",
       "value": 1000
      }
     },
     "f410fb64ae1345fd9bb4b5159b93a9e4": {
      "model_module": "@jupyter-widgets/controls",
      "model_module_version": "1.5.0",
      "model_name": "ProgressStyleModel",
      "state": {
       "description_width": "initial"
      }
     },
     "f46c85871f254d699adf253fa854cad1": {
      "model_module": "@jupyter-widgets/controls",
      "model_module_version": "1.5.0",
      "model_name": "HTMLModel",
      "state": {
       "layout": "IPY_MODEL_f83d5301acfc4c1587275b82510dd8e7",
       "style": "IPY_MODEL_cf0c8c7daa804976b28027b8199bc9c2",
       "value": " 1000/1000 [00:00&lt;00:00, 8324.62it/s]"
      }
     },
     "f4ed734cd08b4bd3a0cc2752aa851a21": {
      "model_module": "@jupyter-widgets/controls",
      "model_module_version": "1.5.0",
      "model_name": "HTMLModel",
      "state": {
       "layout": "IPY_MODEL_11db621423814ee3a94d687b7d2860a8",
       "style": "IPY_MODEL_8b6586a97748407dad2c0161ccb6c528",
       "value": " 5398/5398 [00:02&lt;00:00, 1852.87it/s]"
      }
     },
     "f56c2bc09429443aa6171a528676aa16": {
      "model_module": "@jupyter-widgets/controls",
      "model_module_version": "1.5.0",
      "model_name": "IntProgressModel",
      "state": {
       "bar_style": "success",
       "description": "[reduce all]: 100%",
       "layout": "IPY_MODEL_9ad7e64f326a493eaf65d164b213329a",
       "max": 5398,
       "style": "IPY_MODEL_58510dd98ac441c8bb9af50a2aa7c8bf",
       "value": 5398
      }
     },
     "f5ab7cc799984314a04d2aa0e05ce32b": {
      "model_module": "@jupyter-widgets/controls",
      "model_module_version": "1.5.0",
      "model_name": "IntProgressModel",
      "state": {
       "bar_style": "success",
       "description": "[map lines]: 100%",
       "layout": "IPY_MODEL_91bbe54fd1a54665a92da6852c2df9c1",
       "max": 5398,
       "style": "IPY_MODEL_38b7ff00ce7747d28da4ab4ebe5fe4d6",
       "value": 5398
      }
     },
     "f6759511b22445399ba972a3641d90f6": {
      "model_module": "@jupyter-widgets/controls",
      "model_module_version": "1.5.0",
      "model_name": "IntProgressModel",
      "state": {
       "bar_style": "success",
       "description": "[iter files]: 100%",
       "layout": "IPY_MODEL_8e713b0fe7dc4e2c843054d38e0334c1",
       "max": 1,
       "style": "IPY_MODEL_eb0391320c154ea4a6579e98e9f9cbf8",
       "value": 1
      }
     },
     "f83d5301acfc4c1587275b82510dd8e7": {
      "model_module": "@jupyter-widgets/base",
      "model_module_version": "1.2.0",
      "model_name": "LayoutModel",
      "state": {}
     },
     "f8e8686ed6db45d98514dbc4f6b08959": {
      "model_module": "@jupyter-widgets/base",
      "model_module_version": "1.2.0",
      "model_name": "LayoutModel",
      "state": {}
     },
     "fa686cd5ec964b13bbb0b3d0be99e16c": {
      "model_module": "@jupyter-widgets/controls",
      "model_module_version": "1.5.0",
      "model_name": "IntProgressModel",
      "state": {
       "bar_style": "success",
       "description": "[reduce: sum lines]: 100%",
       "layout": "IPY_MODEL_c3e8bff502bd4fa09d723f8da4a1b6ea",
       "max": 1,
       "style": "IPY_MODEL_b6938afb884647f7bbc5c1cca0f839b6",
       "value": 1
      }
     },
     "fd868185a0cb4e86889bfe12f9762b79": {
      "model_module": "@jupyter-widgets/controls",
      "model_module_version": "1.5.0",
      "model_name": "HBoxModel",
      "state": {
       "children": [
        "IPY_MODEL_4e4d6728162649e6ae880cc21c4923ec",
        "IPY_MODEL_ab27ebd51e57477fa54d3a1460f5e538"
       ],
       "layout": "IPY_MODEL_0f5415f1bcaa4df38a266233b3a5c34a"
      }
     }
    },
    "version_major": 2,
    "version_minor": 0
   }
  }
 },
 "nbformat": 4,
 "nbformat_minor": 4
}
