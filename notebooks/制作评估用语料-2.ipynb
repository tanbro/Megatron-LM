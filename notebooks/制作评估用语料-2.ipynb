{
 "cells": [
  {
   "cell_type": "markdown",
   "metadata": {},
   "source": [
    "# 制作评估语料\n",
    "\n",
    "注意输入的 Context tokens 长度要小于最大模型最大生成序列长度的一半！\n",
    "\n",
    "这个 notebook 针对的输入 corpus 文件是：\n",
    "\n",
    "- 每个文档一行\n",
    "- 文档包含段落数组\n",
    "- 段落包含句子数组\n",
    "\n",
    "的 Loose JSON 文件"
   ]
  },
  {
   "cell_type": "markdown",
   "metadata": {
    "toc-hr-collapsed": false
   },
   "source": [
    "## 代码准备"
   ]
  },
  {
   "cell_type": "markdown",
   "metadata": {},
   "source": [
    "### Imporings"
   ]
  },
  {
   "cell_type": "code",
   "execution_count": 14,
   "metadata": {},
   "outputs": [],
   "source": [
    "import csv\n",
    "import json\n",
    "import math\n",
    "import os\n",
    "import sys\n",
    "import random\n",
    "from contextlib import ExitStack\n",
    "from datetime import timedelta\n",
    "from functools import partial\n",
    "from glob import glob, iglob\n",
    "from itertools import chain, cycle, islice, count, accumulate\n",
    "from multiprocessing import Pool\n",
    "from time import time\n",
    "\n",
    "import numpy as np\n",
    "import sentencepiece as spm\n",
    "from tqdm.auto import tqdm\n"
   ]
  },
  {
   "cell_type": "markdown",
   "metadata": {},
   "source": [
    "### Constants"
   ]
  },
  {
   "cell_type": "code",
   "execution_count": 15,
   "metadata": {},
   "outputs": [
    {
     "data": {
      "text/plain": [
       "True"
      ]
     },
     "execution_count": 15,
     "metadata": {},
     "output_type": "execute_result"
    }
   ],
   "source": [
    "MAX_LEN = 128\n",
    "MIN_LEN = 16\n",
    "\n",
    "SPM_MODEL = '../data/spm/gpt2_huamei_corpus_bpe_32k_v2.model'\n",
    "\n",
    "SP = spm.SentencePieceProcessor()\n",
    "SP.load(SPM_MODEL)"
   ]
  },
  {
   "cell_type": "markdown",
   "metadata": {},
   "source": [
    "### Functions"
   ]
  },
  {
   "cell_type": "code",
   "execution_count": 16,
   "metadata": {},
   "outputs": [],
   "source": [
    "def text_files_line_iterator(paths):\n",
    "    return chain.from_iterable(\n",
    "        open(path)\n",
    "        for path\n",
    "        in tqdm(paths, '[iter files]', unit='file')\n",
    "    )\n",
    "\n",
    "\n",
    "def single_text_file_line_count(path, show_progress_bar=False):\n",
    "    with open(path) as fd:\n",
    "        iterable = tqdm(fd) if show_progress_bar else fd\n",
    "        return sum(1 for _ in iterable)\n",
    "        \n",
    "\n",
    "def text_files_line_count(paths):\n",
    "    try:\n",
    "        total = len(paths)\n",
    "    except (AttributeError, TypeError):\n",
    "        total = None\n",
    "    with Pool() as pool:\n",
    "        it = pool.imap_unordered(\n",
    "            single_text_file_line_count,\n",
    "            tqdm(paths, '[map: files]', unit='file')\n",
    "        )\n",
    "        return sum(c for c in tqdm(it, '[reduce: sum lines]', unit='file', total=total))\n",
    "\n",
    "\n",
    "def proc_line(line):\n",
    "    result = []\n",
    "    line = line.strip()\n",
    "    if not line:\n",
    "        return result\n",
    "    paragraphs = json.loads(line)\n",
    "    text = ''\n",
    "    n_text = 0\n",
    "    for sentence in chain.from_iterable(paragraphs):\n",
    "        sentence = sentence.strip()\n",
    "        if not sentence:\n",
    "            continue\n",
    "        n_sentence = len(SP.encode_as_ids(sentence))\n",
    "        if n_text + n_sentence < SEQ_LENGTH + MIN_CTX_LEN // 2:\n",
    "            text += sentence\n",
    "            n_text += n_sentence\n",
    "        else:\n",
    "            result.append({'text': text, 'length': n_text})\n",
    "            text = sentence\n",
    "            n_text = n_sentence\n",
    "    if n_text:\n",
    "        result.append({'text': text, 'length': n_text})\n",
    "    return result\n",
    "    "
   ]
  },
  {
   "cell_type": "markdown",
   "metadata": {},
   "source": [
    "## 语料文件"
   ]
  },
  {
   "cell_type": "markdown",
   "metadata": {},
   "source": [
    "### 输入文件"
   ]
  },
  {
   "cell_type": "markdown",
   "metadata": {},
   "source": [
    "### 列出输入文件"
   ]
  },
  {
   "cell_type": "code",
   "execution_count": 17,
   "metadata": {},
   "outputs": [
    {
     "name": "stdout",
     "output_type": "stream",
     "text": [
      "源语料文件数：1\n"
     ]
    }
   ],
   "source": [
    "# INPUT_FILES = [\n",
    "#     path\n",
    "#     for path in tqdm(iglob(\n",
    "#         \"/nfs/server01_public/豆瓣/情感相关的小组/data.json/*\",\n",
    "#         recursive=True\n",
    "#     ))\n",
    "#     if os.path.isfile(path) and os.path.splitext(path)[1].lower() in ('json', '.jsonl', '.jsonlines', 'json', 'jsonline')\n",
    "# ]\n",
    "\n",
    "INPUT_FILES = [\n",
    "    '/nfs/server01_public/data/gpt2/output/xinli_20191016.jsonl'\n",
    "]\n",
    "\n",
    "print(f'源语料文件数：{len(INPUT_FILES):,d}')"
   ]
  },
  {
   "cell_type": "markdown",
   "metadata": {},
   "source": [
    "## 文件采样\n",
    "\n",
    "由于只是用于评估，所以只使用很少的文件"
   ]
  },
  {
   "cell_type": "code",
   "execution_count": 18,
   "metadata": {},
   "outputs": [],
   "source": [
    "# K = 5\n",
    "\n",
    "# print(f'选取 {K} 个输入语料文件')\n",
    "\n",
    "# SRC_FILES = sorted(random.choices(INPUT_FILES, k=5))\n",
    "\n",
    "# SRC_FILES"
   ]
  },
  {
   "cell_type": "markdown",
   "metadata": {},
   "source": [
    "### 统计输入文件总行数"
   ]
  },
  {
   "cell_type": "code",
   "execution_count": 19,
   "metadata": {},
   "outputs": [
    {
     "data": {
      "application/vnd.jupyter.widget-view+json": {
       "model_id": "63f3b3bc57fa4581a1feff79f9d3dd58",
       "version_major": 2,
       "version_minor": 0
      },
      "text/plain": [
       "HBox(children=(IntProgress(value=0, description='[map: files]', max=1, style=ProgressStyle(description_width='…"
      ]
     },
     "metadata": {},
     "output_type": "display_data"
    },
    {
     "data": {
      "application/vnd.jupyter.widget-view+json": {
       "model_id": "6acc75365da34308ad2e68bc28e7f7a2",
       "version_major": 2,
       "version_minor": 0
      },
      "text/plain": [
       "HBox(children=(IntProgress(value=0, description='[reduce: sum lines]', max=1, style=ProgressStyle(description_…"
      ]
     },
     "metadata": {},
     "output_type": "display_data"
    },
    {
     "name": "stdout",
     "output_type": "stream",
     "text": [
      "\n",
      "\n",
      "源语料行数：5,398\n",
      "CPU times: user 70.8 ms, sys: 53.2 ms, total: 124 ms\n",
      "Wall time: 273 ms\n"
     ]
    }
   ],
   "source": [
    "%%time\n",
    "\n",
    "total_lines = text_files_line_count(INPUT_FILES)\n",
    "print(f'源语料行数：{total_lines:,d}')"
   ]
  },
  {
   "cell_type": "markdown",
   "metadata": {},
   "source": [
    "## 处理\n",
    "\n",
    "我们目前的评估目标\n",
    "\n",
    "1. 进行人工评估，输出列表文件进行比对\n",
    "1. 输入文字为回答数据的逗号前的半句"
   ]
  },
  {
   "cell_type": "markdown",
   "metadata": {},
   "source": [
    "### 处理函数定义\n",
    "\n",
    "从段落中拆出开头的几句作为预测上下文"
   ]
  },
  {
   "cell_type": "code",
   "execution_count": 20,
   "metadata": {},
   "outputs": [],
   "source": [
    "\n",
    "def proc_line(line):\n",
    "    result = []\n",
    "    line = line.strip()\n",
    "    if not line:\n",
    "        return result\n",
    "    min_length = MIN_LEN\n",
    "    max_length = MAX_LEN\n",
    "    paragraphs = json.loads(line)\n",
    "    for sentences in paragraphs:\n",
    "        population = []\n",
    "        weights = []\n",
    "        for i, v in enumerate(accumulate(len(SP.encode_as_ids(sent)) for sent in sentences[:-1])):\n",
    "            if min_length < v <= max_length:\n",
    "                population.append(i)\n",
    "                weights.append(math.log2(v))\n",
    "        if population:\n",
    "            elems = random.choices(population, weights=weights)\n",
    "            i = elems[0]\n",
    "            d = {\n",
    "                'text': ''.join(sentences[:i+1]),\n",
    "                'infra': ''.join(sentences[i+1: ]),\n",
    "            }\n",
    "            result.append(d)\n",
    "        \n",
    "    return result\n",
    "\n",
    "\n",
    "    "
   ]
  },
  {
   "cell_type": "markdown",
   "metadata": {},
   "source": [
    "### 输出文件 tsv/json"
   ]
  },
  {
   "cell_type": "code",
   "execution_count": 21,
   "metadata": {},
   "outputs": [],
   "source": [
    "OUTPUT_TSV_FILE = '../data/eval.tsv'\n",
    "OUTPUT_JSON_FILE = '../data/eval.json'"
   ]
  },
  {
   "cell_type": "code",
   "execution_count": 22,
   "metadata": {},
   "outputs": [
    {
     "data": {
      "application/vnd.jupyter.widget-view+json": {
       "model_id": "9dfbfa2b8a4341c9b557341bbea8a6db",
       "version_major": 2,
       "version_minor": 0
      },
      "text/plain": [
       "HBox(children=(IntProgress(value=0, description='[iter files]', max=1, style=ProgressStyle(description_width='…"
      ]
     },
     "metadata": {},
     "output_type": "display_data"
    },
    {
     "data": {
      "application/vnd.jupyter.widget-view+json": {
       "model_id": "a60bd2f4715e4a0ca463e1ba208394f2",
       "version_major": 2,
       "version_minor": 0
      },
      "text/plain": [
       "HBox(children=(IntProgress(value=0, description='map lines', max=5398, style=ProgressStyle(description_width='…"
      ]
     },
     "metadata": {},
     "output_type": "display_data"
    },
    {
     "data": {
      "application/vnd.jupyter.widget-view+json": {
       "model_id": "c8318e01014142e781ab619ec2a237e4",
       "version_major": 2,
       "version_minor": 0
      },
      "text/plain": [
       "HBox(children=(IntProgress(value=0, description='reduce all', max=5398, style=ProgressStyle(description_width=…"
      ]
     },
     "metadata": {},
     "output_type": "display_data"
    },
    {
     "name": "stdout",
     "output_type": "stream",
     "text": [
      "\n",
      "\n",
      "\n",
      "得到语料样本数：40,717\n"
     ]
    }
   ],
   "source": [
    "\n",
    "n_samples = 0\n",
    "\n",
    "lines_iterator = text_files_line_iterator(INPUT_FILES)\n",
    "with Pool() as pool, \\\n",
    "     open(OUTPUT_TSV_FILE, 'w') as fp_tsv, \\\n",
    "     open(OUTPUT_JSON_FILE, 'w') as fp_json:\n",
    "    writer = csv.DictWriter(\n",
    "        fp_tsv, delimiter='\\t', quoting=csv.QUOTE_MINIMAL,\n",
    "        fieldnames=['text', 'infra']\n",
    "    )\n",
    "\n",
    "    it = pool.imap_unordered(\n",
    "        proc_line,\n",
    "        tqdm(lines_iterator, 'map lines', total=total_lines),\n",
    "        chunksize=512\n",
    "    )\n",
    "    for result in tqdm(it, 'reduce all', total=total_lines):\n",
    "        for d in result:\n",
    "            writer.writerow(d)\n",
    "            print(json.dumps(d, ensure_ascii=False), file=fp_json)\n",
    "            n_samples += 1\n",
    "\n",
    "print(f'得到语料样本数：{n_samples:,d}')"
   ]
  },
  {
   "cell_type": "code",
   "execution_count": 23,
   "metadata": {},
   "outputs": [
    {
     "data": {
      "text/plain": [
       "('eval.out', '.json')"
      ]
     },
     "execution_count": 23,
     "metadata": {},
     "output_type": "execute_result"
    }
   ],
   "source": [
    "os.path.splitext('eval.out.json')"
   ]
  },
  {
   "cell_type": "code",
   "execution_count": null,
   "metadata": {},
   "outputs": [],
   "source": []
  }
 ],
 "metadata": {
  "kernelspec": {
   "display_name": "Python [conda env:Megatron_LM-ipy]",
   "language": "python",
   "name": "conda-env-Megatron_LM-ipy-py"
  },
  "language_info": {
   "codemirror_mode": {
    "name": "ipython",
    "version": 3
   },
   "file_extension": ".py",
   "mimetype": "text/x-python",
   "name": "python",
   "nbconvert_exporter": "python",
   "pygments_lexer": "ipython3",
   "version": "3.7.4"
  },
  "widgets": {
   "application/vnd.jupyter.widget-state+json": {
    "state": {
     "00fbd2eaa57744189422ba8965abf4dd": {
      "model_module": "@jupyter-widgets/controls",
      "model_module_version": "1.5.0",
      "model_name": "IntProgressModel",
      "state": {
       "bar_style": "success",
       "description": "reduce all: 100%",
       "layout": "IPY_MODEL_f9e0930c2805466e973f03127b99743a",
       "max": 5398,
       "style": "IPY_MODEL_8973a62ee51f46b3bb1880d6c7c1bbb3",
       "value": 5398
      }
     },
     "018d0aa7dadf4cc19fe93d7cdff76e17": {
      "model_module": "@jupyter-widgets/controls",
      "model_module_version": "1.5.0",
      "model_name": "IntProgressModel",
      "state": {
       "bar_style": "danger",
       "description": "reduce all:   0%",
       "layout": "IPY_MODEL_20ee5b30385b444ab082031c7cbdcb8b",
       "max": 5398,
       "style": "IPY_MODEL_d093b091025a40a6b6617e3d97027fb9"
      }
     },
     "0420cf54fde4436e9e6300447768cf63": {
      "model_module": "@jupyter-widgets/base",
      "model_module_version": "1.2.0",
      "model_name": "LayoutModel",
      "state": {}
     },
     "06572c48d0474d02971d02b81765fe1e": {
      "model_module": "@jupyter-widgets/base",
      "model_module_version": "1.2.0",
      "model_name": "LayoutModel",
      "state": {}
     },
     "0810a066235640638b7b0ed841092801": {
      "model_module": "@jupyter-widgets/base",
      "model_module_version": "1.2.0",
      "model_name": "LayoutModel",
      "state": {}
     },
     "090ca753ba8345cc9e02b7d2704bbc71": {
      "model_module": "@jupyter-widgets/base",
      "model_module_version": "1.2.0",
      "model_name": "LayoutModel",
      "state": {}
     },
     "09159f7b94be444699857ac4feedd8fe": {
      "model_module": "@jupyter-widgets/base",
      "model_module_version": "1.2.0",
      "model_name": "LayoutModel",
      "state": {}
     },
     "0a286afbabf04e39a4cfe84fb83684f4": {
      "model_module": "@jupyter-widgets/base",
      "model_module_version": "1.2.0",
      "model_name": "LayoutModel",
      "state": {}
     },
     "0a5f2d89b1de46ddae304da5415a03af": {
      "model_module": "@jupyter-widgets/controls",
      "model_module_version": "1.5.0",
      "model_name": "HTMLModel",
      "state": {
       "layout": "IPY_MODEL_2934c256afe34ae18a8356bddf7cd2b8",
       "style": "IPY_MODEL_d1e50e17d09944cab0f7e51fd03cc3f6",
       "value": " 5398/5398 [00:01&lt;00:00, 3137.65it/s]"
      }
     },
     "0a8498bdbf16458c84354a7bf7b27d52": {
      "model_module": "@jupyter-widgets/controls",
      "model_module_version": "1.5.0",
      "model_name": "DescriptionStyleModel",
      "state": {
       "description_width": ""
      }
     },
     "0c6a93eefdd74d75b1aac4f25e792721": {
      "model_module": "@jupyter-widgets/controls",
      "model_module_version": "1.5.0",
      "model_name": "IntProgressModel",
      "state": {
       "bar_style": "success",
       "description": "[map: files]: 100%",
       "layout": "IPY_MODEL_0810a066235640638b7b0ed841092801",
       "max": 1,
       "style": "IPY_MODEL_db6741b6d6744521897a6051008d8752",
       "value": 1
      }
     },
     "0f9fb7b3da414bd0b64f85f935bd8861": {
      "model_module": "@jupyter-widgets/controls",
      "model_module_version": "1.5.0",
      "model_name": "DescriptionStyleModel",
      "state": {
       "description_width": ""
      }
     },
     "105332023dbd43aebc5c9a12226d8277": {
      "model_module": "@jupyter-widgets/controls",
      "model_module_version": "1.5.0",
      "model_name": "IntProgressModel",
      "state": {
       "bar_style": "success",
       "description": "[iter files]: 100%",
       "layout": "IPY_MODEL_193283e1217f4531a30de94593e1d480",
       "max": 1,
       "style": "IPY_MODEL_f305486fd98b4baa92a00c416876587d",
       "value": 1
      }
     },
     "141f24414d4f42f0a7ef328b06e858eb": {
      "model_module": "@jupyter-widgets/base",
      "model_module_version": "1.2.0",
      "model_name": "LayoutModel",
      "state": {}
     },
     "1432e232568b4c63b7f6c62ee5b116ac": {
      "model_module": "@jupyter-widgets/controls",
      "model_module_version": "1.5.0",
      "model_name": "HBoxModel",
      "state": {
       "children": [
        "IPY_MODEL_225482740d224bb191879b05ea75106a",
        "IPY_MODEL_32df575ef2c44bf9b81865be0e078603"
       ],
       "layout": "IPY_MODEL_f0d070bae8ee486a820eb3b1b061ca0c"
      }
     },
     "15850cf2e02248aaafd9cb8419704b6b": {
      "model_module": "@jupyter-widgets/base",
      "model_module_version": "1.2.0",
      "model_name": "LayoutModel",
      "state": {}
     },
     "18a70996b1f547ad89ee891e8577d74f": {
      "model_module": "@jupyter-widgets/controls",
      "model_module_version": "1.5.0",
      "model_name": "IntProgressModel",
      "state": {
       "bar_style": "success",
       "description": "[map: files]: 100%",
       "layout": "IPY_MODEL_42e6d5f80d4946f9a7e46edceddb3b37",
       "max": 1,
       "style": "IPY_MODEL_48846e3e1bb24dadb438114ce79e2ea4",
       "value": 1
      }
     },
     "193283e1217f4531a30de94593e1d480": {
      "model_module": "@jupyter-widgets/base",
      "model_module_version": "1.2.0",
      "model_name": "LayoutModel",
      "state": {}
     },
     "1a384a0e2ccc4e31b6a59f4f490083a6": {
      "model_module": "@jupyter-widgets/controls",
      "model_module_version": "1.5.0",
      "model_name": "DescriptionStyleModel",
      "state": {
       "description_width": ""
      }
     },
     "20ee5b30385b444ab082031c7cbdcb8b": {
      "model_module": "@jupyter-widgets/base",
      "model_module_version": "1.2.0",
      "model_name": "LayoutModel",
      "state": {}
     },
     "225482740d224bb191879b05ea75106a": {
      "model_module": "@jupyter-widgets/controls",
      "model_module_version": "1.5.0",
      "model_name": "IntProgressModel",
      "state": {
       "bar_style": "success",
       "description": "map lines: 100%",
       "layout": "IPY_MODEL_090ca753ba8345cc9e02b7d2704bbc71",
       "max": 5398,
       "style": "IPY_MODEL_907b1b241fac41b5a465b9870e07cb43",
       "value": 5398
      }
     },
     "227f53ccbf634d2faaf2e2391430ba04": {
      "model_module": "@jupyter-widgets/base",
      "model_module_version": "1.2.0",
      "model_name": "LayoutModel",
      "state": {}
     },
     "22a6aa7dbae24b26a49f04f3b34f5166": {
      "model_module": "@jupyter-widgets/controls",
      "model_module_version": "1.5.0",
      "model_name": "IntProgressModel",
      "state": {
       "bar_style": "danger",
       "description": "reduce all:   0%",
       "layout": "IPY_MODEL_c1cec37a69f246e2a4309d146149b167",
       "max": 5398,
       "style": "IPY_MODEL_4c9bb31ab82a4ad6be836e7c175929fd"
      }
     },
     "2934c256afe34ae18a8356bddf7cd2b8": {
      "model_module": "@jupyter-widgets/base",
      "model_module_version": "1.2.0",
      "model_name": "LayoutModel",
      "state": {}
     },
     "2a297261e4e34b44b984e32a98b88632": {
      "model_module": "@jupyter-widgets/controls",
      "model_module_version": "1.5.0",
      "model_name": "ProgressStyleModel",
      "state": {
       "description_width": "initial"
      }
     },
     "2c5504465d64481689c0812faa2450e2": {
      "model_module": "@jupyter-widgets/base",
      "model_module_version": "1.2.0",
      "model_name": "LayoutModel",
      "state": {}
     },
     "2fa8eaab93f7465fb8f8a0afa97af813": {
      "model_module": "@jupyter-widgets/controls",
      "model_module_version": "1.5.0",
      "model_name": "DescriptionStyleModel",
      "state": {
       "description_width": ""
      }
     },
     "32df575ef2c44bf9b81865be0e078603": {
      "model_module": "@jupyter-widgets/controls",
      "model_module_version": "1.5.0",
      "model_name": "HTMLModel",
      "state": {
       "layout": "IPY_MODEL_6a16a33ad46a46a98f0ee6f4d4462ed3",
       "style": "IPY_MODEL_0f9fb7b3da414bd0b64f85f935bd8861",
       "value": " 5398/5398 [00:00&lt;00:00, 5964.25it/s]"
      }
     },
     "34765f192b6b4593baf091d5c88d6e06": {
      "model_module": "@jupyter-widgets/controls",
      "model_module_version": "1.5.0",
      "model_name": "DescriptionStyleModel",
      "state": {
       "description_width": ""
      }
     },
     "36a25f21c8c04ef8a5c04b63c0955518": {
      "model_module": "@jupyter-widgets/controls",
      "model_module_version": "1.5.0",
      "model_name": "ProgressStyleModel",
      "state": {
       "description_width": "initial"
      }
     },
     "39daf35e2ac34cc982bf49a45d7992f1": {
      "model_module": "@jupyter-widgets/controls",
      "model_module_version": "1.5.0",
      "model_name": "IntProgressModel",
      "state": {
       "bar_style": "success",
       "description": "reduce all: 100%",
       "layout": "IPY_MODEL_fa1882a7a1254d599a15c843e06ee707",
       "max": 5398,
       "style": "IPY_MODEL_2a297261e4e34b44b984e32a98b88632",
       "value": 5398
      }
     },
     "3a66c9d9d5694f9588543324cbda8528": {
      "model_module": "@jupyter-widgets/controls",
      "model_module_version": "1.5.0",
      "model_name": "IntProgressModel",
      "state": {
       "bar_style": "success",
       "description": "[iter files]: 100%",
       "layout": "IPY_MODEL_06572c48d0474d02971d02b81765fe1e",
       "max": 1,
       "style": "IPY_MODEL_e131c66683cc4421a66b9d97595ae156",
       "value": 1
      }
     },
     "3adb621c5c084c68a4f86f5d2fe81f86": {
      "model_module": "@jupyter-widgets/base",
      "model_module_version": "1.2.0",
      "model_name": "LayoutModel",
      "state": {}
     },
     "3bca8e513c624a14a67a77bb252c00e6": {
      "model_module": "@jupyter-widgets/base",
      "model_module_version": "1.2.0",
      "model_name": "LayoutModel",
      "state": {}
     },
     "3ce3104342fb4e77a77b324352e03539": {
      "model_module": "@jupyter-widgets/controls",
      "model_module_version": "1.5.0",
      "model_name": "IntProgressModel",
      "state": {
       "bar_style": "success",
       "description": "map lines: 100%",
       "layout": "IPY_MODEL_9eb724bef97c4ea1b86436a3da086f05",
       "max": 5398,
       "style": "IPY_MODEL_dafc50061f72494f84df3f4e4d4e401c",
       "value": 5398
      }
     },
     "3ef21833af4e49d586884816f271a630": {
      "model_module": "@jupyter-widgets/base",
      "model_module_version": "1.2.0",
      "model_name": "LayoutModel",
      "state": {}
     },
     "40c6accab14e4443a5e88a96427db29c": {
      "model_module": "@jupyter-widgets/base",
      "model_module_version": "1.2.0",
      "model_name": "LayoutModel",
      "state": {}
     },
     "42e6d5f80d4946f9a7e46edceddb3b37": {
      "model_module": "@jupyter-widgets/base",
      "model_module_version": "1.2.0",
      "model_name": "LayoutModel",
      "state": {}
     },
     "44cd9871eaea408ab6378a2b145d9a3a": {
      "model_module": "@jupyter-widgets/controls",
      "model_module_version": "1.5.0",
      "model_name": "ProgressStyleModel",
      "state": {
       "description_width": "initial"
      }
     },
     "45146de50ba44ee791269fc1f7c77bde": {
      "model_module": "@jupyter-widgets/controls",
      "model_module_version": "1.5.0",
      "model_name": "IntProgressModel",
      "state": {
       "bar_style": "success",
       "description": "[iter files]: 100%",
       "layout": "IPY_MODEL_e583a34346f742de89a05cf3e8bc04e1",
       "max": 1,
       "style": "IPY_MODEL_b0d236e964354ab58a5c688b81173074",
       "value": 1
      }
     },
     "45a76f9a6d9c43cba4c4774d05997abb": {
      "model_module": "@jupyter-widgets/controls",
      "model_module_version": "1.5.0",
      "model_name": "DescriptionStyleModel",
      "state": {
       "description_width": ""
      }
     },
     "4777d38734b849a28c455255a91e9ece": {
      "model_module": "@jupyter-widgets/base",
      "model_module_version": "1.2.0",
      "model_name": "LayoutModel",
      "state": {}
     },
     "48846e3e1bb24dadb438114ce79e2ea4": {
      "model_module": "@jupyter-widgets/controls",
      "model_module_version": "1.5.0",
      "model_name": "ProgressStyleModel",
      "state": {
       "description_width": "initial"
      }
     },
     "48d70741efb1419f9ddd4f3b776e016f": {
      "model_module": "@jupyter-widgets/controls",
      "model_module_version": "1.5.0",
      "model_name": "DescriptionStyleModel",
      "state": {
       "description_width": ""
      }
     },
     "4941b071724b44989902d2581197161d": {
      "model_module": "@jupyter-widgets/controls",
      "model_module_version": "1.5.0",
      "model_name": "HTMLModel",
      "state": {
       "layout": "IPY_MODEL_4777d38734b849a28c455255a91e9ece",
       "style": "IPY_MODEL_2fa8eaab93f7465fb8f8a0afa97af813",
       "value": " 1/1 [00:02&lt;00:00,  2.47s/file]"
      }
     },
     "4a21c7d3ff5d45f9a9bd3d34d8fb6ffe": {
      "model_module": "@jupyter-widgets/base",
      "model_module_version": "1.2.0",
      "model_name": "LayoutModel",
      "state": {}
     },
     "4ad955e8711e4a4185a180c4f5402164": {
      "model_module": "@jupyter-widgets/controls",
      "model_module_version": "1.5.0",
      "model_name": "DescriptionStyleModel",
      "state": {
       "description_width": ""
      }
     },
     "4be823e121f84ce69aa7e02ad0f83bd9": {
      "model_module": "@jupyter-widgets/controls",
      "model_module_version": "1.5.0",
      "model_name": "IntProgressModel",
      "state": {
       "bar_style": "success",
       "description": "map lines: 100%",
       "layout": "IPY_MODEL_751f084ca35c4abf82f6b2d40987eae2",
       "max": 5398,
       "style": "IPY_MODEL_8d9f75e9e6db4e9e99f07fe1aa05c342",
       "value": 5398
      }
     },
     "4c9bb31ab82a4ad6be836e7c175929fd": {
      "model_module": "@jupyter-widgets/controls",
      "model_module_version": "1.5.0",
      "model_name": "ProgressStyleModel",
      "state": {
       "description_width": "initial"
      }
     },
     "52ac8ada13f0441b8adcd1dd96a99867": {
      "model_module": "@jupyter-widgets/controls",
      "model_module_version": "1.5.0",
      "model_name": "HBoxModel",
      "state": {
       "children": [
        "IPY_MODEL_45146de50ba44ee791269fc1f7c77bde",
        "IPY_MODEL_7f48796642554aafa65a0467c7baf898"
       ],
       "layout": "IPY_MODEL_cafea38899684bc5994f7e72701623c5"
      }
     },
     "54865ba707ca4d5fb8869918a34466ba": {
      "model_module": "@jupyter-widgets/base",
      "model_module_version": "1.2.0",
      "model_name": "LayoutModel",
      "state": {}
     },
     "5497eaaa5141453cab3ed3290a39fd26": {
      "model_module": "@jupyter-widgets/base",
      "model_module_version": "1.2.0",
      "model_name": "LayoutModel",
      "state": {}
     },
     "567b386822624bb7aaf65f01a5e78a08": {
      "model_module": "@jupyter-widgets/base",
      "model_module_version": "1.2.0",
      "model_name": "LayoutModel",
      "state": {}
     },
     "576cd88ce8df4b41a92c094a97184ccb": {
      "model_module": "@jupyter-widgets/controls",
      "model_module_version": "1.5.0",
      "model_name": "IntProgressModel",
      "state": {
       "bar_style": "success",
       "description": "[reduce: sum lines]: 100%",
       "layout": "IPY_MODEL_3adb621c5c084c68a4f86f5d2fe81f86",
       "max": 1,
       "style": "IPY_MODEL_d59fe613e11f48d5b2c9a3df324f16f9",
       "value": 1
      }
     },
     "579248d6411b4c66938e89b0a87c4298": {
      "model_module": "@jupyter-widgets/controls",
      "model_module_version": "1.5.0",
      "model_name": "HBoxModel",
      "state": {
       "children": [
        "IPY_MODEL_3a66c9d9d5694f9588543324cbda8528",
        "IPY_MODEL_6284809ce8a54a6f8aaf173d77f87570"
       ],
       "layout": "IPY_MODEL_c73e5d9191a34ba48504a00464a380ac"
      }
     },
     "5a58bcce77414838ae08f1d4798cb006": {
      "model_module": "@jupyter-widgets/controls",
      "model_module_version": "1.5.0",
      "model_name": "DescriptionStyleModel",
      "state": {
       "description_width": ""
      }
     },
     "5bc98c1964b64e5399c50f8bf6254e43": {
      "model_module": "@jupyter-widgets/base",
      "model_module_version": "1.2.0",
      "model_name": "LayoutModel",
      "state": {}
     },
     "5f04b2d71b2e45a9affb958275969b24": {
      "model_module": "@jupyter-widgets/controls",
      "model_module_version": "1.5.0",
      "model_name": "HTMLModel",
      "state": {
       "layout": "IPY_MODEL_c6ef6238cc6d46e582ca46ee0f80982d",
       "style": "IPY_MODEL_97ea9f00629544bf9361875aae562e7e",
       "value": " 1/1 [00:02&lt;00:00,  2.72s/file]"
      }
     },
     "6284809ce8a54a6f8aaf173d77f87570": {
      "model_module": "@jupyter-widgets/controls",
      "model_module_version": "1.5.0",
      "model_name": "HTMLModel",
      "state": {
       "layout": "IPY_MODEL_fce23d2dcfc34659ab6f4b748aebaa02",
       "style": "IPY_MODEL_1a384a0e2ccc4e31b6a59f4f490083a6",
       "value": " 1/1 [00:00&lt;00:00,  1.21file/s]"
      }
     },
     "63f3b3bc57fa4581a1feff79f9d3dd58": {
      "model_module": "@jupyter-widgets/controls",
      "model_module_version": "1.5.0",
      "model_name": "HBoxModel",
      "state": {
       "children": [
        "IPY_MODEL_0c6a93eefdd74d75b1aac4f25e792721",
        "IPY_MODEL_5f04b2d71b2e45a9affb958275969b24"
       ],
       "layout": "IPY_MODEL_227f53ccbf634d2faaf2e2391430ba04"
      }
     },
     "6a16a33ad46a46a98f0ee6f4d4462ed3": {
      "model_module": "@jupyter-widgets/base",
      "model_module_version": "1.2.0",
      "model_name": "LayoutModel",
      "state": {}
     },
     "6acc75365da34308ad2e68bc28e7f7a2": {
      "model_module": "@jupyter-widgets/controls",
      "model_module_version": "1.5.0",
      "model_name": "HBoxModel",
      "state": {
       "children": [
        "IPY_MODEL_576cd88ce8df4b41a92c094a97184ccb",
        "IPY_MODEL_9b6959da5eee4e42aedecc85b9508257"
       ],
       "layout": "IPY_MODEL_54865ba707ca4d5fb8869918a34466ba"
      }
     },
     "6b7b78c4aaa344e6ad1dc6b0695556d7": {
      "model_module": "@jupyter-widgets/controls",
      "model_module_version": "1.5.0",
      "model_name": "HTMLModel",
      "state": {
       "layout": "IPY_MODEL_9a815ea192be4660b4e0aed4a205a052",
       "style": "IPY_MODEL_7e44950345d74b7b8b4f0777ff49626a",
       "value": " 5398/5398 [00:00&lt;00:00, 15461.21it/s]"
      }
     },
     "6bfe2d9f57b54e619755f8058b5b1f14": {
      "model_module": "@jupyter-widgets/controls",
      "model_module_version": "1.5.0",
      "model_name": "DescriptionStyleModel",
      "state": {
       "description_width": ""
      }
     },
     "751f084ca35c4abf82f6b2d40987eae2": {
      "model_module": "@jupyter-widgets/base",
      "model_module_version": "1.2.0",
      "model_name": "LayoutModel",
      "state": {}
     },
     "76a510398cfa42c0b2a4a01e15ab114e": {
      "model_module": "@jupyter-widgets/base",
      "model_module_version": "1.2.0",
      "model_name": "LayoutModel",
      "state": {}
     },
     "774a3567b8154f8a94aca40f88b61cfe": {
      "model_module": "@jupyter-widgets/base",
      "model_module_version": "1.2.0",
      "model_name": "LayoutModel",
      "state": {}
     },
     "78a11b4cf92741f0b256a832c9c3ff8a": {
      "model_module": "@jupyter-widgets/base",
      "model_module_version": "1.2.0",
      "model_name": "LayoutModel",
      "state": {}
     },
     "7a114c292fbb4eb1a366f595173a2532": {
      "model_module": "@jupyter-widgets/controls",
      "model_module_version": "1.5.0",
      "model_name": "IntProgressModel",
      "state": {
       "bar_style": "success",
       "description": "map lines: 100%",
       "layout": "IPY_MODEL_15850cf2e02248aaafd9cb8419704b6b",
       "max": 5398,
       "style": "IPY_MODEL_36a25f21c8c04ef8a5c04b63c0955518",
       "value": 5398
      }
     },
     "7bb6b17a66694a13a31f43c00d86a8a7": {
      "model_module": "@jupyter-widgets/base",
      "model_module_version": "1.2.0",
      "model_name": "LayoutModel",
      "state": {}
     },
     "7e44950345d74b7b8b4f0777ff49626a": {
      "model_module": "@jupyter-widgets/controls",
      "model_module_version": "1.5.0",
      "model_name": "DescriptionStyleModel",
      "state": {
       "description_width": ""
      }
     },
     "7f48796642554aafa65a0467c7baf898": {
      "model_module": "@jupyter-widgets/controls",
      "model_module_version": "1.5.0",
      "model_name": "HTMLModel",
      "state": {
       "layout": "IPY_MODEL_b4723e87d3f949b495e89a8e5104b1a4",
       "style": "IPY_MODEL_5a58bcce77414838ae08f1d4798cb006",
       "value": " 1/1 [00:00&lt;00:00,  1.00file/s]"
      }
     },
     "8055878bbf2c45b08171820cb5b08c76": {
      "model_module": "@jupyter-widgets/controls",
      "model_module_version": "1.5.0",
      "model_name": "DescriptionStyleModel",
      "state": {
       "description_width": ""
      }
     },
     "80863ace01564942ba3fdba8668351f5": {
      "model_module": "@jupyter-widgets/base",
      "model_module_version": "1.2.0",
      "model_name": "LayoutModel",
      "state": {}
     },
     "8973a62ee51f46b3bb1880d6c7c1bbb3": {
      "model_module": "@jupyter-widgets/controls",
      "model_module_version": "1.5.0",
      "model_name": "ProgressStyleModel",
      "state": {
       "description_width": "initial"
      }
     },
     "8d44279dc0cd4c6cbb741804729f82b6": {
      "model_module": "@jupyter-widgets/controls",
      "model_module_version": "1.5.0",
      "model_name": "HTMLModel",
      "state": {
       "layout": "IPY_MODEL_9d9733ff4d5b4ad08cbb45da0d7532d4",
       "style": "IPY_MODEL_34765f192b6b4593baf091d5c88d6e06",
       "value": " 1/1 [00:00&lt;00:00,  2.36file/s]"
      }
     },
     "8d9f75e9e6db4e9e99f07fe1aa05c342": {
      "model_module": "@jupyter-widgets/controls",
      "model_module_version": "1.5.0",
      "model_name": "ProgressStyleModel",
      "state": {
       "description_width": "initial"
      }
     },
     "90242cfde2934734b4a5cf3a69ee27fa": {
      "model_module": "@jupyter-widgets/controls",
      "model_module_version": "1.5.0",
      "model_name": "ProgressStyleModel",
      "state": {
       "description_width": "initial"
      }
     },
     "907b1b241fac41b5a465b9870e07cb43": {
      "model_module": "@jupyter-widgets/controls",
      "model_module_version": "1.5.0",
      "model_name": "ProgressStyleModel",
      "state": {
       "description_width": "initial"
      }
     },
     "954b6cd014304061bd81dcbd201d03ce": {
      "model_module": "@jupyter-widgets/controls",
      "model_module_version": "1.5.0",
      "model_name": "HTMLModel",
      "state": {
       "layout": "IPY_MODEL_3bca8e513c624a14a67a77bb252c00e6",
       "style": "IPY_MODEL_6bfe2d9f57b54e619755f8058b5b1f14",
       "value": " 5398/5398 [00:00&lt;00:00, 7115.04it/s]"
      }
     },
     "9676eb27cd8d404aa8a16ad9354e61e4": {
      "model_module": "@jupyter-widgets/base",
      "model_module_version": "1.2.0",
      "model_name": "LayoutModel",
      "state": {}
     },
     "97ea9f00629544bf9361875aae562e7e": {
      "model_module": "@jupyter-widgets/controls",
      "model_module_version": "1.5.0",
      "model_name": "DescriptionStyleModel",
      "state": {
       "description_width": ""
      }
     },
     "9a815ea192be4660b4e0aed4a205a052": {
      "model_module": "@jupyter-widgets/base",
      "model_module_version": "1.2.0",
      "model_name": "LayoutModel",
      "state": {}
     },
     "9b6959da5eee4e42aedecc85b9508257": {
      "model_module": "@jupyter-widgets/controls",
      "model_module_version": "1.5.0",
      "model_name": "HTMLModel",
      "state": {
       "layout": "IPY_MODEL_7bb6b17a66694a13a31f43c00d86a8a7",
       "style": "IPY_MODEL_45a76f9a6d9c43cba4c4774d05997abb",
       "value": " 1/1 [00:02&lt;00:00,  2.70s/file]"
      }
     },
     "9d2cf41cfedb464392638a19c02e831b": {
      "model_module": "@jupyter-widgets/controls",
      "model_module_version": "1.5.0",
      "model_name": "HBoxModel",
      "state": {
       "children": [
        "IPY_MODEL_3ce3104342fb4e77a77b324352e03539",
        "IPY_MODEL_ecb20cd033634306b0e8508202afba48"
       ],
       "layout": "IPY_MODEL_78a11b4cf92741f0b256a832c9c3ff8a"
      }
     },
     "9d9733ff4d5b4ad08cbb45da0d7532d4": {
      "model_module": "@jupyter-widgets/base",
      "model_module_version": "1.2.0",
      "model_name": "LayoutModel",
      "state": {}
     },
     "9dfbfa2b8a4341c9b557341bbea8a6db": {
      "model_module": "@jupyter-widgets/controls",
      "model_module_version": "1.5.0",
      "model_name": "HBoxModel",
      "state": {
       "children": [
        "IPY_MODEL_105332023dbd43aebc5c9a12226d8277",
        "IPY_MODEL_8d44279dc0cd4c6cbb741804729f82b6"
       ],
       "layout": "IPY_MODEL_0420cf54fde4436e9e6300447768cf63"
      }
     },
     "9eb724bef97c4ea1b86436a3da086f05": {
      "model_module": "@jupyter-widgets/base",
      "model_module_version": "1.2.0",
      "model_name": "LayoutModel",
      "state": {}
     },
     "a5b594fef77f4ea1af1613308274b6da": {
      "model_module": "@jupyter-widgets/base",
      "model_module_version": "1.2.0",
      "model_name": "LayoutModel",
      "state": {}
     },
     "a60bd2f4715e4a0ca463e1ba208394f2": {
      "model_module": "@jupyter-widgets/controls",
      "model_module_version": "1.5.0",
      "model_name": "HBoxModel",
      "state": {
       "children": [
        "IPY_MODEL_7a114c292fbb4eb1a366f595173a2532",
        "IPY_MODEL_6b7b78c4aaa344e6ad1dc6b0695556d7"
       ],
       "layout": "IPY_MODEL_0a286afbabf04e39a4cfe84fb83684f4"
      }
     },
     "afdac5e373464d72bb616427be47cd1f": {
      "model_module": "@jupyter-widgets/controls",
      "model_module_version": "1.5.0",
      "model_name": "HTMLModel",
      "state": {
       "layout": "IPY_MODEL_141f24414d4f42f0a7ef328b06e858eb",
       "style": "IPY_MODEL_48d70741efb1419f9ddd4f3b776e016f",
       "value": " 5398/5398 [00:01&lt;00:00, 3015.70it/s]"
      }
     },
     "b021880f449a49ee9c10076425bc9cf5": {
      "model_module": "@jupyter-widgets/controls",
      "model_module_version": "1.5.0",
      "model_name": "IntProgressModel",
      "state": {
       "bar_style": "success",
       "description": "[reduce: sum lines]: 100%",
       "layout": "IPY_MODEL_80863ace01564942ba3fdba8668351f5",
       "max": 1,
       "style": "IPY_MODEL_90242cfde2934734b4a5cf3a69ee27fa",
       "value": 1
      }
     },
     "b0d236e964354ab58a5c688b81173074": {
      "model_module": "@jupyter-widgets/controls",
      "model_module_version": "1.5.0",
      "model_name": "ProgressStyleModel",
      "state": {
       "description_width": "initial"
      }
     },
     "b3831b3dfb7545769f01739005e77843": {
      "model_module": "@jupyter-widgets/controls",
      "model_module_version": "1.5.0",
      "model_name": "HBoxModel",
      "state": {
       "children": [
        "IPY_MODEL_22a6aa7dbae24b26a49f04f3b34f5166",
        "IPY_MODEL_e4a911f8d2934fd2af07b5c4832c7b6d"
       ],
       "layout": "IPY_MODEL_5497eaaa5141453cab3ed3290a39fd26"
      }
     },
     "b4723e87d3f949b495e89a8e5104b1a4": {
      "model_module": "@jupyter-widgets/base",
      "model_module_version": "1.2.0",
      "model_name": "LayoutModel",
      "state": {}
     },
     "bddcaa0fafee4885af4979d82deb27f0": {
      "model_module": "@jupyter-widgets/controls",
      "model_module_version": "1.5.0",
      "model_name": "HBoxModel",
      "state": {
       "children": [
        "IPY_MODEL_4be823e121f84ce69aa7e02ad0f83bd9",
        "IPY_MODEL_954b6cd014304061bd81dcbd201d03ce"
       ],
       "layout": "IPY_MODEL_2c5504465d64481689c0812faa2450e2"
      }
     },
     "c1cec37a69f246e2a4309d146149b167": {
      "model_module": "@jupyter-widgets/base",
      "model_module_version": "1.2.0",
      "model_name": "LayoutModel",
      "state": {}
     },
     "c6ef6238cc6d46e582ca46ee0f80982d": {
      "model_module": "@jupyter-widgets/base",
      "model_module_version": "1.2.0",
      "model_name": "LayoutModel",
      "state": {}
     },
     "c73e5d9191a34ba48504a00464a380ac": {
      "model_module": "@jupyter-widgets/base",
      "model_module_version": "1.2.0",
      "model_name": "LayoutModel",
      "state": {}
     },
     "c8318e01014142e781ab619ec2a237e4": {
      "model_module": "@jupyter-widgets/controls",
      "model_module_version": "1.5.0",
      "model_name": "HBoxModel",
      "state": {
       "children": [
        "IPY_MODEL_39daf35e2ac34cc982bf49a45d7992f1",
        "IPY_MODEL_0a5f2d89b1de46ddae304da5415a03af"
       ],
       "layout": "IPY_MODEL_4a21c7d3ff5d45f9a9bd3d34d8fb6ffe"
      }
     },
     "cafea38899684bc5994f7e72701623c5": {
      "model_module": "@jupyter-widgets/base",
      "model_module_version": "1.2.0",
      "model_name": "LayoutModel",
      "state": {}
     },
     "cbd858c7219f480a8369345c7c5f7460": {
      "model_module": "@jupyter-widgets/controls",
      "model_module_version": "1.5.0",
      "model_name": "HBoxModel",
      "state": {
       "children": [
        "IPY_MODEL_018d0aa7dadf4cc19fe93d7cdff76e17",
        "IPY_MODEL_fcb83e8f09de4b9cb75b90211ec0fef1"
       ],
       "layout": "IPY_MODEL_9676eb27cd8d404aa8a16ad9354e61e4"
      }
     },
     "d093b091025a40a6b6617e3d97027fb9": {
      "model_module": "@jupyter-widgets/controls",
      "model_module_version": "1.5.0",
      "model_name": "ProgressStyleModel",
      "state": {
       "description_width": "initial"
      }
     },
     "d1730f4996ba4ef49090e691f05be97b": {
      "model_module": "@jupyter-widgets/controls",
      "model_module_version": "1.5.0",
      "model_name": "DescriptionStyleModel",
      "state": {
       "description_width": ""
      }
     },
     "d1e50e17d09944cab0f7e51fd03cc3f6": {
      "model_module": "@jupyter-widgets/controls",
      "model_module_version": "1.5.0",
      "model_name": "DescriptionStyleModel",
      "state": {
       "description_width": ""
      }
     },
     "d324709df50641898501a225f6adf3fe": {
      "model_module": "@jupyter-widgets/base",
      "model_module_version": "1.2.0",
      "model_name": "LayoutModel",
      "state": {}
     },
     "d59fe613e11f48d5b2c9a3df324f16f9": {
      "model_module": "@jupyter-widgets/controls",
      "model_module_version": "1.5.0",
      "model_name": "ProgressStyleModel",
      "state": {
       "description_width": "initial"
      }
     },
     "d8855efab489477ab84084edca0bbdb0": {
      "model_module": "@jupyter-widgets/controls",
      "model_module_version": "1.5.0",
      "model_name": "HBoxModel",
      "state": {
       "children": [
        "IPY_MODEL_18a70996b1f547ad89ee891e8577d74f",
        "IPY_MODEL_4941b071724b44989902d2581197161d"
       ],
       "layout": "IPY_MODEL_40c6accab14e4443a5e88a96427db29c"
      }
     },
     "dafc50061f72494f84df3f4e4d4e401c": {
      "model_module": "@jupyter-widgets/controls",
      "model_module_version": "1.5.0",
      "model_name": "ProgressStyleModel",
      "state": {
       "description_width": "initial"
      }
     },
     "db6741b6d6744521897a6051008d8752": {
      "model_module": "@jupyter-widgets/controls",
      "model_module_version": "1.5.0",
      "model_name": "ProgressStyleModel",
      "state": {
       "description_width": "initial"
      }
     },
     "df80572fc3684e73a9402daf4938c3f3": {
      "model_module": "@jupyter-widgets/controls",
      "model_module_version": "1.5.0",
      "model_name": "HBoxModel",
      "state": {
       "children": [
        "IPY_MODEL_f8fedc7408ec4c479bf65f9da4146e67",
        "IPY_MODEL_f3b3816328ee42d88f37dec57534c93d"
       ],
       "layout": "IPY_MODEL_5bc98c1964b64e5399c50f8bf6254e43"
      }
     },
     "e131c66683cc4421a66b9d97595ae156": {
      "model_module": "@jupyter-widgets/controls",
      "model_module_version": "1.5.0",
      "model_name": "ProgressStyleModel",
      "state": {
       "description_width": "initial"
      }
     },
     "e3b11f5a6ea848ab961b5ede1e531e17": {
      "model_module": "@jupyter-widgets/controls",
      "model_module_version": "1.5.0",
      "model_name": "HBoxModel",
      "state": {
       "children": [
        "IPY_MODEL_00fbd2eaa57744189422ba8965abf4dd",
        "IPY_MODEL_afdac5e373464d72bb616427be47cd1f"
       ],
       "layout": "IPY_MODEL_f92ed5321e1f471fb280f599e4d8e037"
      }
     },
     "e4a911f8d2934fd2af07b5c4832c7b6d": {
      "model_module": "@jupyter-widgets/controls",
      "model_module_version": "1.5.0",
      "model_name": "HTMLModel",
      "state": {
       "layout": "IPY_MODEL_09159f7b94be444699857ac4feedd8fe",
       "style": "IPY_MODEL_0a8498bdbf16458c84354a7bf7b27d52",
       "value": " 0/5398 [00:00&lt;?, ?it/s]"
      }
     },
     "e583a34346f742de89a05cf3e8bc04e1": {
      "model_module": "@jupyter-widgets/base",
      "model_module_version": "1.2.0",
      "model_name": "LayoutModel",
      "state": {}
     },
     "e714c42ed4ec41a99752336baca3748e": {
      "model_module": "@jupyter-widgets/controls",
      "model_module_version": "1.5.0",
      "model_name": "DescriptionStyleModel",
      "state": {
       "description_width": ""
      }
     },
     "ecb20cd033634306b0e8508202afba48": {
      "model_module": "@jupyter-widgets/controls",
      "model_module_version": "1.5.0",
      "model_name": "HTMLModel",
      "state": {
       "layout": "IPY_MODEL_d324709df50641898501a225f6adf3fe",
       "style": "IPY_MODEL_e714c42ed4ec41a99752336baca3748e",
       "value": " 5398/5398 [00:00&lt;00:00, 6290.96it/s]"
      }
     },
     "f0d070bae8ee486a820eb3b1b061ca0c": {
      "model_module": "@jupyter-widgets/base",
      "model_module_version": "1.2.0",
      "model_name": "LayoutModel",
      "state": {}
     },
     "f1b3a4ba03fe4feba87b0fbf2001481c": {
      "model_module": "@jupyter-widgets/controls",
      "model_module_version": "1.5.0",
      "model_name": "HBoxModel",
      "state": {
       "children": [
        "IPY_MODEL_b021880f449a49ee9c10076425bc9cf5",
        "IPY_MODEL_f3358c464998414091ae48896bcc30ff"
       ],
       "layout": "IPY_MODEL_774a3567b8154f8a94aca40f88b61cfe"
      }
     },
     "f305486fd98b4baa92a00c416876587d": {
      "model_module": "@jupyter-widgets/controls",
      "model_module_version": "1.5.0",
      "model_name": "ProgressStyleModel",
      "state": {
       "description_width": "initial"
      }
     },
     "f3358c464998414091ae48896bcc30ff": {
      "model_module": "@jupyter-widgets/controls",
      "model_module_version": "1.5.0",
      "model_name": "HTMLModel",
      "state": {
       "layout": "IPY_MODEL_3ef21833af4e49d586884816f271a630",
       "style": "IPY_MODEL_8055878bbf2c45b08171820cb5b08c76",
       "value": " 1/1 [00:02&lt;00:00,  2.45s/file]"
      }
     },
     "f3b3816328ee42d88f37dec57534c93d": {
      "model_module": "@jupyter-widgets/controls",
      "model_module_version": "1.5.0",
      "model_name": "HTMLModel",
      "state": {
       "layout": "IPY_MODEL_567b386822624bb7aaf65f01a5e78a08",
       "style": "IPY_MODEL_4ad955e8711e4a4185a180c4f5402164",
       "value": " 1/1 [00:40&lt;00:00, 40.05s/file]"
      }
     },
     "f8fedc7408ec4c479bf65f9da4146e67": {
      "model_module": "@jupyter-widgets/controls",
      "model_module_version": "1.5.0",
      "model_name": "IntProgressModel",
      "state": {
       "bar_style": "success",
       "description": "[iter files]: 100%",
       "layout": "IPY_MODEL_76a510398cfa42c0b2a4a01e15ab114e",
       "max": 1,
       "style": "IPY_MODEL_44cd9871eaea408ab6378a2b145d9a3a",
       "value": 1
      }
     },
     "f92ed5321e1f471fb280f599e4d8e037": {
      "model_module": "@jupyter-widgets/base",
      "model_module_version": "1.2.0",
      "model_name": "LayoutModel",
      "state": {}
     },
     "f9e0930c2805466e973f03127b99743a": {
      "model_module": "@jupyter-widgets/base",
      "model_module_version": "1.2.0",
      "model_name": "LayoutModel",
      "state": {}
     },
     "fa1882a7a1254d599a15c843e06ee707": {
      "model_module": "@jupyter-widgets/base",
      "model_module_version": "1.2.0",
      "model_name": "LayoutModel",
      "state": {}
     },
     "fcb83e8f09de4b9cb75b90211ec0fef1": {
      "model_module": "@jupyter-widgets/controls",
      "model_module_version": "1.5.0",
      "model_name": "HTMLModel",
      "state": {
       "layout": "IPY_MODEL_a5b594fef77f4ea1af1613308274b6da",
       "style": "IPY_MODEL_d1730f4996ba4ef49090e691f05be97b",
       "value": " 0/5398 [00:00&lt;?, ?it/s]"
      }
     },
     "fce23d2dcfc34659ab6f4b748aebaa02": {
      "model_module": "@jupyter-widgets/base",
      "model_module_version": "1.2.0",
      "model_name": "LayoutModel",
      "state": {}
     }
    },
    "version_major": 2,
    "version_minor": 0
   }
  }
 },
 "nbformat": 4,
 "nbformat_minor": 4
}
