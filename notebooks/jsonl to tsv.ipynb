{
 "cells": [
  {
   "cell_type": "code",
   "execution_count": null,
   "metadata": {},
   "outputs": [],
   "source": [
    "import csv\n",
    "import json\n",
    "\n",
    "from tqdm.auto import tqdm"
   ]
  },
  {
   "cell_type": "code",
   "execution_count": null,
   "metadata": {},
   "outputs": [],
   "source": [
    "INPUT_FILE = '/nfs/server01_public/Megatron-LM/eval-117m_p1-emotion-spl1k.json'\n",
    "OUTPUT_FILE = '../out/eval-117m_p1-emotion-spl1k.tsv'"
   ]
  },
  {
   "cell_type": "code",
   "execution_count": null,
   "metadata": {},
   "outputs": [],
   "source": [
    "with open(INPUT_FILE) as fp:\n",
    "    total = sum(1 for _ in tqdm(fp, 'Counting lines'))\n",
    "\n",
    "with open(INPUT_FILE) as fp_input, \\\n",
    "     open(OUTPUT_FILE, 'w') as fp_output:\n",
    "    writer = csv.writer(fp_output, delimiter='\\t')\n",
    "    for line in tqdm(fp_input, 'Converting', total=total):\n",
    "        line = line.strip()\n",
    "        if not line:\n",
    "            continue\n",
    "        data = json.loads(line)\n",
    "        values = list(data.values())\n",
    "        writer.writerow(values)"
   ]
  },
  {
   "cell_type": "code",
   "execution_count": null,
   "metadata": {},
   "outputs": [],
   "source": [
    "!   wc -l {OUTPUT_FILE} && \\\n",
    "    du -h {OUTPUT_FILE}"
   ]
  }
 ],
 "metadata": {
  "kernelspec": {
   "display_name": "Python [conda env:Megatron_LM-ipy]",
   "language": "python",
   "name": "conda-env-Megatron_LM-ipy-py"
  },
  "language_info": {
   "codemirror_mode": {
    "name": "ipython",
    "version": 3
   },
   "file_extension": ".py",
   "mimetype": "text/x-python",
   "name": "python",
   "nbconvert_exporter": "python",
   "pygments_lexer": "ipython3",
   "version": "3.7.4"
  },
  "widgets": {
   "application/vnd.jupyter.widget-state+json": {
    "state": {},
    "version_major": 2,
    "version_minor": 0
   }
  }
 },
 "nbformat": 4,
 "nbformat_minor": 4
}
