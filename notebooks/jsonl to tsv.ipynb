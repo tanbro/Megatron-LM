{
 "cells": [
  {
   "cell_type": "code",
   "execution_count": 1,
   "metadata": {},
   "outputs": [],
   "source": [
    "import csv\n",
    "import json\n",
    "\n",
    "from tqdm import tqdm"
   ]
  },
  {
   "cell_type": "code",
   "execution_count": 2,
   "metadata": {},
   "outputs": [],
   "source": [
    "INPUT_FILE = '../out/eval-117m_p1-emotion.json'\n",
    "OUTPUT_FILE = '../out/eval-117m_p1-emotion.tsv'\n",
    "FIELD_NAMES = 'input', 'output'"
   ]
  },
  {
   "cell_type": "code",
   "execution_count": 3,
   "metadata": {},
   "outputs": [
    {
     "name": "stderr",
     "output_type": "stream",
     "text": [
      "12675it [00:00, 365930.87it/s]\n",
      "100%|██████████| 12675/12675 [00:00<00:00, 54772.00it/s]\n"
     ]
    }
   ],
   "source": [
    "with open(INPUT_FILE) as fp:\n",
    "    total = sum(1 for _ in tqdm(fp))\n",
    "\n",
    "with open(INPUT_FILE) as fp_input, \\\n",
    "     open(OUTPUT_FILE, 'w') as fp_output:\n",
    "    writer = csv.DictWriter(fp_output, FIELD_NAMES, delimiter='\\t')\n",
    "    for line in tqdm(fp_input, total=total):\n",
    "        line = line.strip()\n",
    "        if not line:\n",
    "            continue\n",
    "        data = json.loads(line)\n",
    "        writer.writerow(data)"
   ]
  },
  {
   "cell_type": "code",
   "execution_count": 4,
   "metadata": {},
   "outputs": [
    {
     "name": "stdout",
     "output_type": "stream",
     "text": [
      "12675 ../out/eval-117m_p1-emotion.tsv\n",
      "14M\t../out/eval-117m_p1-emotion.tsv\n"
     ]
    }
   ],
   "source": [
    "!   wc -l {OUTPUT_FILE} && \\\n",
    "    du -h {OUTPUT_FILE}"
   ]
  },
  {
   "cell_type": "code",
   "execution_count": null,
   "metadata": {},
   "outputs": [],
   "source": []
  }
 ],
 "metadata": {
  "kernelspec": {
   "display_name": "Python [conda env:Megatron_LM-ipy]",
   "language": "python",
   "name": "conda-env-Megatron_LM-ipy-py"
  },
  "language_info": {
   "codemirror_mode": {
    "name": "ipython",
    "version": 3
   },
   "file_extension": ".py",
   "mimetype": "text/x-python",
   "name": "python",
   "nbconvert_exporter": "python",
   "pygments_lexer": "ipython3",
   "version": "3.7.4"
  },
  "widgets": {
   "application/vnd.jupyter.widget-state+json": {
    "state": {},
    "version_major": 2,
    "version_minor": 0
   }
  }
 },
 "nbformat": 4,
 "nbformat_minor": 4
}
